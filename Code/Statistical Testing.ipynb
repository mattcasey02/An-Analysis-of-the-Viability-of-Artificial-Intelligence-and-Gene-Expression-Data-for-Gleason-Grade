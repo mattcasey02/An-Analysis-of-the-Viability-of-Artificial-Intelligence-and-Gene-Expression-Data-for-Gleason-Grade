{
 "cells": [
  {
   "cell_type": "code",
   "execution_count": 56,
   "metadata": {},
   "outputs": [],
   "source": [
    "import scipy\n",
    "import pandas as pd\n",
    "import numpy as np\n",
    "from sklearn.decomposition import PCA\n",
    "from sklearn.feature_selection import mutual_info_classif\n",
    "from sklearn.manifold import TSNE\n",
    "from numpy import mean, std\n",
    "from statsmodels.graphics.gofplots import qqplot\n",
    "from scipy.stats import shapiro, mannwhitneyu, norm, entropy\n",
    "from matplotlib import pyplot as plt\n",
    "import seaborn as sns\n",
    "from imblearn.over_sampling import SMOTE\n",
    "%matplotlib inline"
   ]
  },
  {
   "cell_type": "code",
   "execution_count": 261,
   "metadata": {},
   "outputs": [],
   "source": [
    "TCGAHealthy = pd.read_pickle('../Data/TCGAHealthy.pkl')\n",
    "Cancer = pd.read_pickle('../Data/CancerMulti.pkl')\n",
    "GTEX = pd.read_pickle('../Data/GTEX.pkl')"
   ]
  },
  {
   "cell_type": "code",
   "execution_count": 262,
   "metadata": {},
   "outputs": [],
   "source": [
    "TCGAHealthy['Target'] = 1"
   ]
  },
  {
   "cell_type": "code",
   "execution_count": 263,
   "metadata": {},
   "outputs": [
    {
     "data": {
      "text/plain": [
       "1    48\n",
       "Name: Target, dtype: int64"
      ]
     },
     "execution_count": 263,
     "metadata": {},
     "output_type": "execute_result"
    }
   ],
   "source": [
    "TCGAHealthy['Target'].value_counts()"
   ]
  },
  {
   "cell_type": "code",
   "execution_count": 264,
   "metadata": {},
   "outputs": [],
   "source": [
    "Cancer['Target'] = Cancer['Target'].apply(lambda x: 2 if (x==1) \n",
    "                                           else(3 if (x==2) \n",
    "                                                else(4 if (x==3) \n",
    "                                                     else(5 if (x==4) \n",
    "                                                          else(6 if(x==5) \n",
    "                                                               else(0 if(x==0) \n",
    "                                                                   else 7))))))"
   ]
  },
  {
   "cell_type": "code",
   "execution_count": 265,
   "metadata": {},
   "outputs": [
    {
     "data": {
      "text/plain": [
       "6    127\n",
       "3    122\n",
       "4     79\n",
       "5     60\n",
       "2     38\n",
       "Name: Target, dtype: int64"
      ]
     },
     "execution_count": 265,
     "metadata": {},
     "output_type": "execute_result"
    }
   ],
   "source": [
    "Cancer['Target'].value_counts()"
   ]
  },
  {
   "cell_type": "code",
   "execution_count": 266,
   "metadata": {},
   "outputs": [],
   "source": [
    "data = Cancer.append(GTEX.append(TCGAHealthy))\n",
    "#data = Cancer.append(GTEX)"
   ]
  },
  {
   "cell_type": "code",
   "execution_count": 267,
   "metadata": {},
   "outputs": [],
   "source": [
    "data.reset_index(drop = True, inplace = True)"
   ]
  },
  {
   "cell_type": "code",
   "execution_count": 268,
   "metadata": {},
   "outputs": [
    {
     "data": {
      "text/plain": [
       "6    127\n",
       "3    122\n",
       "0    106\n",
       "4     79\n",
       "5     60\n",
       "1     48\n",
       "2     38\n",
       "Name: Target, dtype: int64"
      ]
     },
     "execution_count": 268,
     "metadata": {},
     "output_type": "execute_result"
    }
   ],
   "source": [
    "data['Target'].value_counts()"
   ]
  },
  {
   "cell_type": "code",
   "execution_count": 269,
   "metadata": {},
   "outputs": [],
   "source": [
    "data = data.sample(frac=1).reset_index(drop=True)"
   ]
  },
  {
   "cell_type": "code",
   "execution_count": 270,
   "metadata": {},
   "outputs": [
    {
     "data": {
      "text/html": [
       "<div>\n",
       "<style>\n",
       "    .dataframe thead tr:only-child th {\n",
       "        text-align: right;\n",
       "    }\n",
       "\n",
       "    .dataframe thead th {\n",
       "        text-align: left;\n",
       "    }\n",
       "\n",
       "    .dataframe tbody tr th {\n",
       "        vertical-align: top;\n",
       "    }\n",
       "</style>\n",
       "<table border=\"1\" class=\"dataframe\">\n",
       "  <thead>\n",
       "    <tr style=\"text-align: right;\">\n",
       "      <th>GeneID</th>\n",
       "      <th>CUL5-8065</th>\n",
       "      <th>REV1-51455</th>\n",
       "      <th>ZNF428-126299</th>\n",
       "      <th>CX3CR1-1524</th>\n",
       "      <th>FAXC-84553</th>\n",
       "      <th>PKP2-5318</th>\n",
       "      <th>BNIP2-663</th>\n",
       "      <th>HOXB7-3217</th>\n",
       "      <th>GRIN3A-116443</th>\n",
       "      <th>FCRL5-83416</th>\n",
       "      <th>...</th>\n",
       "      <th>GATA6-2627</th>\n",
       "      <th>COL28A1-340267</th>\n",
       "      <th>PDK3-5165</th>\n",
       "      <th>MC1R-4157</th>\n",
       "      <th>IFT74-80173</th>\n",
       "      <th>CDK14-5218</th>\n",
       "      <th>RP11-762I7.5-0</th>\n",
       "      <th>GSR-2936</th>\n",
       "      <th>UBQLN4-56893</th>\n",
       "      <th>Target</th>\n",
       "    </tr>\n",
       "  </thead>\n",
       "  <tbody>\n",
       "    <tr>\n",
       "      <th>0</th>\n",
       "      <td>142.01</td>\n",
       "      <td>521.76</td>\n",
       "      <td>1369.04</td>\n",
       "      <td>18.70</td>\n",
       "      <td>140.04</td>\n",
       "      <td>77.25</td>\n",
       "      <td>551.56</td>\n",
       "      <td>231.32</td>\n",
       "      <td>82.87</td>\n",
       "      <td>1.13</td>\n",
       "      <td>...</td>\n",
       "      <td>31.90</td>\n",
       "      <td>178.77</td>\n",
       "      <td>33.54</td>\n",
       "      <td>220.32</td>\n",
       "      <td>283.05</td>\n",
       "      <td>83.45</td>\n",
       "      <td>3.47</td>\n",
       "      <td>819.30</td>\n",
       "      <td>518.15</td>\n",
       "      <td>4</td>\n",
       "    </tr>\n",
       "    <tr>\n",
       "      <th>1</th>\n",
       "      <td>271.48</td>\n",
       "      <td>525.39</td>\n",
       "      <td>825.00</td>\n",
       "      <td>137.14</td>\n",
       "      <td>201.25</td>\n",
       "      <td>361.04</td>\n",
       "      <td>620.67</td>\n",
       "      <td>25.35</td>\n",
       "      <td>10.08</td>\n",
       "      <td>16.03</td>\n",
       "      <td>...</td>\n",
       "      <td>26.86</td>\n",
       "      <td>110.43</td>\n",
       "      <td>115.16</td>\n",
       "      <td>41.81</td>\n",
       "      <td>220.32</td>\n",
       "      <td>275.28</td>\n",
       "      <td>1.81</td>\n",
       "      <td>1605.83</td>\n",
       "      <td>878.17</td>\n",
       "      <td>3</td>\n",
       "    </tr>\n",
       "    <tr>\n",
       "      <th>2</th>\n",
       "      <td>242.88</td>\n",
       "      <td>620.67</td>\n",
       "      <td>1697.45</td>\n",
       "      <td>3.92</td>\n",
       "      <td>204.07</td>\n",
       "      <td>164.42</td>\n",
       "      <td>647.07</td>\n",
       "      <td>22.26</td>\n",
       "      <td>6.36</td>\n",
       "      <td>2.25</td>\n",
       "      <td>...</td>\n",
       "      <td>21.63</td>\n",
       "      <td>438.59</td>\n",
       "      <td>42.11</td>\n",
       "      <td>187.71</td>\n",
       "      <td>262.20</td>\n",
       "      <td>119.26</td>\n",
       "      <td>18.56</td>\n",
       "      <td>1191.69</td>\n",
       "      <td>748.61</td>\n",
       "      <td>3</td>\n",
       "    </tr>\n",
       "    <tr>\n",
       "      <th>3</th>\n",
       "      <td>215.77</td>\n",
       "      <td>381.68</td>\n",
       "      <td>1295.13</td>\n",
       "      <td>51.71</td>\n",
       "      <td>403.50</td>\n",
       "      <td>435.55</td>\n",
       "      <td>483.38</td>\n",
       "      <td>43.63</td>\n",
       "      <td>5.77</td>\n",
       "      <td>11.55</td>\n",
       "      <td>...</td>\n",
       "      <td>27.05</td>\n",
       "      <td>48.52</td>\n",
       "      <td>88.88</td>\n",
       "      <td>63.45</td>\n",
       "      <td>269.60</td>\n",
       "      <td>236.21</td>\n",
       "      <td>7.75</td>\n",
       "      <td>1617.00</td>\n",
       "      <td>813.63</td>\n",
       "      <td>3</td>\n",
       "    </tr>\n",
       "    <tr>\n",
       "      <th>4</th>\n",
       "      <td>237.86</td>\n",
       "      <td>836.53</td>\n",
       "      <td>1457.23</td>\n",
       "      <td>41.52</td>\n",
       "      <td>262.20</td>\n",
       "      <td>334.46</td>\n",
       "      <td>1015.93</td>\n",
       "      <td>80.01</td>\n",
       "      <td>82.29</td>\n",
       "      <td>1.93</td>\n",
       "      <td>...</td>\n",
       "      <td>45.21</td>\n",
       "      <td>70.51</td>\n",
       "      <td>109.66</td>\n",
       "      <td>170.25</td>\n",
       "      <td>329.84</td>\n",
       "      <td>204.07</td>\n",
       "      <td>15.91</td>\n",
       "      <td>718.08</td>\n",
       "      <td>723.08</td>\n",
       "      <td>6</td>\n",
       "    </tr>\n",
       "    <tr>\n",
       "      <th>5</th>\n",
       "      <td>279.14</td>\n",
       "      <td>435.55</td>\n",
       "      <td>1066.48</td>\n",
       "      <td>57.49</td>\n",
       "      <td>575.03</td>\n",
       "      <td>713.11</td>\n",
       "      <td>825.00</td>\n",
       "      <td>140.04</td>\n",
       "      <td>15.34</td>\n",
       "      <td>0.87</td>\n",
       "      <td>...</td>\n",
       "      <td>35.50</td>\n",
       "      <td>193.01</td>\n",
       "      <td>161.02</td>\n",
       "      <td>12.45</td>\n",
       "      <td>158.79</td>\n",
       "      <td>255.00</td>\n",
       "      <td>9.93</td>\n",
       "      <td>2178.83</td>\n",
       "      <td>616.37</td>\n",
       "      <td>0</td>\n",
       "    </tr>\n",
       "    <tr>\n",
       "      <th>6</th>\n",
       "      <td>246.28</td>\n",
       "      <td>660.68</td>\n",
       "      <td>1508.65</td>\n",
       "      <td>35.76</td>\n",
       "      <td>221.86</td>\n",
       "      <td>162.14</td>\n",
       "      <td>860.08</td>\n",
       "      <td>57.49</td>\n",
       "      <td>8.19</td>\n",
       "      <td>1.57</td>\n",
       "      <td>...</td>\n",
       "      <td>74.06</td>\n",
       "      <td>194.36</td>\n",
       "      <td>61.25</td>\n",
       "      <td>195.72</td>\n",
       "      <td>232.94</td>\n",
       "      <td>125.24</td>\n",
       "      <td>2.39</td>\n",
       "      <td>1104.13</td>\n",
       "      <td>624.99</td>\n",
       "      <td>6</td>\n",
       "    </tr>\n",
       "    <tr>\n",
       "      <th>7</th>\n",
       "      <td>258.57</td>\n",
       "      <td>825.00</td>\n",
       "      <td>1304.15</td>\n",
       "      <td>20.71</td>\n",
       "      <td>223.41</td>\n",
       "      <td>329.84</td>\n",
       "      <td>1167.14</td>\n",
       "      <td>18.16</td>\n",
       "      <td>50.63</td>\n",
       "      <td>5.82</td>\n",
       "      <td>...</td>\n",
       "      <td>28.86</td>\n",
       "      <td>88.88</td>\n",
       "      <td>60.39</td>\n",
       "      <td>52.45</td>\n",
       "      <td>323.03</td>\n",
       "      <td>189.02</td>\n",
       "      <td>8.85</td>\n",
       "      <td>1467.37</td>\n",
       "      <td>854.13</td>\n",
       "      <td>0</td>\n",
       "    </tr>\n",
       "    <tr>\n",
       "      <th>8</th>\n",
       "      <td>305.55</td>\n",
       "      <td>543.96</td>\n",
       "      <td>1159.07</td>\n",
       "      <td>60.39</td>\n",
       "      <td>220.32</td>\n",
       "      <td>368.65</td>\n",
       "      <td>1199.98</td>\n",
       "      <td>58.71</td>\n",
       "      <td>9.85</td>\n",
       "      <td>5.77</td>\n",
       "      <td>...</td>\n",
       "      <td>48.52</td>\n",
       "      <td>15.80</td>\n",
       "      <td>70.51</td>\n",
       "      <td>63.45</td>\n",
       "      <td>329.84</td>\n",
       "      <td>125.24</td>\n",
       "      <td>3.63</td>\n",
       "      <td>2591.27</td>\n",
       "      <td>785.88</td>\n",
       "      <td>0</td>\n",
       "    </tr>\n",
       "    <tr>\n",
       "      <th>9</th>\n",
       "      <td>212.78</td>\n",
       "      <td>647.07</td>\n",
       "      <td>1111.82</td>\n",
       "      <td>33.30</td>\n",
       "      <td>201.25</td>\n",
       "      <td>212.78</td>\n",
       "      <td>599.49</td>\n",
       "      <td>25.35</td>\n",
       "      <td>12.74</td>\n",
       "      <td>14.45</td>\n",
       "      <td>...</td>\n",
       "      <td>46.84</td>\n",
       "      <td>144.01</td>\n",
       "      <td>100.83</td>\n",
       "      <td>100.13</td>\n",
       "      <td>255.00</td>\n",
       "      <td>161.02</td>\n",
       "      <td>10.47</td>\n",
       "      <td>1651.00</td>\n",
       "      <td>802.41</td>\n",
       "      <td>2</td>\n",
       "    </tr>\n",
       "    <tr>\n",
       "      <th>10</th>\n",
       "      <td>323.03</td>\n",
       "      <td>595.34</td>\n",
       "      <td>1051.79</td>\n",
       "      <td>97.36</td>\n",
       "      <td>251.48</td>\n",
       "      <td>316.37</td>\n",
       "      <td>1388.16</td>\n",
       "      <td>64.34</td>\n",
       "      <td>6.57</td>\n",
       "      <td>6.11</td>\n",
       "      <td>...</td>\n",
       "      <td>320.80</td>\n",
       "      <td>26.67</td>\n",
       "      <td>176.29</td>\n",
       "      <td>54.33</td>\n",
       "      <td>325.29</td>\n",
       "      <td>353.59</td>\n",
       "      <td>4.98</td>\n",
       "      <td>1331.57</td>\n",
       "      <td>647.07</td>\n",
       "      <td>1</td>\n",
       "    </tr>\n",
       "    <tr>\n",
       "      <th>11</th>\n",
       "      <td>191.67</td>\n",
       "      <td>679.29</td>\n",
       "      <td>1498.22</td>\n",
       "      <td>45.21</td>\n",
       "      <td>223.41</td>\n",
       "      <td>285.03</td>\n",
       "      <td>718.08</td>\n",
       "      <td>48.52</td>\n",
       "      <td>13.22</td>\n",
       "      <td>16.39</td>\n",
       "      <td>...</td>\n",
       "      <td>146.03</td>\n",
       "      <td>525.39</td>\n",
       "      <td>82.87</td>\n",
       "      <td>114.36</td>\n",
       "      <td>251.48</td>\n",
       "      <td>173.85</td>\n",
       "      <td>11.13</td>\n",
       "      <td>1628.26</td>\n",
       "      <td>708.18</td>\n",
       "      <td>6</td>\n",
       "    </tr>\n",
       "    <tr>\n",
       "      <th>12</th>\n",
       "      <td>387.02</td>\n",
       "      <td>825.00</td>\n",
       "      <td>1191.69</td>\n",
       "      <td>58.71</td>\n",
       "      <td>246.28</td>\n",
       "      <td>69.03</td>\n",
       "      <td>1008.90</td>\n",
       "      <td>3.56</td>\n",
       "      <td>22.26</td>\n",
       "      <td>1.08</td>\n",
       "      <td>...</td>\n",
       "      <td>60.82</td>\n",
       "      <td>131.51</td>\n",
       "      <td>111.99</td>\n",
       "      <td>98.04</td>\n",
       "      <td>293.07</td>\n",
       "      <td>228.13</td>\n",
       "      <td>9.27</td>\n",
       "      <td>426.57</td>\n",
       "      <td>796.86</td>\n",
       "      <td>6</td>\n",
       "    </tr>\n",
       "    <tr>\n",
       "      <th>13</th>\n",
       "      <td>237.86</td>\n",
       "      <td>500.46</td>\n",
       "      <td>813.63</td>\n",
       "      <td>154.42</td>\n",
       "      <td>149.12</td>\n",
       "      <td>264.03</td>\n",
       "      <td>723.08</td>\n",
       "      <td>187.71</td>\n",
       "      <td>201.25</td>\n",
       "      <td>4.39</td>\n",
       "      <td>...</td>\n",
       "      <td>101.54</td>\n",
       "      <td>119.26</td>\n",
       "      <td>138.10</td>\n",
       "      <td>128.79</td>\n",
       "      <td>285.03</td>\n",
       "      <td>348.71</td>\n",
       "      <td>8.99</td>\n",
       "      <td>1605.83</td>\n",
       "      <td>791.35</td>\n",
       "      <td>4</td>\n",
       "    </tr>\n",
       "    <tr>\n",
       "      <th>14</th>\n",
       "      <td>244.57</td>\n",
       "      <td>633.73</td>\n",
       "      <td>1081.39</td>\n",
       "      <td>23.08</td>\n",
       "      <td>228.13</td>\n",
       "      <td>234.57</td>\n",
       "      <td>723.08</td>\n",
       "      <td>8.06</td>\n",
       "      <td>3.29</td>\n",
       "      <td>1.20</td>\n",
       "      <td>...</td>\n",
       "      <td>100.13</td>\n",
       "      <td>395.18</td>\n",
       "      <td>47.17</td>\n",
       "      <td>122.64</td>\n",
       "      <td>182.55</td>\n",
       "      <td>186.40</td>\n",
       "      <td>5.77</td>\n",
       "      <td>1378.57</td>\n",
       "      <td>660.68</td>\n",
       "      <td>3</td>\n",
       "    </tr>\n",
       "    <tr>\n",
       "      <th>15</th>\n",
       "      <td>307.69</td>\n",
       "      <td>503.95</td>\n",
       "      <td>1008.90</td>\n",
       "      <td>85.82</td>\n",
       "      <td>239.52</td>\n",
       "      <td>239.52</td>\n",
       "      <td>674.59</td>\n",
       "      <td>107.38</td>\n",
       "      <td>28.86</td>\n",
       "      <td>9.70</td>\n",
       "      <td>...</td>\n",
       "      <td>47.17</td>\n",
       "      <td>38.12</td>\n",
       "      <td>136.19</td>\n",
       "      <td>44.89</td>\n",
       "      <td>255.00</td>\n",
       "      <td>323.03</td>\n",
       "      <td>15.34</td>\n",
       "      <td>1628.26</td>\n",
       "      <td>656.11</td>\n",
       "      <td>1</td>\n",
       "    </tr>\n",
       "    <tr>\n",
       "      <th>16</th>\n",
       "      <td>236.21</td>\n",
       "      <td>638.15</td>\n",
       "      <td>1331.57</td>\n",
       "      <td>57.49</td>\n",
       "      <td>277.20</td>\n",
       "      <td>285.03</td>\n",
       "      <td>866.07</td>\n",
       "      <td>101.54</td>\n",
       "      <td>45.21</td>\n",
       "      <td>8.71</td>\n",
       "      <td>...</td>\n",
       "      <td>69.03</td>\n",
       "      <td>144.01</td>\n",
       "      <td>67.12</td>\n",
       "      <td>96.68</td>\n",
       "      <td>325.29</td>\n",
       "      <td>194.36</td>\n",
       "      <td>21.78</td>\n",
       "      <td>1457.23</td>\n",
       "      <td>583.07</td>\n",
       "      <td>5</td>\n",
       "    </tr>\n",
       "    <tr>\n",
       "      <th>17</th>\n",
       "      <td>193.01</td>\n",
       "      <td>463.65</td>\n",
       "      <td>1427.22</td>\n",
       "      <td>145.02</td>\n",
       "      <td>351.14</td>\n",
       "      <td>223.41</td>\n",
       "      <td>693.58</td>\n",
       "      <td>35.00</td>\n",
       "      <td>1.53</td>\n",
       "      <td>12.74</td>\n",
       "      <td>...</td>\n",
       "      <td>277.20</td>\n",
       "      <td>19.97</td>\n",
       "      <td>96.01</td>\n",
       "      <td>19.53</td>\n",
       "      <td>289.02</td>\n",
       "      <td>309.83</td>\n",
       "      <td>0.00</td>\n",
       "      <td>1883.54</td>\n",
       "      <td>579.04</td>\n",
       "      <td>0</td>\n",
       "    </tr>\n",
       "    <tr>\n",
       "      <th>18</th>\n",
       "      <td>232.94</td>\n",
       "      <td>500.46</td>\n",
       "      <td>1088.92</td>\n",
       "      <td>3.20</td>\n",
       "      <td>253.23</td>\n",
       "      <td>197.09</td>\n",
       "      <td>525.39</td>\n",
       "      <td>15.34</td>\n",
       "      <td>2.68</td>\n",
       "      <td>0.41</td>\n",
       "      <td>...</td>\n",
       "      <td>8.38</td>\n",
       "      <td>253.23</td>\n",
       "      <td>18.70</td>\n",
       "      <td>137.14</td>\n",
       "      <td>285.03</td>\n",
       "      <td>86.43</td>\n",
       "      <td>0.00</td>\n",
       "      <td>1594.73</td>\n",
       "      <td>414.87</td>\n",
       "      <td>5</td>\n",
       "    </tr>\n",
       "    <tr>\n",
       "      <th>19</th>\n",
       "      <td>244.57</td>\n",
       "      <td>620.67</td>\n",
       "      <td>1104.13</td>\n",
       "      <td>40.36</td>\n",
       "      <td>204.07</td>\n",
       "      <td>368.65</td>\n",
       "      <td>1088.92</td>\n",
       "      <td>144.01</td>\n",
       "      <td>75.64</td>\n",
       "      <td>0.62</td>\n",
       "      <td>...</td>\n",
       "      <td>59.55</td>\n",
       "      <td>74.06</td>\n",
       "      <td>111.99</td>\n",
       "      <td>47.50</td>\n",
       "      <td>291.04</td>\n",
       "      <td>170.25</td>\n",
       "      <td>25.72</td>\n",
       "      <td>1697.45</td>\n",
       "      <td>555.41</td>\n",
       "      <td>0</td>\n",
       "    </tr>\n",
       "    <tr>\n",
       "      <th>20</th>\n",
       "      <td>353.59</td>\n",
       "      <td>551.56</td>\n",
       "      <td>884.29</td>\n",
       "      <td>36.53</td>\n",
       "      <td>269.60</td>\n",
       "      <td>231.32</td>\n",
       "      <td>743.43</td>\n",
       "      <td>13.12</td>\n",
       "      <td>69.52</td>\n",
       "      <td>1.99</td>\n",
       "      <td>...</td>\n",
       "      <td>76.17</td>\n",
       "      <td>48.18</td>\n",
       "      <td>146.03</td>\n",
       "      <td>46.84</td>\n",
       "      <td>175.07</td>\n",
       "      <td>242.88</td>\n",
       "      <td>2.78</td>\n",
       "      <td>1030.12</td>\n",
       "      <td>642.59</td>\n",
       "      <td>3</td>\n",
       "    </tr>\n",
       "    <tr>\n",
       "      <th>21</th>\n",
       "      <td>346.29</td>\n",
       "      <td>521.76</td>\n",
       "      <td>1487.87</td>\n",
       "      <td>101.54</td>\n",
       "      <td>351.14</td>\n",
       "      <td>305.55</td>\n",
       "      <td>612.11</td>\n",
       "      <td>95.34</td>\n",
       "      <td>18.03</td>\n",
       "      <td>12.36</td>\n",
       "      <td>...</td>\n",
       "      <td>41.22</td>\n",
       "      <td>251.48</td>\n",
       "      <td>77.79</td>\n",
       "      <td>71.00</td>\n",
       "      <td>318.57</td>\n",
       "      <td>176.29</td>\n",
       "      <td>6.36</td>\n",
       "      <td>1870.53</td>\n",
       "      <td>775.05</td>\n",
       "      <td>0</td>\n",
       "    </tr>\n",
       "    <tr>\n",
       "      <th>22</th>\n",
       "      <td>353.59</td>\n",
       "      <td>409.15</td>\n",
       "      <td>896.64</td>\n",
       "      <td>24.63</td>\n",
       "      <td>189.02</td>\n",
       "      <td>329.84</td>\n",
       "      <td>579.04</td>\n",
       "      <td>12.09</td>\n",
       "      <td>6.01</td>\n",
       "      <td>1.22</td>\n",
       "      <td>...</td>\n",
       "      <td>67.59</td>\n",
       "      <td>136.19</td>\n",
       "      <td>65.26</td>\n",
       "      <td>30.12</td>\n",
       "      <td>305.55</td>\n",
       "      <td>246.28</td>\n",
       "      <td>0.82</td>\n",
       "      <td>2148.82</td>\n",
       "      <td>854.13</td>\n",
       "      <td>4</td>\n",
       "    </tr>\n",
       "    <tr>\n",
       "      <th>23</th>\n",
       "      <td>220.32</td>\n",
       "      <td>454.09</td>\n",
       "      <td>934.76</td>\n",
       "      <td>82.29</td>\n",
       "      <td>309.83</td>\n",
       "      <td>400.71</td>\n",
       "      <td>878.17</td>\n",
       "      <td>24.81</td>\n",
       "      <td>178.77</td>\n",
       "      <td>2.46</td>\n",
       "      <td>...</td>\n",
       "      <td>29.70</td>\n",
       "      <td>36.53</td>\n",
       "      <td>193.01</td>\n",
       "      <td>43.63</td>\n",
       "      <td>289.02</td>\n",
       "      <td>214.27</td>\n",
       "      <td>12.36</td>\n",
       "      <td>2573.36</td>\n",
       "      <td>728.11</td>\n",
       "      <td>0</td>\n",
       "    </tr>\n",
       "    <tr>\n",
       "      <th>24</th>\n",
       "      <td>312.00</td>\n",
       "      <td>616.37</td>\n",
       "      <td>1037.29</td>\n",
       "      <td>65.26</td>\n",
       "      <td>147.06</td>\n",
       "      <td>285.03</td>\n",
       "      <td>612.11</td>\n",
       "      <td>83.45</td>\n",
       "      <td>13.22</td>\n",
       "      <td>5.32</td>\n",
       "      <td>...</td>\n",
       "      <td>37.32</td>\n",
       "      <td>14.24</td>\n",
       "      <td>95.34</td>\n",
       "      <td>111.99</td>\n",
       "      <td>361.04</td>\n",
       "      <td>164.42</td>\n",
       "      <td>12.93</td>\n",
       "      <td>1572.76</td>\n",
       "      <td>836.53</td>\n",
       "      <td>5</td>\n",
       "    </tr>\n",
       "    <tr>\n",
       "      <th>25</th>\n",
       "      <td>177.53</td>\n",
       "      <td>381.68</td>\n",
       "      <td>967.76</td>\n",
       "      <td>13.22</td>\n",
       "      <td>536.45</td>\n",
       "      <td>255.00</td>\n",
       "      <td>753.83</td>\n",
       "      <td>57.49</td>\n",
       "      <td>2.48</td>\n",
       "      <td>1.75</td>\n",
       "      <td>...</td>\n",
       "      <td>159.90</td>\n",
       "      <td>109.66</td>\n",
       "      <td>291.04</td>\n",
       "      <td>49.56</td>\n",
       "      <td>241.19</td>\n",
       "      <td>251.48</td>\n",
       "      <td>0.00</td>\n",
       "      <td>1295.13</td>\n",
       "      <td>450.94</td>\n",
       "      <td>0</td>\n",
       "    </tr>\n",
       "    <tr>\n",
       "      <th>26</th>\n",
       "      <td>177.53</td>\n",
       "      <td>525.39</td>\n",
       "      <td>1745.20</td>\n",
       "      <td>30.12</td>\n",
       "      <td>323.03</td>\n",
       "      <td>229.72</td>\n",
       "      <td>723.08</td>\n",
       "      <td>57.08</td>\n",
       "      <td>44.57</td>\n",
       "      <td>6.46</td>\n",
       "      <td>...</td>\n",
       "      <td>72.01</td>\n",
       "      <td>209.84</td>\n",
       "      <td>113.56</td>\n",
       "      <td>194.36</td>\n",
       "      <td>201.25</td>\n",
       "      <td>166.73</td>\n",
       "      <td>0.00</td>\n",
       "      <td>1023.00</td>\n",
       "      <td>698.41</td>\n",
       "      <td>4</td>\n",
       "    </tr>\n",
       "    <tr>\n",
       "      <th>27</th>\n",
       "      <td>218.79</td>\n",
       "      <td>607.87</td>\n",
       "      <td>954.43</td>\n",
       "      <td>14.24</td>\n",
       "      <td>262.20</td>\n",
       "      <td>358.54</td>\n",
       "      <td>860.08</td>\n",
       "      <td>11.82</td>\n",
       "      <td>28.04</td>\n",
       "      <td>0.00</td>\n",
       "      <td>...</td>\n",
       "      <td>26.67</td>\n",
       "      <td>113.56</td>\n",
       "      <td>72.01</td>\n",
       "      <td>133.36</td>\n",
       "      <td>199.85</td>\n",
       "      <td>171.45</td>\n",
       "      <td>0.78</td>\n",
       "      <td>1119.56</td>\n",
       "      <td>642.59</td>\n",
       "      <td>3</td>\n",
       "    </tr>\n",
       "    <tr>\n",
       "      <th>28</th>\n",
       "      <td>223.41</td>\n",
       "      <td>412.00</td>\n",
       "      <td>1487.87</td>\n",
       "      <td>12.36</td>\n",
       "      <td>332.14</td>\n",
       "      <td>239.52</td>\n",
       "      <td>543.96</td>\n",
       "      <td>16.39</td>\n",
       "      <td>3.53</td>\n",
       "      <td>0.43</td>\n",
       "      <td>...</td>\n",
       "      <td>61.25</td>\n",
       "      <td>291.04</td>\n",
       "      <td>37.59</td>\n",
       "      <td>68.07</td>\n",
       "      <td>299.25</td>\n",
       "      <td>146.03</td>\n",
       "      <td>8.85</td>\n",
       "      <td>1662.49</td>\n",
       "      <td>769.69</td>\n",
       "      <td>3</td>\n",
       "    </tr>\n",
       "    <tr>\n",
       "      <th>29</th>\n",
       "      <td>275.28</td>\n",
       "      <td>587.13</td>\n",
       "      <td>1191.69</td>\n",
       "      <td>108.14</td>\n",
       "      <td>808.00</td>\n",
       "      <td>149.12</td>\n",
       "      <td>1135.20</td>\n",
       "      <td>103.69</td>\n",
       "      <td>11.04</td>\n",
       "      <td>4.90</td>\n",
       "      <td>...</td>\n",
       "      <td>229.72</td>\n",
       "      <td>148.09</td>\n",
       "      <td>87.03</td>\n",
       "      <td>49.91</td>\n",
       "      <td>323.03</td>\n",
       "      <td>224.97</td>\n",
       "      <td>5.87</td>\n",
       "      <td>947.83</td>\n",
       "      <td>591.22</td>\n",
       "      <td>1</td>\n",
       "    </tr>\n",
       "    <tr>\n",
       "      <th>...</th>\n",
       "      <td>...</td>\n",
       "      <td>...</td>\n",
       "      <td>...</td>\n",
       "      <td>...</td>\n",
       "      <td>...</td>\n",
       "      <td>...</td>\n",
       "      <td>...</td>\n",
       "      <td>...</td>\n",
       "      <td>...</td>\n",
       "      <td>...</td>\n",
       "      <td>...</td>\n",
       "      <td>...</td>\n",
       "      <td>...</td>\n",
       "      <td>...</td>\n",
       "      <td>...</td>\n",
       "      <td>...</td>\n",
       "      <td>...</td>\n",
       "      <td>...</td>\n",
       "      <td>...</td>\n",
       "      <td>...</td>\n",
       "      <td>...</td>\n",
       "    </tr>\n",
       "    <tr>\n",
       "      <th>550</th>\n",
       "      <td>134.30</td>\n",
       "      <td>299.25</td>\n",
       "      <td>1561.89</td>\n",
       "      <td>27.25</td>\n",
       "      <td>271.48</td>\n",
       "      <td>120.10</td>\n",
       "      <td>454.09</td>\n",
       "      <td>72.01</td>\n",
       "      <td>22.26</td>\n",
       "      <td>4.06</td>\n",
       "      <td>...</td>\n",
       "      <td>231.32</td>\n",
       "      <td>182.55</td>\n",
       "      <td>57.89</td>\n",
       "      <td>50.63</td>\n",
       "      <td>147.06</td>\n",
       "      <td>162.14</td>\n",
       "      <td>10.88</td>\n",
       "      <td>830.75</td>\n",
       "      <td>830.75</td>\n",
       "      <td>6</td>\n",
       "    </tr>\n",
       "    <tr>\n",
       "      <th>551</th>\n",
       "      <td>193.01</td>\n",
       "      <td>450.94</td>\n",
       "      <td>941.27</td>\n",
       "      <td>57.89</td>\n",
       "      <td>371.22</td>\n",
       "      <td>267.73</td>\n",
       "      <td>536.45</td>\n",
       "      <td>41.52</td>\n",
       "      <td>33.30</td>\n",
       "      <td>18.97</td>\n",
       "      <td>...</td>\n",
       "      <td>45.21</td>\n",
       "      <td>102.25</td>\n",
       "      <td>154.42</td>\n",
       "      <td>80.01</td>\n",
       "      <td>325.29</td>\n",
       "      <td>309.83</td>\n",
       "      <td>1.87</td>\n",
       "      <td>2335.28</td>\n",
       "      <td>854.13</td>\n",
       "      <td>3</td>\n",
       "    </tr>\n",
       "    <tr>\n",
       "      <th>552</th>\n",
       "      <td>571.05</td>\n",
       "      <td>555.41</td>\n",
       "      <td>1313.23</td>\n",
       "      <td>6.89</td>\n",
       "      <td>307.69</td>\n",
       "      <td>202.66</td>\n",
       "      <td>429.54</td>\n",
       "      <td>21.78</td>\n",
       "      <td>116.78</td>\n",
       "      <td>1.19</td>\n",
       "      <td>...</td>\n",
       "      <td>21.32</td>\n",
       "      <td>37.59</td>\n",
       "      <td>59.55</td>\n",
       "      <td>119.26</td>\n",
       "      <td>239.52</td>\n",
       "      <td>85.82</td>\n",
       "      <td>20.26</td>\n",
       "      <td>1594.73</td>\n",
       "      <td>1594.73</td>\n",
       "      <td>6</td>\n",
       "    </tr>\n",
       "    <tr>\n",
       "      <th>553</th>\n",
       "      <td>211.31</td>\n",
       "      <td>679.29</td>\n",
       "      <td>1059.11</td>\n",
       "      <td>13.72</td>\n",
       "      <td>265.87</td>\n",
       "      <td>234.57</td>\n",
       "      <td>890.44</td>\n",
       "      <td>26.67</td>\n",
       "      <td>141.02</td>\n",
       "      <td>0.45</td>\n",
       "      <td>...</td>\n",
       "      <td>35.50</td>\n",
       "      <td>40.93</td>\n",
       "      <td>98.73</td>\n",
       "      <td>71.50</td>\n",
       "      <td>299.25</td>\n",
       "      <td>189.02</td>\n",
       "      <td>3.82</td>\n",
       "      <td>1088.92</td>\n",
       "      <td>583.07</td>\n",
       "      <td>5</td>\n",
       "    </tr>\n",
       "    <tr>\n",
       "      <th>554</th>\n",
       "      <td>209.84</td>\n",
       "      <td>872.10</td>\n",
       "      <td>412.00</td>\n",
       "      <td>16.63</td>\n",
       "      <td>178.77</td>\n",
       "      <td>273.37</td>\n",
       "      <td>1369.04</td>\n",
       "      <td>48.52</td>\n",
       "      <td>19.53</td>\n",
       "      <td>6.62</td>\n",
       "      <td>...</td>\n",
       "      <td>40.36</td>\n",
       "      <td>204.07</td>\n",
       "      <td>185.11</td>\n",
       "      <td>76.17</td>\n",
       "      <td>389.72</td>\n",
       "      <td>435.55</td>\n",
       "      <td>2.76</td>\n",
       "      <td>1001.93</td>\n",
       "      <td>743.43</td>\n",
       "      <td>6</td>\n",
       "    </tr>\n",
       "    <tr>\n",
       "      <th>555</th>\n",
       "      <td>178.77</td>\n",
       "      <td>353.59</td>\n",
       "      <td>1651.00</td>\n",
       "      <td>17.25</td>\n",
       "      <td>348.71</td>\n",
       "      <td>255.00</td>\n",
       "      <td>579.04</td>\n",
       "      <td>28.65</td>\n",
       "      <td>16.27</td>\n",
       "      <td>1.64</td>\n",
       "      <td>...</td>\n",
       "      <td>50.98</td>\n",
       "      <td>61.25</td>\n",
       "      <td>93.35</td>\n",
       "      <td>58.71</td>\n",
       "      <td>171.45</td>\n",
       "      <td>204.07</td>\n",
       "      <td>3.89</td>\n",
       "      <td>1697.45</td>\n",
       "      <td>679.29</td>\n",
       "      <td>3</td>\n",
       "    </tr>\n",
       "    <tr>\n",
       "      <th>556</th>\n",
       "      <td>232.94</td>\n",
       "      <td>651.58</td>\n",
       "      <td>1407.55</td>\n",
       "      <td>66.18</td>\n",
       "      <td>183.82</td>\n",
       "      <td>218.79</td>\n",
       "      <td>587.13</td>\n",
       "      <td>117.60</td>\n",
       "      <td>1.51</td>\n",
       "      <td>92.05</td>\n",
       "      <td>...</td>\n",
       "      <td>152.28</td>\n",
       "      <td>25.35</td>\n",
       "      <td>94.67</td>\n",
       "      <td>115.16</td>\n",
       "      <td>323.03</td>\n",
       "      <td>297.17</td>\n",
       "      <td>5.36</td>\n",
       "      <td>1104.13</td>\n",
       "      <td>813.63</td>\n",
       "      <td>0</td>\n",
       "    </tr>\n",
       "    <tr>\n",
       "      <th>557</th>\n",
       "      <td>186.40</td>\n",
       "      <td>258.57</td>\n",
       "      <td>1030.12</td>\n",
       "      <td>23.25</td>\n",
       "      <td>249.73</td>\n",
       "      <td>229.72</td>\n",
       "      <td>312.00</td>\n",
       "      <td>16.51</td>\n",
       "      <td>17.90</td>\n",
       "      <td>6.52</td>\n",
       "      <td>...</td>\n",
       "      <td>24.99</td>\n",
       "      <td>11.38</td>\n",
       "      <td>90.77</td>\n",
       "      <td>16.63</td>\n",
       "      <td>229.72</td>\n",
       "      <td>164.42</td>\n",
       "      <td>9.27</td>\n",
       "      <td>1111.82</td>\n",
       "      <td>854.13</td>\n",
       "      <td>2</td>\n",
       "    </tr>\n",
       "    <tr>\n",
       "      <th>558</th>\n",
       "      <td>305.55</td>\n",
       "      <td>476.71</td>\n",
       "      <td>890.44</td>\n",
       "      <td>11.04</td>\n",
       "      <td>307.69</td>\n",
       "      <td>395.18</td>\n",
       "      <td>660.68</td>\n",
       "      <td>41.81</td>\n",
       "      <td>2.58</td>\n",
       "      <td>0.44</td>\n",
       "      <td>...</td>\n",
       "      <td>61.68</td>\n",
       "      <td>186.40</td>\n",
       "      <td>55.10</td>\n",
       "      <td>37.59</td>\n",
       "      <td>287.01</td>\n",
       "      <td>177.53</td>\n",
       "      <td>2.73</td>\n",
       "      <td>1378.57</td>\n",
       "      <td>693.58</td>\n",
       "      <td>3</td>\n",
       "    </tr>\n",
       "    <tr>\n",
       "      <th>559</th>\n",
       "      <td>162.14</td>\n",
       "      <td>403.50</td>\n",
       "      <td>1977.24</td>\n",
       "      <td>10.31</td>\n",
       "      <td>131.51</td>\n",
       "      <td>77.25</td>\n",
       "      <td>312.00</td>\n",
       "      <td>23.93</td>\n",
       "      <td>3.20</td>\n",
       "      <td>0.80</td>\n",
       "      <td>...</td>\n",
       "      <td>38.67</td>\n",
       "      <td>206.94</td>\n",
       "      <td>50.98</td>\n",
       "      <td>84.63</td>\n",
       "      <td>217.27</td>\n",
       "      <td>90.14</td>\n",
       "      <td>6.89</td>\n",
       "      <td>1111.82</td>\n",
       "      <td>703.28</td>\n",
       "      <td>4</td>\n",
       "    </tr>\n",
       "    <tr>\n",
       "      <th>560</th>\n",
       "      <td>224.97</td>\n",
       "      <td>656.11</td>\n",
       "      <td>1008.90</td>\n",
       "      <td>14.89</td>\n",
       "      <td>182.55</td>\n",
       "      <td>339.14</td>\n",
       "      <td>947.83</td>\n",
       "      <td>22.26</td>\n",
       "      <td>1.48</td>\n",
       "      <td>14.78</td>\n",
       "      <td>...</td>\n",
       "      <td>57.08</td>\n",
       "      <td>165.57</td>\n",
       "      <td>80.01</td>\n",
       "      <td>137.14</td>\n",
       "      <td>201.25</td>\n",
       "      <td>145.02</td>\n",
       "      <td>6.94</td>\n",
       "      <td>1127.35</td>\n",
       "      <td>684.02</td>\n",
       "      <td>6</td>\n",
       "    </tr>\n",
       "    <tr>\n",
       "      <th>561</th>\n",
       "      <td>191.67</td>\n",
       "      <td>435.55</td>\n",
       "      <td>1437.15</td>\n",
       "      <td>11.55</td>\n",
       "      <td>136.19</td>\n",
       "      <td>208.38</td>\n",
       "      <td>693.58</td>\n",
       "      <td>30.12</td>\n",
       "      <td>68.55</td>\n",
       "      <td>0.78</td>\n",
       "      <td>...</td>\n",
       "      <td>42.11</td>\n",
       "      <td>186.40</td>\n",
       "      <td>37.85</td>\n",
       "      <td>158.79</td>\n",
       "      <td>299.25</td>\n",
       "      <td>132.44</td>\n",
       "      <td>11.30</td>\n",
       "      <td>1135.20</td>\n",
       "      <td>693.58</td>\n",
       "      <td>6</td>\n",
       "    </tr>\n",
       "    <tr>\n",
       "      <th>562</th>\n",
       "      <td>283.05</td>\n",
       "      <td>353.59</td>\n",
       "      <td>836.53</td>\n",
       "      <td>23.59</td>\n",
       "      <td>323.03</td>\n",
       "      <td>180.02</td>\n",
       "      <td>647.07</td>\n",
       "      <td>23.42</td>\n",
       "      <td>4.17</td>\n",
       "      <td>3.69</td>\n",
       "      <td>...</td>\n",
       "      <td>89.51</td>\n",
       "      <td>58.71</td>\n",
       "      <td>68.55</td>\n",
       "      <td>14.56</td>\n",
       "      <td>341.51</td>\n",
       "      <td>265.87</td>\n",
       "      <td>4.66</td>\n",
       "      <td>1605.83</td>\n",
       "      <td>633.73</td>\n",
       "      <td>2</td>\n",
       "    </tr>\n",
       "    <tr>\n",
       "      <th>563</th>\n",
       "      <td>273.37</td>\n",
       "      <td>454.09</td>\n",
       "      <td>1250.98</td>\n",
       "      <td>9.56</td>\n",
       "      <td>211.31</td>\n",
       "      <td>215.77</td>\n",
       "      <td>514.56</td>\n",
       "      <td>23.59</td>\n",
       "      <td>36.01</td>\n",
       "      <td>0.00</td>\n",
       "      <td>...</td>\n",
       "      <td>61.25</td>\n",
       "      <td>79.45</td>\n",
       "      <td>69.03</td>\n",
       "      <td>100.83</td>\n",
       "      <td>228.13</td>\n",
       "      <td>153.34</td>\n",
       "      <td>22.10</td>\n",
       "      <td>896.64</td>\n",
       "      <td>836.53</td>\n",
       "      <td>4</td>\n",
       "    </tr>\n",
       "    <tr>\n",
       "      <th>564</th>\n",
       "      <td>264.03</td>\n",
       "      <td>738.29</td>\n",
       "      <td>1159.07</td>\n",
       "      <td>73.03</td>\n",
       "      <td>239.52</td>\n",
       "      <td>307.69</td>\n",
       "      <td>872.10</td>\n",
       "      <td>31.67</td>\n",
       "      <td>3.50</td>\n",
       "      <td>38.40</td>\n",
       "      <td>...</td>\n",
       "      <td>67.12</td>\n",
       "      <td>82.29</td>\n",
       "      <td>137.14</td>\n",
       "      <td>180.02</td>\n",
       "      <td>273.37</td>\n",
       "      <td>193.01</td>\n",
       "      <td>9.78</td>\n",
       "      <td>1467.37</td>\n",
       "      <td>890.44</td>\n",
       "      <td>3</td>\n",
       "    </tr>\n",
       "    <tr>\n",
       "      <th>565</th>\n",
       "      <td>194.36</td>\n",
       "      <td>373.81</td>\n",
       "      <td>1388.16</td>\n",
       "      <td>18.43</td>\n",
       "      <td>373.81</td>\n",
       "      <td>114.36</td>\n",
       "      <td>514.56</td>\n",
       "      <td>58.71</td>\n",
       "      <td>2.97</td>\n",
       "      <td>6.78</td>\n",
       "      <td>...</td>\n",
       "      <td>113.56</td>\n",
       "      <td>152.28</td>\n",
       "      <td>95.34</td>\n",
       "      <td>70.51</td>\n",
       "      <td>279.14</td>\n",
       "      <td>202.66</td>\n",
       "      <td>11.73</td>\n",
       "      <td>1208.34</td>\n",
       "      <td>743.43</td>\n",
       "      <td>3</td>\n",
       "    </tr>\n",
       "    <tr>\n",
       "      <th>566</th>\n",
       "      <td>204.07</td>\n",
       "      <td>281.09</td>\n",
       "      <td>1242.34</td>\n",
       "      <td>12.83</td>\n",
       "      <td>239.52</td>\n",
       "      <td>76.71</td>\n",
       "      <td>426.57</td>\n",
       "      <td>7.17</td>\n",
       "      <td>723.08</td>\n",
       "      <td>3.63</td>\n",
       "      <td>...</td>\n",
       "      <td>85.22</td>\n",
       "      <td>30.34</td>\n",
       "      <td>60.39</td>\n",
       "      <td>37.05</td>\n",
       "      <td>206.94</td>\n",
       "      <td>242.88</td>\n",
       "      <td>6.57</td>\n",
       "      <td>728.11</td>\n",
       "      <td>665.29</td>\n",
       "      <td>4</td>\n",
       "    </tr>\n",
       "    <tr>\n",
       "      <th>567</th>\n",
       "      <td>229.72</td>\n",
       "      <td>353.59</td>\n",
       "      <td>1639.59</td>\n",
       "      <td>9.41</td>\n",
       "      <td>547.75</td>\n",
       "      <td>65.26</td>\n",
       "      <td>420.68</td>\n",
       "      <td>30.34</td>\n",
       "      <td>163.28</td>\n",
       "      <td>2.51</td>\n",
       "      <td>...</td>\n",
       "      <td>24.81</td>\n",
       "      <td>21.94</td>\n",
       "      <td>127.89</td>\n",
       "      <td>84.04</td>\n",
       "      <td>209.84</td>\n",
       "      <td>137.14</td>\n",
       "      <td>12.00</td>\n",
       "      <td>1159.07</td>\n",
       "      <td>616.37</td>\n",
       "      <td>6</td>\n",
       "    </tr>\n",
       "    <tr>\n",
       "      <th>568</th>\n",
       "      <td>366.09</td>\n",
       "      <td>493.56</td>\n",
       "      <td>679.29</td>\n",
       "      <td>60.39</td>\n",
       "      <td>376.41</td>\n",
       "      <td>470.14</td>\n",
       "      <td>884.29</td>\n",
       "      <td>53.95</td>\n",
       "      <td>157.68</td>\n",
       "      <td>2.41</td>\n",
       "      <td>...</td>\n",
       "      <td>21.47</td>\n",
       "      <td>88.26</td>\n",
       "      <td>143.01</td>\n",
       "      <td>33.54</td>\n",
       "      <td>303.44</td>\n",
       "      <td>318.57</td>\n",
       "      <td>3.17</td>\n",
       "      <td>1794.29</td>\n",
       "      <td>647.07</td>\n",
       "      <td>3</td>\n",
       "    </tr>\n",
       "    <tr>\n",
       "      <th>569</th>\n",
       "      <td>351.14</td>\n",
       "      <td>480.04</td>\n",
       "      <td>420.68</td>\n",
       "      <td>647.07</td>\n",
       "      <td>514.56</td>\n",
       "      <td>397.93</td>\n",
       "      <td>1313.23</td>\n",
       "      <td>131.51</td>\n",
       "      <td>16.75</td>\n",
       "      <td>26.86</td>\n",
       "      <td>...</td>\n",
       "      <td>55.49</td>\n",
       "      <td>31.22</td>\n",
       "      <td>454.09</td>\n",
       "      <td>6.62</td>\n",
       "      <td>283.05</td>\n",
       "      <td>417.77</td>\n",
       "      <td>25.54</td>\n",
       "      <td>1477.58</td>\n",
       "      <td>638.15</td>\n",
       "      <td>0</td>\n",
       "    </tr>\n",
       "    <tr>\n",
       "      <th>570</th>\n",
       "      <td>195.72</td>\n",
       "      <td>387.02</td>\n",
       "      <td>884.29</td>\n",
       "      <td>66.18</td>\n",
       "      <td>183.82</td>\n",
       "      <td>301.33</td>\n",
       "      <td>665.29</td>\n",
       "      <td>2061.24</td>\n",
       "      <td>8.99</td>\n",
       "      <td>0.57</td>\n",
       "      <td>...</td>\n",
       "      <td>14.14</td>\n",
       "      <td>66.65</td>\n",
       "      <td>64.80</td>\n",
       "      <td>28.04</td>\n",
       "      <td>305.55</td>\n",
       "      <td>50.98</td>\n",
       "      <td>5.02</td>\n",
       "      <td>1519.15</td>\n",
       "      <td>708.18</td>\n",
       "      <td>1</td>\n",
       "    </tr>\n",
       "    <tr>\n",
       "      <th>571</th>\n",
       "      <td>159.90</td>\n",
       "      <td>316.37</td>\n",
       "      <td>1721.16</td>\n",
       "      <td>11.47</td>\n",
       "      <td>115.97</td>\n",
       "      <td>155.50</td>\n",
       "      <td>723.08</td>\n",
       "      <td>150.17</td>\n",
       "      <td>17.64</td>\n",
       "      <td>0.00</td>\n",
       "      <td>...</td>\n",
       "      <td>4.58</td>\n",
       "      <td>521.76</td>\n",
       "      <td>71.00</td>\n",
       "      <td>80.01</td>\n",
       "      <td>426.57</td>\n",
       "      <td>182.55</td>\n",
       "      <td>0.00</td>\n",
       "      <td>633.73</td>\n",
       "      <td>620.67</td>\n",
       "      <td>6</td>\n",
       "    </tr>\n",
       "    <tr>\n",
       "      <th>572</th>\n",
       "      <td>234.57</td>\n",
       "      <td>743.43</td>\n",
       "      <td>947.83</td>\n",
       "      <td>91.41</td>\n",
       "      <td>332.14</td>\n",
       "      <td>414.87</td>\n",
       "      <td>693.58</td>\n",
       "      <td>20.26</td>\n",
       "      <td>4.70</td>\n",
       "      <td>6.31</td>\n",
       "      <td>...</td>\n",
       "      <td>32.82</td>\n",
       "      <td>285.03</td>\n",
       "      <td>70.51</td>\n",
       "      <td>177.53</td>\n",
       "      <td>232.94</td>\n",
       "      <td>197.09</td>\n",
       "      <td>0.00</td>\n",
       "      <td>1561.89</td>\n",
       "      <td>728.11</td>\n",
       "      <td>3</td>\n",
       "    </tr>\n",
       "    <tr>\n",
       "      <th>573</th>\n",
       "      <td>237.86</td>\n",
       "      <td>507.46</td>\n",
       "      <td>1583.71</td>\n",
       "      <td>19.11</td>\n",
       "      <td>341.51</td>\n",
       "      <td>234.57</td>\n",
       "      <td>753.83</td>\n",
       "      <td>27.84</td>\n",
       "      <td>117.60</td>\n",
       "      <td>1.19</td>\n",
       "      <td>...</td>\n",
       "      <td>67.12</td>\n",
       "      <td>120.94</td>\n",
       "      <td>109.66</td>\n",
       "      <td>82.29</td>\n",
       "      <td>267.73</td>\n",
       "      <td>218.79</td>\n",
       "      <td>9.56</td>\n",
       "      <td>1709.26</td>\n",
       "      <td>616.37</td>\n",
       "      <td>4</td>\n",
       "    </tr>\n",
       "    <tr>\n",
       "      <th>574</th>\n",
       "      <td>279.14</td>\n",
       "      <td>476.71</td>\n",
       "      <td>878.17</td>\n",
       "      <td>24.63</td>\n",
       "      <td>223.41</td>\n",
       "      <td>426.57</td>\n",
       "      <td>669.92</td>\n",
       "      <td>35.50</td>\n",
       "      <td>6.16</td>\n",
       "      <td>9.27</td>\n",
       "      <td>...</td>\n",
       "      <td>56.28</td>\n",
       "      <td>132.44</td>\n",
       "      <td>81.71</td>\n",
       "      <td>62.56</td>\n",
       "      <td>287.01</td>\n",
       "      <td>258.57</td>\n",
       "      <td>2.51</td>\n",
       "      <td>1417.35</td>\n",
       "      <td>808.00</td>\n",
       "      <td>3</td>\n",
       "    </tr>\n",
       "    <tr>\n",
       "      <th>575</th>\n",
       "      <td>199.85</td>\n",
       "      <td>420.68</td>\n",
       "      <td>1199.98</td>\n",
       "      <td>9.20</td>\n",
       "      <td>476.71</td>\n",
       "      <td>277.20</td>\n",
       "      <td>629.35</td>\n",
       "      <td>39.79</td>\n",
       "      <td>12.27</td>\n",
       "      <td>0.85</td>\n",
       "      <td>...</td>\n",
       "      <td>23.25</td>\n",
       "      <td>96.68</td>\n",
       "      <td>135.24</td>\n",
       "      <td>36.79</td>\n",
       "      <td>183.82</td>\n",
       "      <td>208.38</td>\n",
       "      <td>5.28</td>\n",
       "      <td>1721.16</td>\n",
       "      <td>743.43</td>\n",
       "      <td>1</td>\n",
       "    </tr>\n",
       "    <tr>\n",
       "      <th>576</th>\n",
       "      <td>244.57</td>\n",
       "      <td>450.94</td>\n",
       "      <td>830.75</td>\n",
       "      <td>43.02</td>\n",
       "      <td>190.34</td>\n",
       "      <td>248.00</td>\n",
       "      <td>890.44</td>\n",
       "      <td>2303.12</td>\n",
       "      <td>12.64</td>\n",
       "      <td>2.58</td>\n",
       "      <td>...</td>\n",
       "      <td>27.44</td>\n",
       "      <td>114.36</td>\n",
       "      <td>91.41</td>\n",
       "      <td>100.83</td>\n",
       "      <td>412.00</td>\n",
       "      <td>97.36</td>\n",
       "      <td>11.73</td>\n",
       "      <td>1594.73</td>\n",
       "      <td>780.44</td>\n",
       "      <td>1</td>\n",
       "    </tr>\n",
       "    <tr>\n",
       "      <th>577</th>\n",
       "      <td>246.28</td>\n",
       "      <td>387.02</td>\n",
       "      <td>1008.90</td>\n",
       "      <td>17.00</td>\n",
       "      <td>201.25</td>\n",
       "      <td>432.53</td>\n",
       "      <td>830.75</td>\n",
       "      <td>2240.11</td>\n",
       "      <td>22.92</td>\n",
       "      <td>13.72</td>\n",
       "      <td>...</td>\n",
       "      <td>21.32</td>\n",
       "      <td>82.29</td>\n",
       "      <td>92.70</td>\n",
       "      <td>30.34</td>\n",
       "      <td>412.00</td>\n",
       "      <td>78.34</td>\n",
       "      <td>3.50</td>\n",
       "      <td>1857.60</td>\n",
       "      <td>743.43</td>\n",
       "      <td>1</td>\n",
       "    </tr>\n",
       "    <tr>\n",
       "      <th>578</th>\n",
       "      <td>368.65</td>\n",
       "      <td>591.22</td>\n",
       "      <td>934.76</td>\n",
       "      <td>98.73</td>\n",
       "      <td>363.56</td>\n",
       "      <td>395.18</td>\n",
       "      <td>1073.91</td>\n",
       "      <td>94.01</td>\n",
       "      <td>92.70</td>\n",
       "      <td>1.31</td>\n",
       "      <td>...</td>\n",
       "      <td>38.12</td>\n",
       "      <td>119.26</td>\n",
       "      <td>134.30</td>\n",
       "      <td>53.57</td>\n",
       "      <td>432.53</td>\n",
       "      <td>228.13</td>\n",
       "      <td>8.71</td>\n",
       "      <td>2434.50</td>\n",
       "      <td>591.22</td>\n",
       "      <td>0</td>\n",
       "    </tr>\n",
       "    <tr>\n",
       "      <th>579</th>\n",
       "      <td>189.02</td>\n",
       "      <td>412.00</td>\n",
       "      <td>1674.06</td>\n",
       "      <td>14.24</td>\n",
       "      <td>239.52</td>\n",
       "      <td>87.65</td>\n",
       "      <td>476.71</td>\n",
       "      <td>9.48</td>\n",
       "      <td>514.56</td>\n",
       "      <td>0.39</td>\n",
       "      <td>...</td>\n",
       "      <td>38.12</td>\n",
       "      <td>43.94</td>\n",
       "      <td>121.79</td>\n",
       "      <td>79.45</td>\n",
       "      <td>255.00</td>\n",
       "      <td>251.48</td>\n",
       "      <td>3.72</td>\n",
       "      <td>532.74</td>\n",
       "      <td>743.43</td>\n",
       "      <td>6</td>\n",
       "    </tr>\n",
       "  </tbody>\n",
       "</table>\n",
       "<p>580 rows × 19047 columns</p>\n",
       "</div>"
      ],
      "text/plain": [
       "GeneID  CUL5-8065  REV1-51455  ZNF428-126299  CX3CR1-1524  FAXC-84553  \\\n",
       "0          142.01      521.76        1369.04        18.70      140.04   \n",
       "1          271.48      525.39         825.00       137.14      201.25   \n",
       "2          242.88      620.67        1697.45         3.92      204.07   \n",
       "3          215.77      381.68        1295.13        51.71      403.50   \n",
       "4          237.86      836.53        1457.23        41.52      262.20   \n",
       "5          279.14      435.55        1066.48        57.49      575.03   \n",
       "6          246.28      660.68        1508.65        35.76      221.86   \n",
       "7          258.57      825.00        1304.15        20.71      223.41   \n",
       "8          305.55      543.96        1159.07        60.39      220.32   \n",
       "9          212.78      647.07        1111.82        33.30      201.25   \n",
       "10         323.03      595.34        1051.79        97.36      251.48   \n",
       "11         191.67      679.29        1498.22        45.21      223.41   \n",
       "12         387.02      825.00        1191.69        58.71      246.28   \n",
       "13         237.86      500.46         813.63       154.42      149.12   \n",
       "14         244.57      633.73        1081.39        23.08      228.13   \n",
       "15         307.69      503.95        1008.90        85.82      239.52   \n",
       "16         236.21      638.15        1331.57        57.49      277.20   \n",
       "17         193.01      463.65        1427.22       145.02      351.14   \n",
       "18         232.94      500.46        1088.92         3.20      253.23   \n",
       "19         244.57      620.67        1104.13        40.36      204.07   \n",
       "20         353.59      551.56         884.29        36.53      269.60   \n",
       "21         346.29      521.76        1487.87       101.54      351.14   \n",
       "22         353.59      409.15         896.64        24.63      189.02   \n",
       "23         220.32      454.09         934.76        82.29      309.83   \n",
       "24         312.00      616.37        1037.29        65.26      147.06   \n",
       "25         177.53      381.68         967.76        13.22      536.45   \n",
       "26         177.53      525.39        1745.20        30.12      323.03   \n",
       "27         218.79      607.87         954.43        14.24      262.20   \n",
       "28         223.41      412.00        1487.87        12.36      332.14   \n",
       "29         275.28      587.13        1191.69       108.14      808.00   \n",
       "..            ...         ...            ...          ...         ...   \n",
       "550        134.30      299.25        1561.89        27.25      271.48   \n",
       "551        193.01      450.94         941.27        57.89      371.22   \n",
       "552        571.05      555.41        1313.23         6.89      307.69   \n",
       "553        211.31      679.29        1059.11        13.72      265.87   \n",
       "554        209.84      872.10         412.00        16.63      178.77   \n",
       "555        178.77      353.59        1651.00        17.25      348.71   \n",
       "556        232.94      651.58        1407.55        66.18      183.82   \n",
       "557        186.40      258.57        1030.12        23.25      249.73   \n",
       "558        305.55      476.71         890.44        11.04      307.69   \n",
       "559        162.14      403.50        1977.24        10.31      131.51   \n",
       "560        224.97      656.11        1008.90        14.89      182.55   \n",
       "561        191.67      435.55        1437.15        11.55      136.19   \n",
       "562        283.05      353.59         836.53        23.59      323.03   \n",
       "563        273.37      454.09        1250.98         9.56      211.31   \n",
       "564        264.03      738.29        1159.07        73.03      239.52   \n",
       "565        194.36      373.81        1388.16        18.43      373.81   \n",
       "566        204.07      281.09        1242.34        12.83      239.52   \n",
       "567        229.72      353.59        1639.59         9.41      547.75   \n",
       "568        366.09      493.56         679.29        60.39      376.41   \n",
       "569        351.14      480.04         420.68       647.07      514.56   \n",
       "570        195.72      387.02         884.29        66.18      183.82   \n",
       "571        159.90      316.37        1721.16        11.47      115.97   \n",
       "572        234.57      743.43         947.83        91.41      332.14   \n",
       "573        237.86      507.46        1583.71        19.11      341.51   \n",
       "574        279.14      476.71         878.17        24.63      223.41   \n",
       "575        199.85      420.68        1199.98         9.20      476.71   \n",
       "576        244.57      450.94         830.75        43.02      190.34   \n",
       "577        246.28      387.02        1008.90        17.00      201.25   \n",
       "578        368.65      591.22         934.76        98.73      363.56   \n",
       "579        189.02      412.00        1674.06        14.24      239.52   \n",
       "\n",
       "GeneID  PKP2-5318  BNIP2-663  HOXB7-3217  GRIN3A-116443  FCRL5-83416   ...    \\\n",
       "0           77.25     551.56      231.32          82.87         1.13   ...     \n",
       "1          361.04     620.67       25.35          10.08        16.03   ...     \n",
       "2          164.42     647.07       22.26           6.36         2.25   ...     \n",
       "3          435.55     483.38       43.63           5.77        11.55   ...     \n",
       "4          334.46    1015.93       80.01          82.29         1.93   ...     \n",
       "5          713.11     825.00      140.04          15.34         0.87   ...     \n",
       "6          162.14     860.08       57.49           8.19         1.57   ...     \n",
       "7          329.84    1167.14       18.16          50.63         5.82   ...     \n",
       "8          368.65    1199.98       58.71           9.85         5.77   ...     \n",
       "9          212.78     599.49       25.35          12.74        14.45   ...     \n",
       "10         316.37    1388.16       64.34           6.57         6.11   ...     \n",
       "11         285.03     718.08       48.52          13.22        16.39   ...     \n",
       "12          69.03    1008.90        3.56          22.26         1.08   ...     \n",
       "13         264.03     723.08      187.71         201.25         4.39   ...     \n",
       "14         234.57     723.08        8.06           3.29         1.20   ...     \n",
       "15         239.52     674.59      107.38          28.86         9.70   ...     \n",
       "16         285.03     866.07      101.54          45.21         8.71   ...     \n",
       "17         223.41     693.58       35.00           1.53        12.74   ...     \n",
       "18         197.09     525.39       15.34           2.68         0.41   ...     \n",
       "19         368.65    1088.92      144.01          75.64         0.62   ...     \n",
       "20         231.32     743.43       13.12          69.52         1.99   ...     \n",
       "21         305.55     612.11       95.34          18.03        12.36   ...     \n",
       "22         329.84     579.04       12.09           6.01         1.22   ...     \n",
       "23         400.71     878.17       24.81         178.77         2.46   ...     \n",
       "24         285.03     612.11       83.45          13.22         5.32   ...     \n",
       "25         255.00     753.83       57.49           2.48         1.75   ...     \n",
       "26         229.72     723.08       57.08          44.57         6.46   ...     \n",
       "27         358.54     860.08       11.82          28.04         0.00   ...     \n",
       "28         239.52     543.96       16.39           3.53         0.43   ...     \n",
       "29         149.12    1135.20      103.69          11.04         4.90   ...     \n",
       "..            ...        ...         ...            ...          ...   ...     \n",
       "550        120.10     454.09       72.01          22.26         4.06   ...     \n",
       "551        267.73     536.45       41.52          33.30        18.97   ...     \n",
       "552        202.66     429.54       21.78         116.78         1.19   ...     \n",
       "553        234.57     890.44       26.67         141.02         0.45   ...     \n",
       "554        273.37    1369.04       48.52          19.53         6.62   ...     \n",
       "555        255.00     579.04       28.65          16.27         1.64   ...     \n",
       "556        218.79     587.13      117.60           1.51        92.05   ...     \n",
       "557        229.72     312.00       16.51          17.90         6.52   ...     \n",
       "558        395.18     660.68       41.81           2.58         0.44   ...     \n",
       "559         77.25     312.00       23.93           3.20         0.80   ...     \n",
       "560        339.14     947.83       22.26           1.48        14.78   ...     \n",
       "561        208.38     693.58       30.12          68.55         0.78   ...     \n",
       "562        180.02     647.07       23.42           4.17         3.69   ...     \n",
       "563        215.77     514.56       23.59          36.01         0.00   ...     \n",
       "564        307.69     872.10       31.67           3.50        38.40   ...     \n",
       "565        114.36     514.56       58.71           2.97         6.78   ...     \n",
       "566         76.71     426.57        7.17         723.08         3.63   ...     \n",
       "567         65.26     420.68       30.34         163.28         2.51   ...     \n",
       "568        470.14     884.29       53.95         157.68         2.41   ...     \n",
       "569        397.93    1313.23      131.51          16.75        26.86   ...     \n",
       "570        301.33     665.29     2061.24           8.99         0.57   ...     \n",
       "571        155.50     723.08      150.17          17.64         0.00   ...     \n",
       "572        414.87     693.58       20.26           4.70         6.31   ...     \n",
       "573        234.57     753.83       27.84         117.60         1.19   ...     \n",
       "574        426.57     669.92       35.50           6.16         9.27   ...     \n",
       "575        277.20     629.35       39.79          12.27         0.85   ...     \n",
       "576        248.00     890.44     2303.12          12.64         2.58   ...     \n",
       "577        432.53     830.75     2240.11          22.92        13.72   ...     \n",
       "578        395.18    1073.91       94.01          92.70         1.31   ...     \n",
       "579         87.65     476.71        9.48         514.56         0.39   ...     \n",
       "\n",
       "GeneID  GATA6-2627  COL28A1-340267  PDK3-5165  MC1R-4157  IFT74-80173  \\\n",
       "0            31.90          178.77      33.54     220.32       283.05   \n",
       "1            26.86          110.43     115.16      41.81       220.32   \n",
       "2            21.63          438.59      42.11     187.71       262.20   \n",
       "3            27.05           48.52      88.88      63.45       269.60   \n",
       "4            45.21           70.51     109.66     170.25       329.84   \n",
       "5            35.50          193.01     161.02      12.45       158.79   \n",
       "6            74.06          194.36      61.25     195.72       232.94   \n",
       "7            28.86           88.88      60.39      52.45       323.03   \n",
       "8            48.52           15.80      70.51      63.45       329.84   \n",
       "9            46.84          144.01     100.83     100.13       255.00   \n",
       "10          320.80           26.67     176.29      54.33       325.29   \n",
       "11          146.03          525.39      82.87     114.36       251.48   \n",
       "12           60.82          131.51     111.99      98.04       293.07   \n",
       "13          101.54          119.26     138.10     128.79       285.03   \n",
       "14          100.13          395.18      47.17     122.64       182.55   \n",
       "15           47.17           38.12     136.19      44.89       255.00   \n",
       "16           69.03          144.01      67.12      96.68       325.29   \n",
       "17          277.20           19.97      96.01      19.53       289.02   \n",
       "18            8.38          253.23      18.70     137.14       285.03   \n",
       "19           59.55           74.06     111.99      47.50       291.04   \n",
       "20           76.17           48.18     146.03      46.84       175.07   \n",
       "21           41.22          251.48      77.79      71.00       318.57   \n",
       "22           67.59          136.19      65.26      30.12       305.55   \n",
       "23           29.70           36.53     193.01      43.63       289.02   \n",
       "24           37.32           14.24      95.34     111.99       361.04   \n",
       "25          159.90          109.66     291.04      49.56       241.19   \n",
       "26           72.01          209.84     113.56     194.36       201.25   \n",
       "27           26.67          113.56      72.01     133.36       199.85   \n",
       "28           61.25          291.04      37.59      68.07       299.25   \n",
       "29          229.72          148.09      87.03      49.91       323.03   \n",
       "..             ...             ...        ...        ...          ...   \n",
       "550         231.32          182.55      57.89      50.63       147.06   \n",
       "551          45.21          102.25     154.42      80.01       325.29   \n",
       "552          21.32           37.59      59.55     119.26       239.52   \n",
       "553          35.50           40.93      98.73      71.50       299.25   \n",
       "554          40.36          204.07     185.11      76.17       389.72   \n",
       "555          50.98           61.25      93.35      58.71       171.45   \n",
       "556         152.28           25.35      94.67     115.16       323.03   \n",
       "557          24.99           11.38      90.77      16.63       229.72   \n",
       "558          61.68          186.40      55.10      37.59       287.01   \n",
       "559          38.67          206.94      50.98      84.63       217.27   \n",
       "560          57.08          165.57      80.01     137.14       201.25   \n",
       "561          42.11          186.40      37.85     158.79       299.25   \n",
       "562          89.51           58.71      68.55      14.56       341.51   \n",
       "563          61.25           79.45      69.03     100.83       228.13   \n",
       "564          67.12           82.29     137.14     180.02       273.37   \n",
       "565         113.56          152.28      95.34      70.51       279.14   \n",
       "566          85.22           30.34      60.39      37.05       206.94   \n",
       "567          24.81           21.94     127.89      84.04       209.84   \n",
       "568          21.47           88.26     143.01      33.54       303.44   \n",
       "569          55.49           31.22     454.09       6.62       283.05   \n",
       "570          14.14           66.65      64.80      28.04       305.55   \n",
       "571           4.58          521.76      71.00      80.01       426.57   \n",
       "572          32.82          285.03      70.51     177.53       232.94   \n",
       "573          67.12          120.94     109.66      82.29       267.73   \n",
       "574          56.28          132.44      81.71      62.56       287.01   \n",
       "575          23.25           96.68     135.24      36.79       183.82   \n",
       "576          27.44          114.36      91.41     100.83       412.00   \n",
       "577          21.32           82.29      92.70      30.34       412.00   \n",
       "578          38.12          119.26     134.30      53.57       432.53   \n",
       "579          38.12           43.94     121.79      79.45       255.00   \n",
       "\n",
       "GeneID  CDK14-5218  RP11-762I7.5-0  GSR-2936  UBQLN4-56893  Target  \n",
       "0            83.45            3.47    819.30        518.15       4  \n",
       "1           275.28            1.81   1605.83        878.17       3  \n",
       "2           119.26           18.56   1191.69        748.61       3  \n",
       "3           236.21            7.75   1617.00        813.63       3  \n",
       "4           204.07           15.91    718.08        723.08       6  \n",
       "5           255.00            9.93   2178.83        616.37       0  \n",
       "6           125.24            2.39   1104.13        624.99       6  \n",
       "7           189.02            8.85   1467.37        854.13       0  \n",
       "8           125.24            3.63   2591.27        785.88       0  \n",
       "9           161.02           10.47   1651.00        802.41       2  \n",
       "10          353.59            4.98   1331.57        647.07       1  \n",
       "11          173.85           11.13   1628.26        708.18       6  \n",
       "12          228.13            9.27    426.57        796.86       6  \n",
       "13          348.71            8.99   1605.83        791.35       4  \n",
       "14          186.40            5.77   1378.57        660.68       3  \n",
       "15          323.03           15.34   1628.26        656.11       1  \n",
       "16          194.36           21.78   1457.23        583.07       5  \n",
       "17          309.83            0.00   1883.54        579.04       0  \n",
       "18           86.43            0.00   1594.73        414.87       5  \n",
       "19          170.25           25.72   1697.45        555.41       0  \n",
       "20          242.88            2.78   1030.12        642.59       3  \n",
       "21          176.29            6.36   1870.53        775.05       0  \n",
       "22          246.28            0.82   2148.82        854.13       4  \n",
       "23          214.27           12.36   2573.36        728.11       0  \n",
       "24          164.42           12.93   1572.76        836.53       5  \n",
       "25          251.48            0.00   1295.13        450.94       0  \n",
       "26          166.73            0.00   1023.00        698.41       4  \n",
       "27          171.45            0.78   1119.56        642.59       3  \n",
       "28          146.03            8.85   1662.49        769.69       3  \n",
       "29          224.97            5.87    947.83        591.22       1  \n",
       "..             ...             ...       ...           ...     ...  \n",
       "550         162.14           10.88    830.75        830.75       6  \n",
       "551         309.83            1.87   2335.28        854.13       3  \n",
       "552          85.82           20.26   1594.73       1594.73       6  \n",
       "553         189.02            3.82   1088.92        583.07       5  \n",
       "554         435.55            2.76   1001.93        743.43       6  \n",
       "555         204.07            3.89   1697.45        679.29       3  \n",
       "556         297.17            5.36   1104.13        813.63       0  \n",
       "557         164.42            9.27   1111.82        854.13       2  \n",
       "558         177.53            2.73   1378.57        693.58       3  \n",
       "559          90.14            6.89   1111.82        703.28       4  \n",
       "560         145.02            6.94   1127.35        684.02       6  \n",
       "561         132.44           11.30   1135.20        693.58       6  \n",
       "562         265.87            4.66   1605.83        633.73       2  \n",
       "563         153.34           22.10    896.64        836.53       4  \n",
       "564         193.01            9.78   1467.37        890.44       3  \n",
       "565         202.66           11.73   1208.34        743.43       3  \n",
       "566         242.88            6.57    728.11        665.29       4  \n",
       "567         137.14           12.00   1159.07        616.37       6  \n",
       "568         318.57            3.17   1794.29        647.07       3  \n",
       "569         417.77           25.54   1477.58        638.15       0  \n",
       "570          50.98            5.02   1519.15        708.18       1  \n",
       "571         182.55            0.00    633.73        620.67       6  \n",
       "572         197.09            0.00   1561.89        728.11       3  \n",
       "573         218.79            9.56   1709.26        616.37       4  \n",
       "574         258.57            2.51   1417.35        808.00       3  \n",
       "575         208.38            5.28   1721.16        743.43       1  \n",
       "576          97.36           11.73   1594.73        780.44       1  \n",
       "577          78.34            3.50   1857.60        743.43       1  \n",
       "578         228.13            8.71   2434.50        591.22       0  \n",
       "579         251.48            3.72    532.74        743.43       6  \n",
       "\n",
       "[580 rows x 19047 columns]"
      ]
     },
     "execution_count": 270,
     "metadata": {},
     "output_type": "execute_result"
    }
   ],
   "source": [
    "data"
   ]
  },
  {
   "cell_type": "code",
   "execution_count": 240,
   "metadata": {},
   "outputs": [],
   "source": [
    "# This is from when groups were used at the start\n",
    "#data.to_pickle(\"../Data/ProstateGroups.pkl\")"
   ]
  },
  {
   "cell_type": "markdown",
   "metadata": {},
   "source": [
    "## MI"
   ]
  },
  {
   "cell_type": "code",
   "execution_count": 19,
   "metadata": {},
   "outputs": [],
   "source": [
    "Prostate = data.copy(deep=True)\n",
    "Prostate.drop('Target',axis=1, inplace=True)\n",
    "Target = data['Target']"
   ]
  },
  {
   "cell_type": "code",
   "execution_count": 20,
   "metadata": {},
   "outputs": [],
   "source": [
    "mic = mutual_info_classif(Prostate,Target)"
   ]
  },
  {
   "cell_type": "code",
   "execution_count": 21,
   "metadata": {},
   "outputs": [],
   "source": [
    "summary = pd.DataFrame({\"MutualInfo\":mic,\n",
    "                       'GeneID':Prostate.columns})"
   ]
  },
  {
   "cell_type": "code",
   "execution_count": 22,
   "metadata": {},
   "outputs": [],
   "source": [
    "summary.to_pickle(\"../Data/MI_Grades_NoTCGAH_NoSplit.pkl\")"
   ]
  },
  {
   "cell_type": "code",
   "execution_count": 23,
   "metadata": {},
   "outputs": [],
   "source": [
    "summary = pd.read_pickle(\"../Data/MI_Grades_NoTCGAH_NoSplit.pkl\")"
   ]
  },
  {
   "cell_type": "code",
   "execution_count": 271,
   "metadata": {},
   "outputs": [],
   "source": [
    "#This has TCGA Healthy in it\n",
    "summary = pd.read_pickle(\"../Data/MI_Grades_HealthySplit_NoSplit.pkl\")"
   ]
  },
  {
   "cell_type": "code",
   "execution_count": 202,
   "metadata": {},
   "outputs": [],
   "source": [
    "#This is when MI was based on groups\n",
    "summary = pd.read_pickle(\"../Data/MI_Groups_NoSplit.pkl\")"
   ]
  },
  {
   "cell_type": "code",
   "execution_count": 272,
   "metadata": {},
   "outputs": [],
   "source": [
    "top_nosplit = np.hstack([summary.sort_values('MutualInfo',ascending=False).head(500)[\"GeneID\"].values,['Target']])"
   ]
  },
  {
   "cell_type": "code",
   "execution_count": 273,
   "metadata": {},
   "outputs": [],
   "source": [
    "data = data[top_nosplit]"
   ]
  },
  {
   "cell_type": "code",
   "execution_count": 169,
   "metadata": {},
   "outputs": [],
   "source": [
    "AllTestPCA = PCA(n_components=580,random_state=42)"
   ]
  },
  {
   "cell_type": "code",
   "execution_count": 295,
   "metadata": {},
   "outputs": [],
   "source": [
    "AllPCAresult = AllTestPCA.fit(Prostate)"
   ]
  },
  {
   "cell_type": "code",
   "execution_count": 296,
   "metadata": {},
   "outputs": [],
   "source": [
    "variance = np.cumsum(AllPCAresult.explained_variance_ratio_)"
   ]
  },
  {
   "cell_type": "code",
   "execution_count": 297,
   "metadata": {},
   "outputs": [],
   "source": [
    "variance = np.insert(variance, 0, 0)"
   ]
  },
  {
   "cell_type": "code",
   "execution_count": 301,
   "metadata": {},
   "outputs": [
    {
     "data": {
      "text/plain": [
       "<matplotlib.legend.Legend at 0x1a0be47dd8>"
      ]
     },
     "execution_count": 301,
     "metadata": {},
     "output_type": "execute_result"
    },
    {
     "data": {
      "image/png": "[encoded data removed]",
      "text/plain": [
       "<matplotlib.figure.Figure at 0x1a0b15fbe0>"
      ]
     },
     "metadata": {
      "needs_background": "light"
     },
     "output_type": "display_data"
    }
   ],
   "source": [
    "#With TCGA Healthy\n",
    "fig,ax = plt.subplots(figsize=(8,3))\n",
    "ax.set_ylim([0,1.05])\n",
    "plt.plot(variance, color='darkorange',\n",
    "         lw=2, label='Explained Variance')\n",
    "plt.xlabel('Number of Components')\n",
    "plt.axvline(x=(50),c='navy', label=\"Original Threshold\", lw=2)\n",
    "plt.axvline(x=(20),c='cornflowerblue', label=\"Final Threshold\", lw=2)\n",
    "plt.ylabel('Cumulative Explained Variance');\n",
    "plt.legend()"
   ]
  },
  {
   "cell_type": "code",
   "execution_count": 274,
   "metadata": {},
   "outputs": [],
   "source": [
    "dataReduced1 = PCA(n_components=50).fit_transform(data.drop(\"Target\",axis=1))\n",
    "dataReduced2 = TSNE(n_components=1).fit_transform(dataReduced1)"
   ]
  },
  {
   "cell_type": "code",
   "execution_count": 275,
   "metadata": {},
   "outputs": [],
   "source": [
    "Target = data['Target']"
   ]
  },
  {
   "cell_type": "code",
   "execution_count": 276,
   "metadata": {},
   "outputs": [],
   "source": [
    "dataReduced2 = pd.DataFrame(dataReduced2)"
   ]
  },
  {
   "cell_type": "code",
   "execution_count": 277,
   "metadata": {},
   "outputs": [],
   "source": [
    "dataReduced2['Target'] = Target"
   ]
  },
  {
   "cell_type": "code",
   "execution_count": 134,
   "metadata": {},
   "outputs": [],
   "source": [
    "G0Reduced2 = dataReduced2[dataReduced2['Target'] == 0]\n",
    "G1Reduced2 = dataReduced2[dataReduced2['Target'] == 1]\n",
    "One = dataReduced2[dataReduced2['Target'] == 2]\n",
    "Two = dataReduced2[dataReduced2['Target'] == 3]\n",
    "G3Reduced2 = dataReduced2[dataReduced2['Target'] == 4]\n",
    "Four = dataReduced2[dataReduced2['Target'] == 5]\n",
    "Five = dataReduced2[dataReduced2['Target'] == 6]\n",
    "G2Reduced2 = One.append(Two)\n",
    "G4Reduced2 = Four.append(Five)\n",
    "Healthy = G0Reduced2.append(G1Reduced2)\n",
    "Cancerous = G2Reduced2.append(G3Reduced2.append(G4Reduced2))\n",
    "ThreeFourFive = G3Reduced2.append(G4Reduced2)\n",
    "OneTwoThree = G2Reduced2.append(G3Reduced2)"
   ]
  },
  {
   "cell_type": "code",
   "execution_count": 135,
   "metadata": {},
   "outputs": [],
   "source": [
    "G0Reduced2.reset_index(inplace=True, drop=True)\n",
    "G1Reduced2.reset_index(inplace=True, drop=True)\n",
    "G2Reduced2.reset_index(inplace=True, drop=True)\n",
    "G3Reduced2.reset_index(inplace=True, drop=True)\n",
    "G4Reduced2.reset_index(inplace=True, drop=True)\n",
    "Healthy.reset_index(inplace=True, drop=True)\n",
    "Cancerous.reset_index(inplace=True, drop=True)\n",
    "OneTwoThree.reset_index(inplace=True, drop=True)\n",
    "ThreeFourFive.reset_index(inplace=True, drop=True)\n",
    "One.reset_index(inplace=True, drop=True)\n",
    "Two.reset_index(inplace=True, drop=True)\n",
    "Four.reset_index(inplace=True, drop=True)\n",
    "Five.reset_index(inplace=True, drop=True)"
   ]
  },
  {
   "cell_type": "code",
   "execution_count": 136,
   "metadata": {},
   "outputs": [
    {
     "name": "stdout",
     "output_type": "stream",
     "text": [
      "0    106\n",
      "Name: Target, dtype: int64\n",
      "Series([], Name: Target, dtype: int64)\n",
      "3    122\n",
      "2     38\n",
      "Name: Target, dtype: int64\n",
      "4    79\n",
      "Name: Target, dtype: int64\n",
      "6    127\n",
      "5     60\n",
      "Name: Target, dtype: int64\n",
      "0    106\n",
      "Name: Target, dtype: int64\n",
      "6    127\n",
      "3    122\n",
      "4     79\n",
      "5     60\n",
      "2     38\n",
      "Name: Target, dtype: int64\n",
      "6    127\n",
      "4     79\n",
      "5     60\n",
      "Name: Target, dtype: int64\n",
      "3    122\n",
      "4     79\n",
      "2     38\n",
      "Name: Target, dtype: int64\n",
      "2    38\n",
      "Name: Target, dtype: int64\n",
      "3    122\n",
      "Name: Target, dtype: int64\n",
      "5    60\n",
      "Name: Target, dtype: int64\n",
      "6    127\n",
      "Name: Target, dtype: int64\n"
     ]
    }
   ],
   "source": [
    "print(G0Reduced2['Target'].value_counts())\n",
    "print(G1Reduced2['Target'].value_counts())\n",
    "print(G2Reduced2['Target'].value_counts())\n",
    "print(G3Reduced2['Target'].value_counts())\n",
    "print(G4Reduced2['Target'].value_counts())\n",
    "print(Healthy['Target'].value_counts())\n",
    "print(Cancerous['Target'].value_counts())\n",
    "print(ThreeFourFive['Target'].value_counts())\n",
    "print(OneTwoThree['Target'].value_counts())\n",
    "print(One['Target'].value_counts())\n",
    "print(Two['Target'].value_counts())\n",
    "print(Four['Target'].value_counts())\n",
    "print(Five['Target'].value_counts())"
   ]
  },
  {
   "cell_type": "code",
   "execution_count": 137,
   "metadata": {},
   "outputs": [
    {
     "name": "stderr",
     "output_type": "stream",
     "text": [
      "/Users/martincasey/anaconda3/lib/python3.6/site-packages/ipykernel_launcher.py:3: SettingWithCopyWarning: \n",
      "A value is trying to be set on a copy of a slice from a DataFrame\n",
      "\n",
      "See the caveats in the documentation: http://pandas.pydata.org/pandas-docs/stable/indexing.html#indexing-view-versus-copy\n",
      "  This is separate from the ipykernel package so we can avoid doing imports until\n",
      "/Users/martincasey/anaconda3/lib/python3.6/site-packages/ipykernel_launcher.py:4: SettingWithCopyWarning: \n",
      "A value is trying to be set on a copy of a slice from a DataFrame\n",
      "\n",
      "See the caveats in the documentation: http://pandas.pydata.org/pandas-docs/stable/indexing.html#indexing-view-versus-copy\n",
      "  after removing the cwd from sys.path.\n",
      "/Users/martincasey/anaconda3/lib/python3.6/site-packages/ipykernel_launcher.py:6: SettingWithCopyWarning: \n",
      "A value is trying to be set on a copy of a slice from a DataFrame\n",
      "\n",
      "See the caveats in the documentation: http://pandas.pydata.org/pandas-docs/stable/indexing.html#indexing-view-versus-copy\n",
      "  \n",
      "/Users/martincasey/anaconda3/lib/python3.6/site-packages/ipykernel_launcher.py:12: SettingWithCopyWarning: \n",
      "A value is trying to be set on a copy of a slice from a DataFrame\n",
      "\n",
      "See the caveats in the documentation: http://pandas.pydata.org/pandas-docs/stable/indexing.html#indexing-view-versus-copy\n",
      "  if sys.path[0] == '':\n",
      "/Users/martincasey/anaconda3/lib/python3.6/site-packages/ipykernel_launcher.py:13: SettingWithCopyWarning: \n",
      "A value is trying to be set on a copy of a slice from a DataFrame\n",
      "\n",
      "See the caveats in the documentation: http://pandas.pydata.org/pandas-docs/stable/indexing.html#indexing-view-versus-copy\n",
      "  del sys.path[0]\n",
      "/Users/martincasey/anaconda3/lib/python3.6/site-packages/ipykernel_launcher.py:14: SettingWithCopyWarning: \n",
      "A value is trying to be set on a copy of a slice from a DataFrame\n",
      "\n",
      "See the caveats in the documentation: http://pandas.pydata.org/pandas-docs/stable/indexing.html#indexing-view-versus-copy\n",
      "  \n",
      "/Users/martincasey/anaconda3/lib/python3.6/site-packages/ipykernel_launcher.py:15: SettingWithCopyWarning: \n",
      "A value is trying to be set on a copy of a slice from a DataFrame\n",
      "\n",
      "See the caveats in the documentation: http://pandas.pydata.org/pandas-docs/stable/indexing.html#indexing-view-versus-copy\n",
      "  from ipykernel import kernelapp as app\n"
     ]
    }
   ],
   "source": [
    "TargetG0Reduced2 = G0Reduced2['Target']\n",
    "TargetOne = One['Target']\n",
    "G0Reduced2.drop('Target', inplace = True, axis=1)\n",
    "G1Reduced2.drop('Target', inplace = True, axis=1)\n",
    "G2Reduced2.drop('Target', inplace = True, axis=1)\n",
    "G3Reduced2.drop('Target', inplace = True, axis=1)\n",
    "G4Reduced2.drop('Target', inplace = True, axis=1)\n",
    "Healthy.drop('Target', inplace = True, axis=1)\n",
    "Cancerous.drop('Target', inplace = True, axis=1)\n",
    "ThreeFourFive.drop('Target', inplace = True, axis=1)\n",
    "OneTwoThree.drop('Target', inplace = True, axis=1)\n",
    "One.drop('Target', inplace = True, axis=1)\n",
    "Two.drop('Target', inplace = True, axis=1)\n",
    "Four.drop('Target', inplace = True, axis=1)\n",
    "Five.drop('Target', inplace = True, axis=1)"
   ]
  },
  {
   "cell_type": "code",
   "execution_count": 138,
   "metadata": {},
   "outputs": [],
   "source": [
    "G0Reduced2 = G0Reduced2[0]\n",
    "G1Reduced2 = G1Reduced2[0]\n",
    "G2Reduced2 = G2Reduced2[0]\n",
    "G3Reduced2 = G3Reduced2[0]\n",
    "G4Reduced2 = G4Reduced2[0]\n",
    "Healthy = Healthy[0]\n",
    "Cancerous = Cancerous[0]\n",
    "ThreeFourFive = ThreeFourFive[0]\n",
    "OneTwoThree = OneTwoThree[0]\n",
    "One = One[0]\n",
    "Two = Two[0]\n",
    "Four = Four[0]\n",
    "Five = Five[0]"
   ]
  },
  {
   "cell_type": "code",
   "execution_count": 319,
   "metadata": {},
   "outputs": [],
   "source": [
    "#With TCGA Healthy\n",
    "exportData = dataReduced2.copy(deep=True)"
   ]
  },
  {
   "cell_type": "code",
   "execution_count": 320,
   "metadata": {},
   "outputs": [],
   "source": [
    "exportData['Grade'] = exportData['Target'].apply(lambda x: 0 if (x==0) \n",
    "                                           else(1 if (x==1) \n",
    "                                                else(2 if (x==2) \n",
    "                                                     else(3 if (x==3) \n",
    "                                                          else(4 if(x==4) \n",
    "                                                               else(5 if(x==5) \n",
    "                                                                   else(6 if(x==6)\n",
    "                                                                        else 7)))))))\n",
    "exportData['Cancerous'] = exportData['Target'].apply(lambda x: 0 if (x==0) \n",
    "                                           else(0 if (x==1) \n",
    "                                                else(1 if (x==2) \n",
    "                                                     else(1 if (x==3) \n",
    "                                                          else(1 if(x==4) \n",
    "                                                               else(1 if(x==5) \n",
    "                                                                   else(1 if(x==6)\n",
    "                                                                        else 2)))))))\n",
    "exportData['Group'] = exportData['Target'].apply(lambda x: 0 if (x==0) \n",
    "                                           else(1 if (x==1) \n",
    "                                                else(2 if (x==2) \n",
    "                                                     else(2 if (x==3) \n",
    "                                                          else(3 if(x==4) \n",
    "                                                               else(4 if(x==5) \n",
    "                                                                   else(4 if(x==6)\n",
    "                                                                        else 5)))))))\n",
    "exportData['OneTwoThree'] = exportData['Target'].apply(lambda x: 0 if (x==0) \n",
    "                                           else(0 if (x==1) \n",
    "                                                else(1 if (x==2) \n",
    "                                                     else(1 if (x==3) \n",
    "                                                          else(1 if(x==4) \n",
    "                                                               else(2 if(x==5) \n",
    "                                                                   else(2 if(x==6)\n",
    "                                                                        else 3)))))))\n",
    "exportData['ThreeFourFive'] = exportData['Target'].apply(lambda x: 0 if (x==0) \n",
    "                                           else(0 if (x==1) \n",
    "                                                else(1 if (x==2) \n",
    "                                                     else(1 if (x==3) \n",
    "                                                          else(2 if(x==4) \n",
    "                                                               else(2 if(x==5) \n",
    "                                                                   else(2 if(x==6)\n",
    "                                                                        else 3)))))))"
   ]
  },
  {
   "cell_type": "code",
   "execution_count": 321,
   "metadata": {
    "scrolled": true
   },
   "outputs": [
    {
     "data": {
      "text/html": [
       "<div>\n",
       "<style>\n",
       "    .dataframe thead tr:only-child th {\n",
       "        text-align: right;\n",
       "    }\n",
       "\n",
       "    .dataframe thead th {\n",
       "        text-align: left;\n",
       "    }\n",
       "\n",
       "    .dataframe tbody tr th {\n",
       "        vertical-align: top;\n",
       "    }\n",
       "</style>\n",
       "<table border=\"1\" class=\"dataframe\">\n",
       "  <thead>\n",
       "    <tr style=\"text-align: right;\">\n",
       "      <th></th>\n",
       "      <th>0</th>\n",
       "      <th>Target</th>\n",
       "      <th>Grade</th>\n",
       "      <th>Cancerous</th>\n",
       "      <th>Group</th>\n",
       "      <th>OneTwoThree</th>\n",
       "      <th>ThreeFourFive</th>\n",
       "    </tr>\n",
       "  </thead>\n",
       "  <tbody>\n",
       "    <tr>\n",
       "      <th>0</th>\n",
       "      <td>-22.541437</td>\n",
       "      <td>0</td>\n",
       "      <td>0</td>\n",
       "      <td>0</td>\n",
       "      <td>0</td>\n",
       "      <td>0</td>\n",
       "      <td>0</td>\n",
       "    </tr>\n",
       "    <tr>\n",
       "      <th>1</th>\n",
       "      <td>-21.484924</td>\n",
       "      <td>0</td>\n",
       "      <td>0</td>\n",
       "      <td>0</td>\n",
       "      <td>0</td>\n",
       "      <td>0</td>\n",
       "      <td>0</td>\n",
       "    </tr>\n",
       "    <tr>\n",
       "      <th>2</th>\n",
       "      <td>-25.611179</td>\n",
       "      <td>3</td>\n",
       "      <td>3</td>\n",
       "      <td>1</td>\n",
       "      <td>2</td>\n",
       "      <td>1</td>\n",
       "      <td>1</td>\n",
       "    </tr>\n",
       "    <tr>\n",
       "      <th>3</th>\n",
       "      <td>-15.968430</td>\n",
       "      <td>0</td>\n",
       "      <td>0</td>\n",
       "      <td>0</td>\n",
       "      <td>0</td>\n",
       "      <td>0</td>\n",
       "      <td>0</td>\n",
       "    </tr>\n",
       "    <tr>\n",
       "      <th>4</th>\n",
       "      <td>-27.650843</td>\n",
       "      <td>0</td>\n",
       "      <td>0</td>\n",
       "      <td>0</td>\n",
       "      <td>0</td>\n",
       "      <td>0</td>\n",
       "      <td>0</td>\n",
       "    </tr>\n",
       "    <tr>\n",
       "      <th>5</th>\n",
       "      <td>-34.468464</td>\n",
       "      <td>0</td>\n",
       "      <td>0</td>\n",
       "      <td>0</td>\n",
       "      <td>0</td>\n",
       "      <td>0</td>\n",
       "      <td>0</td>\n",
       "    </tr>\n",
       "    <tr>\n",
       "      <th>6</th>\n",
       "      <td>14.898782</td>\n",
       "      <td>5</td>\n",
       "      <td>5</td>\n",
       "      <td>1</td>\n",
       "      <td>4</td>\n",
       "      <td>2</td>\n",
       "      <td>2</td>\n",
       "    </tr>\n",
       "    <tr>\n",
       "      <th>7</th>\n",
       "      <td>-12.919108</td>\n",
       "      <td>3</td>\n",
       "      <td>3</td>\n",
       "      <td>1</td>\n",
       "      <td>2</td>\n",
       "      <td>1</td>\n",
       "      <td>1</td>\n",
       "    </tr>\n",
       "    <tr>\n",
       "      <th>8</th>\n",
       "      <td>-22.361483</td>\n",
       "      <td>0</td>\n",
       "      <td>0</td>\n",
       "      <td>0</td>\n",
       "      <td>0</td>\n",
       "      <td>0</td>\n",
       "      <td>0</td>\n",
       "    </tr>\n",
       "    <tr>\n",
       "      <th>9</th>\n",
       "      <td>14.539311</td>\n",
       "      <td>2</td>\n",
       "      <td>2</td>\n",
       "      <td>1</td>\n",
       "      <td>2</td>\n",
       "      <td>1</td>\n",
       "      <td>1</td>\n",
       "    </tr>\n",
       "    <tr>\n",
       "      <th>10</th>\n",
       "      <td>-11.650680</td>\n",
       "      <td>6</td>\n",
       "      <td>6</td>\n",
       "      <td>1</td>\n",
       "      <td>4</td>\n",
       "      <td>2</td>\n",
       "      <td>2</td>\n",
       "    </tr>\n",
       "    <tr>\n",
       "      <th>11</th>\n",
       "      <td>-20.137568</td>\n",
       "      <td>3</td>\n",
       "      <td>3</td>\n",
       "      <td>1</td>\n",
       "      <td>2</td>\n",
       "      <td>1</td>\n",
       "      <td>1</td>\n",
       "    </tr>\n",
       "    <tr>\n",
       "      <th>12</th>\n",
       "      <td>12.552266</td>\n",
       "      <td>6</td>\n",
       "      <td>6</td>\n",
       "      <td>1</td>\n",
       "      <td>4</td>\n",
       "      <td>2</td>\n",
       "      <td>2</td>\n",
       "    </tr>\n",
       "    <tr>\n",
       "      <th>13</th>\n",
       "      <td>-17.094261</td>\n",
       "      <td>5</td>\n",
       "      <td>5</td>\n",
       "      <td>1</td>\n",
       "      <td>4</td>\n",
       "      <td>2</td>\n",
       "      <td>2</td>\n",
       "    </tr>\n",
       "    <tr>\n",
       "      <th>14</th>\n",
       "      <td>23.460306</td>\n",
       "      <td>2</td>\n",
       "      <td>2</td>\n",
       "      <td>1</td>\n",
       "      <td>2</td>\n",
       "      <td>1</td>\n",
       "      <td>1</td>\n",
       "    </tr>\n",
       "    <tr>\n",
       "      <th>15</th>\n",
       "      <td>-25.033455</td>\n",
       "      <td>6</td>\n",
       "      <td>6</td>\n",
       "      <td>1</td>\n",
       "      <td>4</td>\n",
       "      <td>2</td>\n",
       "      <td>2</td>\n",
       "    </tr>\n",
       "    <tr>\n",
       "      <th>16</th>\n",
       "      <td>-9.061339</td>\n",
       "      <td>6</td>\n",
       "      <td>6</td>\n",
       "      <td>1</td>\n",
       "      <td>4</td>\n",
       "      <td>2</td>\n",
       "      <td>2</td>\n",
       "    </tr>\n",
       "    <tr>\n",
       "      <th>17</th>\n",
       "      <td>3.800268</td>\n",
       "      <td>2</td>\n",
       "      <td>2</td>\n",
       "      <td>1</td>\n",
       "      <td>2</td>\n",
       "      <td>1</td>\n",
       "      <td>1</td>\n",
       "    </tr>\n",
       "    <tr>\n",
       "      <th>18</th>\n",
       "      <td>15.032535</td>\n",
       "      <td>6</td>\n",
       "      <td>6</td>\n",
       "      <td>1</td>\n",
       "      <td>4</td>\n",
       "      <td>2</td>\n",
       "      <td>2</td>\n",
       "    </tr>\n",
       "    <tr>\n",
       "      <th>19</th>\n",
       "      <td>34.559048</td>\n",
       "      <td>6</td>\n",
       "      <td>6</td>\n",
       "      <td>1</td>\n",
       "      <td>4</td>\n",
       "      <td>2</td>\n",
       "      <td>2</td>\n",
       "    </tr>\n",
       "    <tr>\n",
       "      <th>20</th>\n",
       "      <td>19.147943</td>\n",
       "      <td>6</td>\n",
       "      <td>6</td>\n",
       "      <td>1</td>\n",
       "      <td>4</td>\n",
       "      <td>2</td>\n",
       "      <td>2</td>\n",
       "    </tr>\n",
       "    <tr>\n",
       "      <th>21</th>\n",
       "      <td>12.113119</td>\n",
       "      <td>6</td>\n",
       "      <td>6</td>\n",
       "      <td>1</td>\n",
       "      <td>4</td>\n",
       "      <td>2</td>\n",
       "      <td>2</td>\n",
       "    </tr>\n",
       "    <tr>\n",
       "      <th>22</th>\n",
       "      <td>30.994110</td>\n",
       "      <td>5</td>\n",
       "      <td>5</td>\n",
       "      <td>1</td>\n",
       "      <td>4</td>\n",
       "      <td>2</td>\n",
       "      <td>2</td>\n",
       "    </tr>\n",
       "    <tr>\n",
       "      <th>23</th>\n",
       "      <td>20.065256</td>\n",
       "      <td>3</td>\n",
       "      <td>3</td>\n",
       "      <td>1</td>\n",
       "      <td>2</td>\n",
       "      <td>1</td>\n",
       "      <td>1</td>\n",
       "    </tr>\n",
       "    <tr>\n",
       "      <th>24</th>\n",
       "      <td>31.847548</td>\n",
       "      <td>2</td>\n",
       "      <td>2</td>\n",
       "      <td>1</td>\n",
       "      <td>2</td>\n",
       "      <td>1</td>\n",
       "      <td>1</td>\n",
       "    </tr>\n",
       "    <tr>\n",
       "      <th>25</th>\n",
       "      <td>13.396050</td>\n",
       "      <td>6</td>\n",
       "      <td>6</td>\n",
       "      <td>1</td>\n",
       "      <td>4</td>\n",
       "      <td>2</td>\n",
       "      <td>2</td>\n",
       "    </tr>\n",
       "    <tr>\n",
       "      <th>26</th>\n",
       "      <td>-22.720953</td>\n",
       "      <td>3</td>\n",
       "      <td>3</td>\n",
       "      <td>1</td>\n",
       "      <td>2</td>\n",
       "      <td>1</td>\n",
       "      <td>1</td>\n",
       "    </tr>\n",
       "    <tr>\n",
       "      <th>27</th>\n",
       "      <td>-30.899282</td>\n",
       "      <td>0</td>\n",
       "      <td>0</td>\n",
       "      <td>0</td>\n",
       "      <td>0</td>\n",
       "      <td>0</td>\n",
       "      <td>0</td>\n",
       "    </tr>\n",
       "    <tr>\n",
       "      <th>28</th>\n",
       "      <td>3.132922</td>\n",
       "      <td>3</td>\n",
       "      <td>3</td>\n",
       "      <td>1</td>\n",
       "      <td>2</td>\n",
       "      <td>1</td>\n",
       "      <td>1</td>\n",
       "    </tr>\n",
       "    <tr>\n",
       "      <th>29</th>\n",
       "      <td>21.578157</td>\n",
       "      <td>2</td>\n",
       "      <td>2</td>\n",
       "      <td>1</td>\n",
       "      <td>2</td>\n",
       "      <td>1</td>\n",
       "      <td>1</td>\n",
       "    </tr>\n",
       "    <tr>\n",
       "      <th>...</th>\n",
       "      <td>...</td>\n",
       "      <td>...</td>\n",
       "      <td>...</td>\n",
       "      <td>...</td>\n",
       "      <td>...</td>\n",
       "      <td>...</td>\n",
       "      <td>...</td>\n",
       "    </tr>\n",
       "    <tr>\n",
       "      <th>550</th>\n",
       "      <td>11.120472</td>\n",
       "      <td>3</td>\n",
       "      <td>3</td>\n",
       "      <td>1</td>\n",
       "      <td>2</td>\n",
       "      <td>1</td>\n",
       "      <td>1</td>\n",
       "    </tr>\n",
       "    <tr>\n",
       "      <th>551</th>\n",
       "      <td>-1.302276</td>\n",
       "      <td>3</td>\n",
       "      <td>3</td>\n",
       "      <td>1</td>\n",
       "      <td>2</td>\n",
       "      <td>1</td>\n",
       "      <td>1</td>\n",
       "    </tr>\n",
       "    <tr>\n",
       "      <th>552</th>\n",
       "      <td>25.393827</td>\n",
       "      <td>1</td>\n",
       "      <td>1</td>\n",
       "      <td>0</td>\n",
       "      <td>1</td>\n",
       "      <td>0</td>\n",
       "      <td>0</td>\n",
       "    </tr>\n",
       "    <tr>\n",
       "      <th>553</th>\n",
       "      <td>-18.182138</td>\n",
       "      <td>6</td>\n",
       "      <td>6</td>\n",
       "      <td>1</td>\n",
       "      <td>4</td>\n",
       "      <td>2</td>\n",
       "      <td>2</td>\n",
       "    </tr>\n",
       "    <tr>\n",
       "      <th>554</th>\n",
       "      <td>4.031045</td>\n",
       "      <td>3</td>\n",
       "      <td>3</td>\n",
       "      <td>1</td>\n",
       "      <td>2</td>\n",
       "      <td>1</td>\n",
       "      <td>1</td>\n",
       "    </tr>\n",
       "    <tr>\n",
       "      <th>555</th>\n",
       "      <td>-18.263796</td>\n",
       "      <td>6</td>\n",
       "      <td>6</td>\n",
       "      <td>1</td>\n",
       "      <td>4</td>\n",
       "      <td>2</td>\n",
       "      <td>2</td>\n",
       "    </tr>\n",
       "    <tr>\n",
       "      <th>556</th>\n",
       "      <td>5.502170</td>\n",
       "      <td>1</td>\n",
       "      <td>1</td>\n",
       "      <td>0</td>\n",
       "      <td>1</td>\n",
       "      <td>0</td>\n",
       "      <td>0</td>\n",
       "    </tr>\n",
       "    <tr>\n",
       "      <th>557</th>\n",
       "      <td>10.217297</td>\n",
       "      <td>4</td>\n",
       "      <td>4</td>\n",
       "      <td>1</td>\n",
       "      <td>3</td>\n",
       "      <td>1</td>\n",
       "      <td>2</td>\n",
       "    </tr>\n",
       "    <tr>\n",
       "      <th>558</th>\n",
       "      <td>-23.940596</td>\n",
       "      <td>0</td>\n",
       "      <td>0</td>\n",
       "      <td>0</td>\n",
       "      <td>0</td>\n",
       "      <td>0</td>\n",
       "      <td>0</td>\n",
       "    </tr>\n",
       "    <tr>\n",
       "      <th>559</th>\n",
       "      <td>14.489903</td>\n",
       "      <td>2</td>\n",
       "      <td>2</td>\n",
       "      <td>1</td>\n",
       "      <td>2</td>\n",
       "      <td>1</td>\n",
       "      <td>1</td>\n",
       "    </tr>\n",
       "    <tr>\n",
       "      <th>560</th>\n",
       "      <td>-24.286091</td>\n",
       "      <td>6</td>\n",
       "      <td>6</td>\n",
       "      <td>1</td>\n",
       "      <td>4</td>\n",
       "      <td>2</td>\n",
       "      <td>2</td>\n",
       "    </tr>\n",
       "    <tr>\n",
       "      <th>561</th>\n",
       "      <td>-15.482538</td>\n",
       "      <td>6</td>\n",
       "      <td>6</td>\n",
       "      <td>1</td>\n",
       "      <td>4</td>\n",
       "      <td>2</td>\n",
       "      <td>2</td>\n",
       "    </tr>\n",
       "    <tr>\n",
       "      <th>562</th>\n",
       "      <td>30.095657</td>\n",
       "      <td>6</td>\n",
       "      <td>6</td>\n",
       "      <td>1</td>\n",
       "      <td>4</td>\n",
       "      <td>2</td>\n",
       "      <td>2</td>\n",
       "    </tr>\n",
       "    <tr>\n",
       "      <th>563</th>\n",
       "      <td>-26.136330</td>\n",
       "      <td>0</td>\n",
       "      <td>0</td>\n",
       "      <td>0</td>\n",
       "      <td>0</td>\n",
       "      <td>0</td>\n",
       "      <td>0</td>\n",
       "    </tr>\n",
       "    <tr>\n",
       "      <th>564</th>\n",
       "      <td>-8.476000</td>\n",
       "      <td>4</td>\n",
       "      <td>4</td>\n",
       "      <td>1</td>\n",
       "      <td>3</td>\n",
       "      <td>1</td>\n",
       "      <td>2</td>\n",
       "    </tr>\n",
       "    <tr>\n",
       "      <th>565</th>\n",
       "      <td>0.114132</td>\n",
       "      <td>6</td>\n",
       "      <td>6</td>\n",
       "      <td>1</td>\n",
       "      <td>4</td>\n",
       "      <td>2</td>\n",
       "      <td>2</td>\n",
       "    </tr>\n",
       "    <tr>\n",
       "      <th>566</th>\n",
       "      <td>24.078220</td>\n",
       "      <td>1</td>\n",
       "      <td>1</td>\n",
       "      <td>0</td>\n",
       "      <td>1</td>\n",
       "      <td>0</td>\n",
       "      <td>0</td>\n",
       "    </tr>\n",
       "    <tr>\n",
       "      <th>567</th>\n",
       "      <td>27.824106</td>\n",
       "      <td>3</td>\n",
       "      <td>3</td>\n",
       "      <td>1</td>\n",
       "      <td>2</td>\n",
       "      <td>1</td>\n",
       "      <td>1</td>\n",
       "    </tr>\n",
       "    <tr>\n",
       "      <th>568</th>\n",
       "      <td>29.497005</td>\n",
       "      <td>4</td>\n",
       "      <td>4</td>\n",
       "      <td>1</td>\n",
       "      <td>3</td>\n",
       "      <td>1</td>\n",
       "      <td>2</td>\n",
       "    </tr>\n",
       "    <tr>\n",
       "      <th>569</th>\n",
       "      <td>5.646663</td>\n",
       "      <td>1</td>\n",
       "      <td>1</td>\n",
       "      <td>0</td>\n",
       "      <td>1</td>\n",
       "      <td>0</td>\n",
       "      <td>0</td>\n",
       "    </tr>\n",
       "    <tr>\n",
       "      <th>570</th>\n",
       "      <td>12.982822</td>\n",
       "      <td>6</td>\n",
       "      <td>6</td>\n",
       "      <td>1</td>\n",
       "      <td>4</td>\n",
       "      <td>2</td>\n",
       "      <td>2</td>\n",
       "    </tr>\n",
       "    <tr>\n",
       "      <th>571</th>\n",
       "      <td>14.643754</td>\n",
       "      <td>3</td>\n",
       "      <td>3</td>\n",
       "      <td>1</td>\n",
       "      <td>2</td>\n",
       "      <td>1</td>\n",
       "      <td>1</td>\n",
       "    </tr>\n",
       "    <tr>\n",
       "      <th>572</th>\n",
       "      <td>26.204361</td>\n",
       "      <td>4</td>\n",
       "      <td>4</td>\n",
       "      <td>1</td>\n",
       "      <td>3</td>\n",
       "      <td>1</td>\n",
       "      <td>2</td>\n",
       "    </tr>\n",
       "    <tr>\n",
       "      <th>573</th>\n",
       "      <td>10.890293</td>\n",
       "      <td>2</td>\n",
       "      <td>2</td>\n",
       "      <td>1</td>\n",
       "      <td>2</td>\n",
       "      <td>1</td>\n",
       "      <td>1</td>\n",
       "    </tr>\n",
       "    <tr>\n",
       "      <th>574</th>\n",
       "      <td>34.732231</td>\n",
       "      <td>3</td>\n",
       "      <td>3</td>\n",
       "      <td>1</td>\n",
       "      <td>2</td>\n",
       "      <td>1</td>\n",
       "      <td>1</td>\n",
       "    </tr>\n",
       "    <tr>\n",
       "      <th>575</th>\n",
       "      <td>26.903013</td>\n",
       "      <td>3</td>\n",
       "      <td>3</td>\n",
       "      <td>1</td>\n",
       "      <td>2</td>\n",
       "      <td>1</td>\n",
       "      <td>1</td>\n",
       "    </tr>\n",
       "    <tr>\n",
       "      <th>576</th>\n",
       "      <td>-0.475869</td>\n",
       "      <td>3</td>\n",
       "      <td>3</td>\n",
       "      <td>1</td>\n",
       "      <td>2</td>\n",
       "      <td>1</td>\n",
       "      <td>1</td>\n",
       "    </tr>\n",
       "    <tr>\n",
       "      <th>577</th>\n",
       "      <td>-32.899841</td>\n",
       "      <td>0</td>\n",
       "      <td>0</td>\n",
       "      <td>0</td>\n",
       "      <td>0</td>\n",
       "      <td>0</td>\n",
       "      <td>0</td>\n",
       "    </tr>\n",
       "    <tr>\n",
       "      <th>578</th>\n",
       "      <td>0.077095</td>\n",
       "      <td>4</td>\n",
       "      <td>4</td>\n",
       "      <td>1</td>\n",
       "      <td>3</td>\n",
       "      <td>1</td>\n",
       "      <td>2</td>\n",
       "    </tr>\n",
       "    <tr>\n",
       "      <th>579</th>\n",
       "      <td>-30.058857</td>\n",
       "      <td>0</td>\n",
       "      <td>0</td>\n",
       "      <td>0</td>\n",
       "      <td>0</td>\n",
       "      <td>0</td>\n",
       "      <td>0</td>\n",
       "    </tr>\n",
       "  </tbody>\n",
       "</table>\n",
       "<p>580 rows × 7 columns</p>\n",
       "</div>"
      ],
      "text/plain": [
       "             0  Target  Grade  Cancerous  Group  OneTwoThree  ThreeFourFive\n",
       "0   -22.541437       0      0          0      0            0              0\n",
       "1   -21.484924       0      0          0      0            0              0\n",
       "2   -25.611179       3      3          1      2            1              1\n",
       "3   -15.968430       0      0          0      0            0              0\n",
       "4   -27.650843       0      0          0      0            0              0\n",
       "5   -34.468464       0      0          0      0            0              0\n",
       "6    14.898782       5      5          1      4            2              2\n",
       "7   -12.919108       3      3          1      2            1              1\n",
       "8   -22.361483       0      0          0      0            0              0\n",
       "9    14.539311       2      2          1      2            1              1\n",
       "10  -11.650680       6      6          1      4            2              2\n",
       "11  -20.137568       3      3          1      2            1              1\n",
       "12   12.552266       6      6          1      4            2              2\n",
       "13  -17.094261       5      5          1      4            2              2\n",
       "14   23.460306       2      2          1      2            1              1\n",
       "15  -25.033455       6      6          1      4            2              2\n",
       "16   -9.061339       6      6          1      4            2              2\n",
       "17    3.800268       2      2          1      2            1              1\n",
       "18   15.032535       6      6          1      4            2              2\n",
       "19   34.559048       6      6          1      4            2              2\n",
       "20   19.147943       6      6          1      4            2              2\n",
       "21   12.113119       6      6          1      4            2              2\n",
       "22   30.994110       5      5          1      4            2              2\n",
       "23   20.065256       3      3          1      2            1              1\n",
       "24   31.847548       2      2          1      2            1              1\n",
       "25   13.396050       6      6          1      4            2              2\n",
       "26  -22.720953       3      3          1      2            1              1\n",
       "27  -30.899282       0      0          0      0            0              0\n",
       "28    3.132922       3      3          1      2            1              1\n",
       "29   21.578157       2      2          1      2            1              1\n",
       "..         ...     ...    ...        ...    ...          ...            ...\n",
       "550  11.120472       3      3          1      2            1              1\n",
       "551  -1.302276       3      3          1      2            1              1\n",
       "552  25.393827       1      1          0      1            0              0\n",
       "553 -18.182138       6      6          1      4            2              2\n",
       "554   4.031045       3      3          1      2            1              1\n",
       "555 -18.263796       6      6          1      4            2              2\n",
       "556   5.502170       1      1          0      1            0              0\n",
       "557  10.217297       4      4          1      3            1              2\n",
       "558 -23.940596       0      0          0      0            0              0\n",
       "559  14.489903       2      2          1      2            1              1\n",
       "560 -24.286091       6      6          1      4            2              2\n",
       "561 -15.482538       6      6          1      4            2              2\n",
       "562  30.095657       6      6          1      4            2              2\n",
       "563 -26.136330       0      0          0      0            0              0\n",
       "564  -8.476000       4      4          1      3            1              2\n",
       "565   0.114132       6      6          1      4            2              2\n",
       "566  24.078220       1      1          0      1            0              0\n",
       "567  27.824106       3      3          1      2            1              1\n",
       "568  29.497005       4      4          1      3            1              2\n",
       "569   5.646663       1      1          0      1            0              0\n",
       "570  12.982822       6      6          1      4            2              2\n",
       "571  14.643754       3      3          1      2            1              1\n",
       "572  26.204361       4      4          1      3            1              2\n",
       "573  10.890293       2      2          1      2            1              1\n",
       "574  34.732231       3      3          1      2            1              1\n",
       "575  26.903013       3      3          1      2            1              1\n",
       "576  -0.475869       3      3          1      2            1              1\n",
       "577 -32.899841       0      0          0      0            0              0\n",
       "578   0.077095       4      4          1      3            1              2\n",
       "579 -30.058857       0      0          0      0            0              0\n",
       "\n",
       "[580 rows x 7 columns]"
      ]
     },
     "execution_count": 321,
     "metadata": {},
     "output_type": "execute_result"
    }
   ],
   "source": [
    "exportData"
   ]
  },
  {
   "cell_type": "code",
   "execution_count": 322,
   "metadata": {},
   "outputs": [],
   "source": [
    "exportData.set_index(exportData[0], inplace=True)\n",
    "exportData.drop([0], inplace=True, axis=1)\n",
    "exportData.drop('Target', inplace=True, axis=1)"
   ]
  },
  {
   "cell_type": "code",
   "execution_count": 323,
   "metadata": {},
   "outputs": [
    {
     "data": {
      "text/html": [
       "<div>\n",
       "<style>\n",
       "    .dataframe thead tr:only-child th {\n",
       "        text-align: right;\n",
       "    }\n",
       "\n",
       "    .dataframe thead th {\n",
       "        text-align: left;\n",
       "    }\n",
       "\n",
       "    .dataframe tbody tr th {\n",
       "        vertical-align: top;\n",
       "    }\n",
       "</style>\n",
       "<table border=\"1\" class=\"dataframe\">\n",
       "  <thead>\n",
       "    <tr style=\"text-align: right;\">\n",
       "      <th></th>\n",
       "      <th>Grade</th>\n",
       "      <th>Cancerous</th>\n",
       "      <th>Group</th>\n",
       "      <th>OneTwoThree</th>\n",
       "      <th>ThreeFourFive</th>\n",
       "    </tr>\n",
       "    <tr>\n",
       "      <th>0</th>\n",
       "      <th></th>\n",
       "      <th></th>\n",
       "      <th></th>\n",
       "      <th></th>\n",
       "      <th></th>\n",
       "    </tr>\n",
       "  </thead>\n",
       "  <tbody>\n",
       "    <tr>\n",
       "      <th>-22.541437</th>\n",
       "      <td>0</td>\n",
       "      <td>0</td>\n",
       "      <td>0</td>\n",
       "      <td>0</td>\n",
       "      <td>0</td>\n",
       "    </tr>\n",
       "    <tr>\n",
       "      <th>-21.484924</th>\n",
       "      <td>0</td>\n",
       "      <td>0</td>\n",
       "      <td>0</td>\n",
       "      <td>0</td>\n",
       "      <td>0</td>\n",
       "    </tr>\n",
       "    <tr>\n",
       "      <th>-25.611179</th>\n",
       "      <td>3</td>\n",
       "      <td>1</td>\n",
       "      <td>2</td>\n",
       "      <td>1</td>\n",
       "      <td>1</td>\n",
       "    </tr>\n",
       "    <tr>\n",
       "      <th>-15.968430</th>\n",
       "      <td>0</td>\n",
       "      <td>0</td>\n",
       "      <td>0</td>\n",
       "      <td>0</td>\n",
       "      <td>0</td>\n",
       "    </tr>\n",
       "    <tr>\n",
       "      <th>-27.650843</th>\n",
       "      <td>0</td>\n",
       "      <td>0</td>\n",
       "      <td>0</td>\n",
       "      <td>0</td>\n",
       "      <td>0</td>\n",
       "    </tr>\n",
       "    <tr>\n",
       "      <th>-34.468464</th>\n",
       "      <td>0</td>\n",
       "      <td>0</td>\n",
       "      <td>0</td>\n",
       "      <td>0</td>\n",
       "      <td>0</td>\n",
       "    </tr>\n",
       "    <tr>\n",
       "      <th>14.898782</th>\n",
       "      <td>5</td>\n",
       "      <td>1</td>\n",
       "      <td>4</td>\n",
       "      <td>2</td>\n",
       "      <td>2</td>\n",
       "    </tr>\n",
       "    <tr>\n",
       "      <th>-12.919108</th>\n",
       "      <td>3</td>\n",
       "      <td>1</td>\n",
       "      <td>2</td>\n",
       "      <td>1</td>\n",
       "      <td>1</td>\n",
       "    </tr>\n",
       "    <tr>\n",
       "      <th>-22.361483</th>\n",
       "      <td>0</td>\n",
       "      <td>0</td>\n",
       "      <td>0</td>\n",
       "      <td>0</td>\n",
       "      <td>0</td>\n",
       "    </tr>\n",
       "    <tr>\n",
       "      <th>14.539311</th>\n",
       "      <td>2</td>\n",
       "      <td>1</td>\n",
       "      <td>2</td>\n",
       "      <td>1</td>\n",
       "      <td>1</td>\n",
       "    </tr>\n",
       "    <tr>\n",
       "      <th>-11.650680</th>\n",
       "      <td>6</td>\n",
       "      <td>1</td>\n",
       "      <td>4</td>\n",
       "      <td>2</td>\n",
       "      <td>2</td>\n",
       "    </tr>\n",
       "    <tr>\n",
       "      <th>-20.137568</th>\n",
       "      <td>3</td>\n",
       "      <td>1</td>\n",
       "      <td>2</td>\n",
       "      <td>1</td>\n",
       "      <td>1</td>\n",
       "    </tr>\n",
       "    <tr>\n",
       "      <th>12.552266</th>\n",
       "      <td>6</td>\n",
       "      <td>1</td>\n",
       "      <td>4</td>\n",
       "      <td>2</td>\n",
       "      <td>2</td>\n",
       "    </tr>\n",
       "    <tr>\n",
       "      <th>-17.094261</th>\n",
       "      <td>5</td>\n",
       "      <td>1</td>\n",
       "      <td>4</td>\n",
       "      <td>2</td>\n",
       "      <td>2</td>\n",
       "    </tr>\n",
       "    <tr>\n",
       "      <th>23.460306</th>\n",
       "      <td>2</td>\n",
       "      <td>1</td>\n",
       "      <td>2</td>\n",
       "      <td>1</td>\n",
       "      <td>1</td>\n",
       "    </tr>\n",
       "    <tr>\n",
       "      <th>-25.033455</th>\n",
       "      <td>6</td>\n",
       "      <td>1</td>\n",
       "      <td>4</td>\n",
       "      <td>2</td>\n",
       "      <td>2</td>\n",
       "    </tr>\n",
       "    <tr>\n",
       "      <th>-9.061339</th>\n",
       "      <td>6</td>\n",
       "      <td>1</td>\n",
       "      <td>4</td>\n",
       "      <td>2</td>\n",
       "      <td>2</td>\n",
       "    </tr>\n",
       "    <tr>\n",
       "      <th>3.800268</th>\n",
       "      <td>2</td>\n",
       "      <td>1</td>\n",
       "      <td>2</td>\n",
       "      <td>1</td>\n",
       "      <td>1</td>\n",
       "    </tr>\n",
       "    <tr>\n",
       "      <th>15.032535</th>\n",
       "      <td>6</td>\n",
       "      <td>1</td>\n",
       "      <td>4</td>\n",
       "      <td>2</td>\n",
       "      <td>2</td>\n",
       "    </tr>\n",
       "    <tr>\n",
       "      <th>34.559048</th>\n",
       "      <td>6</td>\n",
       "      <td>1</td>\n",
       "      <td>4</td>\n",
       "      <td>2</td>\n",
       "      <td>2</td>\n",
       "    </tr>\n",
       "    <tr>\n",
       "      <th>19.147943</th>\n",
       "      <td>6</td>\n",
       "      <td>1</td>\n",
       "      <td>4</td>\n",
       "      <td>2</td>\n",
       "      <td>2</td>\n",
       "    </tr>\n",
       "    <tr>\n",
       "      <th>12.113119</th>\n",
       "      <td>6</td>\n",
       "      <td>1</td>\n",
       "      <td>4</td>\n",
       "      <td>2</td>\n",
       "      <td>2</td>\n",
       "    </tr>\n",
       "    <tr>\n",
       "      <th>30.994110</th>\n",
       "      <td>5</td>\n",
       "      <td>1</td>\n",
       "      <td>4</td>\n",
       "      <td>2</td>\n",
       "      <td>2</td>\n",
       "    </tr>\n",
       "    <tr>\n",
       "      <th>20.065256</th>\n",
       "      <td>3</td>\n",
       "      <td>1</td>\n",
       "      <td>2</td>\n",
       "      <td>1</td>\n",
       "      <td>1</td>\n",
       "    </tr>\n",
       "    <tr>\n",
       "      <th>31.847548</th>\n",
       "      <td>2</td>\n",
       "      <td>1</td>\n",
       "      <td>2</td>\n",
       "      <td>1</td>\n",
       "      <td>1</td>\n",
       "    </tr>\n",
       "    <tr>\n",
       "      <th>13.396050</th>\n",
       "      <td>6</td>\n",
       "      <td>1</td>\n",
       "      <td>4</td>\n",
       "      <td>2</td>\n",
       "      <td>2</td>\n",
       "    </tr>\n",
       "    <tr>\n",
       "      <th>-22.720953</th>\n",
       "      <td>3</td>\n",
       "      <td>1</td>\n",
       "      <td>2</td>\n",
       "      <td>1</td>\n",
       "      <td>1</td>\n",
       "    </tr>\n",
       "    <tr>\n",
       "      <th>-30.899282</th>\n",
       "      <td>0</td>\n",
       "      <td>0</td>\n",
       "      <td>0</td>\n",
       "      <td>0</td>\n",
       "      <td>0</td>\n",
       "    </tr>\n",
       "    <tr>\n",
       "      <th>3.132922</th>\n",
       "      <td>3</td>\n",
       "      <td>1</td>\n",
       "      <td>2</td>\n",
       "      <td>1</td>\n",
       "      <td>1</td>\n",
       "    </tr>\n",
       "    <tr>\n",
       "      <th>21.578157</th>\n",
       "      <td>2</td>\n",
       "      <td>1</td>\n",
       "      <td>2</td>\n",
       "      <td>1</td>\n",
       "      <td>1</td>\n",
       "    </tr>\n",
       "    <tr>\n",
       "      <th>...</th>\n",
       "      <td>...</td>\n",
       "      <td>...</td>\n",
       "      <td>...</td>\n",
       "      <td>...</td>\n",
       "      <td>...</td>\n",
       "    </tr>\n",
       "    <tr>\n",
       "      <th>11.120472</th>\n",
       "      <td>3</td>\n",
       "      <td>1</td>\n",
       "      <td>2</td>\n",
       "      <td>1</td>\n",
       "      <td>1</td>\n",
       "    </tr>\n",
       "    <tr>\n",
       "      <th>-1.302276</th>\n",
       "      <td>3</td>\n",
       "      <td>1</td>\n",
       "      <td>2</td>\n",
       "      <td>1</td>\n",
       "      <td>1</td>\n",
       "    </tr>\n",
       "    <tr>\n",
       "      <th>25.393827</th>\n",
       "      <td>1</td>\n",
       "      <td>0</td>\n",
       "      <td>1</td>\n",
       "      <td>0</td>\n",
       "      <td>0</td>\n",
       "    </tr>\n",
       "    <tr>\n",
       "      <th>-18.182138</th>\n",
       "      <td>6</td>\n",
       "      <td>1</td>\n",
       "      <td>4</td>\n",
       "      <td>2</td>\n",
       "      <td>2</td>\n",
       "    </tr>\n",
       "    <tr>\n",
       "      <th>4.031045</th>\n",
       "      <td>3</td>\n",
       "      <td>1</td>\n",
       "      <td>2</td>\n",
       "      <td>1</td>\n",
       "      <td>1</td>\n",
       "    </tr>\n",
       "    <tr>\n",
       "      <th>-18.263796</th>\n",
       "      <td>6</td>\n",
       "      <td>1</td>\n",
       "      <td>4</td>\n",
       "      <td>2</td>\n",
       "      <td>2</td>\n",
       "    </tr>\n",
       "    <tr>\n",
       "      <th>5.502170</th>\n",
       "      <td>1</td>\n",
       "      <td>0</td>\n",
       "      <td>1</td>\n",
       "      <td>0</td>\n",
       "      <td>0</td>\n",
       "    </tr>\n",
       "    <tr>\n",
       "      <th>10.217297</th>\n",
       "      <td>4</td>\n",
       "      <td>1</td>\n",
       "      <td>3</td>\n",
       "      <td>1</td>\n",
       "      <td>2</td>\n",
       "    </tr>\n",
       "    <tr>\n",
       "      <th>-23.940596</th>\n",
       "      <td>0</td>\n",
       "      <td>0</td>\n",
       "      <td>0</td>\n",
       "      <td>0</td>\n",
       "      <td>0</td>\n",
       "    </tr>\n",
       "    <tr>\n",
       "      <th>14.489903</th>\n",
       "      <td>2</td>\n",
       "      <td>1</td>\n",
       "      <td>2</td>\n",
       "      <td>1</td>\n",
       "      <td>1</td>\n",
       "    </tr>\n",
       "    <tr>\n",
       "      <th>-24.286091</th>\n",
       "      <td>6</td>\n",
       "      <td>1</td>\n",
       "      <td>4</td>\n",
       "      <td>2</td>\n",
       "      <td>2</td>\n",
       "    </tr>\n",
       "    <tr>\n",
       "      <th>-15.482538</th>\n",
       "      <td>6</td>\n",
       "      <td>1</td>\n",
       "      <td>4</td>\n",
       "      <td>2</td>\n",
       "      <td>2</td>\n",
       "    </tr>\n",
       "    <tr>\n",
       "      <th>30.095657</th>\n",
       "      <td>6</td>\n",
       "      <td>1</td>\n",
       "      <td>4</td>\n",
       "      <td>2</td>\n",
       "      <td>2</td>\n",
       "    </tr>\n",
       "    <tr>\n",
       "      <th>-26.136330</th>\n",
       "      <td>0</td>\n",
       "      <td>0</td>\n",
       "      <td>0</td>\n",
       "      <td>0</td>\n",
       "      <td>0</td>\n",
       "    </tr>\n",
       "    <tr>\n",
       "      <th>-8.476000</th>\n",
       "      <td>4</td>\n",
       "      <td>1</td>\n",
       "      <td>3</td>\n",
       "      <td>1</td>\n",
       "      <td>2</td>\n",
       "    </tr>\n",
       "    <tr>\n",
       "      <th>0.114132</th>\n",
       "      <td>6</td>\n",
       "      <td>1</td>\n",
       "      <td>4</td>\n",
       "      <td>2</td>\n",
       "      <td>2</td>\n",
       "    </tr>\n",
       "    <tr>\n",
       "      <th>24.078220</th>\n",
       "      <td>1</td>\n",
       "      <td>0</td>\n",
       "      <td>1</td>\n",
       "      <td>0</td>\n",
       "      <td>0</td>\n",
       "    </tr>\n",
       "    <tr>\n",
       "      <th>27.824106</th>\n",
       "      <td>3</td>\n",
       "      <td>1</td>\n",
       "      <td>2</td>\n",
       "      <td>1</td>\n",
       "      <td>1</td>\n",
       "    </tr>\n",
       "    <tr>\n",
       "      <th>29.497005</th>\n",
       "      <td>4</td>\n",
       "      <td>1</td>\n",
       "      <td>3</td>\n",
       "      <td>1</td>\n",
       "      <td>2</td>\n",
       "    </tr>\n",
       "    <tr>\n",
       "      <th>5.646663</th>\n",
       "      <td>1</td>\n",
       "      <td>0</td>\n",
       "      <td>1</td>\n",
       "      <td>0</td>\n",
       "      <td>0</td>\n",
       "    </tr>\n",
       "    <tr>\n",
       "      <th>12.982822</th>\n",
       "      <td>6</td>\n",
       "      <td>1</td>\n",
       "      <td>4</td>\n",
       "      <td>2</td>\n",
       "      <td>2</td>\n",
       "    </tr>\n",
       "    <tr>\n",
       "      <th>14.643754</th>\n",
       "      <td>3</td>\n",
       "      <td>1</td>\n",
       "      <td>2</td>\n",
       "      <td>1</td>\n",
       "      <td>1</td>\n",
       "    </tr>\n",
       "    <tr>\n",
       "      <th>26.204361</th>\n",
       "      <td>4</td>\n",
       "      <td>1</td>\n",
       "      <td>3</td>\n",
       "      <td>1</td>\n",
       "      <td>2</td>\n",
       "    </tr>\n",
       "    <tr>\n",
       "      <th>10.890293</th>\n",
       "      <td>2</td>\n",
       "      <td>1</td>\n",
       "      <td>2</td>\n",
       "      <td>1</td>\n",
       "      <td>1</td>\n",
       "    </tr>\n",
       "    <tr>\n",
       "      <th>34.732231</th>\n",
       "      <td>3</td>\n",
       "      <td>1</td>\n",
       "      <td>2</td>\n",
       "      <td>1</td>\n",
       "      <td>1</td>\n",
       "    </tr>\n",
       "    <tr>\n",
       "      <th>26.903013</th>\n",
       "      <td>3</td>\n",
       "      <td>1</td>\n",
       "      <td>2</td>\n",
       "      <td>1</td>\n",
       "      <td>1</td>\n",
       "    </tr>\n",
       "    <tr>\n",
       "      <th>-0.475869</th>\n",
       "      <td>3</td>\n",
       "      <td>1</td>\n",
       "      <td>2</td>\n",
       "      <td>1</td>\n",
       "      <td>1</td>\n",
       "    </tr>\n",
       "    <tr>\n",
       "      <th>-32.899841</th>\n",
       "      <td>0</td>\n",
       "      <td>0</td>\n",
       "      <td>0</td>\n",
       "      <td>0</td>\n",
       "      <td>0</td>\n",
       "    </tr>\n",
       "    <tr>\n",
       "      <th>0.077095</th>\n",
       "      <td>4</td>\n",
       "      <td>1</td>\n",
       "      <td>3</td>\n",
       "      <td>1</td>\n",
       "      <td>2</td>\n",
       "    </tr>\n",
       "    <tr>\n",
       "      <th>-30.058857</th>\n",
       "      <td>0</td>\n",
       "      <td>0</td>\n",
       "      <td>0</td>\n",
       "      <td>0</td>\n",
       "      <td>0</td>\n",
       "    </tr>\n",
       "  </tbody>\n",
       "</table>\n",
       "<p>580 rows × 5 columns</p>\n",
       "</div>"
      ],
      "text/plain": [
       "            Grade  Cancerous  Group  OneTwoThree  ThreeFourFive\n",
       "0                                                              \n",
       "-22.541437      0          0      0            0              0\n",
       "-21.484924      0          0      0            0              0\n",
       "-25.611179      3          1      2            1              1\n",
       "-15.968430      0          0      0            0              0\n",
       "-27.650843      0          0      0            0              0\n",
       "-34.468464      0          0      0            0              0\n",
       " 14.898782      5          1      4            2              2\n",
       "-12.919108      3          1      2            1              1\n",
       "-22.361483      0          0      0            0              0\n",
       " 14.539311      2          1      2            1              1\n",
       "-11.650680      6          1      4            2              2\n",
       "-20.137568      3          1      2            1              1\n",
       " 12.552266      6          1      4            2              2\n",
       "-17.094261      5          1      4            2              2\n",
       " 23.460306      2          1      2            1              1\n",
       "-25.033455      6          1      4            2              2\n",
       "-9.061339       6          1      4            2              2\n",
       " 3.800268       2          1      2            1              1\n",
       " 15.032535      6          1      4            2              2\n",
       " 34.559048      6          1      4            2              2\n",
       " 19.147943      6          1      4            2              2\n",
       " 12.113119      6          1      4            2              2\n",
       " 30.994110      5          1      4            2              2\n",
       " 20.065256      3          1      2            1              1\n",
       " 31.847548      2          1      2            1              1\n",
       " 13.396050      6          1      4            2              2\n",
       "-22.720953      3          1      2            1              1\n",
       "-30.899282      0          0      0            0              0\n",
       " 3.132922       3          1      2            1              1\n",
       " 21.578157      2          1      2            1              1\n",
       "...           ...        ...    ...          ...            ...\n",
       " 11.120472      3          1      2            1              1\n",
       "-1.302276       3          1      2            1              1\n",
       " 25.393827      1          0      1            0              0\n",
       "-18.182138      6          1      4            2              2\n",
       " 4.031045       3          1      2            1              1\n",
       "-18.263796      6          1      4            2              2\n",
       " 5.502170       1          0      1            0              0\n",
       " 10.217297      4          1      3            1              2\n",
       "-23.940596      0          0      0            0              0\n",
       " 14.489903      2          1      2            1              1\n",
       "-24.286091      6          1      4            2              2\n",
       "-15.482538      6          1      4            2              2\n",
       " 30.095657      6          1      4            2              2\n",
       "-26.136330      0          0      0            0              0\n",
       "-8.476000       4          1      3            1              2\n",
       " 0.114132       6          1      4            2              2\n",
       " 24.078220      1          0      1            0              0\n",
       " 27.824106      3          1      2            1              1\n",
       " 29.497005      4          1      3            1              2\n",
       " 5.646663       1          0      1            0              0\n",
       " 12.982822      6          1      4            2              2\n",
       " 14.643754      3          1      2            1              1\n",
       " 26.204361      4          1      3            1              2\n",
       " 10.890293      2          1      2            1              1\n",
       " 34.732231      3          1      2            1              1\n",
       " 26.903013      3          1      2            1              1\n",
       "-0.475869       3          1      2            1              1\n",
       "-32.899841      0          0      0            0              0\n",
       " 0.077095       4          1      3            1              2\n",
       "-30.058857      0          0      0            0              0\n",
       "\n",
       "[580 rows x 5 columns]"
      ]
     },
     "execution_count": 323,
     "metadata": {},
     "output_type": "execute_result"
    }
   ],
   "source": [
    "exportData"
   ]
  },
  {
   "cell_type": "code",
   "execution_count": 324,
   "metadata": {},
   "outputs": [],
   "source": [
    "#With TCGA Healthy\n",
    "exportData.to_csv(\"../Data/exportData.csv\")"
   ]
  },
  {
   "cell_type": "markdown",
   "metadata": {},
   "source": [
    "## Normality Testing"
   ]
  },
  {
   "cell_type": "code",
   "execution_count": 255,
   "metadata": {},
   "outputs": [
    {
     "name": "stdout",
     "output_type": "stream",
     "text": [
      "GTEx: -24.649028778076172\n",
      "TCGA Healthy: -7.367562770843506\n",
      "Group 1 (Grade 1 and 2): 12.060197830200195\n",
      "Group 2 (Grade 3): 8.808684349060059\n",
      "Group 3 (Grade 4 and 5): 2.2347381114959717\n"
     ]
    }
   ],
   "source": [
    "print(\"GTEx: \" + str(mean(G0Reduced2)))\n",
    "print(\"TCGA Healthy: \" + str(mean(G1Reduced2)))\n",
    "print(\"Group 1 (Grade 1 and 2): \" + str(mean(G2Reduced2)))\n",
    "print(\"Group 2 (Grade 3): \" + str(mean(G3Reduced2)))\n",
    "print(\"Group 3 (Grade 4 and 5): \" + str(mean(G4Reduced2)))"
   ]
  },
  {
   "cell_type": "code",
   "execution_count": 256,
   "metadata": {},
   "outputs": [
    {
     "name": "stdout",
     "output_type": "stream",
     "text": [
      "GTEx: 8.079268455505371\n",
      "TCGA Healthy: 24.409130096435547\n",
      "Group 1 (Grade 1 and 2): 15.696000099182129\n",
      "Group 2 (Grade 3): 16.591732025146484\n",
      "Group 3 (Grade 4 and 5): 17.283369064331055\n"
     ]
    }
   ],
   "source": [
    "print(\"GTEx: \" + str(std(G0Reduced2)))\n",
    "print(\"TCGA Healthy: \" + str(std(G1Reduced2)))\n",
    "print(\"Group 1 (Grade 1 and 2): \" + str(std(G2Reduced2)))\n",
    "print(\"Group 2 (Grade 3): \" + str(std(G3Reduced2)))\n",
    "print(\"Group 3 (Grade 4 and 5): \" + str(std(G4Reduced2)))"
   ]
  },
  {
   "cell_type": "code",
   "execution_count": 257,
   "metadata": {},
   "outputs": [
    {
     "data": {
      "text/plain": [
       "(0.0, 30.0)"
      ]
     },
     "execution_count": 257,
     "metadata": {},
     "output_type": "execute_result"
    },
    {
     "data": {
      "image/png": "[encoded data removed]",
      "text/plain": [
       "<matplotlib.figure.Figure at 0x1a0e642208>"
      ]
     },
     "metadata": {
      "needs_background": "light"
     },
     "output_type": "display_data"
    }
   ],
   "source": [
    "n, bins, patches = plt.hist(x=G0Reduced2, bins='auto', color='#0504aa', rwidth=0.85)\n",
    "plt.grid(axis='y', alpha=0.75)\n",
    "plt.xlabel('Value')\n",
    "plt.ylabel('Frequency')\n",
    "plt.title('G0')\n",
    "#plt.text(23, 45, r'$\\mu=15, b=3$')\n",
    "maxfreq = n.max()\n",
    "# Set a clean upper y-axis limit.\n",
    "plt.ylim(ymax=np.ceil(maxfreq / 10) * 10 if maxfreq % 10 else maxfreq + 10)"
   ]
  },
  {
   "cell_type": "code",
   "execution_count": 325,
   "metadata": {},
   "outputs": [
    {
     "data": {
      "text/plain": [
       "(0.0, 20.0)"
      ]
     },
     "execution_count": 325,
     "metadata": {},
     "output_type": "execute_result"
    },
    {
     "data": {
      "image/png": "[encoded data removed]",
      "text/plain": [
       "<matplotlib.figure.Figure at 0x1a0b9cfd68>"
      ]
     },
     "metadata": {
      "needs_background": "light"
     },
     "output_type": "display_data"
    }
   ],
   "source": [
    "n, bins, patches = plt.hist(x=G1Reduced2, bins='auto', color='#0504aa',\n",
    "                            alpha=0.7, rwidth=0.85)\n",
    "plt.grid(axis='y', alpha=0.75)\n",
    "plt.xlabel('Value')\n",
    "plt.ylabel('Frequency')\n",
    "plt.title('G1')\n",
    "plt.text(23, 45, r'$\\mu=15, b=3$')\n",
    "maxfreq = n.max()\n",
    "# Set a clean upper y-axis limit.\n",
    "plt.ylim(ymax=np.ceil(maxfreq / 10) * 10 if maxfreq % 10 else maxfreq + 10)"
   ]
  },
  {
   "cell_type": "code",
   "execution_count": 183,
   "metadata": {},
   "outputs": [
    {
     "data": {
      "text/plain": [
       "(0.0, 40.0)"
      ]
     },
     "execution_count": 183,
     "metadata": {},
     "output_type": "execute_result"
    },
    {
     "data": {
      "image/png": "[encoded data removed]",
      "text/plain": [
       "<matplotlib.figure.Figure at 0x1a13dd1390>"
      ]
     },
     "metadata": {
      "needs_background": "light"
     },
     "output_type": "display_data"
    }
   ],
   "source": [
    "n, bins, patches = plt.hist(x=G2Reduced2, bins='auto', color='#0504aa',\n",
    "                            alpha=0.7, rwidth=0.85)\n",
    "plt.grid(axis='y', alpha=0.75)\n",
    "plt.xlabel('Value')\n",
    "plt.ylabel('Frequency')\n",
    "plt.title('G2')\n",
    "plt.text(23, 45, r'$\\mu=15, b=3$')\n",
    "maxfreq = n.max()\n",
    "# Set a clean upper y-axis limit.\n",
    "plt.ylim(ymax=np.ceil(maxfreq / 10) * 10 if maxfreq % 10 else maxfreq + 10)"
   ]
  },
  {
   "cell_type": "code",
   "execution_count": 184,
   "metadata": {},
   "outputs": [
    {
     "data": {
      "text/plain": [
       "(0.0, 20.0)"
      ]
     },
     "execution_count": 184,
     "metadata": {},
     "output_type": "execute_result"
    },
    {
     "data": {
      "image/png": "[encoded data removed]",
      "text/plain": [
       "<matplotlib.figure.Figure at 0x1a13d9e1d0>"
      ]
     },
     "metadata": {
      "needs_background": "light"
     },
     "output_type": "display_data"
    }
   ],
   "source": [
    "n, bins, patches = plt.hist(x=G3Reduced2, bins='auto', color='#0504aa',\n",
    "                            alpha=0.7, rwidth=0.85)\n",
    "plt.grid(axis='y', alpha=0.75)\n",
    "plt.xlabel('Value')\n",
    "plt.ylabel('Frequency')\n",
    "plt.title('G3')\n",
    "plt.text(23, 45, r'$\\mu=15, b=3$')\n",
    "maxfreq = n.max()\n",
    "# Set a clean upper y-axis limit.\n",
    "plt.ylim(ymax=np.ceil(maxfreq / 10) * 10 if maxfreq % 10 else maxfreq + 10)"
   ]
  },
  {
   "cell_type": "code",
   "execution_count": 185,
   "metadata": {},
   "outputs": [
    {
     "data": {
      "text/plain": [
       "(0.0, 40.0)"
      ]
     },
     "execution_count": 185,
     "metadata": {},
     "output_type": "execute_result"
    },
    {
     "data": {
      "image/png": "[encoded data removed]",
      "text/plain": [
       "<matplotlib.figure.Figure at 0x1a0d881278>"
      ]
     },
     "metadata": {
      "needs_background": "light"
     },
     "output_type": "display_data"
    }
   ],
   "source": [
    "n1, bins1, patches1 = plt.hist(x=G4Reduced2, bins='auto', color='#0504aa',\n",
    "                            alpha=0.7, rwidth=0.85)\n",
    "plt.grid(axis='y', alpha=0.75)\n",
    "plt.xlabel('Value')\n",
    "plt.ylabel('Frequency')\n",
    "plt.title('G4')\n",
    "plt.text(23, 45, r'$\\mu=15, b=3$')\n",
    "maxfreq = n1.max()\n",
    "# Set a clean upper y-axis limit.\n",
    "plt.ylim(ymax=np.ceil(maxfreq / 10) * 10 if maxfreq % 10 else maxfreq + 10)"
   ]
  },
  {
   "cell_type": "code",
   "execution_count": 186,
   "metadata": {},
   "outputs": [
    {
     "data": {
      "text/plain": [
       "(0.0, 20.0)"
      ]
     },
     "execution_count": 186,
     "metadata": {},
     "output_type": "execute_result"
    },
    {
     "data": {
      "image/png": "[encoded data removed]",
      "text/plain": [
       "<matplotlib.figure.Figure at 0x1a13ef0a58>"
      ]
     },
     "metadata": {
      "needs_background": "light"
     },
     "output_type": "display_data"
    }
   ],
   "source": [
    "n1, bins1, patches1 = plt.hist(x=One, bins='auto', color='#0504aa',\n",
    "                            alpha=0.7, rwidth=0.85)\n",
    "plt.grid(axis='y', alpha=0.75)\n",
    "plt.xlabel('Value')\n",
    "plt.ylabel('Frequency')\n",
    "plt.title('One')\n",
    "plt.text(23, 45, r'$\\mu=15, b=3$')\n",
    "maxfreq = n1.max()\n",
    "# Set a clean upper y-axis limit.\n",
    "plt.ylim(ymax=np.ceil(maxfreq / 10) * 10 if maxfreq % 10 else maxfreq + 10)"
   ]
  },
  {
   "cell_type": "code",
   "execution_count": 187,
   "metadata": {},
   "outputs": [
    {
     "data": {
      "text/plain": [
       "(0.0, 30.0)"
      ]
     },
     "execution_count": 187,
     "metadata": {},
     "output_type": "execute_result"
    },
    {
     "data": {
      "image/png": "[encoded data removed]",
      "text/plain": [
       "<matplotlib.figure.Figure at 0x1a0e0dfcf8>"
      ]
     },
     "metadata": {
      "needs_background": "light"
     },
     "output_type": "display_data"
    }
   ],
   "source": [
    "n1, bins1, patches1 = plt.hist(x=Two, bins='auto', color='#0504aa',\n",
    "                            alpha=0.7, rwidth=0.85)\n",
    "plt.grid(axis='y', alpha=0.75)\n",
    "plt.xlabel('Value')\n",
    "plt.ylabel('Frequency')\n",
    "plt.title('Two')\n",
    "plt.text(23, 45, r'$\\mu=15, b=3$')\n",
    "maxfreq = n1.max()\n",
    "# Set a clean upper y-axis limit.\n",
    "plt.ylim(ymax=np.ceil(maxfreq / 10) * 10 if maxfreq % 10 else maxfreq + 10)"
   ]
  },
  {
   "cell_type": "code",
   "execution_count": 84,
   "metadata": {},
   "outputs": [
    {
     "data": {
      "text/plain": [
       "(0.0, 20.0)"
      ]
     },
     "execution_count": 84,
     "metadata": {},
     "output_type": "execute_result"
    },
    {
     "data": {
      "image/png": "[encoded data removed]",
      "text/plain": [
       "<matplotlib.figure.Figure at 0x1a15eb41d0>"
      ]
     },
     "metadata": {
      "needs_background": "light"
     },
     "output_type": "display_data"
    }
   ],
   "source": [
    "n1, bins1, patches1 = plt.hist(x=Four, bins='auto', color='#0504aa',\n",
    "                            alpha=0.7, rwidth=0.85)\n",
    "plt.grid(axis='y', alpha=0.75)\n",
    "plt.xlabel('Value')\n",
    "plt.ylabel('Frequency')\n",
    "plt.title('Four')\n",
    "plt.text(23, 45, r'$\\mu=15, b=3$')\n",
    "maxfreq = n1.max()\n",
    "# Set a clean upper y-axis limit.\n",
    "plt.ylim(ymax=np.ceil(maxfreq / 10) * 10 if maxfreq % 10 else maxfreq + 10)"
   ]
  },
  {
   "cell_type": "code",
   "execution_count": 85,
   "metadata": {},
   "outputs": [
    {
     "data": {
      "text/plain": [
       "(0.0, 30.0)"
      ]
     },
     "execution_count": 85,
     "metadata": {},
     "output_type": "execute_result"
    },
    {
     "data": {
      "image/png": "[encoded data removed]",
      "text/plain": [
       "<matplotlib.figure.Figure at 0x1a15e7a4e0>"
      ]
     },
     "metadata": {
      "needs_background": "light"
     },
     "output_type": "display_data"
    }
   ],
   "source": [
    "n1, bins1, patches1 = plt.hist(x=Five, bins='auto', color='#0504aa',\n",
    "                            alpha=0.7, rwidth=0.85)\n",
    "plt.grid(axis='y', alpha=0.75)\n",
    "plt.xlabel('Value')\n",
    "plt.ylabel('Frequency')\n",
    "plt.title('Five')\n",
    "plt.text(23, 45, r'$\\mu=15, b=3$')\n",
    "maxfreq = n1.max()\n",
    "# Set a clean upper y-axis limit.\n",
    "plt.ylim(ymax=np.ceil(maxfreq / 10) * 10 if maxfreq % 10 else maxfreq + 10)"
   ]
  },
  {
   "cell_type": "code",
   "execution_count": 258,
   "metadata": {},
   "outputs": [
    {
     "name": "stderr",
     "output_type": "stream",
     "text": [
      "/Users/martincasey/anaconda3/lib/python3.6/site-packages/numpy/core/fromnumeric.py:52: FutureWarning: reshape is deprecated and will raise in a subsequent release. Please use .values.reshape(...) instead\n",
      "  return getattr(obj, method)(*args, **kwds)\n"
     ]
    },
    {
     "data": {
      "text/plain": [
       "Text(0.5,1,'Healthy vs Cancerous')"
      ]
     },
     "execution_count": 258,
     "metadata": {},
     "output_type": "execute_result"
    },
    {
     "data": {
      "image/png": "[encoded data removed]",
      "text/plain": [
       "<matplotlib.figure.Figure at 0x1a0d135c18>"
      ]
     },
     "metadata": {
      "needs_background": "light"
     },
     "output_type": "display_data"
    }
   ],
   "source": [
    "n1, bins1, patches1 = plt.hist([Healthy,Cancerous], bins='auto',\n",
    "                            alpha=0.7, rwidth=0.85, label = ['Healthy', 'Cancerous'])\n",
    "plt.grid(axis='y', alpha=0.75)\n",
    "plt.xlabel('Value')\n",
    "plt.ylabel('Frequency')\n",
    "plt.legend(loc='upper right')\n",
    "plt.title('Healthy vs Cancerous')"
   ]
  },
  {
   "cell_type": "code",
   "execution_count": 259,
   "metadata": {},
   "outputs": [
    {
     "name": "stderr",
     "output_type": "stream",
     "text": [
      "/Users/martincasey/anaconda3/lib/python3.6/site-packages/numpy/core/fromnumeric.py:52: FutureWarning: reshape is deprecated and will raise in a subsequent release. Please use .values.reshape(...) instead\n",
      "  return getattr(obj, method)(*args, **kwds)\n"
     ]
    },
    {
     "data": {
      "text/plain": [
       "Text(0.5,1,'Group 1 (Grade 1 and 2) vs Grade 3 + Grade 4 + Grade 5')"
      ]
     },
     "execution_count": 259,
     "metadata": {},
     "output_type": "execute_result"
    },
    {
     "data": {
      "image/png": "[encoded data removed]",
      "text/plain": [
       "<matplotlib.figure.Figure at 0x1a0d14b2b0>"
      ]
     },
     "metadata": {
      "needs_background": "light"
     },
     "output_type": "display_data"
    }
   ],
   "source": [
    "n1, bins1, patches1 = plt.hist([G2Reduced2,ThreeFourFive], bins='auto',\n",
    "                            alpha=0.7, rwidth=0.85, label = ['One+Two', 'Three+Four+Five'])\n",
    "plt.grid(axis='y', alpha=0.75)\n",
    "plt.xlabel('Value')\n",
    "plt.ylabel('Frequency')\n",
    "plt.legend(loc='upper right')\n",
    "plt.title('Group 1 (Grade 1 and 2) vs Grade 3 + Grade 4 + Grade 5')"
   ]
  },
  {
   "cell_type": "code",
   "execution_count": 260,
   "metadata": {},
   "outputs": [
    {
     "name": "stderr",
     "output_type": "stream",
     "text": [
      "/Users/martincasey/anaconda3/lib/python3.6/site-packages/numpy/core/fromnumeric.py:52: FutureWarning: reshape is deprecated and will raise in a subsequent release. Please use .values.reshape(...) instead\n",
      "  return getattr(obj, method)(*args, **kwds)\n"
     ]
    },
    {
     "data": {
      "text/plain": [
       "Text(0.5,1,'Grade 1 + Grade 2 + Grade 3 vs Group 3(Grade 4 + Grade 5)')"
      ]
     },
     "execution_count": 260,
     "metadata": {},
     "output_type": "execute_result"
    },
    {
     "data": {
      "image/png": "[encoded data removed]",
      "text/plain": [
       "<matplotlib.figure.Figure at 0x1a0d88cb70>"
      ]
     },
     "metadata": {
      "needs_background": "light"
     },
     "output_type": "display_data"
    }
   ],
   "source": [
    "n1, bins1, patches1 = plt.hist([OneTwoThree,G4Reduced2], bins='auto',\n",
    "                            alpha=0.7, rwidth=0.85, label = ['One+Two+Three', 'Four+Five'])\n",
    "plt.grid(axis='y', alpha=0.75)\n",
    "plt.xlabel('Value')\n",
    "plt.ylabel('Frequency')\n",
    "plt.legend(loc='upper right')\n",
    "plt.title('Grade 1 + Grade 2 + Grade 3 vs Group 3(Grade 4 + Grade 5)')"
   ]
  },
  {
   "cell_type": "code",
   "execution_count": 261,
   "metadata": {},
   "outputs": [
    {
     "name": "stderr",
     "output_type": "stream",
     "text": [
      "/Users/martincasey/anaconda3/lib/python3.6/site-packages/numpy/core/fromnumeric.py:52: FutureWarning: reshape is deprecated and will raise in a subsequent release. Please use .values.reshape(...) instead\n",
      "  return getattr(obj, method)(*args, **kwds)\n"
     ]
    },
    {
     "data": {
      "text/plain": [
       "Text(0.5,1,'Grade 1 vs Grade 5')"
      ]
     },
     "execution_count": 261,
     "metadata": {},
     "output_type": "execute_result"
    },
    {
     "data": {
      "image/png": "[encoded data removed]",
      "text/plain": [
       "<matplotlib.figure.Figure at 0x1a0d117390>"
      ]
     },
     "metadata": {
      "needs_background": "light"
     },
     "output_type": "display_data"
    }
   ],
   "source": [
    "n1, bins1, patches1 = plt.hist([One,Five], bins='auto',\n",
    "                            alpha=0.7, rwidth=0.85, label = ['One', 'Five'])\n",
    "plt.grid(axis='y', alpha=0.75)\n",
    "plt.xlabel('Value')\n",
    "plt.ylabel('Frequency')\n",
    "plt.legend(loc='upper right')\n",
    "plt.title('Grade 1 vs Grade 5')"
   ]
  },
  {
   "cell_type": "code",
   "execution_count": 346,
   "metadata": {},
   "outputs": [
    {
     "name": "stderr",
     "output_type": "stream",
     "text": [
      "/Users/martincasey/anaconda3/lib/python3.6/site-packages/numpy/core/fromnumeric.py:52: FutureWarning: reshape is deprecated and will raise in a subsequent release. Please use .values.reshape(...) instead\n",
      "  return getattr(obj, method)(*args, **kwds)\n"
     ]
    },
    {
     "data": {
      "text/plain": [
       "Text(0.5,1,'GTEX vs. (Grade 1 + Grade 2)')"
      ]
     },
     "execution_count": 346,
     "metadata": {},
     "output_type": "execute_result"
    },
    {
     "data": {
      "image/png": "[encoded data removed]",
      "text/plain": [
       "<matplotlib.figure.Figure at 0x1a0e6ccda0>"
      ]
     },
     "metadata": {
      "needs_background": "light"
     },
     "output_type": "display_data"
    }
   ],
   "source": [
    "n1, bins1, patches1 = plt.hist([G0Reduced2,G2Reduced2], bins='auto',\n",
    "                            alpha=0.7, rwidth=0.85, label = ['GTEx', 'Grades 1 and 2'])\n",
    "plt.grid(axis='y', alpha=0.75)\n",
    "plt.xlabel('Value')\n",
    "plt.ylabel('Frequency')\n",
    "plt.legend(loc='upper right')\n",
    "plt.title('GTEX vs. (Grade 1 + Grade 2)')"
   ]
  },
  {
   "cell_type": "code",
   "execution_count": 347,
   "metadata": {},
   "outputs": [
    {
     "name": "stderr",
     "output_type": "stream",
     "text": [
      "/Users/martincasey/anaconda3/lib/python3.6/site-packages/numpy/core/fromnumeric.py:52: FutureWarning: reshape is deprecated and will raise in a subsequent release. Please use .values.reshape(...) instead\n",
      "  return getattr(obj, method)(*args, **kwds)\n"
     ]
    },
    {
     "data": {
      "text/plain": [
       "Text(0.5,1,'GTEX vs. Grade 3')"
      ]
     },
     "execution_count": 347,
     "metadata": {},
     "output_type": "execute_result"
    },
    {
     "data": {
      "image/png": "[encoded data removed]",
      "text/plain": [
       "<matplotlib.figure.Figure at 0x1a0f6586a0>"
      ]
     },
     "metadata": {
      "needs_background": "light"
     },
     "output_type": "display_data"
    }
   ],
   "source": [
    "n1, bins1, patches1 = plt.hist([G0Reduced2,G3Reduced2], bins='auto',\n",
    "                            alpha=0.7, rwidth=0.85, label = ['GTEx', 'Grade 3'])\n",
    "plt.grid(axis='y', alpha=0.75)\n",
    "plt.xlabel('Value')\n",
    "plt.ylabel('Frequency')\n",
    "plt.legend(loc='upper right')\n",
    "plt.title('GTEX vs. Grade 3')"
   ]
  },
  {
   "cell_type": "code",
   "execution_count": 348,
   "metadata": {},
   "outputs": [
    {
     "name": "stderr",
     "output_type": "stream",
     "text": [
      "/Users/martincasey/anaconda3/lib/python3.6/site-packages/numpy/core/fromnumeric.py:52: FutureWarning: reshape is deprecated and will raise in a subsequent release. Please use .values.reshape(...) instead\n",
      "  return getattr(obj, method)(*args, **kwds)\n"
     ]
    },
    {
     "data": {
      "text/plain": [
       "Text(0.5,1,'GTEX vs. (Grade 4 + Grade 5)')"
      ]
     },
     "execution_count": 348,
     "metadata": {},
     "output_type": "execute_result"
    },
    {
     "data": {
      "image/png": "[encoded data removed]",
      "text/plain": [
       "<matplotlib.figure.Figure at 0x1a0f8654a8>"
      ]
     },
     "metadata": {
      "needs_background": "light"
     },
     "output_type": "display_data"
    }
   ],
   "source": [
    "n1, bins1, patches1 = plt.hist([G0Reduced2,G3Reduced2], bins='auto',\n",
    "                            alpha=0.7, rwidth=0.85, label = ['GTEx', 'Grades 4 and 5'])\n",
    "plt.grid(axis='y', alpha=0.75)\n",
    "plt.xlabel('Value')\n",
    "plt.ylabel('Frequency')\n",
    "plt.legend(loc='upper right')\n",
    "plt.title('GTEX vs. (Grade 4 + Grade 5)')"
   ]
  },
  {
   "cell_type": "code",
   "execution_count": 349,
   "metadata": {},
   "outputs": [
    {
     "name": "stderr",
     "output_type": "stream",
     "text": [
      "/Users/martincasey/anaconda3/lib/python3.6/site-packages/numpy/core/fromnumeric.py:52: FutureWarning: reshape is deprecated and will raise in a subsequent release. Please use .values.reshape(...) instead\n",
      "  return getattr(obj, method)(*args, **kwds)\n"
     ]
    },
    {
     "data": {
      "text/plain": [
       "Text(0.5,1,'(Grade 1 + Grade 2) vs. Grade 3')"
      ]
     },
     "execution_count": 349,
     "metadata": {},
     "output_type": "execute_result"
    },
    {
     "data": {
      "image/png": "[encoded data removed]",
      "text/plain": [
       "<matplotlib.figure.Figure at 0x1a0d30e320>"
      ]
     },
     "metadata": {
      "needs_background": "light"
     },
     "output_type": "display_data"
    }
   ],
   "source": [
    "n1, bins1, patches1 = plt.hist([G2Reduced2,G3Reduced2], bins='auto',\n",
    "                            alpha=0.7, rwidth=0.85, label = ['Grades 1 and 2', 'Grade 3'])\n",
    "plt.grid(axis='y', alpha=0.75)\n",
    "plt.xlabel('Value')\n",
    "plt.ylabel('Frequency')\n",
    "plt.legend(loc='upper right')\n",
    "plt.title('(Grade 1 + Grade 2) vs. Grade 3')"
   ]
  },
  {
   "cell_type": "code",
   "execution_count": 350,
   "metadata": {},
   "outputs": [
    {
     "name": "stderr",
     "output_type": "stream",
     "text": [
      "/Users/martincasey/anaconda3/lib/python3.6/site-packages/numpy/core/fromnumeric.py:52: FutureWarning: reshape is deprecated and will raise in a subsequent release. Please use .values.reshape(...) instead\n",
      "  return getattr(obj, method)(*args, **kwds)\n"
     ]
    },
    {
     "data": {
      "text/plain": [
       "Text(0.5,1,'(Grade 1 + Grade 2) vs. (Grade 4 + Grade 5)')"
      ]
     },
     "execution_count": 350,
     "metadata": {},
     "output_type": "execute_result"
    },
    {
     "data": {
      "image/png": "[encoded data removed]",
      "text/plain": [
       "<matplotlib.figure.Figure at 0x1a103ad780>"
      ]
     },
     "metadata": {
      "needs_background": "light"
     },
     "output_type": "display_data"
    }
   ],
   "source": [
    "n1, bins1, patches1 = plt.hist([G2Reduced2,G4Reduced2], bins='auto',\n",
    "                            alpha=0.7, rwidth=0.85, label = ['Grades 1 and 2', 'Grades 4 and 5'])\n",
    "plt.grid(axis='y', alpha=0.75)\n",
    "plt.xlabel('Value')\n",
    "plt.ylabel('Frequency')\n",
    "plt.legend(loc='upper right')\n",
    "plt.title('(Grade 1 + Grade 2) vs. (Grade 4 + Grade 5)')"
   ]
  },
  {
   "cell_type": "code",
   "execution_count": 345,
   "metadata": {},
   "outputs": [
    {
     "name": "stderr",
     "output_type": "stream",
     "text": [
      "/Users/martincasey/anaconda3/lib/python3.6/site-packages/numpy/core/fromnumeric.py:52: FutureWarning: reshape is deprecated and will raise in a subsequent release. Please use .values.reshape(...) instead\n",
      "  return getattr(obj, method)(*args, **kwds)\n"
     ]
    },
    {
     "data": {
      "text/plain": [
       "Text(0.5,1,'GTEx vs TCGA Healthy')"
      ]
     },
     "execution_count": 345,
     "metadata": {},
     "output_type": "execute_result"
    },
    {
     "data": {
      "image/png": "[encoded data removed]",
      "text/plain": [
       "<matplotlib.figure.Figure at 0x1a0f11ee80>"
      ]
     },
     "metadata": {
      "needs_background": "light"
     },
     "output_type": "display_data"
    }
   ],
   "source": [
    "n1, bins1, patches1 = plt.hist([G0Reduced2,G1Reduced2], bins='auto',\n",
    "                            alpha=0.7, rwidth=0.85, label = ['GTEx', 'TCGA Healthy'])\n",
    "plt.grid(axis='y', alpha=0.75)\n",
    "plt.xlabel('Value')\n",
    "plt.ylabel('Frequency')\n",
    "plt.legend(loc='upper right')\n",
    "plt.title('GTEx vs TCGA Healthy')"
   ]
  },
  {
   "cell_type": "code",
   "execution_count": 343,
   "metadata": {},
   "outputs": [
    {
     "name": "stderr",
     "output_type": "stream",
     "text": [
      "/Users/martincasey/anaconda3/lib/python3.6/site-packages/numpy/core/fromnumeric.py:52: FutureWarning: reshape is deprecated and will raise in a subsequent release. Please use .values.reshape(...) instead\n",
      "  return getattr(obj, method)(*args, **kwds)\n"
     ]
    },
    {
     "data": {
      "text/plain": [
       "Text(0.5,1,'GTEx vs Grade 5')"
      ]
     },
     "execution_count": 343,
     "metadata": {},
     "output_type": "execute_result"
    },
    {
     "data": {
      "image/png": "[encoded data removed]",
      "text/plain": [
       "<matplotlib.figure.Figure at 0x1a0f7f6a58>"
      ]
     },
     "metadata": {
      "needs_background": "light"
     },
     "output_type": "display_data"
    }
   ],
   "source": [
    "n1, bins1, patches1 = plt.hist([G0Reduced2,Five], bins='auto',\n",
    "                            alpha=0.7, rwidth=0.85, label = ['GTEx', 'Grade 5'])\n",
    "plt.grid(axis='y', alpha=0.75)\n",
    "plt.xlabel('Value')\n",
    "plt.ylabel('Frequency')\n",
    "plt.legend(loc='upper right')\n",
    "plt.title('GTEx vs Grade 5')"
   ]
  },
  {
   "cell_type": "code",
   "execution_count": 344,
   "metadata": {},
   "outputs": [
    {
     "name": "stderr",
     "output_type": "stream",
     "text": [
      "/Users/martincasey/anaconda3/lib/python3.6/site-packages/numpy/core/fromnumeric.py:52: FutureWarning: reshape is deprecated and will raise in a subsequent release. Please use .values.reshape(...) instead\n",
      "  return getattr(obj, method)(*args, **kwds)\n"
     ]
    },
    {
     "data": {
      "text/plain": [
       "Text(0.5,1,'TCGA Healthy vs Grade 5')"
      ]
     },
     "execution_count": 344,
     "metadata": {},
     "output_type": "execute_result"
    },
    {
     "data": {
      "image/png": "[encoded data removed]",
      "text/plain": [
       "<matplotlib.figure.Figure at 0x1a0f7aae80>"
      ]
     },
     "metadata": {
      "needs_background": "light"
     },
     "output_type": "display_data"
    }
   ],
   "source": [
    "n1, bins1, patches1 = plt.hist([G1Reduced2,Five], bins='auto',\n",
    "                            alpha=0.7, rwidth=0.85, label = ['TCGA Healthy', 'Grade 5'])\n",
    "plt.grid(axis='y', alpha=0.75)\n",
    "plt.xlabel('Value')\n",
    "plt.ylabel('Frequency')\n",
    "plt.legend(loc='upper right')\n",
    "plt.title('TCGA Healthy vs Grade 5')"
   ]
  },
  {
   "cell_type": "markdown",
   "metadata": {},
   "source": [
    "### QQ Plot"
   ]
  },
  {
   "cell_type": "code",
   "execution_count": 90,
   "metadata": {},
   "outputs": [
    {
     "data": {
      "image/png": "[encoded data removed]",
      "text/plain": [
       "<matplotlib.figure.Figure at 0x1a13e995f8>"
      ]
     },
     "execution_count": 90,
     "metadata": {},
     "output_type": "execute_result"
    },
    {
     "data": {
      "image/png": "[encoded data removed]",
      "text/plain": [
       "<matplotlib.figure.Figure at 0x1a13e995f8>"
      ]
     },
     "metadata": {
      "needs_background": "light"
     },
     "output_type": "display_data"
    }
   ],
   "source": [
    "qqplot(G0Reduced2, line = '45', fit = True)"
   ]
  },
  {
   "cell_type": "code",
   "execution_count": 91,
   "metadata": {},
   "outputs": [
    {
     "data": {
      "image/png": "[encoded data removed]",
      "text/plain": [
       "<matplotlib.figure.Figure at 0x1a13e31be0>"
      ]
     },
     "execution_count": 91,
     "metadata": {},
     "output_type": "execute_result"
    },
    {
     "data": {
      "image/png": "[encoded data removed]",
      "text/plain": [
       "<matplotlib.figure.Figure at 0x1a13e31be0>"
      ]
     },
     "metadata": {
      "needs_background": "light"
     },
     "output_type": "display_data"
    }
   ],
   "source": [
    "qqplot(G1Reduced2, line = '45', fit = True)"
   ]
  },
  {
   "cell_type": "code",
   "execution_count": 92,
   "metadata": {},
   "outputs": [
    {
     "data": {
      "image/png": "[encoded data removed]",
      "text/plain": [
       "<matplotlib.figure.Figure at 0x1a0bc7fef0>"
      ]
     },
     "execution_count": 92,
     "metadata": {},
     "output_type": "execute_result"
    },
    {
     "data": {
      "image/png": "[encoded data removed]",
      "text/plain": [
       "<matplotlib.figure.Figure at 0x1a0bc7fef0>"
      ]
     },
     "metadata": {
      "needs_background": "light"
     },
     "output_type": "display_data"
    }
   ],
   "source": [
    "qqplot(G2Reduced2, line = '45', fit = True)"
   ]
  },
  {
   "cell_type": "code",
   "execution_count": 93,
   "metadata": {},
   "outputs": [
    {
     "data": {
      "image/png": "[encoded data removed]",
      "text/plain": [
       "<matplotlib.figure.Figure at 0x1a13e99c50>"
      ]
     },
     "execution_count": 93,
     "metadata": {},
     "output_type": "execute_result"
    },
    {
     "data": {
      "image/png": "[encoded data removed]",
      "text/plain": [
       "<matplotlib.figure.Figure at 0x1a13e99c50>"
      ]
     },
     "metadata": {
      "needs_background": "light"
     },
     "output_type": "display_data"
    }
   ],
   "source": [
    "qqplot(G3Reduced2, line = '45', fit = True)"
   ]
  },
  {
   "cell_type": "code",
   "execution_count": 94,
   "metadata": {},
   "outputs": [
    {
     "data": {
      "image/png": "[encoded data removed]",
      "text/plain": [
       "<matplotlib.figure.Figure at 0x1a2c88fa58>"
      ]
     },
     "execution_count": 94,
     "metadata": {},
     "output_type": "execute_result"
    },
    {
     "data": {
      "image/png": "[encoded data removed]",
      "text/plain": [
       "<matplotlib.figure.Figure at 0x1a2c88fa58>"
      ]
     },
     "metadata": {
      "needs_background": "light"
     },
     "output_type": "display_data"
    }
   ],
   "source": [
    "qqplot(G4Reduced2, line = '45', fit = True)"
   ]
  },
  {
   "cell_type": "code",
   "execution_count": 95,
   "metadata": {},
   "outputs": [
    {
     "data": {
      "image/png": "[encoded data removed]",
      "text/plain": [
       "<matplotlib.figure.Figure at 0x1a13e99ac8>"
      ]
     },
     "execution_count": 95,
     "metadata": {},
     "output_type": "execute_result"
    },
    {
     "data": {
      "image/png": "[encoded data removed]",
      "text/plain": [
       "<matplotlib.figure.Figure at 0x1a13e99ac8>"
      ]
     },
     "metadata": {
      "needs_background": "light"
     },
     "output_type": "display_data"
    }
   ],
   "source": [
    "qqplot(One, line = '45', fit = True)"
   ]
  },
  {
   "cell_type": "code",
   "execution_count": 96,
   "metadata": {},
   "outputs": [
    {
     "data": {
      "image/png": "[encoded data removed]",
      "text/plain": [
       "<matplotlib.figure.Figure at 0x1a2c849630>"
      ]
     },
     "execution_count": 96,
     "metadata": {},
     "output_type": "execute_result"
    },
    {
     "data": {
      "image/png": "[encoded data removed]",
      "text/plain": [
       "<matplotlib.figure.Figure at 0x1a2c849630>"
      ]
     },
     "metadata": {
      "needs_background": "light"
     },
     "output_type": "display_data"
    }
   ],
   "source": [
    "qqplot(Two, line = '45', fit = True)"
   ]
  },
  {
   "cell_type": "code",
   "execution_count": 97,
   "metadata": {},
   "outputs": [
    {
     "data": {
      "image/png": "[encoded data removed]",
      "text/plain": [
       "<matplotlib.figure.Figure at 0x1a2c8870f0>"
      ]
     },
     "execution_count": 97,
     "metadata": {},
     "output_type": "execute_result"
    },
    {
     "data": {
      "image/png": "[encoded data removed]",
      "text/plain": [
       "<matplotlib.figure.Figure at 0x1a2c8870f0>"
      ]
     },
     "metadata": {
      "needs_background": "light"
     },
     "output_type": "display_data"
    }
   ],
   "source": [
    "qqplot(Four, line = '45', fit = True)"
   ]
  },
  {
   "cell_type": "code",
   "execution_count": 98,
   "metadata": {},
   "outputs": [
    {
     "data": {
      "image/png": "[encoded data removed]",
      "text/plain": [
       "<matplotlib.figure.Figure at 0x1a0b162a90>"
      ]
     },
     "execution_count": 98,
     "metadata": {},
     "output_type": "execute_result"
    },
    {
     "data": {
      "image/png": "[encoded data removed]",
      "text/plain": [
       "<matplotlib.figure.Figure at 0x1a0b162a90>"
      ]
     },
     "metadata": {
      "needs_background": "light"
     },
     "output_type": "display_data"
    }
   ],
   "source": [
    "qqplot(Five, line = '45', fit = True)"
   ]
  },
  {
   "cell_type": "markdown",
   "metadata": {},
   "source": [
    "### Shapiro-Wilk Test"
   ]
  },
  {
   "cell_type": "code",
   "execution_count": 263,
   "metadata": {},
   "outputs": [
    {
     "name": "stdout",
     "output_type": "stream",
     "text": [
      "Statistics=0.916, p=0.000\n",
      "Sample does not look Gaussian (reject H0)\n"
     ]
    }
   ],
   "source": [
    "stat, p = shapiro(G0Reduced2)\n",
    "print('Statistics=%.3f, p=%.3f' % (stat, p))\n",
    "alpha = 0.05\n",
    "if p > alpha:\n",
    "    print('Sample looks Gaussian (fail to reject H0)')\n",
    "else:\n",
    "    print('Sample does not look Gaussian (reject H0)')"
   ]
  },
  {
   "cell_type": "code",
   "execution_count": 264,
   "metadata": {},
   "outputs": [
    {
     "name": "stdout",
     "output_type": "stream",
     "text": [
      "Statistics=0.864, p=0.000\n",
      "Sample does not look Gaussian (reject H0)\n"
     ]
    }
   ],
   "source": [
    "stat, p = shapiro(G1Reduced2)\n",
    "print('Statistics=%.3f, p=%.3f' % (stat, p))\n",
    "alpha = 0.05\n",
    "if p > alpha:\n",
    "    print('Sample looks Gaussian (fail to reject H0)')\n",
    "else:\n",
    "    print('Sample does not look Gaussian (reject H0)')"
   ]
  },
  {
   "cell_type": "code",
   "execution_count": 265,
   "metadata": {},
   "outputs": [
    {
     "name": "stdout",
     "output_type": "stream",
     "text": [
      "Statistics=0.960, p=0.000\n",
      "Sample does not look Gaussian (reject H0)\n"
     ]
    }
   ],
   "source": [
    "stat, p = shapiro(G2Reduced2)\n",
    "print('Statistics=%.3f, p=%.3f' % (stat, p))\n",
    "alpha = 0.05\n",
    "if p > alpha:\n",
    "    print('Sample looks Gaussian (fail to reject H0)')\n",
    "else:\n",
    "    print('Sample does not look Gaussian (reject H0)')"
   ]
  },
  {
   "cell_type": "code",
   "execution_count": 266,
   "metadata": {},
   "outputs": [
    {
     "name": "stdout",
     "output_type": "stream",
     "text": [
      "Statistics=0.946, p=0.002\n",
      "Sample does not look Gaussian (reject H0)\n"
     ]
    }
   ],
   "source": [
    "stat, p = shapiro(G3Reduced2)\n",
    "print('Statistics=%.3f, p=%.3f' % (stat, p))\n",
    "alpha = 0.05\n",
    "if p > alpha:\n",
    "    print('Sample looks Gaussian (fail to reject H0)')\n",
    "else:\n",
    "    print('Sample does not look Gaussian (reject H0)')"
   ]
  },
  {
   "cell_type": "code",
   "execution_count": 267,
   "metadata": {},
   "outputs": [
    {
     "name": "stdout",
     "output_type": "stream",
     "text": [
      "Statistics=0.966, p=0.000\n",
      "Sample does not look Gaussian (reject H0)\n"
     ]
    }
   ],
   "source": [
    "stat, p = shapiro(G4Reduced2)\n",
    "print('Statistics=%.3f, p=%.3f' % (stat, p))\n",
    "alpha = 0.05\n",
    "if p > alpha:\n",
    "    print('Sample looks Gaussian (fail to reject H0)')\n",
    "else:\n",
    "    print('Sample does not look Gaussian (reject H0)')"
   ]
  },
  {
   "cell_type": "code",
   "execution_count": 268,
   "metadata": {},
   "outputs": [
    {
     "name": "stdout",
     "output_type": "stream",
     "text": [
      "Statistics=0.884, p=0.001\n",
      "Sample does not look Gaussian (reject H0)\n"
     ]
    }
   ],
   "source": [
    "stat, p = shapiro(One)\n",
    "print('Statistics=%.3f, p=%.3f' % (stat, p))\n",
    "alpha = 0.05\n",
    "if p > alpha:\n",
    "    print('Sample looks Gaussian (fail to reject H0)')\n",
    "else:\n",
    "    print('Sample does not look Gaussian (reject H0)')"
   ]
  },
  {
   "cell_type": "code",
   "execution_count": 269,
   "metadata": {},
   "outputs": [
    {
     "name": "stdout",
     "output_type": "stream",
     "text": [
      "Statistics=0.973, p=0.014\n",
      "Sample does not look Gaussian (reject H0)\n"
     ]
    }
   ],
   "source": [
    "stat, p = shapiro(Two)\n",
    "print('Statistics=%.3f, p=%.3f' % (stat, p))\n",
    "alpha = 0.05\n",
    "if p > alpha:\n",
    "    print('Sample looks Gaussian (fail to reject H0)')\n",
    "else:\n",
    "    print('Sample does not look Gaussian (reject H0)')"
   ]
  },
  {
   "cell_type": "code",
   "execution_count": 270,
   "metadata": {},
   "outputs": [
    {
     "name": "stdout",
     "output_type": "stream",
     "text": [
      "Statistics=0.923, p=0.001\n",
      "Sample does not look Gaussian (reject H0)\n"
     ]
    }
   ],
   "source": [
    "stat, p = shapiro(Four)\n",
    "print('Statistics=%.3f, p=%.3f' % (stat, p))\n",
    "alpha = 0.05\n",
    "if p > alpha:\n",
    "    print('Sample looks Gaussian (fail to reject H0)')\n",
    "else:\n",
    "    print('Sample does not look Gaussian (reject H0)')"
   ]
  },
  {
   "cell_type": "code",
   "execution_count": 271,
   "metadata": {},
   "outputs": [
    {
     "name": "stdout",
     "output_type": "stream",
     "text": [
      "Statistics=0.975, p=0.017\n",
      "Sample does not look Gaussian (reject H0)\n"
     ]
    }
   ],
   "source": [
    "stat, p = shapiro(Five)\n",
    "print('Statistics=%.3f, p=%.3f' % (stat, p))\n",
    "alpha = 0.05\n",
    "if p > alpha:\n",
    "    print('Sample looks Gaussian (fail to reject H0)')\n",
    "else:\n",
    "    print('Sample does not look Gaussian (reject H0)')"
   ]
  },
  {
   "cell_type": "markdown",
   "metadata": {},
   "source": [
    "Since the GTEX group and some of the others are not gaussian, we will have to use a non-parametric test"
   ]
  },
  {
   "cell_type": "markdown",
   "metadata": {},
   "source": [
    "## Mann-Whitney U (Comparing all to GTEX)"
   ]
  },
  {
   "cell_type": "code",
   "execution_count": 272,
   "metadata": {},
   "outputs": [
    {
     "name": "stdout",
     "output_type": "stream",
     "text": [
      "Statistics=5618.000, p=0.999\n",
      "Two samples come from the same population (fail to reject H0)\n"
     ]
    }
   ],
   "source": [
    "stat, p = mannwhitneyu(G0Reduced2, G0Reduced2, alternative = 'two-sided')\n",
    "print('Statistics=%.3f, p=%.3f' % (stat, p))\n",
    "alpha = 0.05\n",
    "if p < alpha:\n",
    "    print('A particular population tends to have larger value compared to the other (reject H0)')\n",
    "else:\n",
    "    print('Two samples come from the same population (fail to reject H0)')"
   ]
  },
  {
   "cell_type": "code",
   "execution_count": 273,
   "metadata": {},
   "outputs": [
    {
     "name": "stdout",
     "output_type": "stream",
     "text": [
      "Statistics=1769.000, p=0.003\n",
      "A particular population tends to have larger value compared to the other (reject H0)\n"
     ]
    }
   ],
   "source": [
    "stat, p = mannwhitneyu(G0Reduced2, G1Reduced2, alternative = 'two-sided')\n",
    "print('Statistics=%.3f, p=%.3f' % (stat, p))\n",
    "alpha = 0.05\n",
    "if p < alpha:\n",
    "    print('A particular population tends to have larger value compared to the other (reject H0)')\n",
    "else:\n",
    "    print('Two samples come from the same population (fail to reject H0)')"
   ]
  },
  {
   "cell_type": "code",
   "execution_count": 274,
   "metadata": {},
   "outputs": [
    {
     "name": "stdout",
     "output_type": "stream",
     "text": [
      "Statistics=478.000, p=0.000\n",
      "A particular population tends to have larger value compared to the other (reject H0)\n"
     ]
    }
   ],
   "source": [
    "stat, p = mannwhitneyu(G0Reduced2, G2Reduced2, alternative = 'two-sided')\n",
    "print('Statistics=%.3f, p=%.3f' % (stat, p))\n",
    "alpha = 0.05\n",
    "if p < alpha:\n",
    "    print('A particular population tends to have larger value compared to the other (reject H0)')\n",
    "else:\n",
    "    print('Two samples come from the same population (fail to reject H0)')"
   ]
  },
  {
   "cell_type": "code",
   "execution_count": 111,
   "metadata": {},
   "outputs": [
    {
     "name": "stdout",
     "output_type": "stream",
     "text": [
      "Statistics=293.000, p=0.000\n",
      "A particular population tends to have larger value compared to the other (reject H0)\n"
     ]
    }
   ],
   "source": [
    "stat, p = mannwhitneyu(G0Reduced2, G3Reduced2, alternative = 'two-sided')\n",
    "print('Statistics=%.3f, p=%.3f' % (stat, p))\n",
    "alpha = 0.05\n",
    "if p < alpha:\n",
    "    print('A particular population tends to have larger value compared to the other (reject H0)')\n",
    "else:\n",
    "    print('Two samples come from the same population (fail to reject H0)')"
   ]
  },
  {
   "cell_type": "code",
   "execution_count": 112,
   "metadata": {},
   "outputs": [
    {
     "name": "stdout",
     "output_type": "stream",
     "text": [
      "Statistics=1457.000, p=0.000\n",
      "A particular population tends to have larger value compared to the other (reject H0)\n"
     ]
    }
   ],
   "source": [
    "stat, p = mannwhitneyu(G0Reduced2, G4Reduced2, alternative = 'two-sided')\n",
    "print('Statistics=%.3f, p=%.3f' % (stat, p))\n",
    "alpha = 0.05\n",
    "if p < alpha:\n",
    "    print('A particular population tends to have larger value compared to the other (reject H0)')\n",
    "else:\n",
    "    print('Two samples come from the same population (fail to reject H0)')"
   ]
  },
  {
   "cell_type": "code",
   "execution_count": 113,
   "metadata": {},
   "outputs": [
    {
     "name": "stdout",
     "output_type": "stream",
     "text": [
      "Statistics=117.000, p=0.000\n",
      "A particular population tends to have larger value compared to the other (reject H0)\n"
     ]
    }
   ],
   "source": [
    "stat, p = mannwhitneyu(G0Reduced2, One, alternative = 'two-sided')\n",
    "print('Statistics=%.3f, p=%.3f' % (stat, p))\n",
    "alpha = 0.05\n",
    "if p < alpha:\n",
    "    print('A particular population tends to have larger value compared to the other (reject H0)')\n",
    "else:\n",
    "    print('Two samples come from the same population (fail to reject H0)')"
   ]
  },
  {
   "cell_type": "code",
   "execution_count": 114,
   "metadata": {},
   "outputs": [
    {
     "name": "stdout",
     "output_type": "stream",
     "text": [
      "Statistics=401.000, p=0.000\n",
      "A particular population tends to have larger value compared to the other (reject H0)\n"
     ]
    }
   ],
   "source": [
    "stat, p = mannwhitneyu(G0Reduced2, Two, alternative = 'two-sided')\n",
    "print('Statistics=%.3f, p=%.3f' % (stat, p))\n",
    "alpha = 0.05\n",
    "if p < alpha:\n",
    "    print('A particular population tends to have larger value compared to the other (reject H0)')\n",
    "else:\n",
    "    print('Two samples come from the same population (fail to reject H0)')"
   ]
  },
  {
   "cell_type": "code",
   "execution_count": 115,
   "metadata": {},
   "outputs": [
    {
     "name": "stdout",
     "output_type": "stream",
     "text": [
      "Statistics=453.000, p=0.000\n",
      "A particular population tends to have larger value compared to the other (reject H0)\n"
     ]
    }
   ],
   "source": [
    "stat, p = mannwhitneyu(G0Reduced2, Four, alternative = 'two-sided')\n",
    "print('Statistics=%.3f, p=%.3f' % (stat, p))\n",
    "alpha = 0.05\n",
    "if p < alpha:\n",
    "    print('A particular population tends to have larger value compared to the other (reject H0)')\n",
    "else:\n",
    "    print('Two samples come from the same population (fail to reject H0)')"
   ]
  },
  {
   "cell_type": "code",
   "execution_count": 116,
   "metadata": {},
   "outputs": [
    {
     "name": "stdout",
     "output_type": "stream",
     "text": [
      "Statistics=1004.000, p=0.000\n",
      "A particular population tends to have larger value compared to the other (reject H0)\n"
     ]
    }
   ],
   "source": [
    "stat, p = mannwhitneyu(G0Reduced2, Five, alternative = 'two-sided')\n",
    "print('Statistics=%.3f, p=%.3f' % (stat, p))\n",
    "alpha = 0.05\n",
    "if p < alpha:\n",
    "    print('A particular population tends to have larger value compared to the other (reject H0)')\n",
    "else:\n",
    "    print('Two samples come from the same population (fail to reject H0)')"
   ]
  },
  {
   "cell_type": "markdown",
   "metadata": {},
   "source": [
    "## Mann-Whitney U (Comparing All to G1)"
   ]
  },
  {
   "cell_type": "code",
   "execution_count": 329,
   "metadata": {},
   "outputs": [
    {
     "name": "stdout",
     "output_type": "stream",
     "text": [
      "Statistics=3319.000, p=0.003\n",
      "A particular population tends to have larger value compared to the other (reject H0)\n"
     ]
    }
   ],
   "source": [
    "stat, p = mannwhitneyu(G1Reduced2, G0Reduced2, alternative = 'two-sided')\n",
    "print('Statistics=%.3f, p=%.3f' % (stat, p))\n",
    "alpha = 0.05\n",
    "if p < alpha:\n",
    "    print('A particular population tends to have larger value compared to the other (reject H0)')\n",
    "else:\n",
    "    print('Two samples come from the same population (fail to reject H0)')"
   ]
  },
  {
   "cell_type": "code",
   "execution_count": 330,
   "metadata": {},
   "outputs": [
    {
     "name": "stdout",
     "output_type": "stream",
     "text": [
      "Statistics=1152.000, p=0.997\n",
      "Two samples come from the same population (fail to reject H0)\n"
     ]
    }
   ],
   "source": [
    "stat, p = mannwhitneyu(G1Reduced2, G1Reduced2, alternative = 'two-sided')\n",
    "print('Statistics=%.3f, p=%.3f' % (stat, p))\n",
    "alpha = 0.05\n",
    "if p < alpha:\n",
    "    print('A particular population tends to have larger value compared to the other (reject H0)')\n",
    "else:\n",
    "    print('Two samples come from the same population (fail to reject H0)')"
   ]
  },
  {
   "cell_type": "code",
   "execution_count": 331,
   "metadata": {},
   "outputs": [
    {
     "name": "stdout",
     "output_type": "stream",
     "text": [
      "Statistics=2171.000, p=0.000\n",
      "A particular population tends to have larger value compared to the other (reject H0)\n"
     ]
    }
   ],
   "source": [
    "stat, p = mannwhitneyu(G1Reduced2, G2Reduced2, alternative = 'two-sided')\n",
    "print('Statistics=%.3f, p=%.3f' % (stat, p))\n",
    "alpha = 0.05\n",
    "if p < alpha:\n",
    "    print('A particular population tends to have larger value compared to the other (reject H0)')\n",
    "else:\n",
    "    print('Two samples come from the same population (fail to reject H0)')"
   ]
  },
  {
   "cell_type": "code",
   "execution_count": 332,
   "metadata": {},
   "outputs": [
    {
     "name": "stdout",
     "output_type": "stream",
     "text": [
      "Statistics=1153.000, p=0.000\n",
      "A particular population tends to have larger value compared to the other (reject H0)\n"
     ]
    }
   ],
   "source": [
    "stat, p = mannwhitneyu(G1Reduced2, G3Reduced2, alternative = 'two-sided')\n",
    "print('Statistics=%.3f, p=%.3f' % (stat, p))\n",
    "alpha = 0.05\n",
    "if p < alpha:\n",
    "    print('A particular population tends to have larger value compared to the other (reject H0)')\n",
    "else:\n",
    "    print('Two samples come from the same population (fail to reject H0)')"
   ]
  },
  {
   "cell_type": "code",
   "execution_count": 333,
   "metadata": {},
   "outputs": [
    {
     "name": "stdout",
     "output_type": "stream",
     "text": [
      "Statistics=3352.000, p=0.007\n",
      "A particular population tends to have larger value compared to the other (reject H0)\n"
     ]
    }
   ],
   "source": [
    "stat, p = mannwhitneyu(G1Reduced2, G4Reduced2, alternative = 'two-sided')\n",
    "print('Statistics=%.3f, p=%.3f' % (stat, p))\n",
    "alpha = 0.05\n",
    "if p < alpha:\n",
    "    print('A particular population tends to have larger value compared to the other (reject H0)')\n",
    "else:\n",
    "    print('Two samples come from the same population (fail to reject H0)')"
   ]
  },
  {
   "cell_type": "code",
   "execution_count": 334,
   "metadata": {},
   "outputs": [
    {
     "name": "stdout",
     "output_type": "stream",
     "text": [
      "Statistics=396.000, p=0.000\n",
      "A particular population tends to have larger value compared to the other (reject H0)\n"
     ]
    }
   ],
   "source": [
    "stat, p = mannwhitneyu(G1Reduced2, One, alternative = 'two-sided')\n",
    "print('Statistics=%.3f, p=%.3f' % (stat, p))\n",
    "alpha = 0.05\n",
    "if p < alpha:\n",
    "    print('A particular population tends to have larger value compared to the other (reject H0)')\n",
    "else:\n",
    "    print('Two samples come from the same population (fail to reject H0)')"
   ]
  },
  {
   "cell_type": "code",
   "execution_count": 335,
   "metadata": {},
   "outputs": [
    {
     "name": "stdout",
     "output_type": "stream",
     "text": [
      "Statistics=1775.000, p=0.000\n",
      "A particular population tends to have larger value compared to the other (reject H0)\n"
     ]
    }
   ],
   "source": [
    "stat, p = mannwhitneyu(G1Reduced2, Two, alternative = 'two-sided')\n",
    "print('Statistics=%.3f, p=%.3f' % (stat, p))\n",
    "alpha = 0.05\n",
    "if p < alpha:\n",
    "    print('A particular population tends to have larger value compared to the other (reject H0)')\n",
    "else:\n",
    "    print('Two samples come from the same population (fail to reject H0)')"
   ]
  },
  {
   "cell_type": "code",
   "execution_count": 336,
   "metadata": {},
   "outputs": [
    {
     "name": "stdout",
     "output_type": "stream",
     "text": [
      "Statistics=888.000, p=0.001\n",
      "A particular population tends to have larger value compared to the other (reject H0)\n"
     ]
    }
   ],
   "source": [
    "stat, p = mannwhitneyu(G1Reduced2, Four, alternative = 'two-sided')\n",
    "print('Statistics=%.3f, p=%.3f' % (stat, p))\n",
    "alpha = 0.05\n",
    "if p < alpha:\n",
    "    print('A particular population tends to have larger value compared to the other (reject H0)')\n",
    "else:\n",
    "    print('Two samples come from the same population (fail to reject H0)')"
   ]
  },
  {
   "cell_type": "code",
   "execution_count": 337,
   "metadata": {},
   "outputs": [
    {
     "name": "stdout",
     "output_type": "stream",
     "text": [
      "Statistics=2464.000, p=0.051\n",
      "Two samples come from the same population (fail to reject H0)\n"
     ]
    }
   ],
   "source": [
    "stat, p = mannwhitneyu(G1Reduced2, Five, alternative = 'two-sided')\n",
    "print('Statistics=%.3f, p=%.3f' % (stat, p))\n",
    "alpha = 0.05\n",
    "if p < alpha:\n",
    "    print('A particular population tends to have larger value compared to the other (reject H0)')\n",
    "else:\n",
    "    print('Two samples come from the same population (fail to reject H0)')"
   ]
  },
  {
   "cell_type": "markdown",
   "metadata": {},
   "source": [
    "## Mann-Whitney U (Comparing All to G3)"
   ]
  },
  {
   "cell_type": "code",
   "execution_count": 275,
   "metadata": {},
   "outputs": [
    {
     "name": "stdout",
     "output_type": "stream",
     "text": [
      "Statistics=8131.000, p=0.000\n",
      "A particular population tends to have larger value compared to the other (reject H0)\n"
     ]
    }
   ],
   "source": [
    "stat, p = mannwhitneyu(G3Reduced2, G0Reduced2, alternative = 'two-sided')\n",
    "print('Statistics=%.3f, p=%.3f' % (stat, p))\n",
    "alpha = 0.05\n",
    "if p < alpha:\n",
    "    print('A particular population tends to have larger value compared to the other (reject H0)')\n",
    "else:\n",
    "    print('Two samples come from the same population (fail to reject H0)')"
   ]
  },
  {
   "cell_type": "code",
   "execution_count": 276,
   "metadata": {},
   "outputs": [
    {
     "name": "stdout",
     "output_type": "stream",
     "text": [
      "Statistics=2639.000, p=0.000\n",
      "A particular population tends to have larger value compared to the other (reject H0)\n"
     ]
    }
   ],
   "source": [
    "stat, p = mannwhitneyu(G3Reduced2, G1Reduced2, alternative = 'two-sided')\n",
    "print('Statistics=%.3f, p=%.3f' % (stat, p))\n",
    "alpha = 0.05\n",
    "if p < alpha:\n",
    "    print('A particular population tends to have larger value compared to the other (reject H0)')\n",
    "else:\n",
    "    print('Two samples come from the same population (fail to reject H0)')"
   ]
  },
  {
   "cell_type": "code",
   "execution_count": 277,
   "metadata": {},
   "outputs": [
    {
     "name": "stdout",
     "output_type": "stream",
     "text": [
      "Statistics=5541.000, p=0.122\n",
      "Two samples come from the same population (fail to reject H0)\n"
     ]
    }
   ],
   "source": [
    "stat, p = mannwhitneyu(G3Reduced2, G2Reduced2, alternative = 'two-sided')\n",
    "print('Statistics=%.3f, p=%.3f' % (stat, p))\n",
    "alpha = 0.05\n",
    "if p < alpha:\n",
    "    print('A particular population tends to have larger value compared to the other (reject H0)')\n",
    "else:\n",
    "    print('Two samples come from the same population (fail to reject H0)')"
   ]
  },
  {
   "cell_type": "code",
   "execution_count": 278,
   "metadata": {},
   "outputs": [
    {
     "name": "stdout",
     "output_type": "stream",
     "text": [
      "Statistics=3120.500, p=0.999\n",
      "Two samples come from the same population (fail to reject H0)\n"
     ]
    }
   ],
   "source": [
    "stat, p = mannwhitneyu(G3Reduced2, G3Reduced2, alternative = 'two-sided')\n",
    "print('Statistics=%.3f, p=%.3f' % (stat, p))\n",
    "alpha = 0.05\n",
    "if p < alpha:\n",
    "    print('A particular population tends to have larger value compared to the other (reject H0)')\n",
    "else:\n",
    "    print('Two samples come from the same population (fail to reject H0)')"
   ]
  },
  {
   "cell_type": "code",
   "execution_count": 279,
   "metadata": {},
   "outputs": [
    {
     "name": "stdout",
     "output_type": "stream",
     "text": [
      "Statistics=8976.000, p=0.006\n",
      "A particular population tends to have larger value compared to the other (reject H0)\n"
     ]
    }
   ],
   "source": [
    "stat, p = mannwhitneyu(G3Reduced2, G4Reduced2, alternative = 'two-sided')\n",
    "print('Statistics=%.3f, p=%.3f' % (stat, p))\n",
    "alpha = 0.05\n",
    "if p < alpha:\n",
    "    print('A particular population tends to have larger value compared to the other (reject H0)')\n",
    "else:\n",
    "    print('Two samples come from the same population (fail to reject H0)')"
   ]
  },
  {
   "cell_type": "code",
   "execution_count": 280,
   "metadata": {},
   "outputs": [
    {
     "name": "stdout",
     "output_type": "stream",
     "text": [
      "Statistics=1024.000, p=0.006\n",
      "A particular population tends to have larger value compared to the other (reject H0)\n"
     ]
    }
   ],
   "source": [
    "stat, p = mannwhitneyu(G3Reduced2, One, alternative = 'two-sided')\n",
    "print('Statistics=%.3f, p=%.3f' % (stat, p))\n",
    "alpha = 0.05\n",
    "if p < alpha:\n",
    "    print('A particular population tends to have larger value compared to the other (reject H0)')\n",
    "else:\n",
    "    print('Two samples come from the same population (fail to reject H0)')"
   ]
  },
  {
   "cell_type": "code",
   "execution_count": 281,
   "metadata": {},
   "outputs": [
    {
     "name": "stdout",
     "output_type": "stream",
     "text": [
      "Statistics=4517.000, p=0.454\n",
      "Two samples come from the same population (fail to reject H0)\n"
     ]
    }
   ],
   "source": [
    "stat, p = mannwhitneyu(G3Reduced2, Two, alternative = 'two-sided')\n",
    "print('Statistics=%.3f, p=%.3f' % (stat, p))\n",
    "alpha = 0.05\n",
    "if p < alpha:\n",
    "    print('A particular population tends to have larger value compared to the other (reject H0)')\n",
    "else:\n",
    "    print('Two samples come from the same population (fail to reject H0)')"
   ]
  },
  {
   "cell_type": "code",
   "execution_count": 282,
   "metadata": {},
   "outputs": [
    {
     "name": "stdout",
     "output_type": "stream",
     "text": [
      "Statistics=2395.000, p=0.917\n",
      "Two samples come from the same population (fail to reject H0)\n"
     ]
    }
   ],
   "source": [
    "stat, p = mannwhitneyu(G3Reduced2, Four, alternative = 'two-sided')\n",
    "print('Statistics=%.3f, p=%.3f' % (stat, p))\n",
    "alpha = 0.05\n",
    "if p < alpha:\n",
    "    print('A particular population tends to have larger value compared to the other (reject H0)')\n",
    "else:\n",
    "    print('Two samples come from the same population (fail to reject H0)')"
   ]
  },
  {
   "cell_type": "code",
   "execution_count": 283,
   "metadata": {},
   "outputs": [
    {
     "name": "stdout",
     "output_type": "stream",
     "text": [
      "Statistics=6581.000, p=0.000\n",
      "A particular population tends to have larger value compared to the other (reject H0)\n"
     ]
    }
   ],
   "source": [
    "stat, p = mannwhitneyu(G3Reduced2, Five, alternative = 'two-sided')\n",
    "print('Statistics=%.3f, p=%.3f' % (stat, p))\n",
    "alpha = 0.05\n",
    "if p < alpha:\n",
    "    print('A particular population tends to have larger value compared to the other (reject H0)')\n",
    "else:\n",
    "    print('Two samples come from the same population (fail to reject H0)')"
   ]
  },
  {
   "cell_type": "markdown",
   "metadata": {},
   "source": [
    "# Comparing all to G2"
   ]
  },
  {
   "cell_type": "code",
   "execution_count": 135,
   "metadata": {},
   "outputs": [
    {
     "name": "stdout",
     "output_type": "stream",
     "text": [
      "Statistics=12800.000, p=1.000\n",
      "Two samples come from the same population (fail to reject H0)\n"
     ]
    }
   ],
   "source": [
    "stat, p = mannwhitneyu(G2Reduced2, G2Reduced2, alternative = 'two-sided')\n",
    "print('Statistics=%.3f, p=%.3f' % (stat, p))\n",
    "alpha = 0.05\n",
    "if p < alpha:\n",
    "    print('A particular population tends to have larger value compared to the other (reject H0)')\n",
    "else:\n",
    "    print('Two samples come from the same population (fail to reject H0)')"
   ]
  },
  {
   "cell_type": "code",
   "execution_count": 136,
   "metadata": {},
   "outputs": [
    {
     "name": "stdout",
     "output_type": "stream",
     "text": [
      "Statistics=19925.000, p=0.000\n",
      "A particular population tends to have larger value compared to the other (reject H0)\n"
     ]
    }
   ],
   "source": [
    "stat, p = mannwhitneyu(G2Reduced2, G4Reduced2, alternative = 'two-sided')\n",
    "print('Statistics=%.3f, p=%.3f' % (stat, p))\n",
    "alpha = 0.05\n",
    "if p < alpha:\n",
    "    print('A particular population tends to have larger value compared to the other (reject H0)')\n",
    "else:\n",
    "    print('Two samples come from the same population (fail to reject H0)')"
   ]
  },
  {
   "cell_type": "code",
   "execution_count": 137,
   "metadata": {},
   "outputs": [
    {
     "name": "stdout",
     "output_type": "stream",
     "text": [
      "Statistics=2368.000, p=0.034\n",
      "A particular population tends to have larger value compared to the other (reject H0)\n"
     ]
    }
   ],
   "source": [
    "stat, p = mannwhitneyu(G2Reduced2, One, alternative = 'two-sided')\n",
    "print('Statistics=%.3f, p=%.3f' % (stat, p))\n",
    "alpha = 0.05\n",
    "if p < alpha:\n",
    "    print('A particular population tends to have larger value compared to the other (reject H0)')\n",
    "else:\n",
    "    print('Two samples come from the same population (fail to reject H0)')"
   ]
  },
  {
   "cell_type": "code",
   "execution_count": 138,
   "metadata": {},
   "outputs": [
    {
     "name": "stdout",
     "output_type": "stream",
     "text": [
      "Statistics=10432.000, p=0.322\n",
      "Two samples come from the same population (fail to reject H0)\n"
     ]
    }
   ],
   "source": [
    "stat, p = mannwhitneyu(G2Reduced2, Two, alternative = 'two-sided')\n",
    "print('Statistics=%.3f, p=%.3f' % (stat, p))\n",
    "alpha = 0.05\n",
    "if p < alpha:\n",
    "    print('A particular population tends to have larger value compared to the other (reject H0)')\n",
    "else:\n",
    "    print('Two samples come from the same population (fail to reject H0)')"
   ]
  },
  {
   "cell_type": "code",
   "execution_count": 139,
   "metadata": {},
   "outputs": [
    {
     "name": "stdout",
     "output_type": "stream",
     "text": [
      "Statistics=5263.000, p=0.271\n",
      "Two samples come from the same population (fail to reject H0)\n"
     ]
    }
   ],
   "source": [
    "stat, p = mannwhitneyu(G2Reduced2, Four, alternative = 'two-sided')\n",
    "print('Statistics=%.3f, p=%.3f' % (stat, p))\n",
    "alpha = 0.05\n",
    "if p < alpha:\n",
    "    print('A particular population tends to have larger value compared to the other (reject H0)')\n",
    "else:\n",
    "    print('Two samples come from the same population (fail to reject H0)')"
   ]
  },
  {
   "cell_type": "code",
   "execution_count": 140,
   "metadata": {},
   "outputs": [
    {
     "name": "stdout",
     "output_type": "stream",
     "text": [
      "Statistics=14662.000, p=0.000\n",
      "A particular population tends to have larger value compared to the other (reject H0)\n"
     ]
    }
   ],
   "source": [
    "stat, p = mannwhitneyu(G2Reduced2, Five, alternative = 'two-sided')\n",
    "print('Statistics=%.3f, p=%.3f' % (stat, p))\n",
    "alpha = 0.05\n",
    "if p < alpha:\n",
    "    print('A particular population tends to have larger value compared to the other (reject H0)')\n",
    "else:\n",
    "    print('Two samples come from the same population (fail to reject H0)')"
   ]
  },
  {
   "cell_type": "markdown",
   "metadata": {},
   "source": [
    "# Comparing All to G4"
   ]
  },
  {
   "cell_type": "code",
   "execution_count": 141,
   "metadata": {},
   "outputs": [
    {
     "name": "stdout",
     "output_type": "stream",
     "text": [
      "Statistics=1831.000, p=0.000\n",
      "A particular population tends to have larger value compared to the other (reject H0)\n"
     ]
    }
   ],
   "source": [
    "stat, p = mannwhitneyu(G4Reduced2, One, alternative = 'two-sided')\n",
    "print('Statistics=%.3f, p=%.3f' % (stat, p))\n",
    "alpha = 0.05\n",
    "if p < alpha:\n",
    "    print('A particular population tends to have larger value compared to the other (reject H0)')\n",
    "else:\n",
    "    print('Two samples come from the same population (fail to reject H0)')"
   ]
  },
  {
   "cell_type": "code",
   "execution_count": 142,
   "metadata": {},
   "outputs": [
    {
     "name": "stdout",
     "output_type": "stream",
     "text": [
      "Statistics=8164.000, p=0.000\n",
      "A particular population tends to have larger value compared to the other (reject H0)\n"
     ]
    }
   ],
   "source": [
    "stat, p = mannwhitneyu(G4Reduced2, Two, alternative = 'two-sided')\n",
    "print('Statistics=%.3f, p=%.3f' % (stat, p))\n",
    "alpha = 0.05\n",
    "if p < alpha:\n",
    "    print('A particular population tends to have larger value compared to the other (reject H0)')\n",
    "else:\n",
    "    print('Two samples come from the same population (fail to reject H0)')"
   ]
  },
  {
   "cell_type": "code",
   "execution_count": 143,
   "metadata": {},
   "outputs": [
    {
     "name": "stdout",
     "output_type": "stream",
     "text": [
      "Statistics=4594.000, p=0.035\n",
      "A particular population tends to have larger value compared to the other (reject H0)\n"
     ]
    }
   ],
   "source": [
    "stat, p = mannwhitneyu(G4Reduced2, Four, alternative = 'two-sided')\n",
    "print('Statistics=%.3f, p=%.3f' % (stat, p))\n",
    "alpha = 0.05\n",
    "if p < alpha:\n",
    "    print('A particular population tends to have larger value compared to the other (reject H0)')\n",
    "else:\n",
    "    print('Two samples come from the same population (fail to reject H0)')"
   ]
  },
  {
   "cell_type": "code",
   "execution_count": 144,
   "metadata": {},
   "outputs": [
    {
     "name": "stdout",
     "output_type": "stream",
     "text": [
      "Statistics=12890.500, p=0.198\n",
      "Two samples come from the same population (fail to reject H0)\n"
     ]
    }
   ],
   "source": [
    "stat, p = mannwhitneyu(G4Reduced2, Five, alternative = 'two-sided')\n",
    "print('Statistics=%.3f, p=%.3f' % (stat, p))\n",
    "alpha = 0.05\n",
    "if p < alpha:\n",
    "    print('A particular population tends to have larger value compared to the other (reject H0)')\n",
    "else:\n",
    "    print('Two samples come from the same population (fail to reject H0)')"
   ]
  },
  {
   "cell_type": "markdown",
   "metadata": {},
   "source": [
    "# Comparing all to One"
   ]
  },
  {
   "cell_type": "code",
   "execution_count": 145,
   "metadata": {},
   "outputs": [
    {
     "name": "stdout",
     "output_type": "stream",
     "text": [
      "Statistics=2990.000, p=0.007\n",
      "A particular population tends to have larger value compared to the other (reject H0)\n"
     ]
    }
   ],
   "source": [
    "stat, p = mannwhitneyu(One, Two, alternative = 'two-sided')\n",
    "print('Statistics=%.3f, p=%.3f' % (stat, p))\n",
    "alpha = 0.05\n",
    "if p < alpha:\n",
    "    print('A particular population tends to have larger value compared to the other (reject H0)')\n",
    "else:\n",
    "    print('Two samples come from the same population (fail to reject H0)')"
   ]
  },
  {
   "cell_type": "code",
   "execution_count": 146,
   "metadata": {},
   "outputs": [
    {
     "name": "stdout",
     "output_type": "stream",
     "text": [
      "Statistics=1458.000, p=0.021\n",
      "A particular population tends to have larger value compared to the other (reject H0)\n"
     ]
    }
   ],
   "source": [
    "stat, p = mannwhitneyu(One, Four, alternative = 'two-sided')\n",
    "print('Statistics=%.3f, p=%.3f' % (stat, p))\n",
    "alpha = 0.05\n",
    "if p < alpha:\n",
    "    print('A particular population tends to have larger value compared to the other (reject H0)')\n",
    "else:\n",
    "    print('Two samples come from the same population (fail to reject H0)')"
   ]
  },
  {
   "cell_type": "code",
   "execution_count": 147,
   "metadata": {},
   "outputs": [
    {
     "name": "stdout",
     "output_type": "stream",
     "text": [
      "Statistics=3817.000, p=0.000\n",
      "A particular population tends to have larger value compared to the other (reject H0)\n"
     ]
    }
   ],
   "source": [
    "stat, p = mannwhitneyu(One, Five, alternative = 'two-sided')\n",
    "print('Statistics=%.3f, p=%.3f' % (stat, p))\n",
    "alpha = 0.05\n",
    "if p < alpha:\n",
    "    print('A particular population tends to have larger value compared to the other (reject H0)')\n",
    "else:\n",
    "    print('Two samples come from the same population (fail to reject H0)')"
   ]
  },
  {
   "cell_type": "markdown",
   "metadata": {},
   "source": [
    "# Comparing all to Two"
   ]
  },
  {
   "cell_type": "code",
   "execution_count": 148,
   "metadata": {},
   "outputs": [
    {
     "name": "stdout",
     "output_type": "stream",
     "text": [
      "Statistics=3805.000, p=0.665\n",
      "Two samples come from the same population (fail to reject H0)\n"
     ]
    }
   ],
   "source": [
    "stat, p = mannwhitneyu(Two, Four, alternative = 'two-sided')\n",
    "print('Statistics=%.3f, p=%.3f' % (stat, p))\n",
    "alpha = 0.05\n",
    "if p < alpha:\n",
    "    print('A particular population tends to have larger value compared to the other (reject H0)')\n",
    "else:\n",
    "    print('Two samples come from the same population (fail to reject H0)')"
   ]
  },
  {
   "cell_type": "code",
   "execution_count": 149,
   "metadata": {},
   "outputs": [
    {
     "name": "stdout",
     "output_type": "stream",
     "text": [
      "Statistics=10845.000, p=0.000\n",
      "A particular population tends to have larger value compared to the other (reject H0)\n"
     ]
    }
   ],
   "source": [
    "stat, p = mannwhitneyu(Two, Five, alternative = 'two-sided')\n",
    "print('Statistics=%.3f, p=%.3f' % (stat, p))\n",
    "alpha = 0.05\n",
    "if p < alpha:\n",
    "    print('A particular population tends to have larger value compared to the other (reject H0)')\n",
    "else:\n",
    "    print('Two samples come from the same population (fail to reject H0)')"
   ]
  },
  {
   "cell_type": "markdown",
   "metadata": {},
   "source": [
    "# Comparing All to Four"
   ]
  },
  {
   "cell_type": "code",
   "execution_count": 150,
   "metadata": {},
   "outputs": [
    {
     "name": "stdout",
     "output_type": "stream",
     "text": [
      "Statistics=4826.000, p=0.003\n",
      "A particular population tends to have larger value compared to the other (reject H0)\n"
     ]
    }
   ],
   "source": [
    "stat, p = mannwhitneyu(Four, Five, alternative = 'two-sided')\n",
    "print('Statistics=%.3f, p=%.3f' % (stat, p))\n",
    "alpha = 0.05\n",
    "if p < alpha:\n",
    "    print('A particular population tends to have larger value compared to the other (reject H0)')\n",
    "else:\n",
    "    print('Two samples come from the same population (fail to reject H0)')"
   ]
  },
  {
   "cell_type": "markdown",
   "metadata": {},
   "source": [
    "# Miscellaneous"
   ]
  },
  {
   "cell_type": "code",
   "execution_count": 284,
   "metadata": {},
   "outputs": [
    {
     "name": "stdout",
     "output_type": "stream",
     "text": [
      "Statistics=28851.000, p=0.000\n",
      "A particular population tends to have larger value compared to the other (reject H0)\n"
     ]
    }
   ],
   "source": [
    "stat, p = mannwhitneyu(OneTwoThree, G4Reduced2, alternative = 'two-sided')\n",
    "print('Statistics=%.3f, p=%.3f' % (stat, p))\n",
    "alpha = 0.05\n",
    "if p < alpha:\n",
    "    print('A particular population tends to have larger value compared to the other (reject H0)')\n",
    "else:\n",
    "    print('Two samples come from the same population (fail to reject H0)')"
   ]
  },
  {
   "cell_type": "code",
   "execution_count": 285,
   "metadata": {},
   "outputs": [
    {
     "name": "stdout",
     "output_type": "stream",
     "text": [
      "Statistics=26974.000, p=0.000\n",
      "A particular population tends to have larger value compared to the other (reject H0)\n"
     ]
    }
   ],
   "source": [
    "stat, p = mannwhitneyu(G2Reduced2, ThreeFourFive, alternative = 'two-sided')\n",
    "print('Statistics=%.3f, p=%.3f' % (stat, p))\n",
    "alpha = 0.05\n",
    "if p < alpha:\n",
    "    print('A particular population tends to have larger value compared to the other (reject H0)')\n",
    "else:\n",
    "    print('Two samples come from the same population (fail to reject H0)')"
   ]
  },
  {
   "cell_type": "code",
   "execution_count": 286,
   "metadata": {},
   "outputs": [
    {
     "name": "stdout",
     "output_type": "stream",
     "text": [
      "Statistics=8857.000, p=0.000\n",
      "A particular population tends to have larger value compared to the other (reject H0)\n"
     ]
    }
   ],
   "source": [
    "stat, p = mannwhitneyu(Healthy, Cancerous, alternative = 'two-sided')\n",
    "print('Statistics=%.3f, p=%.3f' % (stat, p))\n",
    "alpha = 0.05\n",
    "if p < alpha:\n",
    "    print('A particular population tends to have larger value compared to the other (reject H0)')\n",
    "else:\n",
    "    print('Two samples come from the same population (fail to reject H0)')"
   ]
  },
  {
   "cell_type": "code",
   "execution_count": 287,
   "metadata": {},
   "outputs": [
    {
     "name": "stdout",
     "output_type": "stream",
     "text": [
      "Statistics=1769.000, p=0.003\n",
      "A particular population tends to have larger value compared to the other (reject H0)\n"
     ]
    }
   ],
   "source": [
    "stat, p = mannwhitneyu(G0Reduced2, G1Reduced2, alternative = 'two-sided')\n",
    "print('Statistics=%.3f, p=%.3f' % (stat, p))\n",
    "alpha = 0.05\n",
    "if p < alpha:\n",
    "    print('A particular population tends to have larger value compared to the other (reject H0)')\n",
    "else:\n",
    "    print('Two samples come from the same population (fail to reject H0)')"
   ]
  },
  {
   "cell_type": "code",
   "execution_count": 327,
   "metadata": {},
   "outputs": [
    {
     "name": "stdout",
     "output_type": "stream",
     "text": [
      "Statistics=2464.000, p=0.051\n",
      "Two samples come from the same population (fail to reject H0)\n"
     ]
    }
   ],
   "source": [
    "stat, p = mannwhitneyu(G1Reduced2, Five, alternative = 'two-sided')\n",
    "print('Statistics=%.3f, p=%.3f' % (stat, p))\n",
    "alpha = 0.05\n",
    "if p < alpha:\n",
    "    print('A particular population tends to have larger value compared to the other (reject H0)')\n",
    "else:\n",
    "    print('Two samples come from the same population (fail to reject H0)')"
   ]
  },
  {
   "cell_type": "markdown",
   "metadata": {},
   "source": [
    "# K-L Divergence"
   ]
  },
  {
   "cell_type": "code",
   "execution_count": 385,
   "metadata": {},
   "outputs": [
    {
     "name": "stderr",
     "output_type": "stream",
     "text": [
      "/Users/martincasey/anaconda3/lib/python3.6/site-packages/imblearn/utils/_validation.py:257: UserWarning: After over-sampling, the number of samples (5000) in class 0 will be larger than the number of samples in the majority class (class #6 -> 127)\n",
      "  n_samples_majority))\n",
      "/Users/martincasey/anaconda3/lib/python3.6/site-packages/imblearn/utils/_validation.py:257: UserWarning: After over-sampling, the number of samples (5000) in class 1 will be larger than the number of samples in the majority class (class #6 -> 127)\n",
      "  n_samples_majority))\n",
      "/Users/martincasey/anaconda3/lib/python3.6/site-packages/imblearn/utils/_validation.py:257: UserWarning: After over-sampling, the number of samples (5000) in class 2 will be larger than the number of samples in the majority class (class #6 -> 127)\n",
      "  n_samples_majority))\n",
      "/Users/martincasey/anaconda3/lib/python3.6/site-packages/imblearn/utils/_validation.py:257: UserWarning: After over-sampling, the number of samples (5000) in class 3 will be larger than the number of samples in the majority class (class #6 -> 127)\n",
      "  n_samples_majority))\n",
      "/Users/martincasey/anaconda3/lib/python3.6/site-packages/imblearn/utils/_validation.py:257: UserWarning: After over-sampling, the number of samples (5000) in class 4 will be larger than the number of samples in the majority class (class #6 -> 127)\n",
      "  n_samples_majority))\n",
      "/Users/martincasey/anaconda3/lib/python3.6/site-packages/imblearn/utils/_validation.py:257: UserWarning: After over-sampling, the number of samples (5000) in class 5 will be larger than the number of samples in the majority class (class #6 -> 127)\n",
      "  n_samples_majority))\n",
      "/Users/martincasey/anaconda3/lib/python3.6/site-packages/imblearn/utils/_validation.py:257: UserWarning: After over-sampling, the number of samples (5000) in class 6 will be larger than the number of samples in the majority class (class #6 -> 127)\n",
      "  n_samples_majority))\n"
     ]
    }
   ],
   "source": [
    "resize = SMOTE(random_state=42, sampling_strategy={0:5000,1:5000, 2:5000, 3:5000, 4:5000, 5:5000, 6:5000})\n",
    "dataReduced2Res, TargetRes = resize.fit_resample(dataReduced2, Target)"
   ]
  },
  {
   "cell_type": "code",
   "execution_count": 386,
   "metadata": {},
   "outputs": [],
   "source": [
    "dataReduced2Res = pd.DataFrame(dataReduced2Res)"
   ]
  },
  {
   "cell_type": "code",
   "execution_count": 387,
   "metadata": {},
   "outputs": [],
   "source": [
    "GTEX = dataReduced2Res[dataReduced2Res[1] == 0]\n",
    "TCGA = dataReduced2Res[dataReduced2Res[1] == 1]\n",
    "One = dataReduced2Res[dataReduced2Res[1] == 2]\n",
    "Two = dataReduced2Res[dataReduced2Res[1] == 3]\n",
    "Three = dataReduced2Res[dataReduced2Res[1] == 4]\n",
    "Four = dataReduced2Res[dataReduced2Res[1] == 5]\n",
    "Five = dataReduced2Res[dataReduced2Res[1] == 6]"
   ]
  },
  {
   "cell_type": "code",
   "execution_count": 388,
   "metadata": {},
   "outputs": [
    {
     "name": "stderr",
     "output_type": "stream",
     "text": [
      "/Users/martincasey/anaconda3/lib/python3.6/site-packages/ipykernel_launcher.py:1: SettingWithCopyWarning: \n",
      "A value is trying to be set on a copy of a slice from a DataFrame\n",
      "\n",
      "See the caveats in the documentation: http://pandas.pydata.org/pandas-docs/stable/indexing.html#indexing-view-versus-copy\n",
      "  \"\"\"Entry point for launching an IPython kernel.\n",
      "/Users/martincasey/anaconda3/lib/python3.6/site-packages/ipykernel_launcher.py:2: SettingWithCopyWarning: \n",
      "A value is trying to be set on a copy of a slice from a DataFrame\n",
      "\n",
      "See the caveats in the documentation: http://pandas.pydata.org/pandas-docs/stable/indexing.html#indexing-view-versus-copy\n",
      "  \n",
      "/Users/martincasey/anaconda3/lib/python3.6/site-packages/ipykernel_launcher.py:3: SettingWithCopyWarning: \n",
      "A value is trying to be set on a copy of a slice from a DataFrame\n",
      "\n",
      "See the caveats in the documentation: http://pandas.pydata.org/pandas-docs/stable/indexing.html#indexing-view-versus-copy\n",
      "  This is separate from the ipykernel package so we can avoid doing imports until\n",
      "/Users/martincasey/anaconda3/lib/python3.6/site-packages/ipykernel_launcher.py:4: SettingWithCopyWarning: \n",
      "A value is trying to be set on a copy of a slice from a DataFrame\n",
      "\n",
      "See the caveats in the documentation: http://pandas.pydata.org/pandas-docs/stable/indexing.html#indexing-view-versus-copy\n",
      "  after removing the cwd from sys.path.\n",
      "/Users/martincasey/anaconda3/lib/python3.6/site-packages/ipykernel_launcher.py:5: SettingWithCopyWarning: \n",
      "A value is trying to be set on a copy of a slice from a DataFrame\n",
      "\n",
      "See the caveats in the documentation: http://pandas.pydata.org/pandas-docs/stable/indexing.html#indexing-view-versus-copy\n",
      "  \"\"\"\n",
      "/Users/martincasey/anaconda3/lib/python3.6/site-packages/ipykernel_launcher.py:6: SettingWithCopyWarning: \n",
      "A value is trying to be set on a copy of a slice from a DataFrame\n",
      "\n",
      "See the caveats in the documentation: http://pandas.pydata.org/pandas-docs/stable/indexing.html#indexing-view-versus-copy\n",
      "  \n",
      "/Users/martincasey/anaconda3/lib/python3.6/site-packages/ipykernel_launcher.py:7: SettingWithCopyWarning: \n",
      "A value is trying to be set on a copy of a slice from a DataFrame\n",
      "\n",
      "See the caveats in the documentation: http://pandas.pydata.org/pandas-docs/stable/indexing.html#indexing-view-versus-copy\n",
      "  import sys\n"
     ]
    }
   ],
   "source": [
    "GTEX.drop([1], inplace=True, axis=1)\n",
    "TCGA.drop([1], inplace=True, axis=1)\n",
    "One.drop([1], inplace=True, axis=1)\n",
    "Two.drop([1], inplace=True, axis=1)\n",
    "Three.drop([1], inplace=True, axis=1)\n",
    "Four.drop([1], inplace=True, axis=1)\n",
    "Five.drop([1], inplace=True, axis=1)"
   ]
  },
  {
   "cell_type": "code",
   "execution_count": 389,
   "metadata": {},
   "outputs": [
    {
     "name": "stderr",
     "output_type": "stream",
     "text": [
      "/Users/martincasey/anaconda3/lib/python3.6/site-packages/pandas/core/frame.py:2746: SettingWithCopyWarning: \n",
      "A value is trying to be set on a copy of a slice from a DataFrame\n",
      "\n",
      "See the caveats in the documentation: http://pandas.pydata.org/pandas-docs/stable/indexing.html#indexing-view-versus-copy\n",
      "  **kwargs)\n"
     ]
    }
   ],
   "source": [
    "GTEX.rename(columns={0: \"Exp\"}, inplace = True)\n",
    "TCGA.rename(columns={0: \"Exp\"}, inplace = True)\n",
    "One.rename(columns={0: \"Exp\"}, inplace = True)\n",
    "Two.rename(columns={0: \"Exp\"}, inplace = True)\n",
    "Three.rename(columns={0: \"Exp\"}, inplace = True)\n",
    "Four.rename(columns={0: \"Exp\"}, inplace = True)\n",
    "Five.rename(columns={0: \"Exp\"}, inplace = True)"
   ]
  },
  {
   "cell_type": "code",
   "execution_count": 360,
   "metadata": {},
   "outputs": [
    {
     "name": "stderr",
     "output_type": "stream",
     "text": [
      "/Users/martincasey/anaconda3/lib/python3.6/site-packages/ipykernel_launcher.py:1: SettingWithCopyWarning: \n",
      "A value is trying to be set on a copy of a slice from a DataFrame\n",
      "\n",
      "See the caveats in the documentation: http://pandas.pydata.org/pandas-docs/stable/indexing.html#indexing-view-versus-copy\n",
      "  \"\"\"Entry point for launching an IPython kernel.\n",
      "/Users/martincasey/anaconda3/lib/python3.6/site-packages/ipykernel_launcher.py:2: SettingWithCopyWarning: \n",
      "A value is trying to be set on a copy of a slice from a DataFrame\n",
      "\n",
      "See the caveats in the documentation: http://pandas.pydata.org/pandas-docs/stable/indexing.html#indexing-view-versus-copy\n",
      "  \n",
      "/Users/martincasey/anaconda3/lib/python3.6/site-packages/ipykernel_launcher.py:3: SettingWithCopyWarning: \n",
      "A value is trying to be set on a copy of a slice from a DataFrame\n",
      "\n",
      "See the caveats in the documentation: http://pandas.pydata.org/pandas-docs/stable/indexing.html#indexing-view-versus-copy\n",
      "  This is separate from the ipykernel package so we can avoid doing imports until\n",
      "/Users/martincasey/anaconda3/lib/python3.6/site-packages/ipykernel_launcher.py:4: SettingWithCopyWarning: \n",
      "A value is trying to be set on a copy of a slice from a DataFrame\n",
      "\n",
      "See the caveats in the documentation: http://pandas.pydata.org/pandas-docs/stable/indexing.html#indexing-view-versus-copy\n",
      "  after removing the cwd from sys.path.\n",
      "/Users/martincasey/anaconda3/lib/python3.6/site-packages/ipykernel_launcher.py:5: SettingWithCopyWarning: \n",
      "A value is trying to be set on a copy of a slice from a DataFrame\n",
      "\n",
      "See the caveats in the documentation: http://pandas.pydata.org/pandas-docs/stable/indexing.html#indexing-view-versus-copy\n",
      "  \"\"\"\n",
      "/Users/martincasey/anaconda3/lib/python3.6/site-packages/ipykernel_launcher.py:6: SettingWithCopyWarning: \n",
      "A value is trying to be set on a copy of a slice from a DataFrame\n",
      "\n",
      "See the caveats in the documentation: http://pandas.pydata.org/pandas-docs/stable/indexing.html#indexing-view-versus-copy\n",
      "  \n",
      "/Users/martincasey/anaconda3/lib/python3.6/site-packages/ipykernel_launcher.py:7: SettingWithCopyWarning: \n",
      "A value is trying to be set on a copy of a slice from a DataFrame\n",
      "\n",
      "See the caveats in the documentation: http://pandas.pydata.org/pandas-docs/stable/indexing.html#indexing-view-versus-copy\n",
      "  import sys\n"
     ]
    }
   ],
   "source": [
    "GTEX.sort_values(by = 'Exp', inplace = True)\n",
    "TCGA.sort_values(by = 'Exp', inplace = True)\n",
    "One.sort_values(by = 'Exp', inplace = True)\n",
    "Two.sort_values(by = 'Exp', inplace = True)\n",
    "Three.sort_values(by = 'Exp', inplace = True)\n",
    "Four.sort_values(by = 'Exp', inplace = True)\n",
    "Five.sort_values(by = 'Exp', inplace = True)"
   ]
  },
  {
   "cell_type": "code",
   "execution_count": 390,
   "metadata": {},
   "outputs": [],
   "source": [
    "GTEX.reset_index(inplace=True, drop=True)\n",
    "TCGA.reset_index(inplace=True, drop=True)\n",
    "One.reset_index(inplace=True, drop=True)\n",
    "Two.reset_index(inplace=True, drop=True)\n",
    "Three.reset_index(inplace=True, drop=True)\n",
    "Four.reset_index(inplace=True, drop=True)\n",
    "Five.reset_index(inplace=True, drop=True)"
   ]
  },
  {
   "cell_type": "code",
   "execution_count": 391,
   "metadata": {},
   "outputs": [],
   "source": [
    "GTEX = GTEX['Exp'].values\n",
    "TCGA = TCGA['Exp'].values\n",
    "One = One['Exp'].values\n",
    "Two = Two['Exp'].values\n",
    "Three = Three['Exp'].values\n",
    "Four = Four['Exp'].values\n",
    "Five = Five['Exp'].values"
   ]
  },
  {
   "cell_type": "code",
   "execution_count": 384,
   "metadata": {},
   "outputs": [],
   "source": [
    "Cancer = np.concatenate((One,Two, Three, Four, Five))"
   ]
  },
  {
   "cell_type": "code",
   "execution_count": 329,
   "metadata": {},
   "outputs": [],
   "source": [
    "Cancer.sort()"
   ]
  },
  {
   "cell_type": "markdown",
   "metadata": {},
   "source": [
    "## GTEX Comparisons"
   ]
  },
  {
   "cell_type": "markdown",
   "metadata": {},
   "source": [
    "#### Compare GTEx with Grades"
   ]
  },
  {
   "cell_type": "code",
   "execution_count": 392,
   "metadata": {},
   "outputs": [
    {
     "data": {
      "text/plain": [
       "0.10442265101802413"
      ]
     },
     "execution_count": 392,
     "metadata": {},
     "output_type": "execute_result"
    }
   ],
   "source": [
    "entropy(pk=(GTEX + 50), qk=(Cancer + 50))"
   ]
  },
  {
   "cell_type": "code",
   "execution_count": 393,
   "metadata": {},
   "outputs": [
    {
     "data": {
      "text/plain": [
       "0.10900131884386038"
      ]
     },
     "execution_count": 393,
     "metadata": {},
     "output_type": "execute_result"
    }
   ],
   "source": [
    "entropy(pk=(GTEX + 50), qk=(TCGA + 50))"
   ]
  },
  {
   "cell_type": "code",
   "execution_count": 394,
   "metadata": {},
   "outputs": [
    {
     "data": {
      "text/plain": [
       "0.1889635492780176"
      ]
     },
     "execution_count": 394,
     "metadata": {},
     "output_type": "execute_result"
    }
   ],
   "source": [
    "entropy(pk=(TCGA + 50), qk=(Cancer + 50))"
   ]
  },
  {
   "cell_type": "code",
   "execution_count": 395,
   "metadata": {},
   "outputs": [
    {
     "data": {
      "text/plain": [
       "0.10398731187285357"
      ]
     },
     "execution_count": 395,
     "metadata": {},
     "output_type": "execute_result"
    }
   ],
   "source": [
    "entropy(pk=(GTEX + 50), qk=(One + 50))"
   ]
  },
  {
   "cell_type": "code",
   "execution_count": 396,
   "metadata": {},
   "outputs": [
    {
     "data": {
      "text/plain": [
       "0.07827899876061559"
      ]
     },
     "execution_count": 396,
     "metadata": {},
     "output_type": "execute_result"
    }
   ],
   "source": [
    "entropy(pk=(GTEX + 50), qk=(Two + 50))"
   ]
  },
  {
   "cell_type": "code",
   "execution_count": 397,
   "metadata": {},
   "outputs": [
    {
     "data": {
      "text/plain": [
       "0.09700662491079592"
      ]
     },
     "execution_count": 397,
     "metadata": {},
     "output_type": "execute_result"
    }
   ],
   "source": [
    "entropy(pk=(GTEX + 50), qk=(Three + 50))"
   ]
  },
  {
   "cell_type": "code",
   "execution_count": 398,
   "metadata": {},
   "outputs": [
    {
     "data": {
      "text/plain": [
       "0.12116331221265157"
      ]
     },
     "execution_count": 398,
     "metadata": {},
     "output_type": "execute_result"
    }
   ],
   "source": [
    "entropy(pk=(GTEX + 50), qk=(Four + 50))"
   ]
  },
  {
   "cell_type": "code",
   "execution_count": 399,
   "metadata": {},
   "outputs": [
    {
     "data": {
      "text/plain": [
       "0.06105764962984152"
      ]
     },
     "execution_count": 399,
     "metadata": {},
     "output_type": "execute_result"
    }
   ],
   "source": [
    "entropy(pk=(GTEX + 50), qk=(Five + 50))"
   ]
  },
  {
   "cell_type": "markdown",
   "metadata": {},
   "source": [
    "## Grade 1 Comparisons"
   ]
  },
  {
   "cell_type": "code",
   "execution_count": 230,
   "metadata": {},
   "outputs": [
    {
     "data": {
      "text/plain": [
       "0.002721464862519965"
      ]
     },
     "execution_count": 230,
     "metadata": {},
     "output_type": "execute_result"
    }
   ],
   "source": [
    "entropy(pk=(One + 50), qk=(Two + 50))"
   ]
  },
  {
   "cell_type": "code",
   "execution_count": 236,
   "metadata": {},
   "outputs": [
    {
     "data": {
      "text/plain": [
       "0.005239518214016328"
      ]
     },
     "execution_count": 236,
     "metadata": {},
     "output_type": "execute_result"
    }
   ],
   "source": [
    "entropy(pk=(One + 50), qk=(Three + 50))"
   ]
  },
  {
   "cell_type": "code",
   "execution_count": 237,
   "metadata": {},
   "outputs": [
    {
     "data": {
      "text/plain": [
       "0.020387217714079822"
      ]
     },
     "execution_count": 237,
     "metadata": {},
     "output_type": "execute_result"
    }
   ],
   "source": [
    "entropy(pk=(One + 50), qk=(Four + 50))"
   ]
  },
  {
   "cell_type": "code",
   "execution_count": 238,
   "metadata": {},
   "outputs": [
    {
     "data": {
      "text/plain": [
       "0.009839525377885351"
      ]
     },
     "execution_count": 238,
     "metadata": {},
     "output_type": "execute_result"
    }
   ],
   "source": [
    "entropy(pk=(One + 50), qk=(Five + 50))"
   ]
  },
  {
   "cell_type": "markdown",
   "metadata": {},
   "source": [
    "## Grade 2 Comparisons"
   ]
  },
  {
   "cell_type": "code",
   "execution_count": 240,
   "metadata": {},
   "outputs": [
    {
     "data": {
      "text/plain": [
       "0.002272732641603027"
      ]
     },
     "execution_count": 240,
     "metadata": {},
     "output_type": "execute_result"
    }
   ],
   "source": [
    "entropy(pk=(Two + 50), qk=(Three + 50))"
   ]
  },
  {
   "cell_type": "code",
   "execution_count": 241,
   "metadata": {},
   "outputs": [
    {
     "data": {
      "text/plain": [
       "0.010312806599381356"
      ]
     },
     "execution_count": 241,
     "metadata": {},
     "output_type": "execute_result"
    }
   ],
   "source": [
    "entropy(pk=(Two + 50), qk=(Four + 50))"
   ]
  },
  {
   "cell_type": "code",
   "execution_count": 242,
   "metadata": {},
   "outputs": [
    {
     "data": {
      "text/plain": [
       "0.0036981568048034645"
      ]
     },
     "execution_count": 242,
     "metadata": {},
     "output_type": "execute_result"
    }
   ],
   "source": [
    "entropy(pk=(Two + 50), qk=(Five + 50))"
   ]
  },
  {
   "cell_type": "markdown",
   "metadata": {},
   "source": [
    "## Grade 3 Comparisons"
   ]
  },
  {
   "cell_type": "code",
   "execution_count": null,
   "metadata": {},
   "outputs": [],
   "source": [
    "entropy(pk=( + 50), qk=(Two + 50))"
   ]
  }
 ],
 "metadata": {
  "kernelspec": {
   "display_name": "Python 3",
   "language": "python",
   "name": "python3"
  },
  "language_info": {
   "codemirror_mode": {
    "name": "ipython",
    "version": 3
   },
   "file_extension": ".py",
   "mimetype": "text/x-python",
   "name": "python",
   "nbconvert_exporter": "python",
   "pygments_lexer": "ipython3",
   "version": "3.6.3"
  }
 },
 "nbformat": 4,
 "nbformat_minor": 2
}
