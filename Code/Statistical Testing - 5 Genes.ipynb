{
 "cells": [
  {
   "cell_type": "code",
   "execution_count": 1,
   "metadata": {},
   "outputs": [],
   "source": [
    "import scipy\n",
    "import pandas as pd\n",
    "import numpy as np\n",
    "from sklearn.decomposition import PCA\n",
    "from sklearn.feature_selection import mutual_info_classif\n",
    "from sklearn.manifold import TSNE\n",
    "from numpy import mean, std\n",
    "from statsmodels.graphics.gofplots import qqplot\n",
    "from scipy.stats import shapiro, mannwhitneyu, norm, entropy\n",
    "from matplotlib import pyplot as plt\n",
    "import seaborn as sns\n",
    "from imblearn.over_sampling import SMOTE\n",
    "%matplotlib inline"
   ]
  },
  {
   "cell_type": "code",
   "execution_count": 2,
   "metadata": {},
   "outputs": [],
   "source": [
    "TCGAHealthy = pd.read_pickle('../Data/TCGAHealthy.pkl')\n",
    "Cancer = pd.read_pickle('../Data/CancerMulti.pkl')\n",
    "GTEX = pd.read_pickle('../Data/GTEX.pkl')"
   ]
  },
  {
   "cell_type": "code",
   "execution_count": 3,
   "metadata": {},
   "outputs": [],
   "source": [
    "TCGAHealthy['Target'] = 1"
   ]
  },
  {
   "cell_type": "code",
   "execution_count": 4,
   "metadata": {},
   "outputs": [
    {
     "data": {
      "text/plain": [
       "1    48\n",
       "Name: Target, dtype: int64"
      ]
     },
     "execution_count": 4,
     "metadata": {},
     "output_type": "execute_result"
    }
   ],
   "source": [
    "TCGAHealthy['Target'].value_counts()"
   ]
  },
  {
   "cell_type": "code",
   "execution_count": 5,
   "metadata": {},
   "outputs": [],
   "source": [
    "Cancer['Target'] = Cancer['Target'].apply(lambda x: 2 if (x==1) \n",
    "                                           else(3 if (x==2) \n",
    "                                                else(4 if (x==3) \n",
    "                                                     else(5 if (x==4) \n",
    "                                                          else(6 if(x==5) \n",
    "                                                               else(0 if(x==0) \n",
    "                                                                   else 7))))))"
   ]
  },
  {
   "cell_type": "code",
   "execution_count": 6,
   "metadata": {},
   "outputs": [
    {
     "data": {
      "text/plain": [
       "6    127\n",
       "3    122\n",
       "4     79\n",
       "5     60\n",
       "2     38\n",
       "Name: Target, dtype: int64"
      ]
     },
     "execution_count": 6,
     "metadata": {},
     "output_type": "execute_result"
    }
   ],
   "source": [
    "Cancer['Target'].value_counts()"
   ]
  },
  {
   "cell_type": "code",
   "execution_count": 7,
   "metadata": {},
   "outputs": [],
   "source": [
    "data = Cancer.append(GTEX.append(TCGAHealthy))\n",
    "#data = Cancer.append(GTEX)"
   ]
  },
  {
   "cell_type": "code",
   "execution_count": 8,
   "metadata": {},
   "outputs": [],
   "source": [
    "data.reset_index(drop = True, inplace = True)"
   ]
  },
  {
   "cell_type": "code",
   "execution_count": 9,
   "metadata": {},
   "outputs": [
    {
     "data": {
      "text/plain": [
       "6    127\n",
       "3    122\n",
       "0    106\n",
       "4     79\n",
       "5     60\n",
       "1     48\n",
       "2     38\n",
       "Name: Target, dtype: int64"
      ]
     },
     "execution_count": 9,
     "metadata": {},
     "output_type": "execute_result"
    }
   ],
   "source": [
    "data['Target'].value_counts()"
   ]
  },
  {
   "cell_type": "code",
   "execution_count": 10,
   "metadata": {},
   "outputs": [],
   "source": [
    "data = data.sample(frac=1).reset_index(drop=True)"
   ]
  },
  {
   "cell_type": "code",
   "execution_count": 11,
   "metadata": {},
   "outputs": [
    {
     "data": {
      "text/html": [
       "<div>\n",
       "<style>\n",
       "    .dataframe thead tr:only-child th {\n",
       "        text-align: right;\n",
       "    }\n",
       "\n",
       "    .dataframe thead th {\n",
       "        text-align: left;\n",
       "    }\n",
       "\n",
       "    .dataframe tbody tr th {\n",
       "        vertical-align: top;\n",
       "    }\n",
       "</style>\n",
       "<table border=\"1\" class=\"dataframe\">\n",
       "  <thead>\n",
       "    <tr style=\"text-align: right;\">\n",
       "      <th>GeneID</th>\n",
       "      <th>CUL5-8065</th>\n",
       "      <th>REV1-51455</th>\n",
       "      <th>ZNF428-126299</th>\n",
       "      <th>CX3CR1-1524</th>\n",
       "      <th>FAXC-84553</th>\n",
       "      <th>PKP2-5318</th>\n",
       "      <th>BNIP2-663</th>\n",
       "      <th>HOXB7-3217</th>\n",
       "      <th>GRIN3A-116443</th>\n",
       "      <th>FCRL5-83416</th>\n",
       "      <th>...</th>\n",
       "      <th>GATA6-2627</th>\n",
       "      <th>COL28A1-340267</th>\n",
       "      <th>PDK3-5165</th>\n",
       "      <th>MC1R-4157</th>\n",
       "      <th>IFT74-80173</th>\n",
       "      <th>CDK14-5218</th>\n",
       "      <th>RP11-762I7.5-0</th>\n",
       "      <th>GSR-2936</th>\n",
       "      <th>UBQLN4-56893</th>\n",
       "      <th>Target</th>\n",
       "    </tr>\n",
       "  </thead>\n",
       "  <tbody>\n",
       "    <tr>\n",
       "      <th>0</th>\n",
       "      <td>155.50</td>\n",
       "      <td>432.53</td>\n",
       "      <td>1628.26</td>\n",
       "      <td>6.52</td>\n",
       "      <td>231.32</td>\n",
       "      <td>91.41</td>\n",
       "      <td>961.07</td>\n",
       "      <td>17.00</td>\n",
       "      <td>417.77</td>\n",
       "      <td>0.00</td>\n",
       "      <td>...</td>\n",
       "      <td>24.81</td>\n",
       "      <td>16.27</td>\n",
       "      <td>42.71</td>\n",
       "      <td>93.35</td>\n",
       "      <td>277.20</td>\n",
       "      <td>215.77</td>\n",
       "      <td>16.88</td>\n",
       "      <td>753.83</td>\n",
       "      <td>713.11</td>\n",
       "      <td>6</td>\n",
       "    </tr>\n",
       "    <tr>\n",
       "      <th>1</th>\n",
       "      <td>244.57</td>\n",
       "      <td>327.56</td>\n",
       "      <td>1081.39</td>\n",
       "      <td>21.01</td>\n",
       "      <td>246.28</td>\n",
       "      <td>231.32</td>\n",
       "      <td>660.68</td>\n",
       "      <td>53.57</td>\n",
       "      <td>1.95</td>\n",
       "      <td>10.79</td>\n",
       "      <td>...</td>\n",
       "      <td>63.89</td>\n",
       "      <td>124.37</td>\n",
       "      <td>77.79</td>\n",
       "      <td>56.28</td>\n",
       "      <td>244.57</td>\n",
       "      <td>161.02</td>\n",
       "      <td>14.24</td>\n",
       "      <td>1540.37</td>\n",
       "      <td>830.75</td>\n",
       "      <td>4</td>\n",
       "    </tr>\n",
       "    <tr>\n",
       "      <th>2</th>\n",
       "      <td>171.45</td>\n",
       "      <td>435.55</td>\n",
       "      <td>1119.56</td>\n",
       "      <td>37.32</td>\n",
       "      <td>221.86</td>\n",
       "      <td>403.50</td>\n",
       "      <td>642.59</td>\n",
       "      <td>74.06</td>\n",
       "      <td>6.36</td>\n",
       "      <td>4.43</td>\n",
       "      <td>...</td>\n",
       "      <td>42.11</td>\n",
       "      <td>48.18</td>\n",
       "      <td>94.01</td>\n",
       "      <td>24.63</td>\n",
       "      <td>253.23</td>\n",
       "      <td>271.48</td>\n",
       "      <td>5.63</td>\n",
       "      <td>1551.09</td>\n",
       "      <td>819.30</td>\n",
       "      <td>0</td>\n",
       "    </tr>\n",
       "    <tr>\n",
       "      <th>3</th>\n",
       "      <td>122.64</td>\n",
       "      <td>368.65</td>\n",
       "      <td>1073.91</td>\n",
       "      <td>1.31</td>\n",
       "      <td>129.69</td>\n",
       "      <td>108.14</td>\n",
       "      <td>450.94</td>\n",
       "      <td>10.08</td>\n",
       "      <td>0.77</td>\n",
       "      <td>0.00</td>\n",
       "      <td>...</td>\n",
       "      <td>8.25</td>\n",
       "      <td>99.43</td>\n",
       "      <td>24.99</td>\n",
       "      <td>32.82</td>\n",
       "      <td>156.59</td>\n",
       "      <td>104.42</td>\n",
       "      <td>20.56</td>\n",
       "      <td>860.08</td>\n",
       "      <td>878.17</td>\n",
       "      <td>5</td>\n",
       "    </tr>\n",
       "    <tr>\n",
       "      <th>4</th>\n",
       "      <td>353.59</td>\n",
       "      <td>698.41</td>\n",
       "      <td>967.76</td>\n",
       "      <td>221.86</td>\n",
       "      <td>253.23</td>\n",
       "      <td>361.04</td>\n",
       "      <td>1359.57</td>\n",
       "      <td>166.73</td>\n",
       "      <td>15.11</td>\n",
       "      <td>24.46</td>\n",
       "      <td>...</td>\n",
       "      <td>87.03</td>\n",
       "      <td>53.57</td>\n",
       "      <td>164.42</td>\n",
       "      <td>93.35</td>\n",
       "      <td>301.33</td>\n",
       "      <td>289.02</td>\n",
       "      <td>7.34</td>\n",
       "      <td>1417.35</td>\n",
       "      <td>713.11</td>\n",
       "      <td>1</td>\n",
       "    </tr>\n",
       "    <tr>\n",
       "      <th>5</th>\n",
       "      <td>271.48</td>\n",
       "      <td>435.55</td>\n",
       "      <td>1709.26</td>\n",
       "      <td>5.32</td>\n",
       "      <td>146.03</td>\n",
       "      <td>69.03</td>\n",
       "      <td>713.11</td>\n",
       "      <td>73.03</td>\n",
       "      <td>7.88</td>\n",
       "      <td>3.79</td>\n",
       "      <td>...</td>\n",
       "      <td>92.05</td>\n",
       "      <td>540.19</td>\n",
       "      <td>59.97</td>\n",
       "      <td>84.04</td>\n",
       "      <td>381.68</td>\n",
       "      <td>204.07</td>\n",
       "      <td>0.00</td>\n",
       "      <td>1508.65</td>\n",
       "      <td>642.59</td>\n",
       "      <td>6</td>\n",
       "    </tr>\n",
       "    <tr>\n",
       "      <th>6</th>\n",
       "      <td>195.72</td>\n",
       "      <td>555.41</td>\n",
       "      <td>1268.46</td>\n",
       "      <td>5.50</td>\n",
       "      <td>142.01</td>\n",
       "      <td>148.09</td>\n",
       "      <td>460.44</td>\n",
       "      <td>60.39</td>\n",
       "      <td>16.27</td>\n",
       "      <td>0.00</td>\n",
       "      <td>...</td>\n",
       "      <td>20.71</td>\n",
       "      <td>441.64</td>\n",
       "      <td>38.12</td>\n",
       "      <td>346.29</td>\n",
       "      <td>305.55</td>\n",
       "      <td>102.25</td>\n",
       "      <td>17.51</td>\n",
       "      <td>915.51</td>\n",
       "      <td>866.07</td>\n",
       "      <td>4</td>\n",
       "    </tr>\n",
       "    <tr>\n",
       "      <th>7</th>\n",
       "      <td>241.19</td>\n",
       "      <td>563.18</td>\n",
       "      <td>1331.57</td>\n",
       "      <td>24.99</td>\n",
       "      <td>285.03</td>\n",
       "      <td>164.42</td>\n",
       "      <td>679.29</td>\n",
       "      <td>17.51</td>\n",
       "      <td>40.64</td>\n",
       "      <td>2.36</td>\n",
       "      <td>...</td>\n",
       "      <td>153.34</td>\n",
       "      <td>85.82</td>\n",
       "      <td>107.38</td>\n",
       "      <td>63.00</td>\n",
       "      <td>258.57</td>\n",
       "      <td>256.78</td>\n",
       "      <td>17.38</td>\n",
       "      <td>902.89</td>\n",
       "      <td>616.37</td>\n",
       "      <td>3</td>\n",
       "    </tr>\n",
       "    <tr>\n",
       "      <th>8</th>\n",
       "      <td>198.47</td>\n",
       "      <td>480.04</td>\n",
       "      <td>1467.37</td>\n",
       "      <td>9.93</td>\n",
       "      <td>327.56</td>\n",
       "      <td>190.34</td>\n",
       "      <td>633.73</td>\n",
       "      <td>55.89</td>\n",
       "      <td>150.17</td>\n",
       "      <td>0.48</td>\n",
       "      <td>...</td>\n",
       "      <td>117.60</td>\n",
       "      <td>193.01</td>\n",
       "      <td>163.28</td>\n",
       "      <td>64.80</td>\n",
       "      <td>361.04</td>\n",
       "      <td>301.33</td>\n",
       "      <td>0.00</td>\n",
       "      <td>743.43</td>\n",
       "      <td>780.44</td>\n",
       "      <td>6</td>\n",
       "    </tr>\n",
       "    <tr>\n",
       "      <th>9</th>\n",
       "      <td>205.50</td>\n",
       "      <td>547.75</td>\n",
       "      <td>1757.34</td>\n",
       "      <td>55.49</td>\n",
       "      <td>208.38</td>\n",
       "      <td>208.38</td>\n",
       "      <td>599.49</td>\n",
       "      <td>26.86</td>\n",
       "      <td>6.94</td>\n",
       "      <td>1.58</td>\n",
       "      <td>...</td>\n",
       "      <td>36.79</td>\n",
       "      <td>121.79</td>\n",
       "      <td>54.33</td>\n",
       "      <td>91.41</td>\n",
       "      <td>299.25</td>\n",
       "      <td>156.59</td>\n",
       "      <td>7.69</td>\n",
       "      <td>1540.37</td>\n",
       "      <td>902.89</td>\n",
       "      <td>6</td>\n",
       "    </tr>\n",
       "    <tr>\n",
       "      <th>10</th>\n",
       "      <td>208.38</td>\n",
       "      <td>651.58</td>\n",
       "      <td>1259.69</td>\n",
       "      <td>3.14</td>\n",
       "      <td>293.07</td>\n",
       "      <td>154.42</td>\n",
       "      <td>981.29</td>\n",
       "      <td>14.45</td>\n",
       "      <td>52.08</td>\n",
       "      <td>1.75</td>\n",
       "      <td>...</td>\n",
       "      <td>57.49</td>\n",
       "      <td>32.82</td>\n",
       "      <td>116.78</td>\n",
       "      <td>130.60</td>\n",
       "      <td>275.28</td>\n",
       "      <td>186.40</td>\n",
       "      <td>5.06</td>\n",
       "      <td>830.75</td>\n",
       "      <td>665.29</td>\n",
       "      <td>6</td>\n",
       "    </tr>\n",
       "    <tr>\n",
       "      <th>11</th>\n",
       "      <td>228.13</td>\n",
       "      <td>470.14</td>\n",
       "      <td>967.76</td>\n",
       "      <td>45.21</td>\n",
       "      <td>241.19</td>\n",
       "      <td>256.78</td>\n",
       "      <td>878.17</td>\n",
       "      <td>73.54</td>\n",
       "      <td>2.16</td>\n",
       "      <td>84.04</td>\n",
       "      <td>...</td>\n",
       "      <td>201.25</td>\n",
       "      <td>6.41</td>\n",
       "      <td>118.43</td>\n",
       "      <td>58.71</td>\n",
       "      <td>409.15</td>\n",
       "      <td>199.85</td>\n",
       "      <td>0.00</td>\n",
       "      <td>1322.37</td>\n",
       "      <td>583.07</td>\n",
       "      <td>0</td>\n",
       "    </tr>\n",
       "    <tr>\n",
       "      <th>12</th>\n",
       "      <td>181.28</td>\n",
       "      <td>507.46</td>\n",
       "      <td>1540.37</td>\n",
       "      <td>27.84</td>\n",
       "      <td>193.01</td>\n",
       "      <td>136.19</td>\n",
       "      <td>620.67</td>\n",
       "      <td>37.59</td>\n",
       "      <td>2.25</td>\n",
       "      <td>2.73</td>\n",
       "      <td>...</td>\n",
       "      <td>171.45</td>\n",
       "      <td>214.27</td>\n",
       "      <td>84.63</td>\n",
       "      <td>85.22</td>\n",
       "      <td>314.17</td>\n",
       "      <td>120.94</td>\n",
       "      <td>22.92</td>\n",
       "      <td>1427.22</td>\n",
       "      <td>708.18</td>\n",
       "      <td>6</td>\n",
       "    </tr>\n",
       "    <tr>\n",
       "      <th>13</th>\n",
       "      <td>384.34</td>\n",
       "      <td>559.28</td>\n",
       "      <td>1066.48</td>\n",
       "      <td>44.57</td>\n",
       "      <td>381.68</td>\n",
       "      <td>283.05</td>\n",
       "      <td>1073.91</td>\n",
       "      <td>81.14</td>\n",
       "      <td>81.14</td>\n",
       "      <td>3.50</td>\n",
       "      <td>...</td>\n",
       "      <td>36.53</td>\n",
       "      <td>69.03</td>\n",
       "      <td>189.02</td>\n",
       "      <td>76.71</td>\n",
       "      <td>339.14</td>\n",
       "      <td>595.34</td>\n",
       "      <td>8.78</td>\n",
       "      <td>2502.97</td>\n",
       "      <td>514.56</td>\n",
       "      <td>0</td>\n",
       "    </tr>\n",
       "    <tr>\n",
       "      <th>14</th>\n",
       "      <td>212.78</td>\n",
       "      <td>387.02</td>\n",
       "      <td>1662.49</td>\n",
       "      <td>58.30</td>\n",
       "      <td>281.09</td>\n",
       "      <td>301.33</td>\n",
       "      <td>483.38</td>\n",
       "      <td>102.25</td>\n",
       "      <td>24.99</td>\n",
       "      <td>2.48</td>\n",
       "      <td>...</td>\n",
       "      <td>26.67</td>\n",
       "      <td>93.35</td>\n",
       "      <td>63.89</td>\n",
       "      <td>96.68</td>\n",
       "      <td>262.20</td>\n",
       "      <td>189.02</td>\n",
       "      <td>0.00</td>\n",
       "      <td>1745.20</td>\n",
       "      <td>808.00</td>\n",
       "      <td>0</td>\n",
       "    </tr>\n",
       "    <tr>\n",
       "      <th>15</th>\n",
       "      <td>406.31</td>\n",
       "      <td>620.67</td>\n",
       "      <td>1051.79</td>\n",
       "      <td>76.71</td>\n",
       "      <td>607.87</td>\n",
       "      <td>297.17</td>\n",
       "      <td>1073.91</td>\n",
       "      <td>109.66</td>\n",
       "      <td>55.10</td>\n",
       "      <td>7.34</td>\n",
       "      <td>...</td>\n",
       "      <td>95.34</td>\n",
       "      <td>57.89</td>\n",
       "      <td>95.34</td>\n",
       "      <td>28.04</td>\n",
       "      <td>291.04</td>\n",
       "      <td>320.80</td>\n",
       "      <td>7.63</td>\n",
       "      <td>1104.13</td>\n",
       "      <td>647.07</td>\n",
       "      <td>0</td>\n",
       "    </tr>\n",
       "    <tr>\n",
       "      <th>16</th>\n",
       "      <td>264.03</td>\n",
       "      <td>738.29</td>\n",
       "      <td>1159.07</td>\n",
       "      <td>73.03</td>\n",
       "      <td>239.52</td>\n",
       "      <td>307.69</td>\n",
       "      <td>872.10</td>\n",
       "      <td>31.67</td>\n",
       "      <td>3.50</td>\n",
       "      <td>38.40</td>\n",
       "      <td>...</td>\n",
       "      <td>67.12</td>\n",
       "      <td>82.29</td>\n",
       "      <td>137.14</td>\n",
       "      <td>180.02</td>\n",
       "      <td>273.37</td>\n",
       "      <td>193.01</td>\n",
       "      <td>9.78</td>\n",
       "      <td>1467.37</td>\n",
       "      <td>890.44</td>\n",
       "      <td>3</td>\n",
       "    </tr>\n",
       "    <tr>\n",
       "      <th>17</th>\n",
       "      <td>223.41</td>\n",
       "      <td>660.68</td>\n",
       "      <td>915.51</td>\n",
       "      <td>102.97</td>\n",
       "      <td>273.37</td>\n",
       "      <td>228.13</td>\n",
       "      <td>684.02</td>\n",
       "      <td>134.30</td>\n",
       "      <td>2.53</td>\n",
       "      <td>5.36</td>\n",
       "      <td>...</td>\n",
       "      <td>175.07</td>\n",
       "      <td>59.97</td>\n",
       "      <td>92.70</td>\n",
       "      <td>92.70</td>\n",
       "      <td>191.67</td>\n",
       "      <td>173.85</td>\n",
       "      <td>5.87</td>\n",
       "      <td>1250.98</td>\n",
       "      <td>708.18</td>\n",
       "      <td>0</td>\n",
       "    </tr>\n",
       "    <tr>\n",
       "      <th>18</th>\n",
       "      <td>283.05</td>\n",
       "      <td>669.92</td>\n",
       "      <td>1388.16</td>\n",
       "      <td>14.56</td>\n",
       "      <td>253.23</td>\n",
       "      <td>281.09</td>\n",
       "      <td>921.88</td>\n",
       "      <td>29.27</td>\n",
       "      <td>149.12</td>\n",
       "      <td>158.79</td>\n",
       "      <td>...</td>\n",
       "      <td>107.38</td>\n",
       "      <td>45.53</td>\n",
       "      <td>158.79</td>\n",
       "      <td>214.27</td>\n",
       "      <td>307.69</td>\n",
       "      <td>157.68</td>\n",
       "      <td>4.82</td>\n",
       "      <td>1561.89</td>\n",
       "      <td>684.02</td>\n",
       "      <td>5</td>\n",
       "    </tr>\n",
       "    <tr>\n",
       "      <th>19</th>\n",
       "      <td>279.14</td>\n",
       "      <td>591.22</td>\n",
       "      <td>1313.23</td>\n",
       "      <td>85.22</td>\n",
       "      <td>126.12</td>\n",
       "      <td>265.87</td>\n",
       "      <td>872.10</td>\n",
       "      <td>73.54</td>\n",
       "      <td>52.45</td>\n",
       "      <td>8.92</td>\n",
       "      <td>...</td>\n",
       "      <td>66.18</td>\n",
       "      <td>154.42</td>\n",
       "      <td>100.83</td>\n",
       "      <td>121.79</td>\n",
       "      <td>368.65</td>\n",
       "      <td>258.57</td>\n",
       "      <td>3.53</td>\n",
       "      <td>921.88</td>\n",
       "      <td>775.05</td>\n",
       "      <td>6</td>\n",
       "    </tr>\n",
       "    <tr>\n",
       "      <th>20</th>\n",
       "      <td>307.69</td>\n",
       "      <td>665.29</td>\n",
       "      <td>493.56</td>\n",
       "      <td>98.04</td>\n",
       "      <td>327.56</td>\n",
       "      <td>121.79</td>\n",
       "      <td>890.44</td>\n",
       "      <td>20.71</td>\n",
       "      <td>4.13</td>\n",
       "      <td>197.09</td>\n",
       "      <td>...</td>\n",
       "      <td>189.02</td>\n",
       "      <td>28.65</td>\n",
       "      <td>105.15</td>\n",
       "      <td>63.89</td>\n",
       "      <td>320.80</td>\n",
       "      <td>403.50</td>\n",
       "      <td>0.00</td>\n",
       "      <td>1175.27</td>\n",
       "      <td>902.89</td>\n",
       "      <td>0</td>\n",
       "    </tr>\n",
       "    <tr>\n",
       "      <th>21</th>\n",
       "      <td>229.72</td>\n",
       "      <td>289.02</td>\n",
       "      <td>1268.46</td>\n",
       "      <td>27.64</td>\n",
       "      <td>220.32</td>\n",
       "      <td>127.00</td>\n",
       "      <td>587.13</td>\n",
       "      <td>27.05</td>\n",
       "      <td>30.56</td>\n",
       "      <td>5.68</td>\n",
       "      <td>...</td>\n",
       "      <td>25.54</td>\n",
       "      <td>108.90</td>\n",
       "      <td>69.03</td>\n",
       "      <td>154.42</td>\n",
       "      <td>162.14</td>\n",
       "      <td>124.37</td>\n",
       "      <td>25.91</td>\n",
       "      <td>583.07</td>\n",
       "      <td>808.00</td>\n",
       "      <td>6</td>\n",
       "    </tr>\n",
       "    <tr>\n",
       "      <th>22</th>\n",
       "      <td>180.02</td>\n",
       "      <td>281.09</td>\n",
       "      <td>1259.69</td>\n",
       "      <td>26.67</td>\n",
       "      <td>138.10</td>\n",
       "      <td>339.14</td>\n",
       "      <td>547.75</td>\n",
       "      <td>57.89</td>\n",
       "      <td>46.50</td>\n",
       "      <td>13.52</td>\n",
       "      <td>...</td>\n",
       "      <td>39.79</td>\n",
       "      <td>94.01</td>\n",
       "      <td>92.05</td>\n",
       "      <td>63.00</td>\n",
       "      <td>314.17</td>\n",
       "      <td>264.03</td>\n",
       "      <td>15.22</td>\n",
       "      <td>1977.24</td>\n",
       "      <td>872.10</td>\n",
       "      <td>3</td>\n",
       "    </tr>\n",
       "    <tr>\n",
       "      <th>23</th>\n",
       "      <td>229.72</td>\n",
       "      <td>587.13</td>\n",
       "      <td>1135.20</td>\n",
       "      <td>215.77</td>\n",
       "      <td>371.22</td>\n",
       "      <td>493.56</td>\n",
       "      <td>723.08</td>\n",
       "      <td>68.55</td>\n",
       "      <td>38.67</td>\n",
       "      <td>12.83</td>\n",
       "      <td>...</td>\n",
       "      <td>36.53</td>\n",
       "      <td>159.90</td>\n",
       "      <td>143.01</td>\n",
       "      <td>108.90</td>\n",
       "      <td>256.78</td>\n",
       "      <td>285.03</td>\n",
       "      <td>21.78</td>\n",
       "      <td>1870.53</td>\n",
       "      <td>723.08</td>\n",
       "      <td>0</td>\n",
       "    </tr>\n",
       "    <tr>\n",
       "      <th>24</th>\n",
       "      <td>228.13</td>\n",
       "      <td>392.44</td>\n",
       "      <td>1769.57</td>\n",
       "      <td>88.88</td>\n",
       "      <td>267.73</td>\n",
       "      <td>193.01</td>\n",
       "      <td>591.22</td>\n",
       "      <td>89.51</td>\n",
       "      <td>1.97</td>\n",
       "      <td>22.10</td>\n",
       "      <td>...</td>\n",
       "      <td>70.01</td>\n",
       "      <td>105.89</td>\n",
       "      <td>58.30</td>\n",
       "      <td>37.85</td>\n",
       "      <td>275.28</td>\n",
       "      <td>195.72</td>\n",
       "      <td>28.65</td>\n",
       "      <td>1674.06</td>\n",
       "      <td>860.08</td>\n",
       "      <td>0</td>\n",
       "    </tr>\n",
       "    <tr>\n",
       "      <th>25</th>\n",
       "      <td>307.69</td>\n",
       "      <td>503.95</td>\n",
       "      <td>1008.90</td>\n",
       "      <td>85.82</td>\n",
       "      <td>239.52</td>\n",
       "      <td>239.52</td>\n",
       "      <td>674.59</td>\n",
       "      <td>107.38</td>\n",
       "      <td>28.86</td>\n",
       "      <td>9.70</td>\n",
       "      <td>...</td>\n",
       "      <td>47.17</td>\n",
       "      <td>38.12</td>\n",
       "      <td>136.19</td>\n",
       "      <td>44.89</td>\n",
       "      <td>255.00</td>\n",
       "      <td>323.03</td>\n",
       "      <td>15.34</td>\n",
       "      <td>1628.26</td>\n",
       "      <td>656.11</td>\n",
       "      <td>1</td>\n",
       "    </tr>\n",
       "    <tr>\n",
       "      <th>26</th>\n",
       "      <td>234.57</td>\n",
       "      <td>583.07</td>\n",
       "      <td>1066.48</td>\n",
       "      <td>52.08</td>\n",
       "      <td>166.73</td>\n",
       "      <td>190.34</td>\n",
       "      <td>665.29</td>\n",
       "      <td>47.50</td>\n",
       "      <td>10.47</td>\n",
       "      <td>4.62</td>\n",
       "      <td>...</td>\n",
       "      <td>62.56</td>\n",
       "      <td>232.94</td>\n",
       "      <td>72.01</td>\n",
       "      <td>154.42</td>\n",
       "      <td>277.20</td>\n",
       "      <td>145.02</td>\n",
       "      <td>6.31</td>\n",
       "      <td>921.88</td>\n",
       "      <td>785.88</td>\n",
       "      <td>5</td>\n",
       "    </tr>\n",
       "    <tr>\n",
       "      <th>27</th>\n",
       "      <td>161.02</td>\n",
       "      <td>389.72</td>\n",
       "      <td>1151.06</td>\n",
       "      <td>55.89</td>\n",
       "      <td>134.30</td>\n",
       "      <td>325.29</td>\n",
       "      <td>860.08</td>\n",
       "      <td>2004.85</td>\n",
       "      <td>8.00</td>\n",
       "      <td>0.56</td>\n",
       "      <td>...</td>\n",
       "      <td>3.53</td>\n",
       "      <td>82.29</td>\n",
       "      <td>42.41</td>\n",
       "      <td>37.85</td>\n",
       "      <td>299.25</td>\n",
       "      <td>33.06</td>\n",
       "      <td>0.00</td>\n",
       "      <td>1551.09</td>\n",
       "      <td>738.29</td>\n",
       "      <td>1</td>\n",
       "    </tr>\n",
       "    <tr>\n",
       "      <th>28</th>\n",
       "      <td>239.52</td>\n",
       "      <td>392.44</td>\n",
       "      <td>1340.84</td>\n",
       "      <td>12.36</td>\n",
       "      <td>214.27</td>\n",
       "      <td>353.59</td>\n",
       "      <td>555.41</td>\n",
       "      <td>37.05</td>\n",
       "      <td>185.11</td>\n",
       "      <td>0.83</td>\n",
       "      <td>...</td>\n",
       "      <td>24.81</td>\n",
       "      <td>158.79</td>\n",
       "      <td>124.37</td>\n",
       "      <td>44.25</td>\n",
       "      <td>289.02</td>\n",
       "      <td>183.82</td>\n",
       "      <td>5.02</td>\n",
       "      <td>921.88</td>\n",
       "      <td>967.76</td>\n",
       "      <td>3</td>\n",
       "    </tr>\n",
       "    <tr>\n",
       "      <th>29</th>\n",
       "      <td>305.55</td>\n",
       "      <td>543.96</td>\n",
       "      <td>802.41</td>\n",
       "      <td>46.50</td>\n",
       "      <td>307.69</td>\n",
       "      <td>376.41</td>\n",
       "      <td>813.63</td>\n",
       "      <td>19.39</td>\n",
       "      <td>8.06</td>\n",
       "      <td>1.22</td>\n",
       "      <td>...</td>\n",
       "      <td>69.52</td>\n",
       "      <td>95.34</td>\n",
       "      <td>120.94</td>\n",
       "      <td>74.06</td>\n",
       "      <td>384.34</td>\n",
       "      <td>244.57</td>\n",
       "      <td>9.56</td>\n",
       "      <td>1769.57</td>\n",
       "      <td>808.00</td>\n",
       "      <td>2</td>\n",
       "    </tr>\n",
       "    <tr>\n",
       "      <th>...</th>\n",
       "      <td>...</td>\n",
       "      <td>...</td>\n",
       "      <td>...</td>\n",
       "      <td>...</td>\n",
       "      <td>...</td>\n",
       "      <td>...</td>\n",
       "      <td>...</td>\n",
       "      <td>...</td>\n",
       "      <td>...</td>\n",
       "      <td>...</td>\n",
       "      <td>...</td>\n",
       "      <td>...</td>\n",
       "      <td>...</td>\n",
       "      <td>...</td>\n",
       "      <td>...</td>\n",
       "      <td>...</td>\n",
       "      <td>...</td>\n",
       "      <td>...</td>\n",
       "      <td>...</td>\n",
       "      <td>...</td>\n",
       "      <td>...</td>\n",
       "    </tr>\n",
       "    <tr>\n",
       "      <th>550</th>\n",
       "      <td>246.28</td>\n",
       "      <td>387.02</td>\n",
       "      <td>1008.90</td>\n",
       "      <td>17.00</td>\n",
       "      <td>201.25</td>\n",
       "      <td>432.53</td>\n",
       "      <td>830.75</td>\n",
       "      <td>2240.11</td>\n",
       "      <td>22.92</td>\n",
       "      <td>13.72</td>\n",
       "      <td>...</td>\n",
       "      <td>21.32</td>\n",
       "      <td>82.29</td>\n",
       "      <td>92.70</td>\n",
       "      <td>30.34</td>\n",
       "      <td>412.00</td>\n",
       "      <td>78.34</td>\n",
       "      <td>3.50</td>\n",
       "      <td>1857.60</td>\n",
       "      <td>743.43</td>\n",
       "      <td>1</td>\n",
       "    </tr>\n",
       "    <tr>\n",
       "      <th>551</th>\n",
       "      <td>143.01</td>\n",
       "      <td>327.56</td>\n",
       "      <td>1216.75</td>\n",
       "      <td>19.82</td>\n",
       "      <td>178.77</td>\n",
       "      <td>358.54</td>\n",
       "      <td>591.22</td>\n",
       "      <td>169.07</td>\n",
       "      <td>9.13</td>\n",
       "      <td>1.81</td>\n",
       "      <td>...</td>\n",
       "      <td>44.89</td>\n",
       "      <td>217.27</td>\n",
       "      <td>96.68</td>\n",
       "      <td>42.41</td>\n",
       "      <td>264.03</td>\n",
       "      <td>149.12</td>\n",
       "      <td>0.00</td>\n",
       "      <td>1369.04</td>\n",
       "      <td>909.17</td>\n",
       "      <td>0</td>\n",
       "    </tr>\n",
       "    <tr>\n",
       "      <th>552</th>\n",
       "      <td>201.25</td>\n",
       "      <td>486.75</td>\n",
       "      <td>1617.00</td>\n",
       "      <td>22.92</td>\n",
       "      <td>255.00</td>\n",
       "      <td>241.19</td>\n",
       "      <td>684.02</td>\n",
       "      <td>70.51</td>\n",
       "      <td>206.94</td>\n",
       "      <td>11.64</td>\n",
       "      <td>...</td>\n",
       "      <td>116.78</td>\n",
       "      <td>47.50</td>\n",
       "      <td>341.51</td>\n",
       "      <td>183.82</td>\n",
       "      <td>155.50</td>\n",
       "      <td>69.52</td>\n",
       "      <td>6.31</td>\n",
       "      <td>896.64</td>\n",
       "      <td>688.78</td>\n",
       "      <td>6</td>\n",
       "    </tr>\n",
       "    <tr>\n",
       "      <th>553</th>\n",
       "      <td>361.04</td>\n",
       "      <td>507.46</td>\n",
       "      <td>693.58</td>\n",
       "      <td>60.82</td>\n",
       "      <td>384.34</td>\n",
       "      <td>303.44</td>\n",
       "      <td>1151.06</td>\n",
       "      <td>41.81</td>\n",
       "      <td>2.73</td>\n",
       "      <td>6.94</td>\n",
       "      <td>...</td>\n",
       "      <td>283.05</td>\n",
       "      <td>28.45</td>\n",
       "      <td>80.01</td>\n",
       "      <td>21.94</td>\n",
       "      <td>180.02</td>\n",
       "      <td>339.14</td>\n",
       "      <td>10.63</td>\n",
       "      <td>738.29</td>\n",
       "      <td>435.55</td>\n",
       "      <td>6</td>\n",
       "    </tr>\n",
       "    <tr>\n",
       "      <th>554</th>\n",
       "      <td>97.36</td>\n",
       "      <td>351.14</td>\n",
       "      <td>2018.80</td>\n",
       "      <td>11.82</td>\n",
       "      <td>131.51</td>\n",
       "      <td>115.16</td>\n",
       "      <td>769.69</td>\n",
       "      <td>38.67</td>\n",
       "      <td>52.08</td>\n",
       "      <td>8.32</td>\n",
       "      <td>...</td>\n",
       "      <td>36.01</td>\n",
       "      <td>229.72</td>\n",
       "      <td>81.71</td>\n",
       "      <td>33.54</td>\n",
       "      <td>297.17</td>\n",
       "      <td>152.28</td>\n",
       "      <td>22.26</td>\n",
       "      <td>2367.90</td>\n",
       "      <td>688.78</td>\n",
       "      <td>6</td>\n",
       "    </tr>\n",
       "    <tr>\n",
       "      <th>555</th>\n",
       "      <td>187.71</td>\n",
       "      <td>563.18</td>\n",
       "      <td>974.50</td>\n",
       "      <td>27.64</td>\n",
       "      <td>223.41</td>\n",
       "      <td>327.56</td>\n",
       "      <td>764.36</td>\n",
       "      <td>159.90</td>\n",
       "      <td>0.72</td>\n",
       "      <td>18.70</td>\n",
       "      <td>...</td>\n",
       "      <td>72.01</td>\n",
       "      <td>108.14</td>\n",
       "      <td>172.65</td>\n",
       "      <td>54.72</td>\n",
       "      <td>244.57</td>\n",
       "      <td>343.89</td>\n",
       "      <td>5.82</td>\n",
       "      <td>1066.48</td>\n",
       "      <td>830.75</td>\n",
       "      <td>0</td>\n",
       "    </tr>\n",
       "    <tr>\n",
       "      <th>556</th>\n",
       "      <td>215.77</td>\n",
       "      <td>599.49</td>\n",
       "      <td>1572.76</td>\n",
       "      <td>37.05</td>\n",
       "      <td>190.34</td>\n",
       "      <td>182.55</td>\n",
       "      <td>723.08</td>\n",
       "      <td>409.15</td>\n",
       "      <td>5.11</td>\n",
       "      <td>0.45</td>\n",
       "      <td>...</td>\n",
       "      <td>123.50</td>\n",
       "      <td>511.00</td>\n",
       "      <td>40.64</td>\n",
       "      <td>197.09</td>\n",
       "      <td>141.02</td>\n",
       "      <td>145.02</td>\n",
       "      <td>15.00</td>\n",
       "      <td>1127.35</td>\n",
       "      <td>769.69</td>\n",
       "      <td>4</td>\n",
       "    </tr>\n",
       "    <tr>\n",
       "      <th>557</th>\n",
       "      <td>244.57</td>\n",
       "      <td>620.67</td>\n",
       "      <td>1104.13</td>\n",
       "      <td>40.36</td>\n",
       "      <td>204.07</td>\n",
       "      <td>368.65</td>\n",
       "      <td>1088.92</td>\n",
       "      <td>144.01</td>\n",
       "      <td>75.64</td>\n",
       "      <td>0.62</td>\n",
       "      <td>...</td>\n",
       "      <td>59.55</td>\n",
       "      <td>74.06</td>\n",
       "      <td>111.99</td>\n",
       "      <td>47.50</td>\n",
       "      <td>291.04</td>\n",
       "      <td>170.25</td>\n",
       "      <td>25.72</td>\n",
       "      <td>1697.45</td>\n",
       "      <td>555.41</td>\n",
       "      <td>0</td>\n",
       "    </tr>\n",
       "    <tr>\n",
       "      <th>558</th>\n",
       "      <td>218.79</td>\n",
       "      <td>450.94</td>\n",
       "      <td>1572.76</td>\n",
       "      <td>152.28</td>\n",
       "      <td>444.72</td>\n",
       "      <td>287.01</td>\n",
       "      <td>759.08</td>\n",
       "      <td>97.36</td>\n",
       "      <td>30.56</td>\n",
       "      <td>3.26</td>\n",
       "      <td>...</td>\n",
       "      <td>60.39</td>\n",
       "      <td>16.39</td>\n",
       "      <td>100.13</td>\n",
       "      <td>41.81</td>\n",
       "      <td>277.20</td>\n",
       "      <td>447.82</td>\n",
       "      <td>4.82</td>\n",
       "      <td>1304.15</td>\n",
       "      <td>612.11</td>\n",
       "      <td>0</td>\n",
       "    </tr>\n",
       "    <tr>\n",
       "      <th>559</th>\n",
       "      <td>128.79</td>\n",
       "      <td>435.55</td>\n",
       "      <td>1551.09</td>\n",
       "      <td>100.83</td>\n",
       "      <td>387.02</td>\n",
       "      <td>155.50</td>\n",
       "      <td>684.02</td>\n",
       "      <td>211.31</td>\n",
       "      <td>6.11</td>\n",
       "      <td>27.25</td>\n",
       "      <td>...</td>\n",
       "      <td>50.27</td>\n",
       "      <td>63.45</td>\n",
       "      <td>154.42</td>\n",
       "      <td>78.89</td>\n",
       "      <td>253.23</td>\n",
       "      <td>133.36</td>\n",
       "      <td>17.51</td>\n",
       "      <td>775.05</td>\n",
       "      <td>547.75</td>\n",
       "      <td>6</td>\n",
       "    </tr>\n",
       "    <tr>\n",
       "      <th>560</th>\n",
       "      <td>241.19</td>\n",
       "      <td>493.56</td>\n",
       "      <td>1199.98</td>\n",
       "      <td>55.10</td>\n",
       "      <td>223.41</td>\n",
       "      <td>297.17</td>\n",
       "      <td>954.43</td>\n",
       "      <td>30.12</td>\n",
       "      <td>24.99</td>\n",
       "      <td>2.81</td>\n",
       "      <td>...</td>\n",
       "      <td>43.02</td>\n",
       "      <td>14.24</td>\n",
       "      <td>90.77</td>\n",
       "      <td>242.88</td>\n",
       "      <td>397.93</td>\n",
       "      <td>138.10</td>\n",
       "      <td>6.73</td>\n",
       "      <td>1104.13</td>\n",
       "      <td>1030.12</td>\n",
       "      <td>0</td>\n",
       "    </tr>\n",
       "    <tr>\n",
       "      <th>561</th>\n",
       "      <td>279.14</td>\n",
       "      <td>476.71</td>\n",
       "      <td>878.17</td>\n",
       "      <td>24.63</td>\n",
       "      <td>223.41</td>\n",
       "      <td>426.57</td>\n",
       "      <td>669.92</td>\n",
       "      <td>35.50</td>\n",
       "      <td>6.16</td>\n",
       "      <td>9.27</td>\n",
       "      <td>...</td>\n",
       "      <td>56.28</td>\n",
       "      <td>132.44</td>\n",
       "      <td>81.71</td>\n",
       "      <td>62.56</td>\n",
       "      <td>287.01</td>\n",
       "      <td>258.57</td>\n",
       "      <td>2.51</td>\n",
       "      <td>1417.35</td>\n",
       "      <td>808.00</td>\n",
       "      <td>3</td>\n",
       "    </tr>\n",
       "    <tr>\n",
       "      <th>562</th>\n",
       "      <td>212.78</td>\n",
       "      <td>563.18</td>\n",
       "      <td>1519.15</td>\n",
       "      <td>9.20</td>\n",
       "      <td>244.57</td>\n",
       "      <td>186.40</td>\n",
       "      <td>525.39</td>\n",
       "      <td>19.25</td>\n",
       "      <td>1.62</td>\n",
       "      <td>1.25</td>\n",
       "      <td>...</td>\n",
       "      <td>72.52</td>\n",
       "      <td>327.56</td>\n",
       "      <td>48.52</td>\n",
       "      <td>108.14</td>\n",
       "      <td>312.00</td>\n",
       "      <td>115.16</td>\n",
       "      <td>4.24</td>\n",
       "      <td>1151.06</td>\n",
       "      <td>688.78</td>\n",
       "      <td>2</td>\n",
       "    </tr>\n",
       "    <tr>\n",
       "      <th>563</th>\n",
       "      <td>267.73</td>\n",
       "      <td>555.41</td>\n",
       "      <td>1388.16</td>\n",
       "      <td>22.10</td>\n",
       "      <td>260.38</td>\n",
       "      <td>63.89</td>\n",
       "      <td>813.63</td>\n",
       "      <td>28.86</td>\n",
       "      <td>941.27</td>\n",
       "      <td>8.45</td>\n",
       "      <td>...</td>\n",
       "      <td>25.35</td>\n",
       "      <td>40.07</td>\n",
       "      <td>111.99</td>\n",
       "      <td>105.15</td>\n",
       "      <td>409.15</td>\n",
       "      <td>231.32</td>\n",
       "      <td>9.20</td>\n",
       "      <td>651.58</td>\n",
       "      <td>733.19</td>\n",
       "      <td>6</td>\n",
       "    </tr>\n",
       "    <tr>\n",
       "      <th>564</th>\n",
       "      <td>234.57</td>\n",
       "      <td>743.43</td>\n",
       "      <td>947.83</td>\n",
       "      <td>91.41</td>\n",
       "      <td>332.14</td>\n",
       "      <td>414.87</td>\n",
       "      <td>693.58</td>\n",
       "      <td>20.26</td>\n",
       "      <td>4.70</td>\n",
       "      <td>6.31</td>\n",
       "      <td>...</td>\n",
       "      <td>32.82</td>\n",
       "      <td>285.03</td>\n",
       "      <td>70.51</td>\n",
       "      <td>177.53</td>\n",
       "      <td>232.94</td>\n",
       "      <td>197.09</td>\n",
       "      <td>0.00</td>\n",
       "      <td>1561.89</td>\n",
       "      <td>728.11</td>\n",
       "      <td>3</td>\n",
       "    </tr>\n",
       "    <tr>\n",
       "      <th>565</th>\n",
       "      <td>353.59</td>\n",
       "      <td>409.15</td>\n",
       "      <td>896.64</td>\n",
       "      <td>24.63</td>\n",
       "      <td>189.02</td>\n",
       "      <td>329.84</td>\n",
       "      <td>579.04</td>\n",
       "      <td>12.09</td>\n",
       "      <td>6.01</td>\n",
       "      <td>1.22</td>\n",
       "      <td>...</td>\n",
       "      <td>67.59</td>\n",
       "      <td>136.19</td>\n",
       "      <td>65.26</td>\n",
       "      <td>30.12</td>\n",
       "      <td>305.55</td>\n",
       "      <td>246.28</td>\n",
       "      <td>0.82</td>\n",
       "      <td>2148.82</td>\n",
       "      <td>854.13</td>\n",
       "      <td>4</td>\n",
       "    </tr>\n",
       "    <tr>\n",
       "      <th>566</th>\n",
       "      <td>237.86</td>\n",
       "      <td>603.67</td>\n",
       "      <td>1407.55</td>\n",
       "      <td>133.36</td>\n",
       "      <td>279.14</td>\n",
       "      <td>248.00</td>\n",
       "      <td>909.17</td>\n",
       "      <td>81.71</td>\n",
       "      <td>37.05</td>\n",
       "      <td>5.28</td>\n",
       "      <td>...</td>\n",
       "      <td>38.95</td>\n",
       "      <td>172.65</td>\n",
       "      <td>134.30</td>\n",
       "      <td>97.36</td>\n",
       "      <td>262.20</td>\n",
       "      <td>173.85</td>\n",
       "      <td>0.00</td>\n",
       "      <td>1277.29</td>\n",
       "      <td>698.41</td>\n",
       "      <td>4</td>\n",
       "    </tr>\n",
       "    <tr>\n",
       "      <th>567</th>\n",
       "      <td>293.07</td>\n",
       "      <td>738.29</td>\n",
       "      <td>836.53</td>\n",
       "      <td>285.03</td>\n",
       "      <td>156.59</td>\n",
       "      <td>289.02</td>\n",
       "      <td>1331.57</td>\n",
       "      <td>79.45</td>\n",
       "      <td>6.01</td>\n",
       "      <td>12.27</td>\n",
       "      <td>...</td>\n",
       "      <td>92.70</td>\n",
       "      <td>5.54</td>\n",
       "      <td>114.36</td>\n",
       "      <td>35.00</td>\n",
       "      <td>299.25</td>\n",
       "      <td>121.79</td>\n",
       "      <td>11.73</td>\n",
       "      <td>1870.53</td>\n",
       "      <td>708.18</td>\n",
       "      <td>0</td>\n",
       "    </tr>\n",
       "    <tr>\n",
       "      <th>568</th>\n",
       "      <td>231.32</td>\n",
       "      <td>463.65</td>\n",
       "      <td>1096.50</td>\n",
       "      <td>20.26</td>\n",
       "      <td>283.05</td>\n",
       "      <td>166.73</td>\n",
       "      <td>921.88</td>\n",
       "      <td>49.21</td>\n",
       "      <td>0.73</td>\n",
       "      <td>2.89</td>\n",
       "      <td>...</td>\n",
       "      <td>136.19</td>\n",
       "      <td>38.40</td>\n",
       "      <td>88.26</td>\n",
       "      <td>28.45</td>\n",
       "      <td>232.94</td>\n",
       "      <td>142.01</td>\n",
       "      <td>0.00</td>\n",
       "      <td>1096.50</td>\n",
       "      <td>738.29</td>\n",
       "      <td>0</td>\n",
       "    </tr>\n",
       "    <tr>\n",
       "      <th>569</th>\n",
       "      <td>400.71</td>\n",
       "      <td>629.35</td>\n",
       "      <td>878.17</td>\n",
       "      <td>48.18</td>\n",
       "      <td>318.57</td>\n",
       "      <td>348.71</td>\n",
       "      <td>796.86</td>\n",
       "      <td>33.30</td>\n",
       "      <td>51.71</td>\n",
       "      <td>12.18</td>\n",
       "      <td>...</td>\n",
       "      <td>69.03</td>\n",
       "      <td>71.00</td>\n",
       "      <td>149.12</td>\n",
       "      <td>55.89</td>\n",
       "      <td>309.83</td>\n",
       "      <td>389.72</td>\n",
       "      <td>0.00</td>\n",
       "      <td>1950.00</td>\n",
       "      <td>748.61</td>\n",
       "      <td>3</td>\n",
       "    </tr>\n",
       "    <tr>\n",
       "      <th>570</th>\n",
       "      <td>191.67</td>\n",
       "      <td>551.56</td>\n",
       "      <td>1437.15</td>\n",
       "      <td>24.63</td>\n",
       "      <td>208.38</td>\n",
       "      <td>269.60</td>\n",
       "      <td>591.22</td>\n",
       "      <td>38.67</td>\n",
       "      <td>12.55</td>\n",
       "      <td>5.87</td>\n",
       "      <td>...</td>\n",
       "      <td>28.86</td>\n",
       "      <td>105.15</td>\n",
       "      <td>87.03</td>\n",
       "      <td>95.34</td>\n",
       "      <td>299.25</td>\n",
       "      <td>134.30</td>\n",
       "      <td>6.46</td>\n",
       "      <td>1769.57</td>\n",
       "      <td>808.00</td>\n",
       "      <td>3</td>\n",
       "    </tr>\n",
       "    <tr>\n",
       "      <th>571</th>\n",
       "      <td>273.37</td>\n",
       "      <td>616.37</td>\n",
       "      <td>1286.18</td>\n",
       "      <td>54.33</td>\n",
       "      <td>366.09</td>\n",
       "      <td>483.38</td>\n",
       "      <td>974.50</td>\n",
       "      <td>73.03</td>\n",
       "      <td>38.67</td>\n",
       "      <td>9.34</td>\n",
       "      <td>...</td>\n",
       "      <td>36.27</td>\n",
       "      <td>97.36</td>\n",
       "      <td>112.77</td>\n",
       "      <td>73.54</td>\n",
       "      <td>312.00</td>\n",
       "      <td>244.57</td>\n",
       "      <td>0.00</td>\n",
       "      <td>2047.00</td>\n",
       "      <td>748.61</td>\n",
       "      <td>0</td>\n",
       "    </tr>\n",
       "    <tr>\n",
       "      <th>572</th>\n",
       "      <td>223.41</td>\n",
       "      <td>379.04</td>\n",
       "      <td>1001.93</td>\n",
       "      <td>29.27</td>\n",
       "      <td>275.28</td>\n",
       "      <td>218.79</td>\n",
       "      <td>441.64</td>\n",
       "      <td>15.80</td>\n",
       "      <td>4.74</td>\n",
       "      <td>2.39</td>\n",
       "      <td>...</td>\n",
       "      <td>27.64</td>\n",
       "      <td>40.93</td>\n",
       "      <td>105.89</td>\n",
       "      <td>43.32</td>\n",
       "      <td>220.32</td>\n",
       "      <td>120.10</td>\n",
       "      <td>9.27</td>\n",
       "      <td>1769.57</td>\n",
       "      <td>796.86</td>\n",
       "      <td>4</td>\n",
       "    </tr>\n",
       "    <tr>\n",
       "      <th>573</th>\n",
       "      <td>242.88</td>\n",
       "      <td>423.61</td>\n",
       "      <td>1159.07</td>\n",
       "      <td>84.04</td>\n",
       "      <td>199.85</td>\n",
       "      <td>339.14</td>\n",
       "      <td>616.37</td>\n",
       "      <td>26.67</td>\n",
       "      <td>16.27</td>\n",
       "      <td>3.32</td>\n",
       "      <td>...</td>\n",
       "      <td>89.51</td>\n",
       "      <td>108.90</td>\n",
       "      <td>88.88</td>\n",
       "      <td>66.65</td>\n",
       "      <td>264.03</td>\n",
       "      <td>234.57</td>\n",
       "      <td>3.63</td>\n",
       "      <td>1183.45</td>\n",
       "      <td>836.53</td>\n",
       "      <td>4</td>\n",
       "    </tr>\n",
       "    <tr>\n",
       "      <th>574</th>\n",
       "      <td>150.17</td>\n",
       "      <td>307.69</td>\n",
       "      <td>2178.83</td>\n",
       "      <td>15.45</td>\n",
       "      <td>348.71</td>\n",
       "      <td>100.83</td>\n",
       "      <td>334.46</td>\n",
       "      <td>45.21</td>\n",
       "      <td>20.56</td>\n",
       "      <td>0.79</td>\n",
       "      <td>...</td>\n",
       "      <td>37.32</td>\n",
       "      <td>64.80</td>\n",
       "      <td>98.04</td>\n",
       "      <td>30.12</td>\n",
       "      <td>193.01</td>\n",
       "      <td>105.89</td>\n",
       "      <td>6.78</td>\n",
       "      <td>872.10</td>\n",
       "      <td>603.67</td>\n",
       "      <td>4</td>\n",
       "    </tr>\n",
       "    <tr>\n",
       "      <th>575</th>\n",
       "      <td>237.86</td>\n",
       "      <td>507.46</td>\n",
       "      <td>1583.71</td>\n",
       "      <td>19.11</td>\n",
       "      <td>341.51</td>\n",
       "      <td>234.57</td>\n",
       "      <td>753.83</td>\n",
       "      <td>27.84</td>\n",
       "      <td>117.60</td>\n",
       "      <td>1.19</td>\n",
       "      <td>...</td>\n",
       "      <td>67.12</td>\n",
       "      <td>120.94</td>\n",
       "      <td>109.66</td>\n",
       "      <td>82.29</td>\n",
       "      <td>267.73</td>\n",
       "      <td>218.79</td>\n",
       "      <td>9.56</td>\n",
       "      <td>1709.26</td>\n",
       "      <td>616.37</td>\n",
       "      <td>4</td>\n",
       "    </tr>\n",
       "    <tr>\n",
       "      <th>576</th>\n",
       "      <td>332.14</td>\n",
       "      <td>525.39</td>\n",
       "      <td>1030.12</td>\n",
       "      <td>62.56</td>\n",
       "      <td>480.04</td>\n",
       "      <td>728.11</td>\n",
       "      <td>1159.07</td>\n",
       "      <td>67.59</td>\n",
       "      <td>7.63</td>\n",
       "      <td>27.05</td>\n",
       "      <td>...</td>\n",
       "      <td>32.59</td>\n",
       "      <td>63.89</td>\n",
       "      <td>135.24</td>\n",
       "      <td>31.67</td>\n",
       "      <td>255.00</td>\n",
       "      <td>293.07</td>\n",
       "      <td>0.00</td>\n",
       "      <td>1819.35</td>\n",
       "      <td>813.63</td>\n",
       "      <td>0</td>\n",
       "    </tr>\n",
       "    <tr>\n",
       "      <th>577</th>\n",
       "      <td>202.66</td>\n",
       "      <td>397.93</td>\n",
       "      <td>1457.23</td>\n",
       "      <td>20.11</td>\n",
       "      <td>163.28</td>\n",
       "      <td>125.24</td>\n",
       "      <td>583.07</td>\n",
       "      <td>19.97</td>\n",
       "      <td>81.14</td>\n",
       "      <td>0.82</td>\n",
       "      <td>...</td>\n",
       "      <td>68.55</td>\n",
       "      <td>41.52</td>\n",
       "      <td>87.03</td>\n",
       "      <td>109.66</td>\n",
       "      <td>198.47</td>\n",
       "      <td>161.02</td>\n",
       "      <td>4.03</td>\n",
       "      <td>854.13</td>\n",
       "      <td>616.37</td>\n",
       "      <td>4</td>\n",
       "    </tr>\n",
       "    <tr>\n",
       "      <th>578</th>\n",
       "      <td>231.32</td>\n",
       "      <td>529.06</td>\n",
       "      <td>872.10</td>\n",
       "      <td>105.15</td>\n",
       "      <td>241.19</td>\n",
       "      <td>279.14</td>\n",
       "      <td>860.08</td>\n",
       "      <td>2335.28</td>\n",
       "      <td>13.93</td>\n",
       "      <td>5.82</td>\n",
       "      <td>...</td>\n",
       "      <td>31.67</td>\n",
       "      <td>63.45</td>\n",
       "      <td>85.22</td>\n",
       "      <td>95.34</td>\n",
       "      <td>371.22</td>\n",
       "      <td>127.89</td>\n",
       "      <td>10.24</td>\n",
       "      <td>1883.54</td>\n",
       "      <td>860.08</td>\n",
       "      <td>0</td>\n",
       "    </tr>\n",
       "    <tr>\n",
       "      <th>579</th>\n",
       "      <td>189.02</td>\n",
       "      <td>412.00</td>\n",
       "      <td>1674.06</td>\n",
       "      <td>14.24</td>\n",
       "      <td>239.52</td>\n",
       "      <td>87.65</td>\n",
       "      <td>476.71</td>\n",
       "      <td>9.48</td>\n",
       "      <td>514.56</td>\n",
       "      <td>0.39</td>\n",
       "      <td>...</td>\n",
       "      <td>38.12</td>\n",
       "      <td>43.94</td>\n",
       "      <td>121.79</td>\n",
       "      <td>79.45</td>\n",
       "      <td>255.00</td>\n",
       "      <td>251.48</td>\n",
       "      <td>3.72</td>\n",
       "      <td>532.74</td>\n",
       "      <td>743.43</td>\n",
       "      <td>6</td>\n",
       "    </tr>\n",
       "  </tbody>\n",
       "</table>\n",
       "<p>580 rows × 19047 columns</p>\n",
       "</div>"
      ],
      "text/plain": [
       "GeneID  CUL5-8065  REV1-51455  ZNF428-126299  CX3CR1-1524  FAXC-84553  \\\n",
       "0          155.50      432.53        1628.26         6.52      231.32   \n",
       "1          244.57      327.56        1081.39        21.01      246.28   \n",
       "2          171.45      435.55        1119.56        37.32      221.86   \n",
       "3          122.64      368.65        1073.91         1.31      129.69   \n",
       "4          353.59      698.41         967.76       221.86      253.23   \n",
       "5          271.48      435.55        1709.26         5.32      146.03   \n",
       "6          195.72      555.41        1268.46         5.50      142.01   \n",
       "7          241.19      563.18        1331.57        24.99      285.03   \n",
       "8          198.47      480.04        1467.37         9.93      327.56   \n",
       "9          205.50      547.75        1757.34        55.49      208.38   \n",
       "10         208.38      651.58        1259.69         3.14      293.07   \n",
       "11         228.13      470.14         967.76        45.21      241.19   \n",
       "12         181.28      507.46        1540.37        27.84      193.01   \n",
       "13         384.34      559.28        1066.48        44.57      381.68   \n",
       "14         212.78      387.02        1662.49        58.30      281.09   \n",
       "15         406.31      620.67        1051.79        76.71      607.87   \n",
       "16         264.03      738.29        1159.07        73.03      239.52   \n",
       "17         223.41      660.68         915.51       102.97      273.37   \n",
       "18         283.05      669.92        1388.16        14.56      253.23   \n",
       "19         279.14      591.22        1313.23        85.22      126.12   \n",
       "20         307.69      665.29         493.56        98.04      327.56   \n",
       "21         229.72      289.02        1268.46        27.64      220.32   \n",
       "22         180.02      281.09        1259.69        26.67      138.10   \n",
       "23         229.72      587.13        1135.20       215.77      371.22   \n",
       "24         228.13      392.44        1769.57        88.88      267.73   \n",
       "25         307.69      503.95        1008.90        85.82      239.52   \n",
       "26         234.57      583.07        1066.48        52.08      166.73   \n",
       "27         161.02      389.72        1151.06        55.89      134.30   \n",
       "28         239.52      392.44        1340.84        12.36      214.27   \n",
       "29         305.55      543.96         802.41        46.50      307.69   \n",
       "..            ...         ...            ...          ...         ...   \n",
       "550        246.28      387.02        1008.90        17.00      201.25   \n",
       "551        143.01      327.56        1216.75        19.82      178.77   \n",
       "552        201.25      486.75        1617.00        22.92      255.00   \n",
       "553        361.04      507.46         693.58        60.82      384.34   \n",
       "554         97.36      351.14        2018.80        11.82      131.51   \n",
       "555        187.71      563.18         974.50        27.64      223.41   \n",
       "556        215.77      599.49        1572.76        37.05      190.34   \n",
       "557        244.57      620.67        1104.13        40.36      204.07   \n",
       "558        218.79      450.94        1572.76       152.28      444.72   \n",
       "559        128.79      435.55        1551.09       100.83      387.02   \n",
       "560        241.19      493.56        1199.98        55.10      223.41   \n",
       "561        279.14      476.71         878.17        24.63      223.41   \n",
       "562        212.78      563.18        1519.15         9.20      244.57   \n",
       "563        267.73      555.41        1388.16        22.10      260.38   \n",
       "564        234.57      743.43         947.83        91.41      332.14   \n",
       "565        353.59      409.15         896.64        24.63      189.02   \n",
       "566        237.86      603.67        1407.55       133.36      279.14   \n",
       "567        293.07      738.29         836.53       285.03      156.59   \n",
       "568        231.32      463.65        1096.50        20.26      283.05   \n",
       "569        400.71      629.35         878.17        48.18      318.57   \n",
       "570        191.67      551.56        1437.15        24.63      208.38   \n",
       "571        273.37      616.37        1286.18        54.33      366.09   \n",
       "572        223.41      379.04        1001.93        29.27      275.28   \n",
       "573        242.88      423.61        1159.07        84.04      199.85   \n",
       "574        150.17      307.69        2178.83        15.45      348.71   \n",
       "575        237.86      507.46        1583.71        19.11      341.51   \n",
       "576        332.14      525.39        1030.12        62.56      480.04   \n",
       "577        202.66      397.93        1457.23        20.11      163.28   \n",
       "578        231.32      529.06         872.10       105.15      241.19   \n",
       "579        189.02      412.00        1674.06        14.24      239.52   \n",
       "\n",
       "GeneID  PKP2-5318  BNIP2-663  HOXB7-3217  GRIN3A-116443  FCRL5-83416   ...    \\\n",
       "0           91.41     961.07       17.00         417.77         0.00   ...     \n",
       "1          231.32     660.68       53.57           1.95        10.79   ...     \n",
       "2          403.50     642.59       74.06           6.36         4.43   ...     \n",
       "3          108.14     450.94       10.08           0.77         0.00   ...     \n",
       "4          361.04    1359.57      166.73          15.11        24.46   ...     \n",
       "5           69.03     713.11       73.03           7.88         3.79   ...     \n",
       "6          148.09     460.44       60.39          16.27         0.00   ...     \n",
       "7          164.42     679.29       17.51          40.64         2.36   ...     \n",
       "8          190.34     633.73       55.89         150.17         0.48   ...     \n",
       "9          208.38     599.49       26.86           6.94         1.58   ...     \n",
       "10         154.42     981.29       14.45          52.08         1.75   ...     \n",
       "11         256.78     878.17       73.54           2.16        84.04   ...     \n",
       "12         136.19     620.67       37.59           2.25         2.73   ...     \n",
       "13         283.05    1073.91       81.14          81.14         3.50   ...     \n",
       "14         301.33     483.38      102.25          24.99         2.48   ...     \n",
       "15         297.17    1073.91      109.66          55.10         7.34   ...     \n",
       "16         307.69     872.10       31.67           3.50        38.40   ...     \n",
       "17         228.13     684.02      134.30           2.53         5.36   ...     \n",
       "18         281.09     921.88       29.27         149.12       158.79   ...     \n",
       "19         265.87     872.10       73.54          52.45         8.92   ...     \n",
       "20         121.79     890.44       20.71           4.13       197.09   ...     \n",
       "21         127.00     587.13       27.05          30.56         5.68   ...     \n",
       "22         339.14     547.75       57.89          46.50        13.52   ...     \n",
       "23         493.56     723.08       68.55          38.67        12.83   ...     \n",
       "24         193.01     591.22       89.51           1.97        22.10   ...     \n",
       "25         239.52     674.59      107.38          28.86         9.70   ...     \n",
       "26         190.34     665.29       47.50          10.47         4.62   ...     \n",
       "27         325.29     860.08     2004.85           8.00         0.56   ...     \n",
       "28         353.59     555.41       37.05         185.11         0.83   ...     \n",
       "29         376.41     813.63       19.39           8.06         1.22   ...     \n",
       "..            ...        ...         ...            ...          ...   ...     \n",
       "550        432.53     830.75     2240.11          22.92        13.72   ...     \n",
       "551        358.54     591.22      169.07           9.13         1.81   ...     \n",
       "552        241.19     684.02       70.51         206.94        11.64   ...     \n",
       "553        303.44    1151.06       41.81           2.73         6.94   ...     \n",
       "554        115.16     769.69       38.67          52.08         8.32   ...     \n",
       "555        327.56     764.36      159.90           0.72        18.70   ...     \n",
       "556        182.55     723.08      409.15           5.11         0.45   ...     \n",
       "557        368.65    1088.92      144.01          75.64         0.62   ...     \n",
       "558        287.01     759.08       97.36          30.56         3.26   ...     \n",
       "559        155.50     684.02      211.31           6.11        27.25   ...     \n",
       "560        297.17     954.43       30.12          24.99         2.81   ...     \n",
       "561        426.57     669.92       35.50           6.16         9.27   ...     \n",
       "562        186.40     525.39       19.25           1.62         1.25   ...     \n",
       "563         63.89     813.63       28.86         941.27         8.45   ...     \n",
       "564        414.87     693.58       20.26           4.70         6.31   ...     \n",
       "565        329.84     579.04       12.09           6.01         1.22   ...     \n",
       "566        248.00     909.17       81.71          37.05         5.28   ...     \n",
       "567        289.02    1331.57       79.45           6.01        12.27   ...     \n",
       "568        166.73     921.88       49.21           0.73         2.89   ...     \n",
       "569        348.71     796.86       33.30          51.71        12.18   ...     \n",
       "570        269.60     591.22       38.67          12.55         5.87   ...     \n",
       "571        483.38     974.50       73.03          38.67         9.34   ...     \n",
       "572        218.79     441.64       15.80           4.74         2.39   ...     \n",
       "573        339.14     616.37       26.67          16.27         3.32   ...     \n",
       "574        100.83     334.46       45.21          20.56         0.79   ...     \n",
       "575        234.57     753.83       27.84         117.60         1.19   ...     \n",
       "576        728.11    1159.07       67.59           7.63        27.05   ...     \n",
       "577        125.24     583.07       19.97          81.14         0.82   ...     \n",
       "578        279.14     860.08     2335.28          13.93         5.82   ...     \n",
       "579         87.65     476.71        9.48         514.56         0.39   ...     \n",
       "\n",
       "GeneID  GATA6-2627  COL28A1-340267  PDK3-5165  MC1R-4157  IFT74-80173  \\\n",
       "0            24.81           16.27      42.71      93.35       277.20   \n",
       "1            63.89          124.37      77.79      56.28       244.57   \n",
       "2            42.11           48.18      94.01      24.63       253.23   \n",
       "3             8.25           99.43      24.99      32.82       156.59   \n",
       "4            87.03           53.57     164.42      93.35       301.33   \n",
       "5            92.05          540.19      59.97      84.04       381.68   \n",
       "6            20.71          441.64      38.12     346.29       305.55   \n",
       "7           153.34           85.82     107.38      63.00       258.57   \n",
       "8           117.60          193.01     163.28      64.80       361.04   \n",
       "9            36.79          121.79      54.33      91.41       299.25   \n",
       "10           57.49           32.82     116.78     130.60       275.28   \n",
       "11          201.25            6.41     118.43      58.71       409.15   \n",
       "12          171.45          214.27      84.63      85.22       314.17   \n",
       "13           36.53           69.03     189.02      76.71       339.14   \n",
       "14           26.67           93.35      63.89      96.68       262.20   \n",
       "15           95.34           57.89      95.34      28.04       291.04   \n",
       "16           67.12           82.29     137.14     180.02       273.37   \n",
       "17          175.07           59.97      92.70      92.70       191.67   \n",
       "18          107.38           45.53     158.79     214.27       307.69   \n",
       "19           66.18          154.42     100.83     121.79       368.65   \n",
       "20          189.02           28.65     105.15      63.89       320.80   \n",
       "21           25.54          108.90      69.03     154.42       162.14   \n",
       "22           39.79           94.01      92.05      63.00       314.17   \n",
       "23           36.53          159.90     143.01     108.90       256.78   \n",
       "24           70.01          105.89      58.30      37.85       275.28   \n",
       "25           47.17           38.12     136.19      44.89       255.00   \n",
       "26           62.56          232.94      72.01     154.42       277.20   \n",
       "27            3.53           82.29      42.41      37.85       299.25   \n",
       "28           24.81          158.79     124.37      44.25       289.02   \n",
       "29           69.52           95.34     120.94      74.06       384.34   \n",
       "..             ...             ...        ...        ...          ...   \n",
       "550          21.32           82.29      92.70      30.34       412.00   \n",
       "551          44.89          217.27      96.68      42.41       264.03   \n",
       "552         116.78           47.50     341.51     183.82       155.50   \n",
       "553         283.05           28.45      80.01      21.94       180.02   \n",
       "554          36.01          229.72      81.71      33.54       297.17   \n",
       "555          72.01          108.14     172.65      54.72       244.57   \n",
       "556         123.50          511.00      40.64     197.09       141.02   \n",
       "557          59.55           74.06     111.99      47.50       291.04   \n",
       "558          60.39           16.39     100.13      41.81       277.20   \n",
       "559          50.27           63.45     154.42      78.89       253.23   \n",
       "560          43.02           14.24      90.77     242.88       397.93   \n",
       "561          56.28          132.44      81.71      62.56       287.01   \n",
       "562          72.52          327.56      48.52     108.14       312.00   \n",
       "563          25.35           40.07     111.99     105.15       409.15   \n",
       "564          32.82          285.03      70.51     177.53       232.94   \n",
       "565          67.59          136.19      65.26      30.12       305.55   \n",
       "566          38.95          172.65     134.30      97.36       262.20   \n",
       "567          92.70            5.54     114.36      35.00       299.25   \n",
       "568         136.19           38.40      88.26      28.45       232.94   \n",
       "569          69.03           71.00     149.12      55.89       309.83   \n",
       "570          28.86          105.15      87.03      95.34       299.25   \n",
       "571          36.27           97.36     112.77      73.54       312.00   \n",
       "572          27.64           40.93     105.89      43.32       220.32   \n",
       "573          89.51          108.90      88.88      66.65       264.03   \n",
       "574          37.32           64.80      98.04      30.12       193.01   \n",
       "575          67.12          120.94     109.66      82.29       267.73   \n",
       "576          32.59           63.89     135.24      31.67       255.00   \n",
       "577          68.55           41.52      87.03     109.66       198.47   \n",
       "578          31.67           63.45      85.22      95.34       371.22   \n",
       "579          38.12           43.94     121.79      79.45       255.00   \n",
       "\n",
       "GeneID  CDK14-5218  RP11-762I7.5-0  GSR-2936  UBQLN4-56893  Target  \n",
       "0           215.77           16.88    753.83        713.11       6  \n",
       "1           161.02           14.24   1540.37        830.75       4  \n",
       "2           271.48            5.63   1551.09        819.30       0  \n",
       "3           104.42           20.56    860.08        878.17       5  \n",
       "4           289.02            7.34   1417.35        713.11       1  \n",
       "5           204.07            0.00   1508.65        642.59       6  \n",
       "6           102.25           17.51    915.51        866.07       4  \n",
       "7           256.78           17.38    902.89        616.37       3  \n",
       "8           301.33            0.00    743.43        780.44       6  \n",
       "9           156.59            7.69   1540.37        902.89       6  \n",
       "10          186.40            5.06    830.75        665.29       6  \n",
       "11          199.85            0.00   1322.37        583.07       0  \n",
       "12          120.94           22.92   1427.22        708.18       6  \n",
       "13          595.34            8.78   2502.97        514.56       0  \n",
       "14          189.02            0.00   1745.20        808.00       0  \n",
       "15          320.80            7.63   1104.13        647.07       0  \n",
       "16          193.01            9.78   1467.37        890.44       3  \n",
       "17          173.85            5.87   1250.98        708.18       0  \n",
       "18          157.68            4.82   1561.89        684.02       5  \n",
       "19          258.57            3.53    921.88        775.05       6  \n",
       "20          403.50            0.00   1175.27        902.89       0  \n",
       "21          124.37           25.91    583.07        808.00       6  \n",
       "22          264.03           15.22   1977.24        872.10       3  \n",
       "23          285.03           21.78   1870.53        723.08       0  \n",
       "24          195.72           28.65   1674.06        860.08       0  \n",
       "25          323.03           15.34   1628.26        656.11       1  \n",
       "26          145.02            6.31    921.88        785.88       5  \n",
       "27           33.06            0.00   1551.09        738.29       1  \n",
       "28          183.82            5.02    921.88        967.76       3  \n",
       "29          244.57            9.56   1769.57        808.00       2  \n",
       "..             ...             ...       ...           ...     ...  \n",
       "550          78.34            3.50   1857.60        743.43       1  \n",
       "551         149.12            0.00   1369.04        909.17       0  \n",
       "552          69.52            6.31    896.64        688.78       6  \n",
       "553         339.14           10.63    738.29        435.55       6  \n",
       "554         152.28           22.26   2367.90        688.78       6  \n",
       "555         343.89            5.82   1066.48        830.75       0  \n",
       "556         145.02           15.00   1127.35        769.69       4  \n",
       "557         170.25           25.72   1697.45        555.41       0  \n",
       "558         447.82            4.82   1304.15        612.11       0  \n",
       "559         133.36           17.51    775.05        547.75       6  \n",
       "560         138.10            6.73   1104.13       1030.12       0  \n",
       "561         258.57            2.51   1417.35        808.00       3  \n",
       "562         115.16            4.24   1151.06        688.78       2  \n",
       "563         231.32            9.20    651.58        733.19       6  \n",
       "564         197.09            0.00   1561.89        728.11       3  \n",
       "565         246.28            0.82   2148.82        854.13       4  \n",
       "566         173.85            0.00   1277.29        698.41       4  \n",
       "567         121.79           11.73   1870.53        708.18       0  \n",
       "568         142.01            0.00   1096.50        738.29       0  \n",
       "569         389.72            0.00   1950.00        748.61       3  \n",
       "570         134.30            6.46   1769.57        808.00       3  \n",
       "571         244.57            0.00   2047.00        748.61       0  \n",
       "572         120.10            9.27   1769.57        796.86       4  \n",
       "573         234.57            3.63   1183.45        836.53       4  \n",
       "574         105.89            6.78    872.10        603.67       4  \n",
       "575         218.79            9.56   1709.26        616.37       4  \n",
       "576         293.07            0.00   1819.35        813.63       0  \n",
       "577         161.02            4.03    854.13        616.37       4  \n",
       "578         127.89           10.24   1883.54        860.08       0  \n",
       "579         251.48            3.72    532.74        743.43       6  \n",
       "\n",
       "[580 rows x 19047 columns]"
      ]
     },
     "execution_count": 11,
     "metadata": {},
     "output_type": "execute_result"
    }
   ],
   "source": [
    "data"
   ]
  },
  {
   "cell_type": "code",
   "execution_count": 12,
   "metadata": {},
   "outputs": [],
   "source": [
    "# This is from when groups were used at the start\n",
    "#data.to_pickle(\"../Data/ProstateGroups.pkl\")"
   ]
  },
  {
   "cell_type": "markdown",
   "metadata": {},
   "source": [
    "## MI"
   ]
  },
  {
   "cell_type": "code",
   "execution_count": 13,
   "metadata": {},
   "outputs": [],
   "source": [
    "summary = pd.read_pickle('../Data/MI_Grades_NoSplit5.pkl')"
   ]
  },
  {
   "cell_type": "code",
   "execution_count": 14,
   "metadata": {},
   "outputs": [],
   "source": [
    "top_nosplit = np.hstack([summary.sort_values('MutualInfo',ascending=False).head(5)[\"GeneID\"].values,['Target']])"
   ]
  },
  {
   "cell_type": "code",
   "execution_count": 15,
   "metadata": {},
   "outputs": [],
   "source": [
    "data = data[top_nosplit]\n",
    "#dataReduced1 = PCA(n_components=50).fit_transform(data.drop(\"Target\",axis=1))\n",
    "dataReduced2 = TSNE(n_components=1).fit_transform(data.drop(\"Target\",axis=1))"
   ]
  },
  {
   "cell_type": "code",
   "execution_count": 16,
   "metadata": {},
   "outputs": [],
   "source": [
    "Target = data['Target']"
   ]
  },
  {
   "cell_type": "code",
   "execution_count": 17,
   "metadata": {},
   "outputs": [],
   "source": [
    "dataReduced2 = pd.DataFrame(dataReduced2)"
   ]
  },
  {
   "cell_type": "code",
   "execution_count": 18,
   "metadata": {},
   "outputs": [],
   "source": [
    "dataReduced2['Target'] = Target"
   ]
  },
  {
   "cell_type": "code",
   "execution_count": 19,
   "metadata": {},
   "outputs": [],
   "source": [
    "G0Reduced2 = dataReduced2[dataReduced2['Target'] == 0]\n",
    "G1Reduced2 = dataReduced2[dataReduced2['Target'] == 1]\n",
    "One = dataReduced2[dataReduced2['Target'] == 2]\n",
    "Two = dataReduced2[dataReduced2['Target'] == 3]\n",
    "G3Reduced2 = dataReduced2[dataReduced2['Target'] == 4]\n",
    "Four = dataReduced2[dataReduced2['Target'] == 5]\n",
    "Five = dataReduced2[dataReduced2['Target'] == 6]\n",
    "G2Reduced2 = One.append(Two)\n",
    "G4Reduced2 = Four.append(Five)\n",
    "Healthy = G0Reduced2.append(G1Reduced2)\n",
    "Cancerous = G2Reduced2.append(G3Reduced2.append(G4Reduced2))\n",
    "ThreeFourFive = G3Reduced2.append(G4Reduced2)\n",
    "OneTwoThree = G2Reduced2.append(G3Reduced2)"
   ]
  },
  {
   "cell_type": "code",
   "execution_count": 20,
   "metadata": {},
   "outputs": [],
   "source": [
    "G0Reduced2.reset_index(inplace=True, drop=True)\n",
    "G1Reduced2.reset_index(inplace=True, drop=True)\n",
    "G2Reduced2.reset_index(inplace=True, drop=True)\n",
    "G3Reduced2.reset_index(inplace=True, drop=True)\n",
    "G4Reduced2.reset_index(inplace=True, drop=True)\n",
    "Healthy.reset_index(inplace=True, drop=True)\n",
    "Cancerous.reset_index(inplace=True, drop=True)\n",
    "OneTwoThree.reset_index(inplace=True, drop=True)\n",
    "ThreeFourFive.reset_index(inplace=True, drop=True)\n",
    "One.reset_index(inplace=True, drop=True)\n",
    "Two.reset_index(inplace=True, drop=True)\n",
    "Four.reset_index(inplace=True, drop=True)\n",
    "Five.reset_index(inplace=True, drop=True)"
   ]
  },
  {
   "cell_type": "code",
   "execution_count": 21,
   "metadata": {},
   "outputs": [
    {
     "name": "stdout",
     "output_type": "stream",
     "text": [
      "0    106\n",
      "Name: Target, dtype: int64\n",
      "1    48\n",
      "Name: Target, dtype: int64\n",
      "3    122\n",
      "2     38\n",
      "Name: Target, dtype: int64\n",
      "4    79\n",
      "Name: Target, dtype: int64\n",
      "6    127\n",
      "5     60\n",
      "Name: Target, dtype: int64\n",
      "0    106\n",
      "1     48\n",
      "Name: Target, dtype: int64\n",
      "6    127\n",
      "3    122\n",
      "4     79\n",
      "5     60\n",
      "2     38\n",
      "Name: Target, dtype: int64\n",
      "6    127\n",
      "4     79\n",
      "5     60\n",
      "Name: Target, dtype: int64\n",
      "3    122\n",
      "4     79\n",
      "2     38\n",
      "Name: Target, dtype: int64\n",
      "2    38\n",
      "Name: Target, dtype: int64\n",
      "3    122\n",
      "Name: Target, dtype: int64\n",
      "5    60\n",
      "Name: Target, dtype: int64\n",
      "6    127\n",
      "Name: Target, dtype: int64\n"
     ]
    }
   ],
   "source": [
    "print(G0Reduced2['Target'].value_counts())\n",
    "print(G1Reduced2['Target'].value_counts())\n",
    "print(G2Reduced2['Target'].value_counts())\n",
    "print(G3Reduced2['Target'].value_counts())\n",
    "print(G4Reduced2['Target'].value_counts())\n",
    "print(Healthy['Target'].value_counts())\n",
    "print(Cancerous['Target'].value_counts())\n",
    "print(ThreeFourFive['Target'].value_counts())\n",
    "print(OneTwoThree['Target'].value_counts())\n",
    "print(One['Target'].value_counts())\n",
    "print(Two['Target'].value_counts())\n",
    "print(Four['Target'].value_counts())\n",
    "print(Five['Target'].value_counts())"
   ]
  },
  {
   "cell_type": "code",
   "execution_count": 22,
   "metadata": {},
   "outputs": [
    {
     "name": "stderr",
     "output_type": "stream",
     "text": [
      "/Users/martincasey/anaconda3/lib/python3.6/site-packages/ipykernel_launcher.py:3: SettingWithCopyWarning: \n",
      "A value is trying to be set on a copy of a slice from a DataFrame\n",
      "\n",
      "See the caveats in the documentation: http://pandas.pydata.org/pandas-docs/stable/indexing.html#indexing-view-versus-copy\n",
      "  This is separate from the ipykernel package so we can avoid doing imports until\n",
      "/Users/martincasey/anaconda3/lib/python3.6/site-packages/ipykernel_launcher.py:4: SettingWithCopyWarning: \n",
      "A value is trying to be set on a copy of a slice from a DataFrame\n",
      "\n",
      "See the caveats in the documentation: http://pandas.pydata.org/pandas-docs/stable/indexing.html#indexing-view-versus-copy\n",
      "  after removing the cwd from sys.path.\n",
      "/Users/martincasey/anaconda3/lib/python3.6/site-packages/ipykernel_launcher.py:6: SettingWithCopyWarning: \n",
      "A value is trying to be set on a copy of a slice from a DataFrame\n",
      "\n",
      "See the caveats in the documentation: http://pandas.pydata.org/pandas-docs/stable/indexing.html#indexing-view-versus-copy\n",
      "  \n",
      "/Users/martincasey/anaconda3/lib/python3.6/site-packages/ipykernel_launcher.py:12: SettingWithCopyWarning: \n",
      "A value is trying to be set on a copy of a slice from a DataFrame\n",
      "\n",
      "See the caveats in the documentation: http://pandas.pydata.org/pandas-docs/stable/indexing.html#indexing-view-versus-copy\n",
      "  if sys.path[0] == '':\n",
      "/Users/martincasey/anaconda3/lib/python3.6/site-packages/ipykernel_launcher.py:13: SettingWithCopyWarning: \n",
      "A value is trying to be set on a copy of a slice from a DataFrame\n",
      "\n",
      "See the caveats in the documentation: http://pandas.pydata.org/pandas-docs/stable/indexing.html#indexing-view-versus-copy\n",
      "  del sys.path[0]\n",
      "/Users/martincasey/anaconda3/lib/python3.6/site-packages/ipykernel_launcher.py:14: SettingWithCopyWarning: \n",
      "A value is trying to be set on a copy of a slice from a DataFrame\n",
      "\n",
      "See the caveats in the documentation: http://pandas.pydata.org/pandas-docs/stable/indexing.html#indexing-view-versus-copy\n",
      "  \n",
      "/Users/martincasey/anaconda3/lib/python3.6/site-packages/ipykernel_launcher.py:15: SettingWithCopyWarning: \n",
      "A value is trying to be set on a copy of a slice from a DataFrame\n",
      "\n",
      "See the caveats in the documentation: http://pandas.pydata.org/pandas-docs/stable/indexing.html#indexing-view-versus-copy\n",
      "  from ipykernel import kernelapp as app\n"
     ]
    }
   ],
   "source": [
    "TargetG0Reduced2 = G0Reduced2['Target']\n",
    "TargetOne = One['Target']\n",
    "G0Reduced2.drop('Target', inplace = True, axis=1)\n",
    "G1Reduced2.drop('Target', inplace = True, axis=1)\n",
    "G2Reduced2.drop('Target', inplace = True, axis=1)\n",
    "G3Reduced2.drop('Target', inplace = True, axis=1)\n",
    "G4Reduced2.drop('Target', inplace = True, axis=1)\n",
    "Healthy.drop('Target', inplace = True, axis=1)\n",
    "Cancerous.drop('Target', inplace = True, axis=1)\n",
    "ThreeFourFive.drop('Target', inplace = True, axis=1)\n",
    "OneTwoThree.drop('Target', inplace = True, axis=1)\n",
    "One.drop('Target', inplace = True, axis=1)\n",
    "Two.drop('Target', inplace = True, axis=1)\n",
    "Four.drop('Target', inplace = True, axis=1)\n",
    "Five.drop('Target', inplace = True, axis=1)"
   ]
  },
  {
   "cell_type": "code",
   "execution_count": 23,
   "metadata": {},
   "outputs": [],
   "source": [
    "G0Reduced2 = G0Reduced2[0]\n",
    "G1Reduced2 = G1Reduced2[0]\n",
    "G2Reduced2 = G2Reduced2[0]\n",
    "G3Reduced2 = G3Reduced2[0]\n",
    "G4Reduced2 = G4Reduced2[0]\n",
    "Healthy = Healthy[0]\n",
    "Cancerous = Cancerous[0]\n",
    "ThreeFourFive = ThreeFourFive[0]\n",
    "OneTwoThree = OneTwoThree[0]\n",
    "One = One[0]\n",
    "Two = Two[0]\n",
    "Four = Four[0]\n",
    "Five = Five[0]"
   ]
  },
  {
   "cell_type": "code",
   "execution_count": 24,
   "metadata": {},
   "outputs": [],
   "source": [
    "#With TCGA Healthy\n",
    "exportData = dataReduced2.copy(deep=True)"
   ]
  },
  {
   "cell_type": "code",
   "execution_count": 25,
   "metadata": {},
   "outputs": [],
   "source": [
    "exportData['Grade'] = exportData['Target'].apply(lambda x: 0 if (x==0) \n",
    "                                           else(1 if (x==1) \n",
    "                                                else(2 if (x==2) \n",
    "                                                     else(3 if (x==3) \n",
    "                                                          else(4 if(x==4) \n",
    "                                                               else(5 if(x==5) \n",
    "                                                                   else(6 if(x==6)\n",
    "                                                                        else 7)))))))\n",
    "exportData['Cancerous'] = exportData['Target'].apply(lambda x: 0 if (x==0) \n",
    "                                           else(0 if (x==1) \n",
    "                                                else(1 if (x==2) \n",
    "                                                     else(1 if (x==3) \n",
    "                                                          else(1 if(x==4) \n",
    "                                                               else(1 if(x==5) \n",
    "                                                                   else(1 if(x==6)\n",
    "                                                                        else 2)))))))\n",
    "exportData['Group'] = exportData['Target'].apply(lambda x: 0 if (x==0) \n",
    "                                           else(1 if (x==1) \n",
    "                                                else(2 if (x==2) \n",
    "                                                     else(2 if (x==3) \n",
    "                                                          else(3 if(x==4) \n",
    "                                                               else(4 if(x==5) \n",
    "                                                                   else(4 if(x==6)\n",
    "                                                                        else 5)))))))\n",
    "exportData['OneTwoThree'] = exportData['Target'].apply(lambda x: 0 if (x==0) \n",
    "                                           else(0 if (x==1) \n",
    "                                                else(1 if (x==2) \n",
    "                                                     else(1 if (x==3) \n",
    "                                                          else(1 if(x==4) \n",
    "                                                               else(2 if(x==5) \n",
    "                                                                   else(2 if(x==6)\n",
    "                                                                        else 3)))))))\n",
    "exportData['ThreeFourFive'] = exportData['Target'].apply(lambda x: 0 if (x==0) \n",
    "                                           else(0 if (x==1) \n",
    "                                                else(1 if (x==2) \n",
    "                                                     else(1 if (x==3) \n",
    "                                                          else(2 if(x==4) \n",
    "                                                               else(2 if(x==5) \n",
    "                                                                   else(2 if(x==6)\n",
    "                                                                        else 3)))))))"
   ]
  },
  {
   "cell_type": "code",
   "execution_count": 26,
   "metadata": {
    "scrolled": true
   },
   "outputs": [
    {
     "data": {
      "text/html": [
       "<div>\n",
       "<style>\n",
       "    .dataframe thead tr:only-child th {\n",
       "        text-align: right;\n",
       "    }\n",
       "\n",
       "    .dataframe thead th {\n",
       "        text-align: left;\n",
       "    }\n",
       "\n",
       "    .dataframe tbody tr th {\n",
       "        vertical-align: top;\n",
       "    }\n",
       "</style>\n",
       "<table border=\"1\" class=\"dataframe\">\n",
       "  <thead>\n",
       "    <tr style=\"text-align: right;\">\n",
       "      <th></th>\n",
       "      <th>0</th>\n",
       "      <th>Target</th>\n",
       "      <th>Grade</th>\n",
       "      <th>Cancerous</th>\n",
       "      <th>Group</th>\n",
       "      <th>OneTwoThree</th>\n",
       "      <th>ThreeFourFive</th>\n",
       "    </tr>\n",
       "  </thead>\n",
       "  <tbody>\n",
       "    <tr>\n",
       "      <th>0</th>\n",
       "      <td>-25.487915</td>\n",
       "      <td>6</td>\n",
       "      <td>6</td>\n",
       "      <td>1</td>\n",
       "      <td>4</td>\n",
       "      <td>2</td>\n",
       "      <td>2</td>\n",
       "    </tr>\n",
       "    <tr>\n",
       "      <th>1</th>\n",
       "      <td>-26.180853</td>\n",
       "      <td>4</td>\n",
       "      <td>4</td>\n",
       "      <td>1</td>\n",
       "      <td>3</td>\n",
       "      <td>1</td>\n",
       "      <td>2</td>\n",
       "    </tr>\n",
       "    <tr>\n",
       "      <th>2</th>\n",
       "      <td>23.309013</td>\n",
       "      <td>0</td>\n",
       "      <td>0</td>\n",
       "      <td>0</td>\n",
       "      <td>0</td>\n",
       "      <td>0</td>\n",
       "      <td>0</td>\n",
       "    </tr>\n",
       "    <tr>\n",
       "      <th>3</th>\n",
       "      <td>-40.991650</td>\n",
       "      <td>5</td>\n",
       "      <td>5</td>\n",
       "      <td>1</td>\n",
       "      <td>4</td>\n",
       "      <td>2</td>\n",
       "      <td>2</td>\n",
       "    </tr>\n",
       "    <tr>\n",
       "      <th>4</th>\n",
       "      <td>34.407986</td>\n",
       "      <td>1</td>\n",
       "      <td>1</td>\n",
       "      <td>0</td>\n",
       "      <td>1</td>\n",
       "      <td>0</td>\n",
       "      <td>0</td>\n",
       "    </tr>\n",
       "    <tr>\n",
       "      <th>5</th>\n",
       "      <td>-2.291461</td>\n",
       "      <td>6</td>\n",
       "      <td>6</td>\n",
       "      <td>1</td>\n",
       "      <td>4</td>\n",
       "      <td>2</td>\n",
       "      <td>2</td>\n",
       "    </tr>\n",
       "    <tr>\n",
       "      <th>6</th>\n",
       "      <td>-27.358747</td>\n",
       "      <td>4</td>\n",
       "      <td>4</td>\n",
       "      <td>1</td>\n",
       "      <td>3</td>\n",
       "      <td>1</td>\n",
       "      <td>2</td>\n",
       "    </tr>\n",
       "    <tr>\n",
       "      <th>7</th>\n",
       "      <td>8.059845</td>\n",
       "      <td>3</td>\n",
       "      <td>3</td>\n",
       "      <td>1</td>\n",
       "      <td>2</td>\n",
       "      <td>1</td>\n",
       "      <td>1</td>\n",
       "    </tr>\n",
       "    <tr>\n",
       "      <th>8</th>\n",
       "      <td>-36.996017</td>\n",
       "      <td>6</td>\n",
       "      <td>6</td>\n",
       "      <td>1</td>\n",
       "      <td>4</td>\n",
       "      <td>2</td>\n",
       "      <td>2</td>\n",
       "    </tr>\n",
       "    <tr>\n",
       "      <th>9</th>\n",
       "      <td>5.516891</td>\n",
       "      <td>6</td>\n",
       "      <td>6</td>\n",
       "      <td>1</td>\n",
       "      <td>4</td>\n",
       "      <td>2</td>\n",
       "      <td>2</td>\n",
       "    </tr>\n",
       "    <tr>\n",
       "      <th>10</th>\n",
       "      <td>-30.632433</td>\n",
       "      <td>6</td>\n",
       "      <td>6</td>\n",
       "      <td>1</td>\n",
       "      <td>4</td>\n",
       "      <td>2</td>\n",
       "      <td>2</td>\n",
       "    </tr>\n",
       "    <tr>\n",
       "      <th>11</th>\n",
       "      <td>22.606237</td>\n",
       "      <td>0</td>\n",
       "      <td>0</td>\n",
       "      <td>0</td>\n",
       "      <td>0</td>\n",
       "      <td>0</td>\n",
       "      <td>0</td>\n",
       "    </tr>\n",
       "    <tr>\n",
       "      <th>12</th>\n",
       "      <td>-27.484156</td>\n",
       "      <td>6</td>\n",
       "      <td>6</td>\n",
       "      <td>1</td>\n",
       "      <td>4</td>\n",
       "      <td>2</td>\n",
       "      <td>2</td>\n",
       "    </tr>\n",
       "    <tr>\n",
       "      <th>13</th>\n",
       "      <td>43.332298</td>\n",
       "      <td>0</td>\n",
       "      <td>0</td>\n",
       "      <td>0</td>\n",
       "      <td>0</td>\n",
       "      <td>0</td>\n",
       "      <td>0</td>\n",
       "    </tr>\n",
       "    <tr>\n",
       "      <th>14</th>\n",
       "      <td>23.139666</td>\n",
       "      <td>0</td>\n",
       "      <td>0</td>\n",
       "      <td>0</td>\n",
       "      <td>0</td>\n",
       "      <td>0</td>\n",
       "      <td>0</td>\n",
       "    </tr>\n",
       "    <tr>\n",
       "      <th>15</th>\n",
       "      <td>40.184025</td>\n",
       "      <td>0</td>\n",
       "      <td>0</td>\n",
       "      <td>0</td>\n",
       "      <td>0</td>\n",
       "      <td>0</td>\n",
       "      <td>0</td>\n",
       "    </tr>\n",
       "    <tr>\n",
       "      <th>16</th>\n",
       "      <td>11.004086</td>\n",
       "      <td>3</td>\n",
       "      <td>3</td>\n",
       "      <td>1</td>\n",
       "      <td>2</td>\n",
       "      <td>1</td>\n",
       "      <td>1</td>\n",
       "    </tr>\n",
       "    <tr>\n",
       "      <th>17</th>\n",
       "      <td>46.246838</td>\n",
       "      <td>0</td>\n",
       "      <td>0</td>\n",
       "      <td>0</td>\n",
       "      <td>0</td>\n",
       "      <td>0</td>\n",
       "      <td>0</td>\n",
       "    </tr>\n",
       "    <tr>\n",
       "      <th>18</th>\n",
       "      <td>-19.224371</td>\n",
       "      <td>5</td>\n",
       "      <td>5</td>\n",
       "      <td>1</td>\n",
       "      <td>4</td>\n",
       "      <td>2</td>\n",
       "      <td>2</td>\n",
       "    </tr>\n",
       "    <tr>\n",
       "      <th>19</th>\n",
       "      <td>-16.040302</td>\n",
       "      <td>6</td>\n",
       "      <td>6</td>\n",
       "      <td>1</td>\n",
       "      <td>4</td>\n",
       "      <td>2</td>\n",
       "      <td>2</td>\n",
       "    </tr>\n",
       "    <tr>\n",
       "      <th>20</th>\n",
       "      <td>43.851921</td>\n",
       "      <td>0</td>\n",
       "      <td>0</td>\n",
       "      <td>0</td>\n",
       "      <td>0</td>\n",
       "      <td>0</td>\n",
       "      <td>0</td>\n",
       "    </tr>\n",
       "    <tr>\n",
       "      <th>21</th>\n",
       "      <td>-45.874538</td>\n",
       "      <td>6</td>\n",
       "      <td>6</td>\n",
       "      <td>1</td>\n",
       "      <td>4</td>\n",
       "      <td>2</td>\n",
       "      <td>2</td>\n",
       "    </tr>\n",
       "    <tr>\n",
       "      <th>22</th>\n",
       "      <td>9.302624</td>\n",
       "      <td>3</td>\n",
       "      <td>3</td>\n",
       "      <td>1</td>\n",
       "      <td>2</td>\n",
       "      <td>1</td>\n",
       "      <td>1</td>\n",
       "    </tr>\n",
       "    <tr>\n",
       "      <th>23</th>\n",
       "      <td>42.171047</td>\n",
       "      <td>0</td>\n",
       "      <td>0</td>\n",
       "      <td>0</td>\n",
       "      <td>0</td>\n",
       "      <td>0</td>\n",
       "      <td>0</td>\n",
       "    </tr>\n",
       "    <tr>\n",
       "      <th>24</th>\n",
       "      <td>24.494572</td>\n",
       "      <td>0</td>\n",
       "      <td>0</td>\n",
       "      <td>0</td>\n",
       "      <td>0</td>\n",
       "      <td>0</td>\n",
       "      <td>0</td>\n",
       "    </tr>\n",
       "    <tr>\n",
       "      <th>25</th>\n",
       "      <td>38.457153</td>\n",
       "      <td>1</td>\n",
       "      <td>1</td>\n",
       "      <td>0</td>\n",
       "      <td>1</td>\n",
       "      <td>0</td>\n",
       "      <td>0</td>\n",
       "    </tr>\n",
       "    <tr>\n",
       "      <th>26</th>\n",
       "      <td>9.241217</td>\n",
       "      <td>5</td>\n",
       "      <td>5</td>\n",
       "      <td>1</td>\n",
       "      <td>4</td>\n",
       "      <td>2</td>\n",
       "      <td>2</td>\n",
       "    </tr>\n",
       "    <tr>\n",
       "      <th>27</th>\n",
       "      <td>47.612171</td>\n",
       "      <td>1</td>\n",
       "      <td>1</td>\n",
       "      <td>0</td>\n",
       "      <td>1</td>\n",
       "      <td>0</td>\n",
       "      <td>0</td>\n",
       "    </tr>\n",
       "    <tr>\n",
       "      <th>28</th>\n",
       "      <td>-38.715103</td>\n",
       "      <td>3</td>\n",
       "      <td>3</td>\n",
       "      <td>1</td>\n",
       "      <td>2</td>\n",
       "      <td>1</td>\n",
       "      <td>1</td>\n",
       "    </tr>\n",
       "    <tr>\n",
       "      <th>29</th>\n",
       "      <td>-17.946625</td>\n",
       "      <td>2</td>\n",
       "      <td>2</td>\n",
       "      <td>1</td>\n",
       "      <td>2</td>\n",
       "      <td>1</td>\n",
       "      <td>1</td>\n",
       "    </tr>\n",
       "    <tr>\n",
       "      <th>...</th>\n",
       "      <td>...</td>\n",
       "      <td>...</td>\n",
       "      <td>...</td>\n",
       "      <td>...</td>\n",
       "      <td>...</td>\n",
       "      <td>...</td>\n",
       "      <td>...</td>\n",
       "    </tr>\n",
       "    <tr>\n",
       "      <th>550</th>\n",
       "      <td>46.395248</td>\n",
       "      <td>1</td>\n",
       "      <td>1</td>\n",
       "      <td>0</td>\n",
       "      <td>1</td>\n",
       "      <td>0</td>\n",
       "      <td>0</td>\n",
       "    </tr>\n",
       "    <tr>\n",
       "      <th>551</th>\n",
       "      <td>36.108135</td>\n",
       "      <td>0</td>\n",
       "      <td>0</td>\n",
       "      <td>0</td>\n",
       "      <td>0</td>\n",
       "      <td>0</td>\n",
       "      <td>0</td>\n",
       "    </tr>\n",
       "    <tr>\n",
       "      <th>552</th>\n",
       "      <td>-28.377483</td>\n",
       "      <td>6</td>\n",
       "      <td>6</td>\n",
       "      <td>1</td>\n",
       "      <td>4</td>\n",
       "      <td>2</td>\n",
       "      <td>2</td>\n",
       "    </tr>\n",
       "    <tr>\n",
       "      <th>553</th>\n",
       "      <td>-23.353176</td>\n",
       "      <td>6</td>\n",
       "      <td>6</td>\n",
       "      <td>1</td>\n",
       "      <td>4</td>\n",
       "      <td>2</td>\n",
       "      <td>2</td>\n",
       "    </tr>\n",
       "    <tr>\n",
       "      <th>554</th>\n",
       "      <td>-28.973738</td>\n",
       "      <td>6</td>\n",
       "      <td>6</td>\n",
       "      <td>1</td>\n",
       "      <td>4</td>\n",
       "      <td>2</td>\n",
       "      <td>2</td>\n",
       "    </tr>\n",
       "    <tr>\n",
       "      <th>555</th>\n",
       "      <td>30.606182</td>\n",
       "      <td>0</td>\n",
       "      <td>0</td>\n",
       "      <td>0</td>\n",
       "      <td>0</td>\n",
       "      <td>0</td>\n",
       "      <td>0</td>\n",
       "    </tr>\n",
       "    <tr>\n",
       "      <th>556</th>\n",
       "      <td>-16.172159</td>\n",
       "      <td>4</td>\n",
       "      <td>4</td>\n",
       "      <td>1</td>\n",
       "      <td>3</td>\n",
       "      <td>1</td>\n",
       "      <td>2</td>\n",
       "    </tr>\n",
       "    <tr>\n",
       "      <th>557</th>\n",
       "      <td>37.970982</td>\n",
       "      <td>0</td>\n",
       "      <td>0</td>\n",
       "      <td>0</td>\n",
       "      <td>0</td>\n",
       "      <td>0</td>\n",
       "      <td>0</td>\n",
       "    </tr>\n",
       "    <tr>\n",
       "      <th>558</th>\n",
       "      <td>28.161665</td>\n",
       "      <td>0</td>\n",
       "      <td>0</td>\n",
       "      <td>0</td>\n",
       "      <td>0</td>\n",
       "      <td>0</td>\n",
       "      <td>0</td>\n",
       "    </tr>\n",
       "    <tr>\n",
       "      <th>559</th>\n",
       "      <td>6.788023</td>\n",
       "      <td>6</td>\n",
       "      <td>6</td>\n",
       "      <td>1</td>\n",
       "      <td>4</td>\n",
       "      <td>2</td>\n",
       "      <td>2</td>\n",
       "    </tr>\n",
       "    <tr>\n",
       "      <th>560</th>\n",
       "      <td>14.205236</td>\n",
       "      <td>0</td>\n",
       "      <td>0</td>\n",
       "      <td>0</td>\n",
       "      <td>0</td>\n",
       "      <td>0</td>\n",
       "      <td>0</td>\n",
       "    </tr>\n",
       "    <tr>\n",
       "      <th>561</th>\n",
       "      <td>12.958723</td>\n",
       "      <td>3</td>\n",
       "      <td>3</td>\n",
       "      <td>1</td>\n",
       "      <td>2</td>\n",
       "      <td>1</td>\n",
       "      <td>1</td>\n",
       "    </tr>\n",
       "    <tr>\n",
       "      <th>562</th>\n",
       "      <td>-15.022871</td>\n",
       "      <td>2</td>\n",
       "      <td>2</td>\n",
       "      <td>1</td>\n",
       "      <td>2</td>\n",
       "      <td>1</td>\n",
       "      <td>1</td>\n",
       "    </tr>\n",
       "    <tr>\n",
       "      <th>563</th>\n",
       "      <td>-46.538872</td>\n",
       "      <td>6</td>\n",
       "      <td>6</td>\n",
       "      <td>1</td>\n",
       "      <td>4</td>\n",
       "      <td>2</td>\n",
       "      <td>2</td>\n",
       "    </tr>\n",
       "    <tr>\n",
       "      <th>564</th>\n",
       "      <td>8.461404</td>\n",
       "      <td>3</td>\n",
       "      <td>3</td>\n",
       "      <td>1</td>\n",
       "      <td>2</td>\n",
       "      <td>1</td>\n",
       "      <td>1</td>\n",
       "    </tr>\n",
       "    <tr>\n",
       "      <th>565</th>\n",
       "      <td>-13.169214</td>\n",
       "      <td>4</td>\n",
       "      <td>4</td>\n",
       "      <td>1</td>\n",
       "      <td>3</td>\n",
       "      <td>1</td>\n",
       "      <td>2</td>\n",
       "    </tr>\n",
       "    <tr>\n",
       "      <th>566</th>\n",
       "      <td>21.882036</td>\n",
       "      <td>4</td>\n",
       "      <td>4</td>\n",
       "      <td>1</td>\n",
       "      <td>3</td>\n",
       "      <td>1</td>\n",
       "      <td>2</td>\n",
       "    </tr>\n",
       "    <tr>\n",
       "      <th>567</th>\n",
       "      <td>22.169968</td>\n",
       "      <td>0</td>\n",
       "      <td>0</td>\n",
       "      <td>0</td>\n",
       "      <td>0</td>\n",
       "      <td>0</td>\n",
       "      <td>0</td>\n",
       "    </tr>\n",
       "    <tr>\n",
       "      <th>568</th>\n",
       "      <td>30.044558</td>\n",
       "      <td>0</td>\n",
       "      <td>0</td>\n",
       "      <td>0</td>\n",
       "      <td>0</td>\n",
       "      <td>0</td>\n",
       "      <td>0</td>\n",
       "    </tr>\n",
       "    <tr>\n",
       "      <th>569</th>\n",
       "      <td>-0.932636</td>\n",
       "      <td>3</td>\n",
       "      <td>3</td>\n",
       "      <td>1</td>\n",
       "      <td>2</td>\n",
       "      <td>1</td>\n",
       "      <td>1</td>\n",
       "    </tr>\n",
       "    <tr>\n",
       "      <th>570</th>\n",
       "      <td>2.119275</td>\n",
       "      <td>3</td>\n",
       "      <td>3</td>\n",
       "      <td>1</td>\n",
       "      <td>2</td>\n",
       "      <td>1</td>\n",
       "      <td>1</td>\n",
       "    </tr>\n",
       "    <tr>\n",
       "      <th>571</th>\n",
       "      <td>37.542858</td>\n",
       "      <td>0</td>\n",
       "      <td>0</td>\n",
       "      <td>0</td>\n",
       "      <td>0</td>\n",
       "      <td>0</td>\n",
       "      <td>0</td>\n",
       "    </tr>\n",
       "    <tr>\n",
       "      <th>572</th>\n",
       "      <td>-43.372452</td>\n",
       "      <td>4</td>\n",
       "      <td>4</td>\n",
       "      <td>1</td>\n",
       "      <td>3</td>\n",
       "      <td>1</td>\n",
       "      <td>2</td>\n",
       "    </tr>\n",
       "    <tr>\n",
       "      <th>573</th>\n",
       "      <td>6.461433</td>\n",
       "      <td>4</td>\n",
       "      <td>4</td>\n",
       "      <td>1</td>\n",
       "      <td>3</td>\n",
       "      <td>1</td>\n",
       "      <td>2</td>\n",
       "    </tr>\n",
       "    <tr>\n",
       "      <th>574</th>\n",
       "      <td>-6.501722</td>\n",
       "      <td>4</td>\n",
       "      <td>4</td>\n",
       "      <td>1</td>\n",
       "      <td>3</td>\n",
       "      <td>1</td>\n",
       "      <td>2</td>\n",
       "    </tr>\n",
       "    <tr>\n",
       "      <th>575</th>\n",
       "      <td>1.762110</td>\n",
       "      <td>4</td>\n",
       "      <td>4</td>\n",
       "      <td>1</td>\n",
       "      <td>3</td>\n",
       "      <td>1</td>\n",
       "      <td>2</td>\n",
       "    </tr>\n",
       "    <tr>\n",
       "      <th>576</th>\n",
       "      <td>31.817381</td>\n",
       "      <td>0</td>\n",
       "      <td>0</td>\n",
       "      <td>0</td>\n",
       "      <td>0</td>\n",
       "      <td>0</td>\n",
       "      <td>0</td>\n",
       "    </tr>\n",
       "    <tr>\n",
       "      <th>577</th>\n",
       "      <td>-45.788925</td>\n",
       "      <td>4</td>\n",
       "      <td>4</td>\n",
       "      <td>1</td>\n",
       "      <td>3</td>\n",
       "      <td>1</td>\n",
       "      <td>2</td>\n",
       "    </tr>\n",
       "    <tr>\n",
       "      <th>578</th>\n",
       "      <td>48.281975</td>\n",
       "      <td>0</td>\n",
       "      <td>0</td>\n",
       "      <td>0</td>\n",
       "      <td>0</td>\n",
       "      <td>0</td>\n",
       "      <td>0</td>\n",
       "    </tr>\n",
       "    <tr>\n",
       "      <th>579</th>\n",
       "      <td>-45.966606</td>\n",
       "      <td>6</td>\n",
       "      <td>6</td>\n",
       "      <td>1</td>\n",
       "      <td>4</td>\n",
       "      <td>2</td>\n",
       "      <td>2</td>\n",
       "    </tr>\n",
       "  </tbody>\n",
       "</table>\n",
       "<p>580 rows × 7 columns</p>\n",
       "</div>"
      ],
      "text/plain": [
       "             0  Target  Grade  Cancerous  Group  OneTwoThree  ThreeFourFive\n",
       "0   -25.487915       6      6          1      4            2              2\n",
       "1   -26.180853       4      4          1      3            1              2\n",
       "2    23.309013       0      0          0      0            0              0\n",
       "3   -40.991650       5      5          1      4            2              2\n",
       "4    34.407986       1      1          0      1            0              0\n",
       "5    -2.291461       6      6          1      4            2              2\n",
       "6   -27.358747       4      4          1      3            1              2\n",
       "7     8.059845       3      3          1      2            1              1\n",
       "8   -36.996017       6      6          1      4            2              2\n",
       "9     5.516891       6      6          1      4            2              2\n",
       "10  -30.632433       6      6          1      4            2              2\n",
       "11   22.606237       0      0          0      0            0              0\n",
       "12  -27.484156       6      6          1      4            2              2\n",
       "13   43.332298       0      0          0      0            0              0\n",
       "14   23.139666       0      0          0      0            0              0\n",
       "15   40.184025       0      0          0      0            0              0\n",
       "16   11.004086       3      3          1      2            1              1\n",
       "17   46.246838       0      0          0      0            0              0\n",
       "18  -19.224371       5      5          1      4            2              2\n",
       "19  -16.040302       6      6          1      4            2              2\n",
       "20   43.851921       0      0          0      0            0              0\n",
       "21  -45.874538       6      6          1      4            2              2\n",
       "22    9.302624       3      3          1      2            1              1\n",
       "23   42.171047       0      0          0      0            0              0\n",
       "24   24.494572       0      0          0      0            0              0\n",
       "25   38.457153       1      1          0      1            0              0\n",
       "26    9.241217       5      5          1      4            2              2\n",
       "27   47.612171       1      1          0      1            0              0\n",
       "28  -38.715103       3      3          1      2            1              1\n",
       "29  -17.946625       2      2          1      2            1              1\n",
       "..         ...     ...    ...        ...    ...          ...            ...\n",
       "550  46.395248       1      1          0      1            0              0\n",
       "551  36.108135       0      0          0      0            0              0\n",
       "552 -28.377483       6      6          1      4            2              2\n",
       "553 -23.353176       6      6          1      4            2              2\n",
       "554 -28.973738       6      6          1      4            2              2\n",
       "555  30.606182       0      0          0      0            0              0\n",
       "556 -16.172159       4      4          1      3            1              2\n",
       "557  37.970982       0      0          0      0            0              0\n",
       "558  28.161665       0      0          0      0            0              0\n",
       "559   6.788023       6      6          1      4            2              2\n",
       "560  14.205236       0      0          0      0            0              0\n",
       "561  12.958723       3      3          1      2            1              1\n",
       "562 -15.022871       2      2          1      2            1              1\n",
       "563 -46.538872       6      6          1      4            2              2\n",
       "564   8.461404       3      3          1      2            1              1\n",
       "565 -13.169214       4      4          1      3            1              2\n",
       "566  21.882036       4      4          1      3            1              2\n",
       "567  22.169968       0      0          0      0            0              0\n",
       "568  30.044558       0      0          0      0            0              0\n",
       "569  -0.932636       3      3          1      2            1              1\n",
       "570   2.119275       3      3          1      2            1              1\n",
       "571  37.542858       0      0          0      0            0              0\n",
       "572 -43.372452       4      4          1      3            1              2\n",
       "573   6.461433       4      4          1      3            1              2\n",
       "574  -6.501722       4      4          1      3            1              2\n",
       "575   1.762110       4      4          1      3            1              2\n",
       "576  31.817381       0      0          0      0            0              0\n",
       "577 -45.788925       4      4          1      3            1              2\n",
       "578  48.281975       0      0          0      0            0              0\n",
       "579 -45.966606       6      6          1      4            2              2\n",
       "\n",
       "[580 rows x 7 columns]"
      ]
     },
     "execution_count": 26,
     "metadata": {},
     "output_type": "execute_result"
    }
   ],
   "source": [
    "exportData"
   ]
  },
  {
   "cell_type": "code",
   "execution_count": 27,
   "metadata": {},
   "outputs": [],
   "source": [
    "exportData.set_index(exportData[0], inplace=True)\n",
    "exportData.drop([0], inplace=True, axis=1)\n",
    "exportData.drop('Target', inplace=True, axis=1)"
   ]
  },
  {
   "cell_type": "code",
   "execution_count": 28,
   "metadata": {},
   "outputs": [
    {
     "data": {
      "text/html": [
       "<div>\n",
       "<style>\n",
       "    .dataframe thead tr:only-child th {\n",
       "        text-align: right;\n",
       "    }\n",
       "\n",
       "    .dataframe thead th {\n",
       "        text-align: left;\n",
       "    }\n",
       "\n",
       "    .dataframe tbody tr th {\n",
       "        vertical-align: top;\n",
       "    }\n",
       "</style>\n",
       "<table border=\"1\" class=\"dataframe\">\n",
       "  <thead>\n",
       "    <tr style=\"text-align: right;\">\n",
       "      <th></th>\n",
       "      <th>Grade</th>\n",
       "      <th>Cancerous</th>\n",
       "      <th>Group</th>\n",
       "      <th>OneTwoThree</th>\n",
       "      <th>ThreeFourFive</th>\n",
       "    </tr>\n",
       "    <tr>\n",
       "      <th>0</th>\n",
       "      <th></th>\n",
       "      <th></th>\n",
       "      <th></th>\n",
       "      <th></th>\n",
       "      <th></th>\n",
       "    </tr>\n",
       "  </thead>\n",
       "  <tbody>\n",
       "    <tr>\n",
       "      <th>-25.487915</th>\n",
       "      <td>6</td>\n",
       "      <td>1</td>\n",
       "      <td>4</td>\n",
       "      <td>2</td>\n",
       "      <td>2</td>\n",
       "    </tr>\n",
       "    <tr>\n",
       "      <th>-26.180853</th>\n",
       "      <td>4</td>\n",
       "      <td>1</td>\n",
       "      <td>3</td>\n",
       "      <td>1</td>\n",
       "      <td>2</td>\n",
       "    </tr>\n",
       "    <tr>\n",
       "      <th>23.309013</th>\n",
       "      <td>0</td>\n",
       "      <td>0</td>\n",
       "      <td>0</td>\n",
       "      <td>0</td>\n",
       "      <td>0</td>\n",
       "    </tr>\n",
       "    <tr>\n",
       "      <th>-40.991650</th>\n",
       "      <td>5</td>\n",
       "      <td>1</td>\n",
       "      <td>4</td>\n",
       "      <td>2</td>\n",
       "      <td>2</td>\n",
       "    </tr>\n",
       "    <tr>\n",
       "      <th>34.407986</th>\n",
       "      <td>1</td>\n",
       "      <td>0</td>\n",
       "      <td>1</td>\n",
       "      <td>0</td>\n",
       "      <td>0</td>\n",
       "    </tr>\n",
       "    <tr>\n",
       "      <th>-2.291461</th>\n",
       "      <td>6</td>\n",
       "      <td>1</td>\n",
       "      <td>4</td>\n",
       "      <td>2</td>\n",
       "      <td>2</td>\n",
       "    </tr>\n",
       "    <tr>\n",
       "      <th>-27.358747</th>\n",
       "      <td>4</td>\n",
       "      <td>1</td>\n",
       "      <td>3</td>\n",
       "      <td>1</td>\n",
       "      <td>2</td>\n",
       "    </tr>\n",
       "    <tr>\n",
       "      <th>8.059845</th>\n",
       "      <td>3</td>\n",
       "      <td>1</td>\n",
       "      <td>2</td>\n",
       "      <td>1</td>\n",
       "      <td>1</td>\n",
       "    </tr>\n",
       "    <tr>\n",
       "      <th>-36.996017</th>\n",
       "      <td>6</td>\n",
       "      <td>1</td>\n",
       "      <td>4</td>\n",
       "      <td>2</td>\n",
       "      <td>2</td>\n",
       "    </tr>\n",
       "    <tr>\n",
       "      <th>5.516891</th>\n",
       "      <td>6</td>\n",
       "      <td>1</td>\n",
       "      <td>4</td>\n",
       "      <td>2</td>\n",
       "      <td>2</td>\n",
       "    </tr>\n",
       "    <tr>\n",
       "      <th>-30.632433</th>\n",
       "      <td>6</td>\n",
       "      <td>1</td>\n",
       "      <td>4</td>\n",
       "      <td>2</td>\n",
       "      <td>2</td>\n",
       "    </tr>\n",
       "    <tr>\n",
       "      <th>22.606237</th>\n",
       "      <td>0</td>\n",
       "      <td>0</td>\n",
       "      <td>0</td>\n",
       "      <td>0</td>\n",
       "      <td>0</td>\n",
       "    </tr>\n",
       "    <tr>\n",
       "      <th>-27.484156</th>\n",
       "      <td>6</td>\n",
       "      <td>1</td>\n",
       "      <td>4</td>\n",
       "      <td>2</td>\n",
       "      <td>2</td>\n",
       "    </tr>\n",
       "    <tr>\n",
       "      <th>43.332298</th>\n",
       "      <td>0</td>\n",
       "      <td>0</td>\n",
       "      <td>0</td>\n",
       "      <td>0</td>\n",
       "      <td>0</td>\n",
       "    </tr>\n",
       "    <tr>\n",
       "      <th>23.139666</th>\n",
       "      <td>0</td>\n",
       "      <td>0</td>\n",
       "      <td>0</td>\n",
       "      <td>0</td>\n",
       "      <td>0</td>\n",
       "    </tr>\n",
       "    <tr>\n",
       "      <th>40.184025</th>\n",
       "      <td>0</td>\n",
       "      <td>0</td>\n",
       "      <td>0</td>\n",
       "      <td>0</td>\n",
       "      <td>0</td>\n",
       "    </tr>\n",
       "    <tr>\n",
       "      <th>11.004086</th>\n",
       "      <td>3</td>\n",
       "      <td>1</td>\n",
       "      <td>2</td>\n",
       "      <td>1</td>\n",
       "      <td>1</td>\n",
       "    </tr>\n",
       "    <tr>\n",
       "      <th>46.246838</th>\n",
       "      <td>0</td>\n",
       "      <td>0</td>\n",
       "      <td>0</td>\n",
       "      <td>0</td>\n",
       "      <td>0</td>\n",
       "    </tr>\n",
       "    <tr>\n",
       "      <th>-19.224371</th>\n",
       "      <td>5</td>\n",
       "      <td>1</td>\n",
       "      <td>4</td>\n",
       "      <td>2</td>\n",
       "      <td>2</td>\n",
       "    </tr>\n",
       "    <tr>\n",
       "      <th>-16.040302</th>\n",
       "      <td>6</td>\n",
       "      <td>1</td>\n",
       "      <td>4</td>\n",
       "      <td>2</td>\n",
       "      <td>2</td>\n",
       "    </tr>\n",
       "    <tr>\n",
       "      <th>43.851921</th>\n",
       "      <td>0</td>\n",
       "      <td>0</td>\n",
       "      <td>0</td>\n",
       "      <td>0</td>\n",
       "      <td>0</td>\n",
       "    </tr>\n",
       "    <tr>\n",
       "      <th>-45.874538</th>\n",
       "      <td>6</td>\n",
       "      <td>1</td>\n",
       "      <td>4</td>\n",
       "      <td>2</td>\n",
       "      <td>2</td>\n",
       "    </tr>\n",
       "    <tr>\n",
       "      <th>9.302624</th>\n",
       "      <td>3</td>\n",
       "      <td>1</td>\n",
       "      <td>2</td>\n",
       "      <td>1</td>\n",
       "      <td>1</td>\n",
       "    </tr>\n",
       "    <tr>\n",
       "      <th>42.171047</th>\n",
       "      <td>0</td>\n",
       "      <td>0</td>\n",
       "      <td>0</td>\n",
       "      <td>0</td>\n",
       "      <td>0</td>\n",
       "    </tr>\n",
       "    <tr>\n",
       "      <th>24.494572</th>\n",
       "      <td>0</td>\n",
       "      <td>0</td>\n",
       "      <td>0</td>\n",
       "      <td>0</td>\n",
       "      <td>0</td>\n",
       "    </tr>\n",
       "    <tr>\n",
       "      <th>38.457153</th>\n",
       "      <td>1</td>\n",
       "      <td>0</td>\n",
       "      <td>1</td>\n",
       "      <td>0</td>\n",
       "      <td>0</td>\n",
       "    </tr>\n",
       "    <tr>\n",
       "      <th>9.241217</th>\n",
       "      <td>5</td>\n",
       "      <td>1</td>\n",
       "      <td>4</td>\n",
       "      <td>2</td>\n",
       "      <td>2</td>\n",
       "    </tr>\n",
       "    <tr>\n",
       "      <th>47.612171</th>\n",
       "      <td>1</td>\n",
       "      <td>0</td>\n",
       "      <td>1</td>\n",
       "      <td>0</td>\n",
       "      <td>0</td>\n",
       "    </tr>\n",
       "    <tr>\n",
       "      <th>-38.715103</th>\n",
       "      <td>3</td>\n",
       "      <td>1</td>\n",
       "      <td>2</td>\n",
       "      <td>1</td>\n",
       "      <td>1</td>\n",
       "    </tr>\n",
       "    <tr>\n",
       "      <th>-17.946625</th>\n",
       "      <td>2</td>\n",
       "      <td>1</td>\n",
       "      <td>2</td>\n",
       "      <td>1</td>\n",
       "      <td>1</td>\n",
       "    </tr>\n",
       "    <tr>\n",
       "      <th>...</th>\n",
       "      <td>...</td>\n",
       "      <td>...</td>\n",
       "      <td>...</td>\n",
       "      <td>...</td>\n",
       "      <td>...</td>\n",
       "    </tr>\n",
       "    <tr>\n",
       "      <th>46.395248</th>\n",
       "      <td>1</td>\n",
       "      <td>0</td>\n",
       "      <td>1</td>\n",
       "      <td>0</td>\n",
       "      <td>0</td>\n",
       "    </tr>\n",
       "    <tr>\n",
       "      <th>36.108135</th>\n",
       "      <td>0</td>\n",
       "      <td>0</td>\n",
       "      <td>0</td>\n",
       "      <td>0</td>\n",
       "      <td>0</td>\n",
       "    </tr>\n",
       "    <tr>\n",
       "      <th>-28.377483</th>\n",
       "      <td>6</td>\n",
       "      <td>1</td>\n",
       "      <td>4</td>\n",
       "      <td>2</td>\n",
       "      <td>2</td>\n",
       "    </tr>\n",
       "    <tr>\n",
       "      <th>-23.353176</th>\n",
       "      <td>6</td>\n",
       "      <td>1</td>\n",
       "      <td>4</td>\n",
       "      <td>2</td>\n",
       "      <td>2</td>\n",
       "    </tr>\n",
       "    <tr>\n",
       "      <th>-28.973738</th>\n",
       "      <td>6</td>\n",
       "      <td>1</td>\n",
       "      <td>4</td>\n",
       "      <td>2</td>\n",
       "      <td>2</td>\n",
       "    </tr>\n",
       "    <tr>\n",
       "      <th>30.606182</th>\n",
       "      <td>0</td>\n",
       "      <td>0</td>\n",
       "      <td>0</td>\n",
       "      <td>0</td>\n",
       "      <td>0</td>\n",
       "    </tr>\n",
       "    <tr>\n",
       "      <th>-16.172159</th>\n",
       "      <td>4</td>\n",
       "      <td>1</td>\n",
       "      <td>3</td>\n",
       "      <td>1</td>\n",
       "      <td>2</td>\n",
       "    </tr>\n",
       "    <tr>\n",
       "      <th>37.970982</th>\n",
       "      <td>0</td>\n",
       "      <td>0</td>\n",
       "      <td>0</td>\n",
       "      <td>0</td>\n",
       "      <td>0</td>\n",
       "    </tr>\n",
       "    <tr>\n",
       "      <th>28.161665</th>\n",
       "      <td>0</td>\n",
       "      <td>0</td>\n",
       "      <td>0</td>\n",
       "      <td>0</td>\n",
       "      <td>0</td>\n",
       "    </tr>\n",
       "    <tr>\n",
       "      <th>6.788023</th>\n",
       "      <td>6</td>\n",
       "      <td>1</td>\n",
       "      <td>4</td>\n",
       "      <td>2</td>\n",
       "      <td>2</td>\n",
       "    </tr>\n",
       "    <tr>\n",
       "      <th>14.205236</th>\n",
       "      <td>0</td>\n",
       "      <td>0</td>\n",
       "      <td>0</td>\n",
       "      <td>0</td>\n",
       "      <td>0</td>\n",
       "    </tr>\n",
       "    <tr>\n",
       "      <th>12.958723</th>\n",
       "      <td>3</td>\n",
       "      <td>1</td>\n",
       "      <td>2</td>\n",
       "      <td>1</td>\n",
       "      <td>1</td>\n",
       "    </tr>\n",
       "    <tr>\n",
       "      <th>-15.022871</th>\n",
       "      <td>2</td>\n",
       "      <td>1</td>\n",
       "      <td>2</td>\n",
       "      <td>1</td>\n",
       "      <td>1</td>\n",
       "    </tr>\n",
       "    <tr>\n",
       "      <th>-46.538872</th>\n",
       "      <td>6</td>\n",
       "      <td>1</td>\n",
       "      <td>4</td>\n",
       "      <td>2</td>\n",
       "      <td>2</td>\n",
       "    </tr>\n",
       "    <tr>\n",
       "      <th>8.461404</th>\n",
       "      <td>3</td>\n",
       "      <td>1</td>\n",
       "      <td>2</td>\n",
       "      <td>1</td>\n",
       "      <td>1</td>\n",
       "    </tr>\n",
       "    <tr>\n",
       "      <th>-13.169214</th>\n",
       "      <td>4</td>\n",
       "      <td>1</td>\n",
       "      <td>3</td>\n",
       "      <td>1</td>\n",
       "      <td>2</td>\n",
       "    </tr>\n",
       "    <tr>\n",
       "      <th>21.882036</th>\n",
       "      <td>4</td>\n",
       "      <td>1</td>\n",
       "      <td>3</td>\n",
       "      <td>1</td>\n",
       "      <td>2</td>\n",
       "    </tr>\n",
       "    <tr>\n",
       "      <th>22.169968</th>\n",
       "      <td>0</td>\n",
       "      <td>0</td>\n",
       "      <td>0</td>\n",
       "      <td>0</td>\n",
       "      <td>0</td>\n",
       "    </tr>\n",
       "    <tr>\n",
       "      <th>30.044558</th>\n",
       "      <td>0</td>\n",
       "      <td>0</td>\n",
       "      <td>0</td>\n",
       "      <td>0</td>\n",
       "      <td>0</td>\n",
       "    </tr>\n",
       "    <tr>\n",
       "      <th>-0.932636</th>\n",
       "      <td>3</td>\n",
       "      <td>1</td>\n",
       "      <td>2</td>\n",
       "      <td>1</td>\n",
       "      <td>1</td>\n",
       "    </tr>\n",
       "    <tr>\n",
       "      <th>2.119275</th>\n",
       "      <td>3</td>\n",
       "      <td>1</td>\n",
       "      <td>2</td>\n",
       "      <td>1</td>\n",
       "      <td>1</td>\n",
       "    </tr>\n",
       "    <tr>\n",
       "      <th>37.542858</th>\n",
       "      <td>0</td>\n",
       "      <td>0</td>\n",
       "      <td>0</td>\n",
       "      <td>0</td>\n",
       "      <td>0</td>\n",
       "    </tr>\n",
       "    <tr>\n",
       "      <th>-43.372452</th>\n",
       "      <td>4</td>\n",
       "      <td>1</td>\n",
       "      <td>3</td>\n",
       "      <td>1</td>\n",
       "      <td>2</td>\n",
       "    </tr>\n",
       "    <tr>\n",
       "      <th>6.461433</th>\n",
       "      <td>4</td>\n",
       "      <td>1</td>\n",
       "      <td>3</td>\n",
       "      <td>1</td>\n",
       "      <td>2</td>\n",
       "    </tr>\n",
       "    <tr>\n",
       "      <th>-6.501722</th>\n",
       "      <td>4</td>\n",
       "      <td>1</td>\n",
       "      <td>3</td>\n",
       "      <td>1</td>\n",
       "      <td>2</td>\n",
       "    </tr>\n",
       "    <tr>\n",
       "      <th>1.762110</th>\n",
       "      <td>4</td>\n",
       "      <td>1</td>\n",
       "      <td>3</td>\n",
       "      <td>1</td>\n",
       "      <td>2</td>\n",
       "    </tr>\n",
       "    <tr>\n",
       "      <th>31.817381</th>\n",
       "      <td>0</td>\n",
       "      <td>0</td>\n",
       "      <td>0</td>\n",
       "      <td>0</td>\n",
       "      <td>0</td>\n",
       "    </tr>\n",
       "    <tr>\n",
       "      <th>-45.788925</th>\n",
       "      <td>4</td>\n",
       "      <td>1</td>\n",
       "      <td>3</td>\n",
       "      <td>1</td>\n",
       "      <td>2</td>\n",
       "    </tr>\n",
       "    <tr>\n",
       "      <th>48.281975</th>\n",
       "      <td>0</td>\n",
       "      <td>0</td>\n",
       "      <td>0</td>\n",
       "      <td>0</td>\n",
       "      <td>0</td>\n",
       "    </tr>\n",
       "    <tr>\n",
       "      <th>-45.966606</th>\n",
       "      <td>6</td>\n",
       "      <td>1</td>\n",
       "      <td>4</td>\n",
       "      <td>2</td>\n",
       "      <td>2</td>\n",
       "    </tr>\n",
       "  </tbody>\n",
       "</table>\n",
       "<p>580 rows × 5 columns</p>\n",
       "</div>"
      ],
      "text/plain": [
       "            Grade  Cancerous  Group  OneTwoThree  ThreeFourFive\n",
       "0                                                              \n",
       "-25.487915      6          1      4            2              2\n",
       "-26.180853      4          1      3            1              2\n",
       " 23.309013      0          0      0            0              0\n",
       "-40.991650      5          1      4            2              2\n",
       " 34.407986      1          0      1            0              0\n",
       "-2.291461       6          1      4            2              2\n",
       "-27.358747      4          1      3            1              2\n",
       " 8.059845       3          1      2            1              1\n",
       "-36.996017      6          1      4            2              2\n",
       " 5.516891       6          1      4            2              2\n",
       "-30.632433      6          1      4            2              2\n",
       " 22.606237      0          0      0            0              0\n",
       "-27.484156      6          1      4            2              2\n",
       " 43.332298      0          0      0            0              0\n",
       " 23.139666      0          0      0            0              0\n",
       " 40.184025      0          0      0            0              0\n",
       " 11.004086      3          1      2            1              1\n",
       " 46.246838      0          0      0            0              0\n",
       "-19.224371      5          1      4            2              2\n",
       "-16.040302      6          1      4            2              2\n",
       " 43.851921      0          0      0            0              0\n",
       "-45.874538      6          1      4            2              2\n",
       " 9.302624       3          1      2            1              1\n",
       " 42.171047      0          0      0            0              0\n",
       " 24.494572      0          0      0            0              0\n",
       " 38.457153      1          0      1            0              0\n",
       " 9.241217       5          1      4            2              2\n",
       " 47.612171      1          0      1            0              0\n",
       "-38.715103      3          1      2            1              1\n",
       "-17.946625      2          1      2            1              1\n",
       "...           ...        ...    ...          ...            ...\n",
       " 46.395248      1          0      1            0              0\n",
       " 36.108135      0          0      0            0              0\n",
       "-28.377483      6          1      4            2              2\n",
       "-23.353176      6          1      4            2              2\n",
       "-28.973738      6          1      4            2              2\n",
       " 30.606182      0          0      0            0              0\n",
       "-16.172159      4          1      3            1              2\n",
       " 37.970982      0          0      0            0              0\n",
       " 28.161665      0          0      0            0              0\n",
       " 6.788023       6          1      4            2              2\n",
       " 14.205236      0          0      0            0              0\n",
       " 12.958723      3          1      2            1              1\n",
       "-15.022871      2          1      2            1              1\n",
       "-46.538872      6          1      4            2              2\n",
       " 8.461404       3          1      2            1              1\n",
       "-13.169214      4          1      3            1              2\n",
       " 21.882036      4          1      3            1              2\n",
       " 22.169968      0          0      0            0              0\n",
       " 30.044558      0          0      0            0              0\n",
       "-0.932636       3          1      2            1              1\n",
       " 2.119275       3          1      2            1              1\n",
       " 37.542858      0          0      0            0              0\n",
       "-43.372452      4          1      3            1              2\n",
       " 6.461433       4          1      3            1              2\n",
       "-6.501722       4          1      3            1              2\n",
       " 1.762110       4          1      3            1              2\n",
       " 31.817381      0          0      0            0              0\n",
       "-45.788925      4          1      3            1              2\n",
       " 48.281975      0          0      0            0              0\n",
       "-45.966606      6          1      4            2              2\n",
       "\n",
       "[580 rows x 5 columns]"
      ]
     },
     "execution_count": 28,
     "metadata": {},
     "output_type": "execute_result"
    }
   ],
   "source": [
    "exportData"
   ]
  },
  {
   "cell_type": "code",
   "execution_count": 29,
   "metadata": {},
   "outputs": [],
   "source": [
    "#With TCGA Healthy\n",
    "exportData.to_csv(\"../Data/exportData5.csv\")"
   ]
  },
  {
   "cell_type": "markdown",
   "metadata": {},
   "source": [
    "## Normality Testing"
   ]
  },
  {
   "cell_type": "code",
   "execution_count": 30,
   "metadata": {},
   "outputs": [
    {
     "name": "stdout",
     "output_type": "stream",
     "text": [
      "GTEx: 32.87050247192383\n",
      "TCGA Healthy: 30.28175163269043\n",
      "Group 1 (Grade 1 and 2): -6.205445766448975\n",
      "Group 2 (Grade 3): -11.46720027923584\n",
      "Group 3 (Grade 4 and 5): -15.376407623291016\n"
     ]
    }
   ],
   "source": [
    "print(\"GTEx: \" + str(mean(G0Reduced2)))\n",
    "print(\"TCGA Healthy: \" + str(mean(G1Reduced2)))\n",
    "print(\"Group 1 (Grade 1 and 2): \" + str(mean(G2Reduced2)))\n",
    "print(\"Group 2 (Grade 3): \" + str(mean(G3Reduced2)))\n",
    "print(\"Group 3 (Grade 4 and 5): \" + str(mean(G4Reduced2)))"
   ]
  },
  {
   "cell_type": "code",
   "execution_count": 31,
   "metadata": {},
   "outputs": [
    {
     "name": "stdout",
     "output_type": "stream",
     "text": [
      "GTEx: 12.703211784362793\n",
      "TCGA Healthy: 17.547836303710938\n",
      "Group 1 (Grade 1 and 2): 21.618518829345703\n",
      "Group 2 (Grade 3): 20.802915573120117\n",
      "Group 3 (Grade 4 and 5): 21.525577545166016\n"
     ]
    }
   ],
   "source": [
    "print(\"GTEx: \" + str(std(G0Reduced2)))\n",
    "print(\"TCGA Healthy: \" + str(std(G1Reduced2)))\n",
    "print(\"Group 1 (Grade 1 and 2): \" + str(std(G2Reduced2)))\n",
    "print(\"Group 2 (Grade 3): \" + str(std(G3Reduced2)))\n",
    "print(\"Group 3 (Grade 4 and 5): \" + str(std(G4Reduced2)))"
   ]
  },
  {
   "cell_type": "code",
   "execution_count": 32,
   "metadata": {},
   "outputs": [
    {
     "data": {
      "text/plain": [
       "(0.0, 40.0)"
      ]
     },
     "execution_count": 32,
     "metadata": {},
     "output_type": "execute_result"
    },
    {
     "data": {
      "image/png": "[encoded data removed]",
      "text/plain": [
       "<matplotlib.figure.Figure at 0x1a2a4881d0>"
      ]
     },
     "metadata": {
      "needs_background": "light"
     },
     "output_type": "display_data"
    }
   ],
   "source": [
    "n, bins, patches = plt.hist(x=G0Reduced2, bins='auto', color='#0504aa', rwidth=0.85)\n",
    "plt.grid(axis='y', alpha=0.75)\n",
    "plt.xlabel('Value')\n",
    "plt.ylabel('Frequency')\n",
    "plt.title('G0')\n",
    "#plt.text(23, 45, r'$\\mu=15, b=3$')\n",
    "maxfreq = n.max()\n",
    "# Set a clean upper y-axis limit.\n",
    "plt.ylim(ymax=np.ceil(maxfreq / 10) * 10 if maxfreq % 10 else maxfreq + 10)"
   ]
  },
  {
   "cell_type": "code",
   "execution_count": 33,
   "metadata": {},
   "outputs": [
    {
     "data": {
      "text/plain": [
       "(0.0, 20.0)"
      ]
     },
     "execution_count": 33,
     "metadata": {},
     "output_type": "execute_result"
    },
    {
     "data": {
      "image/png": "[encoded data removed]",
      "text/plain": [
       "<matplotlib.figure.Figure at 0x1a2a4a0400>"
      ]
     },
     "metadata": {
      "needs_background": "light"
     },
     "output_type": "display_data"
    }
   ],
   "source": [
    "n, bins, patches = plt.hist(x=G1Reduced2, bins='auto', color='#0504aa',\n",
    "                            alpha=0.7, rwidth=0.85)\n",
    "plt.grid(axis='y', alpha=0.75)\n",
    "plt.xlabel('Value')\n",
    "plt.ylabel('Frequency')\n",
    "plt.title('G1')\n",
    "plt.text(23, 45, r'$\\mu=15, b=3$')\n",
    "maxfreq = n.max()\n",
    "# Set a clean upper y-axis limit.\n",
    "plt.ylim(ymax=np.ceil(maxfreq / 10) * 10 if maxfreq % 10 else maxfreq + 10)"
   ]
  },
  {
   "cell_type": "code",
   "execution_count": 34,
   "metadata": {},
   "outputs": [
    {
     "data": {
      "text/plain": [
       "(0.0, 30.0)"
      ]
     },
     "execution_count": 34,
     "metadata": {},
     "output_type": "execute_result"
    },
    {
     "data": {
      "image/png": "[encoded data removed]",
      "text/plain": [
       "<matplotlib.figure.Figure at 0x10d074fd0>"
      ]
     },
     "metadata": {
      "needs_background": "light"
     },
     "output_type": "display_data"
    }
   ],
   "source": [
    "n, bins, patches = plt.hist(x=G2Reduced2, bins='auto', color='#0504aa',\n",
    "                            alpha=0.7, rwidth=0.85)\n",
    "plt.grid(axis='y', alpha=0.75)\n",
    "plt.xlabel('Value')\n",
    "plt.ylabel('Frequency')\n",
    "plt.title('G2')\n",
    "plt.text(23, 45, r'$\\mu=15, b=3$')\n",
    "maxfreq = n.max()\n",
    "# Set a clean upper y-axis limit.\n",
    "plt.ylim(ymax=np.ceil(maxfreq / 10) * 10 if maxfreq % 10 else maxfreq + 10)"
   ]
  },
  {
   "cell_type": "code",
   "execution_count": 35,
   "metadata": {},
   "outputs": [
    {
     "data": {
      "text/plain": [
       "(0.0, 20.0)"
      ]
     },
     "execution_count": 35,
     "metadata": {},
     "output_type": "execute_result"
    },
    {
     "data": {
      "image/png": "[encoded data removed]",
      "text/plain": [
       "<matplotlib.figure.Figure at 0x1a2a2a7908>"
      ]
     },
     "metadata": {
      "needs_background": "light"
     },
     "output_type": "display_data"
    }
   ],
   "source": [
    "n, bins, patches = plt.hist(x=G3Reduced2, bins='auto', color='#0504aa',\n",
    "                            alpha=0.7, rwidth=0.85)\n",
    "plt.grid(axis='y', alpha=0.75)\n",
    "plt.xlabel('Value')\n",
    "plt.ylabel('Frequency')\n",
    "plt.title('G3')\n",
    "plt.text(23, 45, r'$\\mu=15, b=3$')\n",
    "maxfreq = n.max()\n",
    "# Set a clean upper y-axis limit.\n",
    "plt.ylim(ymax=np.ceil(maxfreq / 10) * 10 if maxfreq % 10 else maxfreq + 10)"
   ]
  },
  {
   "cell_type": "code",
   "execution_count": 36,
   "metadata": {},
   "outputs": [
    {
     "data": {
      "text/plain": [
       "(0.0, 40.0)"
      ]
     },
     "execution_count": 36,
     "metadata": {},
     "output_type": "execute_result"
    },
    {
     "data": {
      "image/png": "[encoded data removed]",
      "text/plain": [
       "<matplotlib.figure.Figure at 0x10d261a90>"
      ]
     },
     "metadata": {
      "needs_background": "light"
     },
     "output_type": "display_data"
    }
   ],
   "source": [
    "n1, bins1, patches1 = plt.hist(x=G4Reduced2, bins='auto', color='#0504aa',\n",
    "                            alpha=0.7, rwidth=0.85)\n",
    "plt.grid(axis='y', alpha=0.75)\n",
    "plt.xlabel('Value')\n",
    "plt.ylabel('Frequency')\n",
    "plt.title('G4')\n",
    "plt.text(23, 45, r'$\\mu=15, b=3$')\n",
    "maxfreq = n1.max()\n",
    "# Set a clean upper y-axis limit.\n",
    "plt.ylim(ymax=np.ceil(maxfreq / 10) * 10 if maxfreq % 10 else maxfreq + 10)"
   ]
  },
  {
   "cell_type": "code",
   "execution_count": 37,
   "metadata": {},
   "outputs": [
    {
     "data": {
      "text/plain": [
       "(0.0, 10.0)"
      ]
     },
     "execution_count": 37,
     "metadata": {},
     "output_type": "execute_result"
    },
    {
     "data": {
      "image/png": "[encoded data removed]",
      "text/plain": [
       "<matplotlib.figure.Figure at 0x10d3c6860>"
      ]
     },
     "metadata": {
      "needs_background": "light"
     },
     "output_type": "display_data"
    }
   ],
   "source": [
    "n1, bins1, patches1 = plt.hist(x=One, bins='auto', color='#0504aa',\n",
    "                            alpha=0.7, rwidth=0.85)\n",
    "plt.grid(axis='y', alpha=0.75)\n",
    "plt.xlabel('Value')\n",
    "plt.ylabel('Frequency')\n",
    "plt.title('One')\n",
    "plt.text(23, 45, r'$\\mu=15, b=3$')\n",
    "maxfreq = n1.max()\n",
    "# Set a clean upper y-axis limit.\n",
    "plt.ylim(ymax=np.ceil(maxfreq / 10) * 10 if maxfreq % 10 else maxfreq + 10)"
   ]
  },
  {
   "cell_type": "code",
   "execution_count": 38,
   "metadata": {},
   "outputs": [
    {
     "data": {
      "text/plain": [
       "(0.0, 30.0)"
      ]
     },
     "execution_count": 38,
     "metadata": {},
     "output_type": "execute_result"
    },
    {
     "data": {
      "image/png": "[encoded data removed]",
      "text/plain": [
       "<matplotlib.figure.Figure at 0x10d26c5c0>"
      ]
     },
     "metadata": {
      "needs_background": "light"
     },
     "output_type": "display_data"
    }
   ],
   "source": [
    "n1, bins1, patches1 = plt.hist(x=Two, bins='auto', color='#0504aa',\n",
    "                            alpha=0.7, rwidth=0.85)\n",
    "plt.grid(axis='y', alpha=0.75)\n",
    "plt.xlabel('Value')\n",
    "plt.ylabel('Frequency')\n",
    "plt.title('Two')\n",
    "plt.text(23, 45, r'$\\mu=15, b=3$')\n",
    "maxfreq = n1.max()\n",
    "# Set a clean upper y-axis limit.\n",
    "plt.ylim(ymax=np.ceil(maxfreq / 10) * 10 if maxfreq % 10 else maxfreq + 10)"
   ]
  },
  {
   "cell_type": "code",
   "execution_count": 39,
   "metadata": {},
   "outputs": [
    {
     "data": {
      "text/plain": [
       "(0.0, 20.0)"
      ]
     },
     "execution_count": 39,
     "metadata": {},
     "output_type": "execute_result"
    },
    {
     "data": {
      "image/png": "[encoded data removed]",
      "text/plain": [
       "<matplotlib.figure.Figure at 0x1a0e9c9048>"
      ]
     },
     "metadata": {
      "needs_background": "light"
     },
     "output_type": "display_data"
    }
   ],
   "source": [
    "n1, bins1, patches1 = plt.hist(x=Four, bins='auto', color='#0504aa',\n",
    "                            alpha=0.7, rwidth=0.85)\n",
    "plt.grid(axis='y', alpha=0.75)\n",
    "plt.xlabel('Value')\n",
    "plt.ylabel('Frequency')\n",
    "plt.title('Four')\n",
    "plt.text(23, 45, r'$\\mu=15, b=3$')\n",
    "maxfreq = n1.max()\n",
    "# Set a clean upper y-axis limit.\n",
    "plt.ylim(ymax=np.ceil(maxfreq / 10) * 10 if maxfreq % 10 else maxfreq + 10)"
   ]
  },
  {
   "cell_type": "code",
   "execution_count": 40,
   "metadata": {},
   "outputs": [
    {
     "data": {
      "text/plain": [
       "(0.0, 30.0)"
      ]
     },
     "execution_count": 40,
     "metadata": {},
     "output_type": "execute_result"
    },
    {
     "data": {
      "image/png": "[encoded data removed]",
      "text/plain": [
       "<matplotlib.figure.Figure at 0x1a0ea3e048>"
      ]
     },
     "metadata": {
      "needs_background": "light"
     },
     "output_type": "display_data"
    }
   ],
   "source": [
    "n1, bins1, patches1 = plt.hist(x=Five, bins='auto', color='#0504aa',\n",
    "                            alpha=0.7, rwidth=0.85)\n",
    "plt.grid(axis='y', alpha=0.75)\n",
    "plt.xlabel('Value')\n",
    "plt.ylabel('Frequency')\n",
    "plt.title('Five')\n",
    "plt.text(23, 45, r'$\\mu=15, b=3$')\n",
    "maxfreq = n1.max()\n",
    "# Set a clean upper y-axis limit.\n",
    "plt.ylim(ymax=np.ceil(maxfreq / 10) * 10 if maxfreq % 10 else maxfreq + 10)"
   ]
  },
  {
   "cell_type": "code",
   "execution_count": 41,
   "metadata": {},
   "outputs": [
    {
     "name": "stderr",
     "output_type": "stream",
     "text": [
      "/Users/martincasey/anaconda3/lib/python3.6/site-packages/numpy/core/fromnumeric.py:52: FutureWarning: reshape is deprecated and will raise in a subsequent release. Please use .values.reshape(...) instead\n",
      "  return getattr(obj, method)(*args, **kwds)\n"
     ]
    },
    {
     "data": {
      "text/plain": [
       "Text(0.5,1,'Healthy vs Cancerous')"
      ]
     },
     "execution_count": 41,
     "metadata": {},
     "output_type": "execute_result"
    },
    {
     "data": {
      "image/png": "[encoded data removed]",
      "text/plain": [
       "<matplotlib.figure.Figure at 0x10d097da0>"
      ]
     },
     "metadata": {
      "needs_background": "light"
     },
     "output_type": "display_data"
    }
   ],
   "source": [
    "n1, bins1, patches1 = plt.hist([Healthy,Cancerous], bins='auto',\n",
    "                            alpha=0.7, rwidth=0.85, label = ['Healthy', 'Cancerous'])\n",
    "plt.grid(axis='y', alpha=0.75)\n",
    "plt.xlabel('Value')\n",
    "plt.ylabel('Frequency')\n",
    "plt.legend(loc='upper right')\n",
    "plt.title('Healthy vs Cancerous')"
   ]
  },
  {
   "cell_type": "code",
   "execution_count": 42,
   "metadata": {},
   "outputs": [
    {
     "name": "stderr",
     "output_type": "stream",
     "text": [
      "/Users/martincasey/anaconda3/lib/python3.6/site-packages/numpy/core/fromnumeric.py:52: FutureWarning: reshape is deprecated and will raise in a subsequent release. Please use .values.reshape(...) instead\n",
      "  return getattr(obj, method)(*args, **kwds)\n"
     ]
    },
    {
     "data": {
      "text/plain": [
       "Text(0.5,1,'Group 1 (Grade 1 and 2) vs Grade 3 + Grade 4 + Grade 5')"
      ]
     },
     "execution_count": 42,
     "metadata": {},
     "output_type": "execute_result"
    },
    {
     "data": {
      "image/png": "[encoded data removed]",
      "text/plain": [
       "<matplotlib.figure.Figure at 0x1a100bdac8>"
      ]
     },
     "metadata": {
      "needs_background": "light"
     },
     "output_type": "display_data"
    }
   ],
   "source": [
    "n1, bins1, patches1 = plt.hist([G2Reduced2,ThreeFourFive], bins='auto',\n",
    "                            alpha=0.7, rwidth=0.85, label = ['One+Two', 'Three+Four+Five'])\n",
    "plt.grid(axis='y', alpha=0.75)\n",
    "plt.xlabel('Value')\n",
    "plt.ylabel('Frequency')\n",
    "plt.legend(loc='upper right')\n",
    "plt.title('Group 1 (Grade 1 and 2) vs Grade 3 + Grade 4 + Grade 5')"
   ]
  },
  {
   "cell_type": "code",
   "execution_count": 43,
   "metadata": {},
   "outputs": [
    {
     "name": "stderr",
     "output_type": "stream",
     "text": [
      "/Users/martincasey/anaconda3/lib/python3.6/site-packages/numpy/core/fromnumeric.py:52: FutureWarning: reshape is deprecated and will raise in a subsequent release. Please use .values.reshape(...) instead\n",
      "  return getattr(obj, method)(*args, **kwds)\n"
     ]
    },
    {
     "data": {
      "text/plain": [
       "Text(0.5,1,'Grade 1 + Grade 2 + Grade 3 vs Group 3(Grade 4 + Grade 5)')"
      ]
     },
     "execution_count": 43,
     "metadata": {},
     "output_type": "execute_result"
    },
    {
     "data": {
      "image/png": "[encoded data removed]",
      "text/plain": [
       "<matplotlib.figure.Figure at 0x1a0ea3e5c0>"
      ]
     },
     "metadata": {
      "needs_background": "light"
     },
     "output_type": "display_data"
    }
   ],
   "source": [
    "n1, bins1, patches1 = plt.hist([OneTwoThree,G4Reduced2], bins='auto',\n",
    "                            alpha=0.7, rwidth=0.85, label = ['One+Two+Three', 'Four+Five'])\n",
    "plt.grid(axis='y', alpha=0.75)\n",
    "plt.xlabel('Value')\n",
    "plt.ylabel('Frequency')\n",
    "plt.legend(loc='upper right')\n",
    "plt.title('Grade 1 + Grade 2 + Grade 3 vs Group 3(Grade 4 + Grade 5)')"
   ]
  },
  {
   "cell_type": "code",
   "execution_count": 44,
   "metadata": {},
   "outputs": [
    {
     "name": "stderr",
     "output_type": "stream",
     "text": [
      "/Users/martincasey/anaconda3/lib/python3.6/site-packages/numpy/core/fromnumeric.py:52: FutureWarning: reshape is deprecated and will raise in a subsequent release. Please use .values.reshape(...) instead\n",
      "  return getattr(obj, method)(*args, **kwds)\n"
     ]
    },
    {
     "data": {
      "text/plain": [
       "Text(0.5,1,'Grade 1 vs Grade 5')"
      ]
     },
     "execution_count": 44,
     "metadata": {},
     "output_type": "execute_result"
    },
    {
     "data": {
      "image/png": "[encoded data removed]",
      "text/plain": [
       "<matplotlib.figure.Figure at 0x1a0e814a20>"
      ]
     },
     "metadata": {
      "needs_background": "light"
     },
     "output_type": "display_data"
    }
   ],
   "source": [
    "n1, bins1, patches1 = plt.hist([One,Five], bins='auto',\n",
    "                            alpha=0.7, rwidth=0.85, label = ['One', 'Five'])\n",
    "plt.grid(axis='y', alpha=0.75)\n",
    "plt.xlabel('Value')\n",
    "plt.ylabel('Frequency')\n",
    "plt.legend(loc='upper right')\n",
    "plt.title('Grade 1 vs Grade 5')"
   ]
  },
  {
   "cell_type": "code",
   "execution_count": 45,
   "metadata": {},
   "outputs": [
    {
     "name": "stderr",
     "output_type": "stream",
     "text": [
      "/Users/martincasey/anaconda3/lib/python3.6/site-packages/numpy/core/fromnumeric.py:52: FutureWarning: reshape is deprecated and will raise in a subsequent release. Please use .values.reshape(...) instead\n",
      "  return getattr(obj, method)(*args, **kwds)\n"
     ]
    },
    {
     "data": {
      "text/plain": [
       "Text(0.5,1,'GTEX vs. (Grade 1 + Grade 2)')"
      ]
     },
     "execution_count": 45,
     "metadata": {},
     "output_type": "execute_result"
    },
    {
     "data": {
      "image/png": "[encoded data removed]",
      "text/plain": [
       "<matplotlib.figure.Figure at 0x10d03cbe0>"
      ]
     },
     "metadata": {
      "needs_background": "light"
     },
     "output_type": "display_data"
    }
   ],
   "source": [
    "n1, bins1, patches1 = plt.hist([G0Reduced2,G2Reduced2], bins='auto',\n",
    "                            alpha=0.7, rwidth=0.85, label = ['GTEx', 'Grades 1 and 2'])\n",
    "plt.grid(axis='y', alpha=0.75)\n",
    "plt.xlabel('Value')\n",
    "plt.ylabel('Frequency')\n",
    "plt.legend(loc='upper right')\n",
    "plt.title('GTEX vs. (Grade 1 + Grade 2)')"
   ]
  },
  {
   "cell_type": "code",
   "execution_count": 46,
   "metadata": {},
   "outputs": [
    {
     "name": "stderr",
     "output_type": "stream",
     "text": [
      "/Users/martincasey/anaconda3/lib/python3.6/site-packages/numpy/core/fromnumeric.py:52: FutureWarning: reshape is deprecated and will raise in a subsequent release. Please use .values.reshape(...) instead\n",
      "  return getattr(obj, method)(*args, **kwds)\n"
     ]
    },
    {
     "data": {
      "text/plain": [
       "Text(0.5,1,'GTEX vs. Grade 3')"
      ]
     },
     "execution_count": 46,
     "metadata": {},
     "output_type": "execute_result"
    },
    {
     "data": {
      "image/png": "[encoded data removed]",
      "text/plain": [
       "<matplotlib.figure.Figure at 0x1056c2518>"
      ]
     },
     "metadata": {
      "needs_background": "light"
     },
     "output_type": "display_data"
    }
   ],
   "source": [
    "n1, bins1, patches1 = plt.hist([G0Reduced2,G3Reduced2], bins='auto',\n",
    "                            alpha=0.7, rwidth=0.85, label = ['GTEx', 'Grade 3'])\n",
    "plt.grid(axis='y', alpha=0.75)\n",
    "plt.xlabel('Value')\n",
    "plt.ylabel('Frequency')\n",
    "plt.legend(loc='upper right')\n",
    "plt.title('GTEX vs. Grade 3')"
   ]
  },
  {
   "cell_type": "code",
   "execution_count": 47,
   "metadata": {},
   "outputs": [
    {
     "name": "stderr",
     "output_type": "stream",
     "text": [
      "/Users/martincasey/anaconda3/lib/python3.6/site-packages/numpy/core/fromnumeric.py:52: FutureWarning: reshape is deprecated and will raise in a subsequent release. Please use .values.reshape(...) instead\n",
      "  return getattr(obj, method)(*args, **kwds)\n"
     ]
    },
    {
     "data": {
      "text/plain": [
       "Text(0.5,1,'GTEX vs. (Grade 4 + Grade 5)')"
      ]
     },
     "execution_count": 47,
     "metadata": {},
     "output_type": "execute_result"
    },
    {
     "data": {
      "image/png": "[encoded data removed]",
      "text/plain": [
       "<matplotlib.figure.Figure at 0x1a2a26cfd0>"
      ]
     },
     "metadata": {
      "needs_background": "light"
     },
     "output_type": "display_data"
    }
   ],
   "source": [
    "n1, bins1, patches1 = plt.hist([G0Reduced2,G3Reduced2], bins='auto',\n",
    "                            alpha=0.7, rwidth=0.85, label = ['GTEx', 'Grades 4 and 5'])\n",
    "plt.grid(axis='y', alpha=0.75)\n",
    "plt.xlabel('Value')\n",
    "plt.ylabel('Frequency')\n",
    "plt.legend(loc='upper right')\n",
    "plt.title('GTEX vs. (Grade 4 + Grade 5)')"
   ]
  },
  {
   "cell_type": "code",
   "execution_count": 48,
   "metadata": {},
   "outputs": [
    {
     "name": "stderr",
     "output_type": "stream",
     "text": [
      "/Users/martincasey/anaconda3/lib/python3.6/site-packages/numpy/core/fromnumeric.py:52: FutureWarning: reshape is deprecated and will raise in a subsequent release. Please use .values.reshape(...) instead\n",
      "  return getattr(obj, method)(*args, **kwds)\n"
     ]
    },
    {
     "data": {
      "text/plain": [
       "Text(0.5,1,'(Grade 1 + Grade 2) vs. Grade 3')"
      ]
     },
     "execution_count": 48,
     "metadata": {},
     "output_type": "execute_result"
    },
    {
     "data": {
      "image/png": "[encoded data removed]",
      "text/plain": [
       "<matplotlib.figure.Figure at 0x1a100dda90>"
      ]
     },
     "metadata": {
      "needs_background": "light"
     },
     "output_type": "display_data"
    }
   ],
   "source": [
    "n1, bins1, patches1 = plt.hist([G2Reduced2,G3Reduced2], bins='auto',\n",
    "                            alpha=0.7, rwidth=0.85, label = ['Grades 1 and 2', 'Grade 3'])\n",
    "plt.grid(axis='y', alpha=0.75)\n",
    "plt.xlabel('Value')\n",
    "plt.ylabel('Frequency')\n",
    "plt.legend(loc='upper right')\n",
    "plt.title('(Grade 1 + Grade 2) vs. Grade 3')"
   ]
  },
  {
   "cell_type": "code",
   "execution_count": 49,
   "metadata": {},
   "outputs": [
    {
     "name": "stderr",
     "output_type": "stream",
     "text": [
      "/Users/martincasey/anaconda3/lib/python3.6/site-packages/numpy/core/fromnumeric.py:52: FutureWarning: reshape is deprecated and will raise in a subsequent release. Please use .values.reshape(...) instead\n",
      "  return getattr(obj, method)(*args, **kwds)\n"
     ]
    },
    {
     "data": {
      "text/plain": [
       "Text(0.5,1,'(Grade 1 + Grade 2) vs. (Grade 4 + Grade 5)')"
      ]
     },
     "execution_count": 49,
     "metadata": {},
     "output_type": "execute_result"
    },
    {
     "data": {
      "image/png": "[encoded data removed]",
      "text/plain": [
       "<matplotlib.figure.Figure at 0x1a0e7d1a90>"
      ]
     },
     "metadata": {
      "needs_background": "light"
     },
     "output_type": "display_data"
    }
   ],
   "source": [
    "n1, bins1, patches1 = plt.hist([G2Reduced2,G4Reduced2], bins='auto',\n",
    "                            alpha=0.7, rwidth=0.85, label = ['Grades 1 and 2', 'Grades 4 and 5'])\n",
    "plt.grid(axis='y', alpha=0.75)\n",
    "plt.xlabel('Value')\n",
    "plt.ylabel('Frequency')\n",
    "plt.legend(loc='upper right')\n",
    "plt.title('(Grade 1 + Grade 2) vs. (Grade 4 + Grade 5)')"
   ]
  },
  {
   "cell_type": "code",
   "execution_count": 50,
   "metadata": {},
   "outputs": [
    {
     "name": "stderr",
     "output_type": "stream",
     "text": [
      "/Users/martincasey/anaconda3/lib/python3.6/site-packages/numpy/core/fromnumeric.py:52: FutureWarning: reshape is deprecated and will raise in a subsequent release. Please use .values.reshape(...) instead\n",
      "  return getattr(obj, method)(*args, **kwds)\n"
     ]
    },
    {
     "data": {
      "text/plain": [
       "Text(0.5,1,'GTEx vs TCGA Healthy')"
      ]
     },
     "execution_count": 50,
     "metadata": {},
     "output_type": "execute_result"
    },
    {
     "data": {
      "image/png": "[encoded data removed]",
      "text/plain": [
       "<matplotlib.figure.Figure at 0x1a102c4080>"
      ]
     },
     "metadata": {
      "needs_background": "light"
     },
     "output_type": "display_data"
    }
   ],
   "source": [
    "n1, bins1, patches1 = plt.hist([G0Reduced2,G1Reduced2], bins='auto',\n",
    "                            alpha=0.7, rwidth=0.85, label = ['GTEx', 'TCGA Healthy'])\n",
    "plt.grid(axis='y', alpha=0.75)\n",
    "plt.xlabel('Value')\n",
    "plt.ylabel('Frequency')\n",
    "plt.legend(loc='upper right')\n",
    "plt.title('GTEx vs TCGA Healthy')"
   ]
  },
  {
   "cell_type": "code",
   "execution_count": 51,
   "metadata": {},
   "outputs": [
    {
     "name": "stderr",
     "output_type": "stream",
     "text": [
      "/Users/martincasey/anaconda3/lib/python3.6/site-packages/numpy/core/fromnumeric.py:52: FutureWarning: reshape is deprecated and will raise in a subsequent release. Please use .values.reshape(...) instead\n",
      "  return getattr(obj, method)(*args, **kwds)\n"
     ]
    },
    {
     "data": {
      "text/plain": [
       "Text(0.5,1,'GTEx vs Grade 5')"
      ]
     },
     "execution_count": 51,
     "metadata": {},
     "output_type": "execute_result"
    },
    {
     "data": {
      "image/png": "[encoded data removed]",
      "text/plain": [
       "<matplotlib.figure.Figure at 0x1a101d8dd8>"
      ]
     },
     "metadata": {
      "needs_background": "light"
     },
     "output_type": "display_data"
    }
   ],
   "source": [
    "n1, bins1, patches1 = plt.hist([G0Reduced2,Five], bins='auto',\n",
    "                            alpha=0.7, rwidth=0.85, label = ['GTEx', 'Grade 5'])\n",
    "plt.grid(axis='y', alpha=0.75)\n",
    "plt.xlabel('Value')\n",
    "plt.ylabel('Frequency')\n",
    "plt.legend(loc='upper right')\n",
    "plt.title('GTEx vs Grade 5')"
   ]
  },
  {
   "cell_type": "code",
   "execution_count": 52,
   "metadata": {},
   "outputs": [
    {
     "name": "stderr",
     "output_type": "stream",
     "text": [
      "/Users/martincasey/anaconda3/lib/python3.6/site-packages/numpy/core/fromnumeric.py:52: FutureWarning: reshape is deprecated and will raise in a subsequent release. Please use .values.reshape(...) instead\n",
      "  return getattr(obj, method)(*args, **kwds)\n"
     ]
    },
    {
     "data": {
      "text/plain": [
       "Text(0.5,1,'TCGA Healthy vs Grade 5')"
      ]
     },
     "execution_count": 52,
     "metadata": {},
     "output_type": "execute_result"
    },
    {
     "data": {
      "image/png": "[encoded data removed]",
      "text/plain": [
       "<matplotlib.figure.Figure at 0x1a104cd4e0>"
      ]
     },
     "metadata": {
      "needs_background": "light"
     },
     "output_type": "display_data"
    }
   ],
   "source": [
    "n1, bins1, patches1 = plt.hist([G1Reduced2,Five], bins='auto',\n",
    "                            alpha=0.7, rwidth=0.85, label = ['TCGA Healthy', 'Grade 5'])\n",
    "plt.grid(axis='y', alpha=0.75)\n",
    "plt.xlabel('Value')\n",
    "plt.ylabel('Frequency')\n",
    "plt.legend(loc='upper right')\n",
    "plt.title('TCGA Healthy vs Grade 5')"
   ]
  },
  {
   "cell_type": "markdown",
   "metadata": {},
   "source": [
    "### QQ Plot"
   ]
  },
  {
   "cell_type": "code",
   "execution_count": 53,
   "metadata": {},
   "outputs": [
    {
     "data": {
      "image/png": "[encoded data removed]",
      "text/plain": [
       "<matplotlib.figure.Figure at 0x1a0f9db7f0>"
      ]
     },
     "execution_count": 53,
     "metadata": {},
     "output_type": "execute_result"
    },
    {
     "data": {
      "image/png": "[encoded data removed]",
      "text/plain": [
       "<matplotlib.figure.Figure at 0x1a0f9db7f0>"
      ]
     },
     "metadata": {
      "needs_background": "light"
     },
     "output_type": "display_data"
    }
   ],
   "source": [
    "qqplot(G0Reduced2, line = '45', fit = True)"
   ]
  },
  {
   "cell_type": "code",
   "execution_count": 54,
   "metadata": {},
   "outputs": [
    {
     "data": {
      "image/png": "[encoded data removed]",
      "text/plain": [
       "<matplotlib.figure.Figure at 0x1a106abc50>"
      ]
     },
     "execution_count": 54,
     "metadata": {},
     "output_type": "execute_result"
    },
    {
     "data": {
      "image/png": "[encoded data removed]",
      "text/plain": [
       "<matplotlib.figure.Figure at 0x1a106abc50>"
      ]
     },
     "metadata": {
      "needs_background": "light"
     },
     "output_type": "display_data"
    }
   ],
   "source": [
    "qqplot(G1Reduced2, line = '45', fit = True)"
   ]
  },
  {
   "cell_type": "code",
   "execution_count": 55,
   "metadata": {},
   "outputs": [
    {
     "data": {
      "image/png": "[encoded data removed]",
      "text/plain": [
       "<matplotlib.figure.Figure at 0x1a0fa0c198>"
      ]
     },
     "execution_count": 55,
     "metadata": {},
     "output_type": "execute_result"
    },
    {
     "data": {
      "image/png": "[encoded data removed]",
      "text/plain": [
       "<matplotlib.figure.Figure at 0x1a0fa0c198>"
      ]
     },
     "metadata": {
      "needs_background": "light"
     },
     "output_type": "display_data"
    }
   ],
   "source": [
    "qqplot(G2Reduced2, line = '45', fit = True)"
   ]
  },
  {
   "cell_type": "code",
   "execution_count": 56,
   "metadata": {},
   "outputs": [
    {
     "data": {
      "image/png": "[encoded data removed]",
      "text/plain": [
       "<matplotlib.figure.Figure at 0x1a105ff320>"
      ]
     },
     "execution_count": 56,
     "metadata": {},
     "output_type": "execute_result"
    },
    {
     "data": {
      "image/png": "[encoded data removed]",
      "text/plain": [
       "<matplotlib.figure.Figure at 0x1a105ff320>"
      ]
     },
     "metadata": {
      "needs_background": "light"
     },
     "output_type": "display_data"
    }
   ],
   "source": [
    "qqplot(G3Reduced2, line = '45', fit = True)"
   ]
  },
  {
   "cell_type": "code",
   "execution_count": 57,
   "metadata": {},
   "outputs": [
    {
     "data": {
      "image/png": "[encoded data removed]",
      "text/plain": [
       "<matplotlib.figure.Figure at 0x1a103c7a58>"
      ]
     },
     "execution_count": 57,
     "metadata": {},
     "output_type": "execute_result"
    },
    {
     "data": {
      "image/png": "[encoded data removed]",
      "text/plain": [
       "<matplotlib.figure.Figure at 0x1a103c7a58>"
      ]
     },
     "metadata": {
      "needs_background": "light"
     },
     "output_type": "display_data"
    }
   ],
   "source": [
    "qqplot(G4Reduced2, line = '45', fit = True)"
   ]
  },
  {
   "cell_type": "code",
   "execution_count": 58,
   "metadata": {},
   "outputs": [
    {
     "data": {
      "image/png": "[encoded data removed]",
      "text/plain": [
       "<matplotlib.figure.Figure at 0x1a10936390>"
      ]
     },
     "execution_count": 58,
     "metadata": {},
     "output_type": "execute_result"
    },
    {
     "data": {
      "image/png": "[encoded data removed]",
      "text/plain": [
       "<matplotlib.figure.Figure at 0x1a10936390>"
      ]
     },
     "metadata": {
      "needs_background": "light"
     },
     "output_type": "display_data"
    }
   ],
   "source": [
    "qqplot(One, line = '45', fit = True)"
   ]
  },
  {
   "cell_type": "code",
   "execution_count": 59,
   "metadata": {},
   "outputs": [
    {
     "data": {
      "image/png": "[encoded data removed]",
      "text/plain": [
       "<matplotlib.figure.Figure at 0x1a10a25940>"
      ]
     },
     "execution_count": 59,
     "metadata": {},
     "output_type": "execute_result"
    },
    {
     "data": {
      "image/png": "[encoded data removed]",
      "text/plain": [
       "<matplotlib.figure.Figure at 0x1a10a25940>"
      ]
     },
     "metadata": {
      "needs_background": "light"
     },
     "output_type": "display_data"
    }
   ],
   "source": [
    "qqplot(Two, line = '45', fit = True)"
   ]
  },
  {
   "cell_type": "code",
   "execution_count": 60,
   "metadata": {},
   "outputs": [
    {
     "data": {
      "image/png": "[encoded data removed]",
      "text/plain": [
       "<matplotlib.figure.Figure at 0x1a109f3a90>"
      ]
     },
     "execution_count": 60,
     "metadata": {},
     "output_type": "execute_result"
    },
    {
     "data": {
      "image/png": "[encoded data removed]",
      "text/plain": [
       "<matplotlib.figure.Figure at 0x1a109f3a90>"
      ]
     },
     "metadata": {
      "needs_background": "light"
     },
     "output_type": "display_data"
    }
   ],
   "source": [
    "qqplot(Four, line = '45', fit = True)"
   ]
  },
  {
   "cell_type": "code",
   "execution_count": 61,
   "metadata": {},
   "outputs": [
    {
     "data": {
      "image/png": "[encoded data removed]",
      "text/plain": [
       "<matplotlib.figure.Figure at 0x1a10b67fd0>"
      ]
     },
     "execution_count": 61,
     "metadata": {},
     "output_type": "execute_result"
    },
    {
     "data": {
      "image/png": "[encoded data removed]",
      "text/plain": [
       "<matplotlib.figure.Figure at 0x1a10b67fd0>"
      ]
     },
     "metadata": {
      "needs_background": "light"
     },
     "output_type": "display_data"
    }
   ],
   "source": [
    "qqplot(Five, line = '45', fit = True)"
   ]
  },
  {
   "cell_type": "markdown",
   "metadata": {},
   "source": [
    "### Shapiro-Wilk Test"
   ]
  },
  {
   "cell_type": "code",
   "execution_count": 62,
   "metadata": {},
   "outputs": [
    {
     "name": "stdout",
     "output_type": "stream",
     "text": [
      "Statistics=0.869, p=0.000\n",
      "Sample does not look Gaussian (reject H0)\n"
     ]
    }
   ],
   "source": [
    "stat, p = shapiro(G0Reduced2)\n",
    "print('Statistics=%.3f, p=%.3f' % (stat, p))\n",
    "alpha = 0.05\n",
    "if p > alpha:\n",
    "    print('Sample looks Gaussian (fail to reject H0)')\n",
    "else:\n",
    "    print('Sample does not look Gaussian (reject H0)')"
   ]
  },
  {
   "cell_type": "code",
   "execution_count": 63,
   "metadata": {},
   "outputs": [
    {
     "name": "stdout",
     "output_type": "stream",
     "text": [
      "Statistics=0.725, p=0.000\n",
      "Sample does not look Gaussian (reject H0)\n"
     ]
    }
   ],
   "source": [
    "stat, p = shapiro(G1Reduced2)\n",
    "print('Statistics=%.3f, p=%.3f' % (stat, p))\n",
    "alpha = 0.05\n",
    "if p > alpha:\n",
    "    print('Sample looks Gaussian (fail to reject H0)')\n",
    "else:\n",
    "    print('Sample does not look Gaussian (reject H0)')"
   ]
  },
  {
   "cell_type": "code",
   "execution_count": 64,
   "metadata": {},
   "outputs": [
    {
     "name": "stdout",
     "output_type": "stream",
     "text": [
      "Statistics=0.976, p=0.006\n",
      "Sample does not look Gaussian (reject H0)\n"
     ]
    }
   ],
   "source": [
    "stat, p = shapiro(G2Reduced2)\n",
    "print('Statistics=%.3f, p=%.3f' % (stat, p))\n",
    "alpha = 0.05\n",
    "if p > alpha:\n",
    "    print('Sample looks Gaussian (fail to reject H0)')\n",
    "else:\n",
    "    print('Sample does not look Gaussian (reject H0)')"
   ]
  },
  {
   "cell_type": "code",
   "execution_count": 65,
   "metadata": {},
   "outputs": [
    {
     "name": "stdout",
     "output_type": "stream",
     "text": [
      "Statistics=0.959, p=0.013\n",
      "Sample does not look Gaussian (reject H0)\n"
     ]
    }
   ],
   "source": [
    "stat, p = shapiro(G3Reduced2)\n",
    "print('Statistics=%.3f, p=%.3f' % (stat, p))\n",
    "alpha = 0.05\n",
    "if p > alpha:\n",
    "    print('Sample looks Gaussian (fail to reject H0)')\n",
    "else:\n",
    "    print('Sample does not look Gaussian (reject H0)')"
   ]
  },
  {
   "cell_type": "code",
   "execution_count": 66,
   "metadata": {},
   "outputs": [
    {
     "name": "stdout",
     "output_type": "stream",
     "text": [
      "Statistics=0.953, p=0.000\n",
      "Sample does not look Gaussian (reject H0)\n"
     ]
    }
   ],
   "source": [
    "stat, p = shapiro(G4Reduced2)\n",
    "print('Statistics=%.3f, p=%.3f' % (stat, p))\n",
    "alpha = 0.05\n",
    "if p > alpha:\n",
    "    print('Sample looks Gaussian (fail to reject H0)')\n",
    "else:\n",
    "    print('Sample does not look Gaussian (reject H0)')"
   ]
  },
  {
   "cell_type": "code",
   "execution_count": 67,
   "metadata": {},
   "outputs": [
    {
     "name": "stdout",
     "output_type": "stream",
     "text": [
      "Statistics=0.964, p=0.256\n",
      "Sample looks Gaussian (fail to reject H0)\n"
     ]
    }
   ],
   "source": [
    "stat, p = shapiro(One)\n",
    "print('Statistics=%.3f, p=%.3f' % (stat, p))\n",
    "alpha = 0.05\n",
    "if p > alpha:\n",
    "    print('Sample looks Gaussian (fail to reject H0)')\n",
    "else:\n",
    "    print('Sample does not look Gaussian (reject H0)')"
   ]
  },
  {
   "cell_type": "code",
   "execution_count": 68,
   "metadata": {},
   "outputs": [
    {
     "name": "stdout",
     "output_type": "stream",
     "text": [
      "Statistics=0.971, p=0.011\n",
      "Sample does not look Gaussian (reject H0)\n"
     ]
    }
   ],
   "source": [
    "stat, p = shapiro(Two)\n",
    "print('Statistics=%.3f, p=%.3f' % (stat, p))\n",
    "alpha = 0.05\n",
    "if p > alpha:\n",
    "    print('Sample looks Gaussian (fail to reject H0)')\n",
    "else:\n",
    "    print('Sample does not look Gaussian (reject H0)')"
   ]
  },
  {
   "cell_type": "code",
   "execution_count": 69,
   "metadata": {},
   "outputs": [
    {
     "name": "stdout",
     "output_type": "stream",
     "text": [
      "Statistics=0.927, p=0.001\n",
      "Sample does not look Gaussian (reject H0)\n"
     ]
    }
   ],
   "source": [
    "stat, p = shapiro(Four)\n",
    "print('Statistics=%.3f, p=%.3f' % (stat, p))\n",
    "alpha = 0.05\n",
    "if p > alpha:\n",
    "    print('Sample looks Gaussian (fail to reject H0)')\n",
    "else:\n",
    "    print('Sample does not look Gaussian (reject H0)')"
   ]
  },
  {
   "cell_type": "code",
   "execution_count": 70,
   "metadata": {},
   "outputs": [
    {
     "name": "stdout",
     "output_type": "stream",
     "text": [
      "Statistics=0.966, p=0.003\n",
      "Sample does not look Gaussian (reject H0)\n"
     ]
    }
   ],
   "source": [
    "stat, p = shapiro(Five)\n",
    "print('Statistics=%.3f, p=%.3f' % (stat, p))\n",
    "alpha = 0.05\n",
    "if p > alpha:\n",
    "    print('Sample looks Gaussian (fail to reject H0)')\n",
    "else:\n",
    "    print('Sample does not look Gaussian (reject H0)')"
   ]
  },
  {
   "cell_type": "markdown",
   "metadata": {},
   "source": [
    "Since the GTEX group and some of the others are not gaussian, we will have to use a non-parametric test"
   ]
  },
  {
   "cell_type": "markdown",
   "metadata": {},
   "source": [
    "## Mann-Whitney U (Comparing all to GTEX)"
   ]
  },
  {
   "cell_type": "code",
   "execution_count": 71,
   "metadata": {},
   "outputs": [
    {
     "name": "stdout",
     "output_type": "stream",
     "text": [
      "Statistics=5618.000, p=0.999\n",
      "Two samples come from the same population (fail to reject H0)\n"
     ]
    }
   ],
   "source": [
    "stat, p = mannwhitneyu(G0Reduced2, G0Reduced2, alternative = 'two-sided')\n",
    "print('Statistics=%.3f, p=%.3f' % (stat, p))\n",
    "alpha = 0.05\n",
    "if p < alpha:\n",
    "    print('A particular population tends to have larger value compared to the other (reject H0)')\n",
    "else:\n",
    "    print('Two samples come from the same population (fail to reject H0)')"
   ]
  },
  {
   "cell_type": "code",
   "execution_count": 72,
   "metadata": {},
   "outputs": [
    {
     "name": "stdout",
     "output_type": "stream",
     "text": [
      "Statistics=2696.000, p=0.555\n",
      "Two samples come from the same population (fail to reject H0)\n"
     ]
    }
   ],
   "source": [
    "stat, p = mannwhitneyu(G0Reduced2, G1Reduced2, alternative = 'two-sided')\n",
    "print('Statistics=%.3f, p=%.3f' % (stat, p))\n",
    "alpha = 0.05\n",
    "if p < alpha:\n",
    "    print('A particular population tends to have larger value compared to the other (reject H0)')\n",
    "else:\n",
    "    print('Two samples come from the same population (fail to reject H0)')"
   ]
  },
  {
   "cell_type": "code",
   "execution_count": 73,
   "metadata": {},
   "outputs": [
    {
     "name": "stdout",
     "output_type": "stream",
     "text": [
      "Statistics=15972.000, p=0.000\n",
      "A particular population tends to have larger value compared to the other (reject H0)\n"
     ]
    }
   ],
   "source": [
    "stat, p = mannwhitneyu(G0Reduced2, G2Reduced2, alternative = 'two-sided')\n",
    "print('Statistics=%.3f, p=%.3f' % (stat, p))\n",
    "alpha = 0.05\n",
    "if p < alpha:\n",
    "    print('A particular population tends to have larger value compared to the other (reject H0)')\n",
    "else:\n",
    "    print('Two samples come from the same population (fail to reject H0)')"
   ]
  },
  {
   "cell_type": "code",
   "execution_count": 74,
   "metadata": {},
   "outputs": [
    {
     "name": "stdout",
     "output_type": "stream",
     "text": [
      "Statistics=8087.000, p=0.000\n",
      "A particular population tends to have larger value compared to the other (reject H0)\n"
     ]
    }
   ],
   "source": [
    "stat, p = mannwhitneyu(G0Reduced2, G3Reduced2, alternative = 'two-sided')\n",
    "print('Statistics=%.3f, p=%.3f' % (stat, p))\n",
    "alpha = 0.05\n",
    "if p < alpha:\n",
    "    print('A particular population tends to have larger value compared to the other (reject H0)')\n",
    "else:\n",
    "    print('Two samples come from the same population (fail to reject H0)')"
   ]
  },
  {
   "cell_type": "code",
   "execution_count": 75,
   "metadata": {},
   "outputs": [
    {
     "name": "stdout",
     "output_type": "stream",
     "text": [
      "Statistics=19005.000, p=0.000\n",
      "A particular population tends to have larger value compared to the other (reject H0)\n"
     ]
    }
   ],
   "source": [
    "stat, p = mannwhitneyu(G0Reduced2, G4Reduced2, alternative = 'two-sided')\n",
    "print('Statistics=%.3f, p=%.3f' % (stat, p))\n",
    "alpha = 0.05\n",
    "if p < alpha:\n",
    "    print('A particular population tends to have larger value compared to the other (reject H0)')\n",
    "else:\n",
    "    print('Two samples come from the same population (fail to reject H0)')"
   ]
  },
  {
   "cell_type": "code",
   "execution_count": 76,
   "metadata": {},
   "outputs": [
    {
     "name": "stdout",
     "output_type": "stream",
     "text": [
      "Statistics=3767.000, p=0.000\n",
      "A particular population tends to have larger value compared to the other (reject H0)\n"
     ]
    }
   ],
   "source": [
    "stat, p = mannwhitneyu(G0Reduced2, One, alternative = 'two-sided')\n",
    "print('Statistics=%.3f, p=%.3f' % (stat, p))\n",
    "alpha = 0.05\n",
    "if p < alpha:\n",
    "    print('A particular population tends to have larger value compared to the other (reject H0)')\n",
    "else:\n",
    "    print('Two samples come from the same population (fail to reject H0)')"
   ]
  },
  {
   "cell_type": "code",
   "execution_count": 77,
   "metadata": {},
   "outputs": [
    {
     "name": "stdout",
     "output_type": "stream",
     "text": [
      "Statistics=12205.000, p=0.000\n",
      "A particular population tends to have larger value compared to the other (reject H0)\n"
     ]
    }
   ],
   "source": [
    "stat, p = mannwhitneyu(G0Reduced2, Two, alternative = 'two-sided')\n",
    "print('Statistics=%.3f, p=%.3f' % (stat, p))\n",
    "alpha = 0.05\n",
    "if p < alpha:\n",
    "    print('A particular population tends to have larger value compared to the other (reject H0)')\n",
    "else:\n",
    "    print('Two samples come from the same population (fail to reject H0)')"
   ]
  },
  {
   "cell_type": "code",
   "execution_count": 78,
   "metadata": {},
   "outputs": [
    {
     "name": "stdout",
     "output_type": "stream",
     "text": [
      "Statistics=5883.000, p=0.000\n",
      "A particular population tends to have larger value compared to the other (reject H0)\n"
     ]
    }
   ],
   "source": [
    "stat, p = mannwhitneyu(G0Reduced2, Four, alternative = 'two-sided')\n",
    "print('Statistics=%.3f, p=%.3f' % (stat, p))\n",
    "alpha = 0.05\n",
    "if p < alpha:\n",
    "    print('A particular population tends to have larger value compared to the other (reject H0)')\n",
    "else:\n",
    "    print('Two samples come from the same population (fail to reject H0)')"
   ]
  },
  {
   "cell_type": "code",
   "execution_count": 79,
   "metadata": {},
   "outputs": [
    {
     "name": "stdout",
     "output_type": "stream",
     "text": [
      "Statistics=13122.000, p=0.000\n",
      "A particular population tends to have larger value compared to the other (reject H0)\n"
     ]
    }
   ],
   "source": [
    "stat, p = mannwhitneyu(G0Reduced2, Five, alternative = 'two-sided')\n",
    "print('Statistics=%.3f, p=%.3f' % (stat, p))\n",
    "alpha = 0.05\n",
    "if p < alpha:\n",
    "    print('A particular population tends to have larger value compared to the other (reject H0)')\n",
    "else:\n",
    "    print('Two samples come from the same population (fail to reject H0)')"
   ]
  },
  {
   "cell_type": "markdown",
   "metadata": {},
   "source": [
    "## Mann-Whitney U (Comparing All to G1)"
   ]
  },
  {
   "cell_type": "code",
   "execution_count": 80,
   "metadata": {},
   "outputs": [
    {
     "name": "stdout",
     "output_type": "stream",
     "text": [
      "Statistics=2392.000, p=0.555\n",
      "Two samples come from the same population (fail to reject H0)\n"
     ]
    }
   ],
   "source": [
    "stat, p = mannwhitneyu(G1Reduced2, G0Reduced2, alternative = 'two-sided')\n",
    "print('Statistics=%.3f, p=%.3f' % (stat, p))\n",
    "alpha = 0.05\n",
    "if p < alpha:\n",
    "    print('A particular population tends to have larger value compared to the other (reject H0)')\n",
    "else:\n",
    "    print('Two samples come from the same population (fail to reject H0)')"
   ]
  },
  {
   "cell_type": "code",
   "execution_count": 81,
   "metadata": {},
   "outputs": [
    {
     "name": "stdout",
     "output_type": "stream",
     "text": [
      "Statistics=1152.000, p=0.997\n",
      "Two samples come from the same population (fail to reject H0)\n"
     ]
    }
   ],
   "source": [
    "stat, p = mannwhitneyu(G1Reduced2, G1Reduced2, alternative = 'two-sided')\n",
    "print('Statistics=%.3f, p=%.3f' % (stat, p))\n",
    "alpha = 0.05\n",
    "if p < alpha:\n",
    "    print('A particular population tends to have larger value compared to the other (reject H0)')\n",
    "else:\n",
    "    print('Two samples come from the same population (fail to reject H0)')"
   ]
  },
  {
   "cell_type": "code",
   "execution_count": 82,
   "metadata": {},
   "outputs": [
    {
     "name": "stdout",
     "output_type": "stream",
     "text": [
      "Statistics=7037.000, p=0.000\n",
      "A particular population tends to have larger value compared to the other (reject H0)\n"
     ]
    }
   ],
   "source": [
    "stat, p = mannwhitneyu(G1Reduced2, G2Reduced2, alternative = 'two-sided')\n",
    "print('Statistics=%.3f, p=%.3f' % (stat, p))\n",
    "alpha = 0.05\n",
    "if p < alpha:\n",
    "    print('A particular population tends to have larger value compared to the other (reject H0)')\n",
    "else:\n",
    "    print('Two samples come from the same population (fail to reject H0)')"
   ]
  },
  {
   "cell_type": "code",
   "execution_count": 83,
   "metadata": {},
   "outputs": [
    {
     "name": "stdout",
     "output_type": "stream",
     "text": [
      "Statistics=3565.000, p=0.000\n",
      "A particular population tends to have larger value compared to the other (reject H0)\n"
     ]
    }
   ],
   "source": [
    "stat, p = mannwhitneyu(G1Reduced2, G3Reduced2, alternative = 'two-sided')\n",
    "print('Statistics=%.3f, p=%.3f' % (stat, p))\n",
    "alpha = 0.05\n",
    "if p < alpha:\n",
    "    print('A particular population tends to have larger value compared to the other (reject H0)')\n",
    "else:\n",
    "    print('Two samples come from the same population (fail to reject H0)')"
   ]
  },
  {
   "cell_type": "code",
   "execution_count": 84,
   "metadata": {},
   "outputs": [
    {
     "name": "stdout",
     "output_type": "stream",
     "text": [
      "Statistics=8378.000, p=0.000\n",
      "A particular population tends to have larger value compared to the other (reject H0)\n"
     ]
    }
   ],
   "source": [
    "stat, p = mannwhitneyu(G1Reduced2, G4Reduced2, alternative = 'two-sided')\n",
    "print('Statistics=%.3f, p=%.3f' % (stat, p))\n",
    "alpha = 0.05\n",
    "if p < alpha:\n",
    "    print('A particular population tends to have larger value compared to the other (reject H0)')\n",
    "else:\n",
    "    print('Two samples come from the same population (fail to reject H0)')"
   ]
  },
  {
   "cell_type": "code",
   "execution_count": 85,
   "metadata": {},
   "outputs": [
    {
     "name": "stdout",
     "output_type": "stream",
     "text": [
      "Statistics=1666.000, p=0.000\n",
      "A particular population tends to have larger value compared to the other (reject H0)\n"
     ]
    }
   ],
   "source": [
    "stat, p = mannwhitneyu(G1Reduced2, One, alternative = 'two-sided')\n",
    "print('Statistics=%.3f, p=%.3f' % (stat, p))\n",
    "alpha = 0.05\n",
    "if p < alpha:\n",
    "    print('A particular population tends to have larger value compared to the other (reject H0)')\n",
    "else:\n",
    "    print('Two samples come from the same population (fail to reject H0)')"
   ]
  },
  {
   "cell_type": "code",
   "execution_count": 86,
   "metadata": {},
   "outputs": [
    {
     "name": "stdout",
     "output_type": "stream",
     "text": [
      "Statistics=5371.000, p=0.000\n",
      "A particular population tends to have larger value compared to the other (reject H0)\n"
     ]
    }
   ],
   "source": [
    "stat, p = mannwhitneyu(G1Reduced2, Two, alternative = 'two-sided')\n",
    "print('Statistics=%.3f, p=%.3f' % (stat, p))\n",
    "alpha = 0.05\n",
    "if p < alpha:\n",
    "    print('A particular population tends to have larger value compared to the other (reject H0)')\n",
    "else:\n",
    "    print('Two samples come from the same population (fail to reject H0)')"
   ]
  },
  {
   "cell_type": "code",
   "execution_count": 87,
   "metadata": {},
   "outputs": [
    {
     "name": "stdout",
     "output_type": "stream",
     "text": [
      "Statistics=2587.000, p=0.000\n",
      "A particular population tends to have larger value compared to the other (reject H0)\n"
     ]
    }
   ],
   "source": [
    "stat, p = mannwhitneyu(G1Reduced2, Four, alternative = 'two-sided')\n",
    "print('Statistics=%.3f, p=%.3f' % (stat, p))\n",
    "alpha = 0.05\n",
    "if p < alpha:\n",
    "    print('A particular population tends to have larger value compared to the other (reject H0)')\n",
    "else:\n",
    "    print('Two samples come from the same population (fail to reject H0)')"
   ]
  },
  {
   "cell_type": "code",
   "execution_count": 88,
   "metadata": {},
   "outputs": [
    {
     "name": "stdout",
     "output_type": "stream",
     "text": [
      "Statistics=5791.000, p=0.000\n",
      "A particular population tends to have larger value compared to the other (reject H0)\n"
     ]
    }
   ],
   "source": [
    "stat, p = mannwhitneyu(G1Reduced2, Five, alternative = 'two-sided')\n",
    "print('Statistics=%.3f, p=%.3f' % (stat, p))\n",
    "alpha = 0.05\n",
    "if p < alpha:\n",
    "    print('A particular population tends to have larger value compared to the other (reject H0)')\n",
    "else:\n",
    "    print('Two samples come from the same population (fail to reject H0)')"
   ]
  },
  {
   "cell_type": "markdown",
   "metadata": {},
   "source": [
    "## Mann-Whitney U (Comparing All to G3)"
   ]
  },
  {
   "cell_type": "code",
   "execution_count": 89,
   "metadata": {},
   "outputs": [
    {
     "name": "stdout",
     "output_type": "stream",
     "text": [
      "Statistics=287.000, p=0.000\n",
      "A particular population tends to have larger value compared to the other (reject H0)\n"
     ]
    }
   ],
   "source": [
    "stat, p = mannwhitneyu(G3Reduced2, G0Reduced2, alternative = 'two-sided')\n",
    "print('Statistics=%.3f, p=%.3f' % (stat, p))\n",
    "alpha = 0.05\n",
    "if p < alpha:\n",
    "    print('A particular population tends to have larger value compared to the other (reject H0)')\n",
    "else:\n",
    "    print('Two samples come from the same population (fail to reject H0)')"
   ]
  },
  {
   "cell_type": "code",
   "execution_count": 90,
   "metadata": {},
   "outputs": [
    {
     "name": "stdout",
     "output_type": "stream",
     "text": [
      "Statistics=227.000, p=0.000\n",
      "A particular population tends to have larger value compared to the other (reject H0)\n"
     ]
    }
   ],
   "source": [
    "stat, p = mannwhitneyu(G3Reduced2, G1Reduced2, alternative = 'two-sided')\n",
    "print('Statistics=%.3f, p=%.3f' % (stat, p))\n",
    "alpha = 0.05\n",
    "if p < alpha:\n",
    "    print('A particular population tends to have larger value compared to the other (reject H0)')\n",
    "else:\n",
    "    print('Two samples come from the same population (fail to reject H0)')"
   ]
  },
  {
   "cell_type": "code",
   "execution_count": 91,
   "metadata": {},
   "outputs": [
    {
     "name": "stdout",
     "output_type": "stream",
     "text": [
      "Statistics=5466.000, p=0.090\n",
      "Two samples come from the same population (fail to reject H0)\n"
     ]
    }
   ],
   "source": [
    "stat, p = mannwhitneyu(G3Reduced2, G2Reduced2, alternative = 'two-sided')\n",
    "print('Statistics=%.3f, p=%.3f' % (stat, p))\n",
    "alpha = 0.05\n",
    "if p < alpha:\n",
    "    print('A particular population tends to have larger value compared to the other (reject H0)')\n",
    "else:\n",
    "    print('Two samples come from the same population (fail to reject H0)')"
   ]
  },
  {
   "cell_type": "code",
   "execution_count": 92,
   "metadata": {},
   "outputs": [
    {
     "name": "stdout",
     "output_type": "stream",
     "text": [
      "Statistics=3120.500, p=0.999\n",
      "Two samples come from the same population (fail to reject H0)\n"
     ]
    }
   ],
   "source": [
    "stat, p = mannwhitneyu(G3Reduced2, G3Reduced2, alternative = 'two-sided')\n",
    "print('Statistics=%.3f, p=%.3f' % (stat, p))\n",
    "alpha = 0.05\n",
    "if p < alpha:\n",
    "    print('A particular population tends to have larger value compared to the other (reject H0)')\n",
    "else:\n",
    "    print('Two samples come from the same population (fail to reject H0)')"
   ]
  },
  {
   "cell_type": "code",
   "execution_count": 93,
   "metadata": {},
   "outputs": [
    {
     "name": "stdout",
     "output_type": "stream",
     "text": [
      "Statistics=8333.000, p=0.099\n",
      "Two samples come from the same population (fail to reject H0)\n"
     ]
    }
   ],
   "source": [
    "stat, p = mannwhitneyu(G3Reduced2, G4Reduced2, alternative = 'two-sided')\n",
    "print('Statistics=%.3f, p=%.3f' % (stat, p))\n",
    "alpha = 0.05\n",
    "if p < alpha:\n",
    "    print('A particular population tends to have larger value compared to the other (reject H0)')\n",
    "else:\n",
    "    print('Two samples come from the same population (fail to reject H0)')"
   ]
  },
  {
   "cell_type": "code",
   "execution_count": 94,
   "metadata": {},
   "outputs": [
    {
     "name": "stdout",
     "output_type": "stream",
     "text": [
      "Statistics=1352.000, p=0.387\n",
      "Two samples come from the same population (fail to reject H0)\n"
     ]
    }
   ],
   "source": [
    "stat, p = mannwhitneyu(G3Reduced2, One, alternative = 'two-sided')\n",
    "print('Statistics=%.3f, p=%.3f' % (stat, p))\n",
    "alpha = 0.05\n",
    "if p < alpha:\n",
    "    print('A particular population tends to have larger value compared to the other (reject H0)')\n",
    "else:\n",
    "    print('Two samples come from the same population (fail to reject H0)')"
   ]
  },
  {
   "cell_type": "code",
   "execution_count": 95,
   "metadata": {},
   "outputs": [
    {
     "name": "stdout",
     "output_type": "stream",
     "text": [
      "Statistics=4114.000, p=0.080\n",
      "Two samples come from the same population (fail to reject H0)\n"
     ]
    }
   ],
   "source": [
    "stat, p = mannwhitneyu(G3Reduced2, Two, alternative = 'two-sided')\n",
    "print('Statistics=%.3f, p=%.3f' % (stat, p))\n",
    "alpha = 0.05\n",
    "if p < alpha:\n",
    "    print('A particular population tends to have larger value compared to the other (reject H0)')\n",
    "else:\n",
    "    print('Two samples come from the same population (fail to reject H0)')"
   ]
  },
  {
   "cell_type": "code",
   "execution_count": 96,
   "metadata": {},
   "outputs": [
    {
     "name": "stdout",
     "output_type": "stream",
     "text": [
      "Statistics=2469.000, p=0.675\n",
      "Two samples come from the same population (fail to reject H0)\n"
     ]
    }
   ],
   "source": [
    "stat, p = mannwhitneyu(G3Reduced2, Four, alternative = 'two-sided')\n",
    "print('Statistics=%.3f, p=%.3f' % (stat, p))\n",
    "alpha = 0.05\n",
    "if p < alpha:\n",
    "    print('A particular population tends to have larger value compared to the other (reject H0)')\n",
    "else:\n",
    "    print('Two samples come from the same population (fail to reject H0)')"
   ]
  },
  {
   "cell_type": "code",
   "execution_count": 97,
   "metadata": {},
   "outputs": [
    {
     "name": "stdout",
     "output_type": "stream",
     "text": [
      "Statistics=5864.000, p=0.042\n",
      "A particular population tends to have larger value compared to the other (reject H0)\n"
     ]
    }
   ],
   "source": [
    "stat, p = mannwhitneyu(G3Reduced2, Five, alternative = 'two-sided')\n",
    "print('Statistics=%.3f, p=%.3f' % (stat, p))\n",
    "alpha = 0.05\n",
    "if p < alpha:\n",
    "    print('A particular population tends to have larger value compared to the other (reject H0)')\n",
    "else:\n",
    "    print('Two samples come from the same population (fail to reject H0)')"
   ]
  },
  {
   "cell_type": "markdown",
   "metadata": {},
   "source": [
    "# Comparing all to G2"
   ]
  },
  {
   "cell_type": "code",
   "execution_count": 98,
   "metadata": {},
   "outputs": [
    {
     "name": "stdout",
     "output_type": "stream",
     "text": [
      "Statistics=12800.000, p=1.000\n",
      "Two samples come from the same population (fail to reject H0)\n"
     ]
    }
   ],
   "source": [
    "stat, p = mannwhitneyu(G2Reduced2, G2Reduced2, alternative = 'two-sided')\n",
    "print('Statistics=%.3f, p=%.3f' % (stat, p))\n",
    "alpha = 0.05\n",
    "if p < alpha:\n",
    "    print('A particular population tends to have larger value compared to the other (reject H0)')\n",
    "else:\n",
    "    print('Two samples come from the same population (fail to reject H0)')"
   ]
  },
  {
   "cell_type": "code",
   "execution_count": 99,
   "metadata": {},
   "outputs": [
    {
     "name": "stdout",
     "output_type": "stream",
     "text": [
      "Statistics=18724.000, p=0.000\n",
      "A particular population tends to have larger value compared to the other (reject H0)\n"
     ]
    }
   ],
   "source": [
    "stat, p = mannwhitneyu(G2Reduced2, G4Reduced2, alternative = 'two-sided')\n",
    "print('Statistics=%.3f, p=%.3f' % (stat, p))\n",
    "alpha = 0.05\n",
    "if p < alpha:\n",
    "    print('A particular population tends to have larger value compared to the other (reject H0)')\n",
    "else:\n",
    "    print('Two samples come from the same population (fail to reject H0)')"
   ]
  },
  {
   "cell_type": "code",
   "execution_count": 100,
   "metadata": {},
   "outputs": [
    {
     "name": "stdout",
     "output_type": "stream",
     "text": [
      "Statistics=3110.000, p=0.827\n",
      "Two samples come from the same population (fail to reject H0)\n"
     ]
    }
   ],
   "source": [
    "stat, p = mannwhitneyu(G2Reduced2, One, alternative = 'two-sided')\n",
    "print('Statistics=%.3f, p=%.3f' % (stat, p))\n",
    "alpha = 0.05\n",
    "if p < alpha:\n",
    "    print('A particular population tends to have larger value compared to the other (reject H0)')\n",
    "else:\n",
    "    print('Two samples come from the same population (fail to reject H0)')"
   ]
  },
  {
   "cell_type": "code",
   "execution_count": 101,
   "metadata": {},
   "outputs": [
    {
     "name": "stdout",
     "output_type": "stream",
     "text": [
      "Statistics=9690.000, p=0.918\n",
      "Two samples come from the same population (fail to reject H0)\n"
     ]
    }
   ],
   "source": [
    "stat, p = mannwhitneyu(G2Reduced2, Two, alternative = 'two-sided')\n",
    "print('Statistics=%.3f, p=%.3f' % (stat, p))\n",
    "alpha = 0.05\n",
    "if p < alpha:\n",
    "    print('A particular population tends to have larger value compared to the other (reject H0)')\n",
    "else:\n",
    "    print('Two samples come from the same population (fail to reject H0)')"
   ]
  },
  {
   "cell_type": "code",
   "execution_count": 102,
   "metadata": {},
   "outputs": [
    {
     "name": "stdout",
     "output_type": "stream",
     "text": [
      "Statistics=5620.000, p=0.051\n",
      "Two samples come from the same population (fail to reject H0)\n"
     ]
    }
   ],
   "source": [
    "stat, p = mannwhitneyu(G2Reduced2, Four, alternative = 'two-sided')\n",
    "print('Statistics=%.3f, p=%.3f' % (stat, p))\n",
    "alpha = 0.05\n",
    "if p < alpha:\n",
    "    print('A particular population tends to have larger value compared to the other (reject H0)')\n",
    "else:\n",
    "    print('Two samples come from the same population (fail to reject H0)')"
   ]
  },
  {
   "cell_type": "code",
   "execution_count": 103,
   "metadata": {},
   "outputs": [
    {
     "name": "stdout",
     "output_type": "stream",
     "text": [
      "Statistics=13104.000, p=0.000\n",
      "A particular population tends to have larger value compared to the other (reject H0)\n"
     ]
    }
   ],
   "source": [
    "stat, p = mannwhitneyu(G2Reduced2, Five, alternative = 'two-sided')\n",
    "print('Statistics=%.3f, p=%.3f' % (stat, p))\n",
    "alpha = 0.05\n",
    "if p < alpha:\n",
    "    print('A particular population tends to have larger value compared to the other (reject H0)')\n",
    "else:\n",
    "    print('Two samples come from the same population (fail to reject H0)')"
   ]
  },
  {
   "cell_type": "markdown",
   "metadata": {},
   "source": [
    "# Comparing All to G4"
   ]
  },
  {
   "cell_type": "code",
   "execution_count": 104,
   "metadata": {},
   "outputs": [
    {
     "name": "stdout",
     "output_type": "stream",
     "text": [
      "Statistics=2735.000, p=0.025\n",
      "A particular population tends to have larger value compared to the other (reject H0)\n"
     ]
    }
   ],
   "source": [
    "stat, p = mannwhitneyu(G4Reduced2, One, alternative = 'two-sided')\n",
    "print('Statistics=%.3f, p=%.3f' % (stat, p))\n",
    "alpha = 0.05\n",
    "if p < alpha:\n",
    "    print('A particular population tends to have larger value compared to the other (reject H0)')\n",
    "else:\n",
    "    print('Two samples come from the same population (fail to reject H0)')"
   ]
  },
  {
   "cell_type": "code",
   "execution_count": 105,
   "metadata": {},
   "outputs": [
    {
     "name": "stdout",
     "output_type": "stream",
     "text": [
      "Statistics=8461.000, p=0.000\n",
      "A particular population tends to have larger value compared to the other (reject H0)\n"
     ]
    }
   ],
   "source": [
    "stat, p = mannwhitneyu(G4Reduced2, Two, alternative = 'two-sided')\n",
    "print('Statistics=%.3f, p=%.3f' % (stat, p))\n",
    "alpha = 0.05\n",
    "if p < alpha:\n",
    "    print('A particular population tends to have larger value compared to the other (reject H0)')\n",
    "else:\n",
    "    print('Two samples come from the same population (fail to reject H0)')"
   ]
  },
  {
   "cell_type": "code",
   "execution_count": 106,
   "metadata": {},
   "outputs": [
    {
     "name": "stdout",
     "output_type": "stream",
     "text": [
      "Statistics=5409.000, p=0.677\n",
      "Two samples come from the same population (fail to reject H0)\n"
     ]
    }
   ],
   "source": [
    "stat, p = mannwhitneyu(G4Reduced2, Four, alternative = 'two-sided')\n",
    "print('Statistics=%.3f, p=%.3f' % (stat, p))\n",
    "alpha = 0.05\n",
    "if p < alpha:\n",
    "    print('A particular population tends to have larger value compared to the other (reject H0)')\n",
    "else:\n",
    "    print('Two samples come from the same population (fail to reject H0)')"
   ]
  },
  {
   "cell_type": "code",
   "execution_count": 107,
   "metadata": {},
   "outputs": [
    {
     "name": "stdout",
     "output_type": "stream",
     "text": [
      "Statistics=12075.500, p=0.800\n",
      "Two samples come from the same population (fail to reject H0)\n"
     ]
    }
   ],
   "source": [
    "stat, p = mannwhitneyu(G4Reduced2, Five, alternative = 'two-sided')\n",
    "print('Statistics=%.3f, p=%.3f' % (stat, p))\n",
    "alpha = 0.05\n",
    "if p < alpha:\n",
    "    print('A particular population tends to have larger value compared to the other (reject H0)')\n",
    "else:\n",
    "    print('Two samples come from the same population (fail to reject H0)')"
   ]
  },
  {
   "cell_type": "markdown",
   "metadata": {},
   "source": [
    "# Comparing all to One"
   ]
  },
  {
   "cell_type": "code",
   "execution_count": 108,
   "metadata": {},
   "outputs": [
    {
     "name": "stdout",
     "output_type": "stream",
     "text": [
      "Statistics=2248.000, p=0.780\n",
      "Two samples come from the same population (fail to reject H0)\n"
     ]
    }
   ],
   "source": [
    "stat, p = mannwhitneyu(One, Two, alternative = 'two-sided')\n",
    "print('Statistics=%.3f, p=%.3f' % (stat, p))\n",
    "alpha = 0.05\n",
    "if p < alpha:\n",
    "    print('A particular population tends to have larger value compared to the other (reject H0)')\n",
    "else:\n",
    "    print('Two samples come from the same population (fail to reject H0)')"
   ]
  },
  {
   "cell_type": "code",
   "execution_count": 109,
   "metadata": {},
   "outputs": [
    {
     "name": "stdout",
     "output_type": "stream",
     "text": [
      "Statistics=1332.000, p=0.163\n",
      "Two samples come from the same population (fail to reject H0)\n"
     ]
    }
   ],
   "source": [
    "stat, p = mannwhitneyu(One, Four, alternative = 'two-sided')\n",
    "print('Statistics=%.3f, p=%.3f' % (stat, p))\n",
    "alpha = 0.05\n",
    "if p < alpha:\n",
    "    print('A particular population tends to have larger value compared to the other (reject H0)')\n",
    "else:\n",
    "    print('Two samples come from the same population (fail to reject H0)')"
   ]
  },
  {
   "cell_type": "code",
   "execution_count": 110,
   "metadata": {},
   "outputs": [
    {
     "name": "stdout",
     "output_type": "stream",
     "text": [
      "Statistics=3039.000, p=0.015\n",
      "A particular population tends to have larger value compared to the other (reject H0)\n"
     ]
    }
   ],
   "source": [
    "stat, p = mannwhitneyu(One, Five, alternative = 'two-sided')\n",
    "print('Statistics=%.3f, p=%.3f' % (stat, p))\n",
    "alpha = 0.05\n",
    "if p < alpha:\n",
    "    print('A particular population tends to have larger value compared to the other (reject H0)')\n",
    "else:\n",
    "    print('Two samples come from the same population (fail to reject H0)')"
   ]
  },
  {
   "cell_type": "markdown",
   "metadata": {},
   "source": [
    "# Comparing all to Two"
   ]
  },
  {
   "cell_type": "code",
   "execution_count": 111,
   "metadata": {},
   "outputs": [
    {
     "name": "stdout",
     "output_type": "stream",
     "text": [
      "Statistics=4288.000, p=0.060\n",
      "Two samples come from the same population (fail to reject H0)\n"
     ]
    }
   ],
   "source": [
    "stat, p = mannwhitneyu(Two, Four, alternative = 'two-sided')\n",
    "print('Statistics=%.3f, p=%.3f' % (stat, p))\n",
    "alpha = 0.05\n",
    "if p < alpha:\n",
    "    print('A particular population tends to have larger value compared to the other (reject H0)')\n",
    "else:\n",
    "    print('Two samples come from the same population (fail to reject H0)')"
   ]
  },
  {
   "cell_type": "code",
   "execution_count": 112,
   "metadata": {},
   "outputs": [
    {
     "name": "stdout",
     "output_type": "stream",
     "text": [
      "Statistics=10065.000, p=0.000\n",
      "A particular population tends to have larger value compared to the other (reject H0)\n"
     ]
    }
   ],
   "source": [
    "stat, p = mannwhitneyu(Two, Five, alternative = 'two-sided')\n",
    "print('Statistics=%.3f, p=%.3f' % (stat, p))\n",
    "alpha = 0.05\n",
    "if p < alpha:\n",
    "    print('A particular population tends to have larger value compared to the other (reject H0)')\n",
    "else:\n",
    "    print('Two samples come from the same population (fail to reject H0)')"
   ]
  },
  {
   "cell_type": "markdown",
   "metadata": {},
   "source": [
    "# Comparing All to Four"
   ]
  },
  {
   "cell_type": "code",
   "execution_count": 113,
   "metadata": {},
   "outputs": [
    {
     "name": "stdout",
     "output_type": "stream",
     "text": [
      "Statistics=4011.000, p=0.562\n",
      "Two samples come from the same population (fail to reject H0)\n"
     ]
    }
   ],
   "source": [
    "stat, p = mannwhitneyu(Four, Five, alternative = 'two-sided')\n",
    "print('Statistics=%.3f, p=%.3f' % (stat, p))\n",
    "alpha = 0.05\n",
    "if p < alpha:\n",
    "    print('A particular population tends to have larger value compared to the other (reject H0)')\n",
    "else:\n",
    "    print('Two samples come from the same population (fail to reject H0)')"
   ]
  },
  {
   "cell_type": "markdown",
   "metadata": {},
   "source": [
    "# Miscellaneous"
   ]
  },
  {
   "cell_type": "code",
   "execution_count": 114,
   "metadata": {},
   "outputs": [
    {
     "name": "stdout",
     "output_type": "stream",
     "text": [
      "Statistics=27057.000, p=0.000\n",
      "A particular population tends to have larger value compared to the other (reject H0)\n"
     ]
    }
   ],
   "source": [
    "stat, p = mannwhitneyu(OneTwoThree, G4Reduced2, alternative = 'two-sided')\n",
    "print('Statistics=%.3f, p=%.3f' % (stat, p))\n",
    "alpha = 0.05\n",
    "if p < alpha:\n",
    "    print('A particular population tends to have larger value compared to the other (reject H0)')\n",
    "else:\n",
    "    print('Two samples come from the same population (fail to reject H0)')"
   ]
  },
  {
   "cell_type": "code",
   "execution_count": 115,
   "metadata": {},
   "outputs": [
    {
     "name": "stdout",
     "output_type": "stream",
     "text": [
      "Statistics=25898.000, p=0.000\n",
      "A particular population tends to have larger value compared to the other (reject H0)\n"
     ]
    }
   ],
   "source": [
    "stat, p = mannwhitneyu(G2Reduced2, ThreeFourFive, alternative = 'two-sided')\n",
    "print('Statistics=%.3f, p=%.3f' % (stat, p))\n",
    "alpha = 0.05\n",
    "if p < alpha:\n",
    "    print('A particular population tends to have larger value compared to the other (reject H0)')\n",
    "else:\n",
    "    print('Two samples come from the same population (fail to reject H0)')"
   ]
  },
  {
   "cell_type": "code",
   "execution_count": 116,
   "metadata": {},
   "outputs": [
    {
     "name": "stdout",
     "output_type": "stream",
     "text": [
      "Statistics=62044.000, p=0.000\n",
      "A particular population tends to have larger value compared to the other (reject H0)\n"
     ]
    }
   ],
   "source": [
    "stat, p = mannwhitneyu(Healthy, Cancerous, alternative = 'two-sided')\n",
    "print('Statistics=%.3f, p=%.3f' % (stat, p))\n",
    "alpha = 0.05\n",
    "if p < alpha:\n",
    "    print('A particular population tends to have larger value compared to the other (reject H0)')\n",
    "else:\n",
    "    print('Two samples come from the same population (fail to reject H0)')"
   ]
  },
  {
   "cell_type": "code",
   "execution_count": 117,
   "metadata": {},
   "outputs": [
    {
     "name": "stdout",
     "output_type": "stream",
     "text": [
      "Statistics=2696.000, p=0.555\n",
      "Two samples come from the same population (fail to reject H0)\n"
     ]
    }
   ],
   "source": [
    "stat, p = mannwhitneyu(G0Reduced2, G1Reduced2, alternative = 'two-sided')\n",
    "print('Statistics=%.3f, p=%.3f' % (stat, p))\n",
    "alpha = 0.05\n",
    "if p < alpha:\n",
    "    print('A particular population tends to have larger value compared to the other (reject H0)')\n",
    "else:\n",
    "    print('Two samples come from the same population (fail to reject H0)')"
   ]
  },
  {
   "cell_type": "code",
   "execution_count": 118,
   "metadata": {},
   "outputs": [
    {
     "name": "stdout",
     "output_type": "stream",
     "text": [
      "Statistics=5791.000, p=0.000\n",
      "A particular population tends to have larger value compared to the other (reject H0)\n"
     ]
    }
   ],
   "source": [
    "stat, p = mannwhitneyu(G1Reduced2, Five, alternative = 'two-sided')\n",
    "print('Statistics=%.3f, p=%.3f' % (stat, p))\n",
    "alpha = 0.05\n",
    "if p < alpha:\n",
    "    print('A particular population tends to have larger value compared to the other (reject H0)')\n",
    "else:\n",
    "    print('Two samples come from the same population (fail to reject H0)')"
   ]
  }
 ],
 "metadata": {
  "kernelspec": {
   "display_name": "Python 3",
   "language": "python",
   "name": "python3"
  },
  "language_info": {
   "codemirror_mode": {
    "name": "ipython",
    "version": 3
   },
   "file_extension": ".py",
   "mimetype": "text/x-python",
   "name": "python",
   "nbconvert_exporter": "python",
   "pygments_lexer": "ipython3",
   "version": "3.6.3"
  }
 },
 "nbformat": 4,
 "nbformat_minor": 2
}
