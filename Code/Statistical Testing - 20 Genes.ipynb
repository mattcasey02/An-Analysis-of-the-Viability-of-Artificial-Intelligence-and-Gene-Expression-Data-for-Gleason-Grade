{
 "cells": [
  {
   "cell_type": "code",
   "execution_count": 1,
   "metadata": {},
   "outputs": [],
   "source": [
    "import scipy\n",
    "import pandas as pd\n",
    "import numpy as np\n",
    "from sklearn.decomposition import PCA\n",
    "from sklearn.feature_selection import mutual_info_classif\n",
    "from sklearn.manifold import TSNE\n",
    "from numpy import mean, std\n",
    "from statsmodels.graphics.gofplots import qqplot\n",
    "from scipy.stats import shapiro, mannwhitneyu, norm, entropy\n",
    "from matplotlib import pyplot as plt\n",
    "import seaborn as sns\n",
    "from imblearn.over_sampling import SMOTE\n",
    "%matplotlib inline"
   ]
  },
  {
   "cell_type": "code",
   "execution_count": 2,
   "metadata": {},
   "outputs": [],
   "source": [
    "TCGAHealthy = pd.read_pickle('../Data/TCGAHealthy.pkl')\n",
    "Cancer = pd.read_pickle('../Data/CancerMulti.pkl')\n",
    "GTEX = pd.read_pickle('../Data/GTEX.pkl')"
   ]
  },
  {
   "cell_type": "code",
   "execution_count": 3,
   "metadata": {},
   "outputs": [],
   "source": [
    "TCGAHealthy['Target'] = 1"
   ]
  },
  {
   "cell_type": "code",
   "execution_count": 4,
   "metadata": {},
   "outputs": [
    {
     "data": {
      "text/plain": [
       "1    48\n",
       "Name: Target, dtype: int64"
      ]
     },
     "execution_count": 4,
     "metadata": {},
     "output_type": "execute_result"
    }
   ],
   "source": [
    "TCGAHealthy['Target'].value_counts()"
   ]
  },
  {
   "cell_type": "code",
   "execution_count": 5,
   "metadata": {},
   "outputs": [],
   "source": [
    "Cancer['Target'] = Cancer['Target'].apply(lambda x: 2 if (x==1) \n",
    "                                           else(3 if (x==2) \n",
    "                                                else(4 if (x==3) \n",
    "                                                     else(5 if (x==4) \n",
    "                                                          else(6 if(x==5) \n",
    "                                                               else(0 if(x==0) \n",
    "                                                                   else 7))))))"
   ]
  },
  {
   "cell_type": "code",
   "execution_count": 6,
   "metadata": {},
   "outputs": [
    {
     "data": {
      "text/plain": [
       "6    127\n",
       "3    122\n",
       "4     79\n",
       "5     60\n",
       "2     38\n",
       "Name: Target, dtype: int64"
      ]
     },
     "execution_count": 6,
     "metadata": {},
     "output_type": "execute_result"
    }
   ],
   "source": [
    "Cancer['Target'].value_counts()"
   ]
  },
  {
   "cell_type": "code",
   "execution_count": 7,
   "metadata": {},
   "outputs": [],
   "source": [
    "data = Cancer.append(GTEX.append(TCGAHealthy))\n",
    "#data = Cancer.append(GTEX)"
   ]
  },
  {
   "cell_type": "code",
   "execution_count": 8,
   "metadata": {},
   "outputs": [],
   "source": [
    "data.reset_index(drop = True, inplace = True)"
   ]
  },
  {
   "cell_type": "code",
   "execution_count": 9,
   "metadata": {},
   "outputs": [
    {
     "data": {
      "text/plain": [
       "6    127\n",
       "3    122\n",
       "0    106\n",
       "4     79\n",
       "5     60\n",
       "1     48\n",
       "2     38\n",
       "Name: Target, dtype: int64"
      ]
     },
     "execution_count": 9,
     "metadata": {},
     "output_type": "execute_result"
    }
   ],
   "source": [
    "data['Target'].value_counts()"
   ]
  },
  {
   "cell_type": "code",
   "execution_count": 10,
   "metadata": {},
   "outputs": [],
   "source": [
    "data = data.sample(frac=1).reset_index(drop=True)"
   ]
  },
  {
   "cell_type": "code",
   "execution_count": 11,
   "metadata": {},
   "outputs": [
    {
     "data": {
      "text/html": [
       "<div>\n",
       "<style>\n",
       "    .dataframe thead tr:only-child th {\n",
       "        text-align: right;\n",
       "    }\n",
       "\n",
       "    .dataframe thead th {\n",
       "        text-align: left;\n",
       "    }\n",
       "\n",
       "    .dataframe tbody tr th {\n",
       "        vertical-align: top;\n",
       "    }\n",
       "</style>\n",
       "<table border=\"1\" class=\"dataframe\">\n",
       "  <thead>\n",
       "    <tr style=\"text-align: right;\">\n",
       "      <th>GeneID</th>\n",
       "      <th>CUL5-8065</th>\n",
       "      <th>REV1-51455</th>\n",
       "      <th>ZNF428-126299</th>\n",
       "      <th>CX3CR1-1524</th>\n",
       "      <th>FAXC-84553</th>\n",
       "      <th>PKP2-5318</th>\n",
       "      <th>BNIP2-663</th>\n",
       "      <th>HOXB7-3217</th>\n",
       "      <th>GRIN3A-116443</th>\n",
       "      <th>FCRL5-83416</th>\n",
       "      <th>...</th>\n",
       "      <th>GATA6-2627</th>\n",
       "      <th>COL28A1-340267</th>\n",
       "      <th>PDK3-5165</th>\n",
       "      <th>MC1R-4157</th>\n",
       "      <th>IFT74-80173</th>\n",
       "      <th>CDK14-5218</th>\n",
       "      <th>RP11-762I7.5-0</th>\n",
       "      <th>GSR-2936</th>\n",
       "      <th>UBQLN4-56893</th>\n",
       "      <th>Target</th>\n",
       "    </tr>\n",
       "  </thead>\n",
       "  <tbody>\n",
       "    <tr>\n",
       "      <th>0</th>\n",
       "      <td>224.97</td>\n",
       "      <td>638.15</td>\n",
       "      <td>1191.69</td>\n",
       "      <td>37.32</td>\n",
       "      <td>395.18</td>\n",
       "      <td>281.09</td>\n",
       "      <td>941.27</td>\n",
       "      <td>31.45</td>\n",
       "      <td>29.27</td>\n",
       "      <td>38.67</td>\n",
       "      <td>...</td>\n",
       "      <td>54.33</td>\n",
       "      <td>108.90</td>\n",
       "      <td>172.65</td>\n",
       "      <td>94.67</td>\n",
       "      <td>371.22</td>\n",
       "      <td>387.02</td>\n",
       "      <td>6.67</td>\n",
       "      <td>1322.37</td>\n",
       "      <td>624.99</td>\n",
       "      <td>0</td>\n",
       "    </tr>\n",
       "    <tr>\n",
       "      <th>1</th>\n",
       "      <td>303.44</td>\n",
       "      <td>934.76</td>\n",
       "      <td>525.39</td>\n",
       "      <td>85.22</td>\n",
       "      <td>191.67</td>\n",
       "      <td>314.17</td>\n",
       "      <td>1111.82</td>\n",
       "      <td>62.56</td>\n",
       "      <td>36.79</td>\n",
       "      <td>7.94</td>\n",
       "      <td>...</td>\n",
       "      <td>69.52</td>\n",
       "      <td>31.45</td>\n",
       "      <td>96.68</td>\n",
       "      <td>273.37</td>\n",
       "      <td>351.14</td>\n",
       "      <td>343.89</td>\n",
       "      <td>0.00</td>\n",
       "      <td>915.51</td>\n",
       "      <td>836.53</td>\n",
       "      <td>0</td>\n",
       "    </tr>\n",
       "    <tr>\n",
       "      <th>2</th>\n",
       "      <td>193.01</td>\n",
       "      <td>476.71</td>\n",
       "      <td>1096.50</td>\n",
       "      <td>29.27</td>\n",
       "      <td>117.60</td>\n",
       "      <td>277.20</td>\n",
       "      <td>780.44</td>\n",
       "      <td>72.01</td>\n",
       "      <td>14.03</td>\n",
       "      <td>3.17</td>\n",
       "      <td>...</td>\n",
       "      <td>45.85</td>\n",
       "      <td>376.41</td>\n",
       "      <td>92.70</td>\n",
       "      <td>429.54</td>\n",
       "      <td>221.86</td>\n",
       "      <td>305.55</td>\n",
       "      <td>11.64</td>\n",
       "      <td>836.53</td>\n",
       "      <td>708.18</td>\n",
       "      <td>6</td>\n",
       "    </tr>\n",
       "    <tr>\n",
       "      <th>3</th>\n",
       "      <td>283.05</td>\n",
       "      <td>669.92</td>\n",
       "      <td>1388.16</td>\n",
       "      <td>14.56</td>\n",
       "      <td>253.23</td>\n",
       "      <td>281.09</td>\n",
       "      <td>921.88</td>\n",
       "      <td>29.27</td>\n",
       "      <td>149.12</td>\n",
       "      <td>158.79</td>\n",
       "      <td>...</td>\n",
       "      <td>107.38</td>\n",
       "      <td>45.53</td>\n",
       "      <td>158.79</td>\n",
       "      <td>214.27</td>\n",
       "      <td>307.69</td>\n",
       "      <td>157.68</td>\n",
       "      <td>4.82</td>\n",
       "      <td>1561.89</td>\n",
       "      <td>684.02</td>\n",
       "      <td>5</td>\n",
       "    </tr>\n",
       "    <tr>\n",
       "      <th>4</th>\n",
       "      <td>212.78</td>\n",
       "      <td>525.39</td>\n",
       "      <td>536.45</td>\n",
       "      <td>14.56</td>\n",
       "      <td>231.32</td>\n",
       "      <td>346.29</td>\n",
       "      <td>981.29</td>\n",
       "      <td>32.36</td>\n",
       "      <td>1.04</td>\n",
       "      <td>0.39</td>\n",
       "      <td>...</td>\n",
       "      <td>39.50</td>\n",
       "      <td>157.68</td>\n",
       "      <td>248.00</td>\n",
       "      <td>78.89</td>\n",
       "      <td>141.02</td>\n",
       "      <td>147.06</td>\n",
       "      <td>0.00</td>\n",
       "      <td>967.76</td>\n",
       "      <td>1159.07</td>\n",
       "      <td>0</td>\n",
       "    </tr>\n",
       "    <tr>\n",
       "      <th>5</th>\n",
       "      <td>323.03</td>\n",
       "      <td>638.15</td>\n",
       "      <td>1008.90</td>\n",
       "      <td>63.45</td>\n",
       "      <td>305.55</td>\n",
       "      <td>420.68</td>\n",
       "      <td>921.88</td>\n",
       "      <td>32.36</td>\n",
       "      <td>591.22</td>\n",
       "      <td>16.75</td>\n",
       "      <td>...</td>\n",
       "      <td>43.32</td>\n",
       "      <td>42.71</td>\n",
       "      <td>157.68</td>\n",
       "      <td>102.97</td>\n",
       "      <td>376.41</td>\n",
       "      <td>438.59</td>\n",
       "      <td>3.20</td>\n",
       "      <td>1268.46</td>\n",
       "      <td>802.41</td>\n",
       "      <td>4</td>\n",
       "    </tr>\n",
       "    <tr>\n",
       "      <th>6</th>\n",
       "      <td>269.60</td>\n",
       "      <td>599.49</td>\n",
       "      <td>1216.75</td>\n",
       "      <td>6.01</td>\n",
       "      <td>87.65</td>\n",
       "      <td>110.43</td>\n",
       "      <td>866.07</td>\n",
       "      <td>429.54</td>\n",
       "      <td>11.73</td>\n",
       "      <td>0.78</td>\n",
       "      <td>...</td>\n",
       "      <td>105.89</td>\n",
       "      <td>1073.91</td>\n",
       "      <td>228.13</td>\n",
       "      <td>287.01</td>\n",
       "      <td>105.15</td>\n",
       "      <td>92.70</td>\n",
       "      <td>23.08</td>\n",
       "      <td>579.04</td>\n",
       "      <td>974.50</td>\n",
       "      <td>6</td>\n",
       "    </tr>\n",
       "    <tr>\n",
       "      <th>7</th>\n",
       "      <td>191.67</td>\n",
       "      <td>435.55</td>\n",
       "      <td>1437.15</td>\n",
       "      <td>11.55</td>\n",
       "      <td>136.19</td>\n",
       "      <td>208.38</td>\n",
       "      <td>693.58</td>\n",
       "      <td>30.12</td>\n",
       "      <td>68.55</td>\n",
       "      <td>0.78</td>\n",
       "      <td>...</td>\n",
       "      <td>42.11</td>\n",
       "      <td>186.40</td>\n",
       "      <td>37.85</td>\n",
       "      <td>158.79</td>\n",
       "      <td>299.25</td>\n",
       "      <td>132.44</td>\n",
       "      <td>11.30</td>\n",
       "      <td>1135.20</td>\n",
       "      <td>693.58</td>\n",
       "      <td>6</td>\n",
       "    </tr>\n",
       "    <tr>\n",
       "      <th>8</th>\n",
       "      <td>346.29</td>\n",
       "      <td>497.00</td>\n",
       "      <td>842.36</td>\n",
       "      <td>81.14</td>\n",
       "      <td>547.75</td>\n",
       "      <td>329.84</td>\n",
       "      <td>1378.57</td>\n",
       "      <td>68.55</td>\n",
       "      <td>51.71</td>\n",
       "      <td>3.38</td>\n",
       "      <td>...</td>\n",
       "      <td>176.29</td>\n",
       "      <td>82.29</td>\n",
       "      <td>170.25</td>\n",
       "      <td>19.39</td>\n",
       "      <td>291.04</td>\n",
       "      <td>429.54</td>\n",
       "      <td>0.66</td>\n",
       "      <td>1023.00</td>\n",
       "      <td>785.88</td>\n",
       "      <td>1</td>\n",
       "    </tr>\n",
       "    <tr>\n",
       "      <th>9</th>\n",
       "      <td>229.72</td>\n",
       "      <td>353.59</td>\n",
       "      <td>1639.59</td>\n",
       "      <td>9.41</td>\n",
       "      <td>547.75</td>\n",
       "      <td>65.26</td>\n",
       "      <td>420.68</td>\n",
       "      <td>30.34</td>\n",
       "      <td>163.28</td>\n",
       "      <td>2.51</td>\n",
       "      <td>...</td>\n",
       "      <td>24.81</td>\n",
       "      <td>21.94</td>\n",
       "      <td>127.89</td>\n",
       "      <td>84.04</td>\n",
       "      <td>209.84</td>\n",
       "      <td>137.14</td>\n",
       "      <td>12.00</td>\n",
       "      <td>1159.07</td>\n",
       "      <td>616.37</td>\n",
       "      <td>6</td>\n",
       "    </tr>\n",
       "    <tr>\n",
       "      <th>10</th>\n",
       "      <td>234.57</td>\n",
       "      <td>536.45</td>\n",
       "      <td>1540.37</td>\n",
       "      <td>13.72</td>\n",
       "      <td>193.01</td>\n",
       "      <td>88.88</td>\n",
       "      <td>665.29</td>\n",
       "      <td>38.12</td>\n",
       "      <td>3.35</td>\n",
       "      <td>12.93</td>\n",
       "      <td>...</td>\n",
       "      <td>57.49</td>\n",
       "      <td>37.05</td>\n",
       "      <td>183.82</td>\n",
       "      <td>133.36</td>\n",
       "      <td>346.29</td>\n",
       "      <td>195.72</td>\n",
       "      <td>28.65</td>\n",
       "      <td>909.17</td>\n",
       "      <td>551.56</td>\n",
       "      <td>3</td>\n",
       "    </tr>\n",
       "    <tr>\n",
       "      <th>11</th>\n",
       "      <td>239.52</td>\n",
       "      <td>607.87</td>\n",
       "      <td>1617.00</td>\n",
       "      <td>28.86</td>\n",
       "      <td>208.38</td>\n",
       "      <td>152.28</td>\n",
       "      <td>808.00</td>\n",
       "      <td>43.02</td>\n",
       "      <td>4.06</td>\n",
       "      <td>3.20</td>\n",
       "      <td>...</td>\n",
       "      <td>66.65</td>\n",
       "      <td>915.51</td>\n",
       "      <td>72.01</td>\n",
       "      <td>178.77</td>\n",
       "      <td>271.48</td>\n",
       "      <td>182.55</td>\n",
       "      <td>0.00</td>\n",
       "      <td>1037.29</td>\n",
       "      <td>723.08</td>\n",
       "      <td>3</td>\n",
       "    </tr>\n",
       "    <tr>\n",
       "      <th>12</th>\n",
       "      <td>205.50</td>\n",
       "      <td>540.19</td>\n",
       "      <td>1572.76</td>\n",
       "      <td>162.14</td>\n",
       "      <td>237.86</td>\n",
       "      <td>215.77</td>\n",
       "      <td>1001.93</td>\n",
       "      <td>63.45</td>\n",
       "      <td>2.94</td>\n",
       "      <td>33.54</td>\n",
       "      <td>...</td>\n",
       "      <td>100.83</td>\n",
       "      <td>91.41</td>\n",
       "      <td>131.51</td>\n",
       "      <td>77.25</td>\n",
       "      <td>265.87</td>\n",
       "      <td>441.64</td>\n",
       "      <td>18.43</td>\n",
       "      <td>660.68</td>\n",
       "      <td>684.02</td>\n",
       "      <td>6</td>\n",
       "    </tr>\n",
       "    <tr>\n",
       "      <th>13</th>\n",
       "      <td>181.28</td>\n",
       "      <td>406.31</td>\n",
       "      <td>1870.53</td>\n",
       "      <td>24.99</td>\n",
       "      <td>450.94</td>\n",
       "      <td>205.50</td>\n",
       "      <td>954.43</td>\n",
       "      <td>79.45</td>\n",
       "      <td>2.73</td>\n",
       "      <td>3.08</td>\n",
       "      <td>...</td>\n",
       "      <td>119.26</td>\n",
       "      <td>13.62</td>\n",
       "      <td>128.79</td>\n",
       "      <td>90.14</td>\n",
       "      <td>283.05</td>\n",
       "      <td>339.14</td>\n",
       "      <td>7.69</td>\n",
       "      <td>1208.34</td>\n",
       "      <td>674.59</td>\n",
       "      <td>1</td>\n",
       "    </tr>\n",
       "    <tr>\n",
       "      <th>14</th>\n",
       "      <td>193.01</td>\n",
       "      <td>463.65</td>\n",
       "      <td>1427.22</td>\n",
       "      <td>145.02</td>\n",
       "      <td>351.14</td>\n",
       "      <td>223.41</td>\n",
       "      <td>693.58</td>\n",
       "      <td>35.00</td>\n",
       "      <td>1.53</td>\n",
       "      <td>12.74</td>\n",
       "      <td>...</td>\n",
       "      <td>277.20</td>\n",
       "      <td>19.97</td>\n",
       "      <td>96.01</td>\n",
       "      <td>19.53</td>\n",
       "      <td>289.02</td>\n",
       "      <td>309.83</td>\n",
       "      <td>0.00</td>\n",
       "      <td>1883.54</td>\n",
       "      <td>579.04</td>\n",
       "      <td>0</td>\n",
       "    </tr>\n",
       "    <tr>\n",
       "      <th>15</th>\n",
       "      <td>158.79</td>\n",
       "      <td>480.04</td>\n",
       "      <td>1096.50</td>\n",
       "      <td>21.47</td>\n",
       "      <td>275.28</td>\n",
       "      <td>348.71</td>\n",
       "      <td>769.69</td>\n",
       "      <td>15.91</td>\n",
       "      <td>105.15</td>\n",
       "      <td>2.05</td>\n",
       "      <td>...</td>\n",
       "      <td>109.66</td>\n",
       "      <td>22.75</td>\n",
       "      <td>104.42</td>\n",
       "      <td>43.02</td>\n",
       "      <td>182.55</td>\n",
       "      <td>127.00</td>\n",
       "      <td>17.38</td>\n",
       "      <td>2075.59</td>\n",
       "      <td>536.45</td>\n",
       "      <td>6</td>\n",
       "    </tr>\n",
       "    <tr>\n",
       "      <th>16</th>\n",
       "      <td>201.25</td>\n",
       "      <td>426.57</td>\n",
       "      <td>2061.24</td>\n",
       "      <td>17.90</td>\n",
       "      <td>348.71</td>\n",
       "      <td>154.42</td>\n",
       "      <td>591.22</td>\n",
       "      <td>47.84</td>\n",
       "      <td>3.76</td>\n",
       "      <td>28.65</td>\n",
       "      <td>...</td>\n",
       "      <td>88.88</td>\n",
       "      <td>358.54</td>\n",
       "      <td>65.26</td>\n",
       "      <td>96.01</td>\n",
       "      <td>293.07</td>\n",
       "      <td>175.07</td>\n",
       "      <td>10.16</td>\n",
       "      <td>674.59</td>\n",
       "      <td>748.61</td>\n",
       "      <td>2</td>\n",
       "    </tr>\n",
       "    <tr>\n",
       "      <th>17</th>\n",
       "      <td>128.79</td>\n",
       "      <td>435.55</td>\n",
       "      <td>1551.09</td>\n",
       "      <td>100.83</td>\n",
       "      <td>387.02</td>\n",
       "      <td>155.50</td>\n",
       "      <td>684.02</td>\n",
       "      <td>211.31</td>\n",
       "      <td>6.11</td>\n",
       "      <td>27.25</td>\n",
       "      <td>...</td>\n",
       "      <td>50.27</td>\n",
       "      <td>63.45</td>\n",
       "      <td>154.42</td>\n",
       "      <td>78.89</td>\n",
       "      <td>253.23</td>\n",
       "      <td>133.36</td>\n",
       "      <td>17.51</td>\n",
       "      <td>775.05</td>\n",
       "      <td>547.75</td>\n",
       "      <td>6</td>\n",
       "    </tr>\n",
       "    <tr>\n",
       "      <th>18</th>\n",
       "      <td>206.94</td>\n",
       "      <td>620.67</td>\n",
       "      <td>1447.15</td>\n",
       "      <td>89.51</td>\n",
       "      <td>115.97</td>\n",
       "      <td>202.66</td>\n",
       "      <td>708.18</td>\n",
       "      <td>31.45</td>\n",
       "      <td>6.57</td>\n",
       "      <td>0.44</td>\n",
       "      <td>...</td>\n",
       "      <td>54.33</td>\n",
       "      <td>285.03</td>\n",
       "      <td>34.75</td>\n",
       "      <td>91.41</td>\n",
       "      <td>260.38</td>\n",
       "      <td>115.16</td>\n",
       "      <td>17.77</td>\n",
       "      <td>1340.84</td>\n",
       "      <td>674.59</td>\n",
       "      <td>4</td>\n",
       "    </tr>\n",
       "    <tr>\n",
       "      <th>19</th>\n",
       "      <td>206.94</td>\n",
       "      <td>314.17</td>\n",
       "      <td>1397.83</td>\n",
       "      <td>51.71</td>\n",
       "      <td>376.41</td>\n",
       "      <td>167.90</td>\n",
       "      <td>665.29</td>\n",
       "      <td>48.18</td>\n",
       "      <td>14.45</td>\n",
       "      <td>4.10</td>\n",
       "      <td>...</td>\n",
       "      <td>157.68</td>\n",
       "      <td>8.78</td>\n",
       "      <td>100.83</td>\n",
       "      <td>45.85</td>\n",
       "      <td>320.80</td>\n",
       "      <td>283.05</td>\n",
       "      <td>10.63</td>\n",
       "      <td>1225.22</td>\n",
       "      <td>733.19</td>\n",
       "      <td>3</td>\n",
       "    </tr>\n",
       "    <tr>\n",
       "      <th>20</th>\n",
       "      <td>202.66</td>\n",
       "      <td>397.93</td>\n",
       "      <td>1457.23</td>\n",
       "      <td>20.11</td>\n",
       "      <td>163.28</td>\n",
       "      <td>125.24</td>\n",
       "      <td>583.07</td>\n",
       "      <td>19.97</td>\n",
       "      <td>81.14</td>\n",
       "      <td>0.82</td>\n",
       "      <td>...</td>\n",
       "      <td>68.55</td>\n",
       "      <td>41.52</td>\n",
       "      <td>87.03</td>\n",
       "      <td>109.66</td>\n",
       "      <td>198.47</td>\n",
       "      <td>161.02</td>\n",
       "      <td>4.03</td>\n",
       "      <td>854.13</td>\n",
       "      <td>616.37</td>\n",
       "      <td>4</td>\n",
       "    </tr>\n",
       "    <tr>\n",
       "      <th>21</th>\n",
       "      <td>223.41</td>\n",
       "      <td>395.18</td>\n",
       "      <td>1477.58</td>\n",
       "      <td>21.47</td>\n",
       "      <td>182.55</td>\n",
       "      <td>199.85</td>\n",
       "      <td>480.04</td>\n",
       "      <td>23.76</td>\n",
       "      <td>38.95</td>\n",
       "      <td>0.80</td>\n",
       "      <td>...</td>\n",
       "      <td>52.45</td>\n",
       "      <td>105.15</td>\n",
       "      <td>77.79</td>\n",
       "      <td>80.01</td>\n",
       "      <td>264.03</td>\n",
       "      <td>175.07</td>\n",
       "      <td>28.24</td>\n",
       "      <td>1183.45</td>\n",
       "      <td>612.11</td>\n",
       "      <td>4</td>\n",
       "    </tr>\n",
       "    <tr>\n",
       "      <th>22</th>\n",
       "      <td>148.09</td>\n",
       "      <td>246.28</td>\n",
       "      <td>1467.37</td>\n",
       "      <td>5.23</td>\n",
       "      <td>224.97</td>\n",
       "      <td>312.00</td>\n",
       "      <td>813.63</td>\n",
       "      <td>35.76</td>\n",
       "      <td>3.11</td>\n",
       "      <td>10.00</td>\n",
       "      <td>...</td>\n",
       "      <td>166.73</td>\n",
       "      <td>46.18</td>\n",
       "      <td>114.36</td>\n",
       "      <td>37.32</td>\n",
       "      <td>244.57</td>\n",
       "      <td>220.32</td>\n",
       "      <td>5.77</td>\n",
       "      <td>866.07</td>\n",
       "      <td>738.29</td>\n",
       "      <td>2</td>\n",
       "    </tr>\n",
       "    <tr>\n",
       "      <th>23</th>\n",
       "      <td>275.28</td>\n",
       "      <td>612.11</td>\n",
       "      <td>1427.22</td>\n",
       "      <td>62.56</td>\n",
       "      <td>273.37</td>\n",
       "      <td>231.32</td>\n",
       "      <td>753.83</td>\n",
       "      <td>30.12</td>\n",
       "      <td>24.11</td>\n",
       "      <td>4.24</td>\n",
       "      <td>...</td>\n",
       "      <td>63.89</td>\n",
       "      <td>85.22</td>\n",
       "      <td>117.60</td>\n",
       "      <td>129.69</td>\n",
       "      <td>297.17</td>\n",
       "      <td>180.02</td>\n",
       "      <td>13.83</td>\n",
       "      <td>1030.12</td>\n",
       "      <td>723.08</td>\n",
       "      <td>4</td>\n",
       "    </tr>\n",
       "    <tr>\n",
       "      <th>24</th>\n",
       "      <td>149.12</td>\n",
       "      <td>575.03</td>\n",
       "      <td>1081.39</td>\n",
       "      <td>20.41</td>\n",
       "      <td>228.13</td>\n",
       "      <td>162.14</td>\n",
       "      <td>961.07</td>\n",
       "      <td>53.95</td>\n",
       "      <td>27.25</td>\n",
       "      <td>6.31</td>\n",
       "      <td>...</td>\n",
       "      <td>55.49</td>\n",
       "      <td>63.45</td>\n",
       "      <td>215.77</td>\n",
       "      <td>96.01</td>\n",
       "      <td>303.44</td>\n",
       "      <td>139.07</td>\n",
       "      <td>2.32</td>\n",
       "      <td>1340.84</td>\n",
       "      <td>848.22</td>\n",
       "      <td>6</td>\n",
       "    </tr>\n",
       "    <tr>\n",
       "      <th>25</th>\n",
       "      <td>275.28</td>\n",
       "      <td>536.45</td>\n",
       "      <td>1051.79</td>\n",
       "      <td>73.03</td>\n",
       "      <td>358.54</td>\n",
       "      <td>429.54</td>\n",
       "      <td>1073.91</td>\n",
       "      <td>29.70</td>\n",
       "      <td>5.73</td>\n",
       "      <td>4.62</td>\n",
       "      <td>...</td>\n",
       "      <td>28.04</td>\n",
       "      <td>44.89</td>\n",
       "      <td>150.17</td>\n",
       "      <td>32.59</td>\n",
       "      <td>239.52</td>\n",
       "      <td>275.28</td>\n",
       "      <td>0.00</td>\n",
       "      <td>2163.77</td>\n",
       "      <td>651.58</td>\n",
       "      <td>0</td>\n",
       "    </tr>\n",
       "    <tr>\n",
       "      <th>26</th>\n",
       "      <td>242.88</td>\n",
       "      <td>780.44</td>\n",
       "      <td>1674.06</td>\n",
       "      <td>10.55</td>\n",
       "      <td>316.37</td>\n",
       "      <td>351.14</td>\n",
       "      <td>1023.00</td>\n",
       "      <td>13.83</td>\n",
       "      <td>14.35</td>\n",
       "      <td>6.06</td>\n",
       "      <td>...</td>\n",
       "      <td>53.19</td>\n",
       "      <td>101.54</td>\n",
       "      <td>121.79</td>\n",
       "      <td>241.19</td>\n",
       "      <td>318.57</td>\n",
       "      <td>218.79</td>\n",
       "      <td>11.13</td>\n",
       "      <td>1540.37</td>\n",
       "      <td>647.07</td>\n",
       "      <td>5</td>\n",
       "    </tr>\n",
       "    <tr>\n",
       "      <th>27</th>\n",
       "      <td>332.14</td>\n",
       "      <td>884.29</td>\n",
       "      <td>921.88</td>\n",
       "      <td>20.86</td>\n",
       "      <td>142.01</td>\n",
       "      <td>297.17</td>\n",
       "      <td>1151.06</td>\n",
       "      <td>67.12</td>\n",
       "      <td>3.32</td>\n",
       "      <td>0.00</td>\n",
       "      <td>...</td>\n",
       "      <td>102.25</td>\n",
       "      <td>52.08</td>\n",
       "      <td>52.08</td>\n",
       "      <td>117.60</td>\n",
       "      <td>251.48</td>\n",
       "      <td>82.87</td>\n",
       "      <td>7.88</td>\n",
       "      <td>1819.35</td>\n",
       "      <td>947.83</td>\n",
       "      <td>0</td>\n",
       "    </tr>\n",
       "    <tr>\n",
       "      <th>28</th>\n",
       "      <td>281.09</td>\n",
       "      <td>507.46</td>\n",
       "      <td>1167.14</td>\n",
       "      <td>31.45</td>\n",
       "      <td>285.03</td>\n",
       "      <td>470.14</td>\n",
       "      <td>769.69</td>\n",
       "      <td>117.60</td>\n",
       "      <td>4.35</td>\n",
       "      <td>3.38</td>\n",
       "      <td>...</td>\n",
       "      <td>46.50</td>\n",
       "      <td>98.73</td>\n",
       "      <td>141.02</td>\n",
       "      <td>74.58</td>\n",
       "      <td>295.11</td>\n",
       "      <td>161.02</td>\n",
       "      <td>0.00</td>\n",
       "      <td>1540.37</td>\n",
       "      <td>567.10</td>\n",
       "      <td>0</td>\n",
       "    </tr>\n",
       "    <tr>\n",
       "      <th>29</th>\n",
       "      <td>138.10</td>\n",
       "      <td>450.94</td>\n",
       "      <td>1268.46</td>\n",
       "      <td>12.93</td>\n",
       "      <td>336.79</td>\n",
       "      <td>175.07</td>\n",
       "      <td>563.18</td>\n",
       "      <td>10.63</td>\n",
       "      <td>21.94</td>\n",
       "      <td>0.00</td>\n",
       "      <td>...</td>\n",
       "      <td>161.02</td>\n",
       "      <td>90.77</td>\n",
       "      <td>69.03</td>\n",
       "      <td>49.21</td>\n",
       "      <td>318.57</td>\n",
       "      <td>167.90</td>\n",
       "      <td>9.06</td>\n",
       "      <td>1870.53</td>\n",
       "      <td>660.68</td>\n",
       "      <td>3</td>\n",
       "    </tr>\n",
       "    <tr>\n",
       "      <th>...</th>\n",
       "      <td>...</td>\n",
       "      <td>...</td>\n",
       "      <td>...</td>\n",
       "      <td>...</td>\n",
       "      <td>...</td>\n",
       "      <td>...</td>\n",
       "      <td>...</td>\n",
       "      <td>...</td>\n",
       "      <td>...</td>\n",
       "      <td>...</td>\n",
       "      <td>...</td>\n",
       "      <td>...</td>\n",
       "      <td>...</td>\n",
       "      <td>...</td>\n",
       "      <td>...</td>\n",
       "      <td>...</td>\n",
       "      <td>...</td>\n",
       "      <td>...</td>\n",
       "      <td>...</td>\n",
       "      <td>...</td>\n",
       "      <td>...</td>\n",
       "    </tr>\n",
       "    <tr>\n",
       "      <th>550</th>\n",
       "      <td>204.07</td>\n",
       "      <td>281.09</td>\n",
       "      <td>1242.34</td>\n",
       "      <td>12.83</td>\n",
       "      <td>239.52</td>\n",
       "      <td>76.71</td>\n",
       "      <td>426.57</td>\n",
       "      <td>7.17</td>\n",
       "      <td>723.08</td>\n",
       "      <td>3.63</td>\n",
       "      <td>...</td>\n",
       "      <td>85.22</td>\n",
       "      <td>30.34</td>\n",
       "      <td>60.39</td>\n",
       "      <td>37.05</td>\n",
       "      <td>206.94</td>\n",
       "      <td>242.88</td>\n",
       "      <td>6.57</td>\n",
       "      <td>728.11</td>\n",
       "      <td>665.29</td>\n",
       "      <td>4</td>\n",
       "    </tr>\n",
       "    <tr>\n",
       "      <th>551</th>\n",
       "      <td>215.77</td>\n",
       "      <td>551.56</td>\n",
       "      <td>1233.75</td>\n",
       "      <td>14.14</td>\n",
       "      <td>624.99</td>\n",
       "      <td>169.07</td>\n",
       "      <td>529.06</td>\n",
       "      <td>66.18</td>\n",
       "      <td>16.15</td>\n",
       "      <td>67.59</td>\n",
       "      <td>...</td>\n",
       "      <td>58.71</td>\n",
       "      <td>38.95</td>\n",
       "      <td>187.71</td>\n",
       "      <td>82.29</td>\n",
       "      <td>307.69</td>\n",
       "      <td>142.01</td>\n",
       "      <td>4.66</td>\n",
       "      <td>1977.24</td>\n",
       "      <td>1529.73</td>\n",
       "      <td>6</td>\n",
       "    </tr>\n",
       "    <tr>\n",
       "      <th>552</th>\n",
       "      <td>187.71</td>\n",
       "      <td>414.87</td>\n",
       "      <td>1127.35</td>\n",
       "      <td>14.56</td>\n",
       "      <td>316.37</td>\n",
       "      <td>175.07</td>\n",
       "      <td>748.61</td>\n",
       "      <td>74.06</td>\n",
       "      <td>2.56</td>\n",
       "      <td>0.51</td>\n",
       "      <td>...</td>\n",
       "      <td>217.27</td>\n",
       "      <td>59.97</td>\n",
       "      <td>81.71</td>\n",
       "      <td>46.84</td>\n",
       "      <td>269.60</td>\n",
       "      <td>239.52</td>\n",
       "      <td>4.66</td>\n",
       "      <td>1159.07</td>\n",
       "      <td>571.05</td>\n",
       "      <td>6</td>\n",
       "    </tr>\n",
       "    <tr>\n",
       "      <th>553</th>\n",
       "      <td>312.00</td>\n",
       "      <td>616.37</td>\n",
       "      <td>1037.29</td>\n",
       "      <td>65.26</td>\n",
       "      <td>147.06</td>\n",
       "      <td>285.03</td>\n",
       "      <td>612.11</td>\n",
       "      <td>83.45</td>\n",
       "      <td>13.22</td>\n",
       "      <td>5.32</td>\n",
       "      <td>...</td>\n",
       "      <td>37.32</td>\n",
       "      <td>14.24</td>\n",
       "      <td>95.34</td>\n",
       "      <td>111.99</td>\n",
       "      <td>361.04</td>\n",
       "      <td>164.42</td>\n",
       "      <td>12.93</td>\n",
       "      <td>1572.76</td>\n",
       "      <td>836.53</td>\n",
       "      <td>5</td>\n",
       "    </tr>\n",
       "    <tr>\n",
       "      <th>554</th>\n",
       "      <td>361.04</td>\n",
       "      <td>507.46</td>\n",
       "      <td>693.58</td>\n",
       "      <td>60.82</td>\n",
       "      <td>384.34</td>\n",
       "      <td>303.44</td>\n",
       "      <td>1151.06</td>\n",
       "      <td>41.81</td>\n",
       "      <td>2.73</td>\n",
       "      <td>6.94</td>\n",
       "      <td>...</td>\n",
       "      <td>283.05</td>\n",
       "      <td>28.45</td>\n",
       "      <td>80.01</td>\n",
       "      <td>21.94</td>\n",
       "      <td>180.02</td>\n",
       "      <td>339.14</td>\n",
       "      <td>10.63</td>\n",
       "      <td>738.29</td>\n",
       "      <td>435.55</td>\n",
       "      <td>6</td>\n",
       "    </tr>\n",
       "    <tr>\n",
       "      <th>555</th>\n",
       "      <td>185.11</td>\n",
       "      <td>525.39</td>\n",
       "      <td>1191.69</td>\n",
       "      <td>130.60</td>\n",
       "      <td>253.23</td>\n",
       "      <td>285.03</td>\n",
       "      <td>620.67</td>\n",
       "      <td>87.03</td>\n",
       "      <td>45.53</td>\n",
       "      <td>5.06</td>\n",
       "      <td>...</td>\n",
       "      <td>99.43</td>\n",
       "      <td>10.16</td>\n",
       "      <td>81.71</td>\n",
       "      <td>96.68</td>\n",
       "      <td>214.27</td>\n",
       "      <td>176.29</td>\n",
       "      <td>25.72</td>\n",
       "      <td>1001.93</td>\n",
       "      <td>890.44</td>\n",
       "      <td>0</td>\n",
       "    </tr>\n",
       "    <tr>\n",
       "      <th>556</th>\n",
       "      <td>232.94</td>\n",
       "      <td>708.18</td>\n",
       "      <td>1457.23</td>\n",
       "      <td>41.22</td>\n",
       "      <td>299.25</td>\n",
       "      <td>291.04</td>\n",
       "      <td>954.43</td>\n",
       "      <td>37.05</td>\n",
       "      <td>73.03</td>\n",
       "      <td>2.03</td>\n",
       "      <td>...</td>\n",
       "      <td>56.28</td>\n",
       "      <td>105.89</td>\n",
       "      <td>96.01</td>\n",
       "      <td>122.64</td>\n",
       "      <td>242.88</td>\n",
       "      <td>214.27</td>\n",
       "      <td>19.39</td>\n",
       "      <td>1519.15</td>\n",
       "      <td>733.19</td>\n",
       "      <td>5</td>\n",
       "    </tr>\n",
       "    <tr>\n",
       "      <th>557</th>\n",
       "      <td>379.04</td>\n",
       "      <td>536.45</td>\n",
       "      <td>1250.98</td>\n",
       "      <td>43.63</td>\n",
       "      <td>197.09</td>\n",
       "      <td>309.83</td>\n",
       "      <td>785.88</td>\n",
       "      <td>47.17</td>\n",
       "      <td>72.52</td>\n",
       "      <td>5.36</td>\n",
       "      <td>...</td>\n",
       "      <td>62.12</td>\n",
       "      <td>158.79</td>\n",
       "      <td>134.30</td>\n",
       "      <td>40.64</td>\n",
       "      <td>189.02</td>\n",
       "      <td>223.41</td>\n",
       "      <td>8.25</td>\n",
       "      <td>1250.98</td>\n",
       "      <td>679.29</td>\n",
       "      <td>4</td>\n",
       "    </tr>\n",
       "    <tr>\n",
       "      <th>558</th>\n",
       "      <td>289.02</td>\n",
       "      <td>620.67</td>\n",
       "      <td>1268.46</td>\n",
       "      <td>47.84</td>\n",
       "      <td>220.32</td>\n",
       "      <td>395.18</td>\n",
       "      <td>1277.29</td>\n",
       "      <td>154.42</td>\n",
       "      <td>12.18</td>\n",
       "      <td>11.04</td>\n",
       "      <td>...</td>\n",
       "      <td>27.25</td>\n",
       "      <td>57.89</td>\n",
       "      <td>186.40</td>\n",
       "      <td>108.90</td>\n",
       "      <td>241.19</td>\n",
       "      <td>182.55</td>\n",
       "      <td>0.00</td>\n",
       "      <td>2935.74</td>\n",
       "      <td>698.41</td>\n",
       "      <td>0</td>\n",
       "    </tr>\n",
       "    <tr>\n",
       "      <th>559</th>\n",
       "      <td>218.79</td>\n",
       "      <td>607.87</td>\n",
       "      <td>954.43</td>\n",
       "      <td>14.24</td>\n",
       "      <td>262.20</td>\n",
       "      <td>358.54</td>\n",
       "      <td>860.08</td>\n",
       "      <td>11.82</td>\n",
       "      <td>28.04</td>\n",
       "      <td>0.00</td>\n",
       "      <td>...</td>\n",
       "      <td>26.67</td>\n",
       "      <td>113.56</td>\n",
       "      <td>72.01</td>\n",
       "      <td>133.36</td>\n",
       "      <td>199.85</td>\n",
       "      <td>171.45</td>\n",
       "      <td>0.78</td>\n",
       "      <td>1119.56</td>\n",
       "      <td>642.59</td>\n",
       "      <td>3</td>\n",
       "    </tr>\n",
       "    <tr>\n",
       "      <th>560</th>\n",
       "      <td>197.09</td>\n",
       "      <td>547.75</td>\n",
       "      <td>1051.79</td>\n",
       "      <td>52.45</td>\n",
       "      <td>224.97</td>\n",
       "      <td>150.17</td>\n",
       "      <td>379.04</td>\n",
       "      <td>19.25</td>\n",
       "      <td>3.92</td>\n",
       "      <td>3.47</td>\n",
       "      <td>...</td>\n",
       "      <td>44.57</td>\n",
       "      <td>112.77</td>\n",
       "      <td>30.78</td>\n",
       "      <td>77.79</td>\n",
       "      <td>271.48</td>\n",
       "      <td>121.79</td>\n",
       "      <td>17.90</td>\n",
       "      <td>1685.71</td>\n",
       "      <td>836.53</td>\n",
       "      <td>3</td>\n",
       "    </tr>\n",
       "    <tr>\n",
       "      <th>561</th>\n",
       "      <td>217.27</td>\n",
       "      <td>381.68</td>\n",
       "      <td>1350.18</td>\n",
       "      <td>48.52</td>\n",
       "      <td>329.84</td>\n",
       "      <td>258.57</td>\n",
       "      <td>802.41</td>\n",
       "      <td>115.16</td>\n",
       "      <td>5.63</td>\n",
       "      <td>2.86</td>\n",
       "      <td>...</td>\n",
       "      <td>31.90</td>\n",
       "      <td>19.39</td>\n",
       "      <td>120.94</td>\n",
       "      <td>40.93</td>\n",
       "      <td>226.54</td>\n",
       "      <td>206.94</td>\n",
       "      <td>13.12</td>\n",
       "      <td>2319.15</td>\n",
       "      <td>616.37</td>\n",
       "      <td>0</td>\n",
       "    </tr>\n",
       "    <tr>\n",
       "      <th>562</th>\n",
       "      <td>358.54</td>\n",
       "      <td>612.11</td>\n",
       "      <td>759.08</td>\n",
       "      <td>169.07</td>\n",
       "      <td>318.57</td>\n",
       "      <td>371.22</td>\n",
       "      <td>915.51</td>\n",
       "      <td>21.01</td>\n",
       "      <td>8.06</td>\n",
       "      <td>16.03</td>\n",
       "      <td>...</td>\n",
       "      <td>84.04</td>\n",
       "      <td>66.18</td>\n",
       "      <td>169.07</td>\n",
       "      <td>36.27</td>\n",
       "      <td>325.29</td>\n",
       "      <td>332.14</td>\n",
       "      <td>3.47</td>\n",
       "      <td>2319.15</td>\n",
       "      <td>612.11</td>\n",
       "      <td>3</td>\n",
       "    </tr>\n",
       "    <tr>\n",
       "      <th>563</th>\n",
       "      <td>269.60</td>\n",
       "      <td>764.36</td>\n",
       "      <td>785.88</td>\n",
       "      <td>87.03</td>\n",
       "      <td>287.01</td>\n",
       "      <td>555.41</td>\n",
       "      <td>1331.57</td>\n",
       "      <td>42.41</td>\n",
       "      <td>16.15</td>\n",
       "      <td>11.73</td>\n",
       "      <td>...</td>\n",
       "      <td>183.82</td>\n",
       "      <td>88.88</td>\n",
       "      <td>149.12</td>\n",
       "      <td>105.89</td>\n",
       "      <td>297.17</td>\n",
       "      <td>218.79</td>\n",
       "      <td>10.96</td>\n",
       "      <td>1540.37</td>\n",
       "      <td>728.11</td>\n",
       "      <td>1</td>\n",
       "    </tr>\n",
       "    <tr>\n",
       "      <th>564</th>\n",
       "      <td>316.37</td>\n",
       "      <td>529.06</td>\n",
       "      <td>1304.15</td>\n",
       "      <td>39.50</td>\n",
       "      <td>438.59</td>\n",
       "      <td>406.31</td>\n",
       "      <td>1023.00</td>\n",
       "      <td>97.36</td>\n",
       "      <td>57.08</td>\n",
       "      <td>22.75</td>\n",
       "      <td>...</td>\n",
       "      <td>34.26</td>\n",
       "      <td>40.93</td>\n",
       "      <td>151.22</td>\n",
       "      <td>25.54</td>\n",
       "      <td>301.33</td>\n",
       "      <td>511.00</td>\n",
       "      <td>0.00</td>\n",
       "      <td>1745.20</td>\n",
       "      <td>521.76</td>\n",
       "      <td>0</td>\n",
       "    </tr>\n",
       "    <tr>\n",
       "      <th>565</th>\n",
       "      <td>269.60</td>\n",
       "      <td>384.34</td>\n",
       "      <td>1088.92</td>\n",
       "      <td>19.11</td>\n",
       "      <td>108.90</td>\n",
       "      <td>80.57</td>\n",
       "      <td>743.43</td>\n",
       "      <td>44.57</td>\n",
       "      <td>132.44</td>\n",
       "      <td>9.06</td>\n",
       "      <td>...</td>\n",
       "      <td>39.79</td>\n",
       "      <td>212.78</td>\n",
       "      <td>111.99</td>\n",
       "      <td>264.03</td>\n",
       "      <td>323.03</td>\n",
       "      <td>255.00</td>\n",
       "      <td>14.45</td>\n",
       "      <td>1508.65</td>\n",
       "      <td>866.07</td>\n",
       "      <td>6</td>\n",
       "    </tr>\n",
       "    <tr>\n",
       "      <th>566</th>\n",
       "      <td>366.09</td>\n",
       "      <td>529.06</td>\n",
       "      <td>780.44</td>\n",
       "      <td>118.43</td>\n",
       "      <td>295.11</td>\n",
       "      <td>343.89</td>\n",
       "      <td>1073.91</td>\n",
       "      <td>54.72</td>\n",
       "      <td>85.82</td>\n",
       "      <td>14.45</td>\n",
       "      <td>...</td>\n",
       "      <td>89.51</td>\n",
       "      <td>46.84</td>\n",
       "      <td>198.47</td>\n",
       "      <td>26.67</td>\n",
       "      <td>265.87</td>\n",
       "      <td>395.18</td>\n",
       "      <td>0.00</td>\n",
       "      <td>1806.78</td>\n",
       "      <td>723.08</td>\n",
       "      <td>4</td>\n",
       "    </tr>\n",
       "    <tr>\n",
       "      <th>567</th>\n",
       "      <td>265.87</td>\n",
       "      <td>698.41</td>\n",
       "      <td>1151.06</td>\n",
       "      <td>51.35</td>\n",
       "      <td>358.54</td>\n",
       "      <td>220.32</td>\n",
       "      <td>769.69</td>\n",
       "      <td>12.09</td>\n",
       "      <td>6.36</td>\n",
       "      <td>0.84</td>\n",
       "      <td>...</td>\n",
       "      <td>78.89</td>\n",
       "      <td>73.03</td>\n",
       "      <td>111.21</td>\n",
       "      <td>46.18</td>\n",
       "      <td>120.94</td>\n",
       "      <td>255.00</td>\n",
       "      <td>9.27</td>\n",
       "      <td>1388.16</td>\n",
       "      <td>693.58</td>\n",
       "      <td>1</td>\n",
       "    </tr>\n",
       "    <tr>\n",
       "      <th>568</th>\n",
       "      <td>387.02</td>\n",
       "      <td>423.61</td>\n",
       "      <td>954.43</td>\n",
       "      <td>28.45</td>\n",
       "      <td>463.65</td>\n",
       "      <td>525.39</td>\n",
       "      <td>1359.57</td>\n",
       "      <td>92.05</td>\n",
       "      <td>47.50</td>\n",
       "      <td>24.81</td>\n",
       "      <td>...</td>\n",
       "      <td>54.72</td>\n",
       "      <td>112.77</td>\n",
       "      <td>249.73</td>\n",
       "      <td>26.47</td>\n",
       "      <td>403.50</td>\n",
       "      <td>412.00</td>\n",
       "      <td>0.00</td>\n",
       "      <td>2434.50</td>\n",
       "      <td>543.96</td>\n",
       "      <td>0</td>\n",
       "    </tr>\n",
       "    <tr>\n",
       "      <th>569</th>\n",
       "      <td>297.17</td>\n",
       "      <td>624.99</td>\n",
       "      <td>961.07</td>\n",
       "      <td>8.25</td>\n",
       "      <td>260.38</td>\n",
       "      <td>271.48</td>\n",
       "      <td>988.12</td>\n",
       "      <td>28.45</td>\n",
       "      <td>4.86</td>\n",
       "      <td>0.00</td>\n",
       "      <td>...</td>\n",
       "      <td>275.28</td>\n",
       "      <td>0.99</td>\n",
       "      <td>163.28</td>\n",
       "      <td>71.00</td>\n",
       "      <td>332.14</td>\n",
       "      <td>206.94</td>\n",
       "      <td>6.31</td>\n",
       "      <td>1191.69</td>\n",
       "      <td>403.50</td>\n",
       "      <td>0</td>\n",
       "    </tr>\n",
       "    <tr>\n",
       "      <th>570</th>\n",
       "      <td>228.13</td>\n",
       "      <td>392.44</td>\n",
       "      <td>1769.57</td>\n",
       "      <td>88.88</td>\n",
       "      <td>267.73</td>\n",
       "      <td>193.01</td>\n",
       "      <td>591.22</td>\n",
       "      <td>89.51</td>\n",
       "      <td>1.97</td>\n",
       "      <td>22.10</td>\n",
       "      <td>...</td>\n",
       "      <td>70.01</td>\n",
       "      <td>105.89</td>\n",
       "      <td>58.30</td>\n",
       "      <td>37.85</td>\n",
       "      <td>275.28</td>\n",
       "      <td>195.72</td>\n",
       "      <td>28.65</td>\n",
       "      <td>1674.06</td>\n",
       "      <td>860.08</td>\n",
       "      <td>0</td>\n",
       "    </tr>\n",
       "    <tr>\n",
       "      <th>571</th>\n",
       "      <td>193.01</td>\n",
       "      <td>532.74</td>\n",
       "      <td>1447.15</td>\n",
       "      <td>8.38</td>\n",
       "      <td>356.05</td>\n",
       "      <td>246.28</td>\n",
       "      <td>665.29</td>\n",
       "      <td>7.28</td>\n",
       "      <td>4.13</td>\n",
       "      <td>2.46</td>\n",
       "      <td>...</td>\n",
       "      <td>45.53</td>\n",
       "      <td>132.44</td>\n",
       "      <td>80.57</td>\n",
       "      <td>84.04</td>\n",
       "      <td>287.01</td>\n",
       "      <td>161.02</td>\n",
       "      <td>36.53</td>\n",
       "      <td>1151.06</td>\n",
       "      <td>607.87</td>\n",
       "      <td>4</td>\n",
       "    </tr>\n",
       "    <tr>\n",
       "      <th>572</th>\n",
       "      <td>197.09</td>\n",
       "      <td>928.30</td>\n",
       "      <td>753.83</td>\n",
       "      <td>22.43</td>\n",
       "      <td>215.77</td>\n",
       "      <td>323.03</td>\n",
       "      <td>669.92</td>\n",
       "      <td>20.41</td>\n",
       "      <td>121.79</td>\n",
       "      <td>4.10</td>\n",
       "      <td>...</td>\n",
       "      <td>47.17</td>\n",
       "      <td>175.07</td>\n",
       "      <td>55.10</td>\n",
       "      <td>58.71</td>\n",
       "      <td>148.09</td>\n",
       "      <td>82.29</td>\n",
       "      <td>26.28</td>\n",
       "      <td>1639.59</td>\n",
       "      <td>583.07</td>\n",
       "      <td>6</td>\n",
       "    </tr>\n",
       "    <tr>\n",
       "      <th>573</th>\n",
       "      <td>224.97</td>\n",
       "      <td>420.68</td>\n",
       "      <td>1437.15</td>\n",
       "      <td>47.17</td>\n",
       "      <td>251.48</td>\n",
       "      <td>299.25</td>\n",
       "      <td>447.82</td>\n",
       "      <td>32.82</td>\n",
       "      <td>215.77</td>\n",
       "      <td>0.44</td>\n",
       "      <td>...</td>\n",
       "      <td>50.27</td>\n",
       "      <td>19.53</td>\n",
       "      <td>114.36</td>\n",
       "      <td>34.51</td>\n",
       "      <td>264.03</td>\n",
       "      <td>232.94</td>\n",
       "      <td>4.39</td>\n",
       "      <td>1183.45</td>\n",
       "      <td>954.43</td>\n",
       "      <td>4</td>\n",
       "    </tr>\n",
       "    <tr>\n",
       "      <th>574</th>\n",
       "      <td>265.87</td>\n",
       "      <td>571.05</td>\n",
       "      <td>1159.07</td>\n",
       "      <td>86.43</td>\n",
       "      <td>301.33</td>\n",
       "      <td>267.73</td>\n",
       "      <td>1151.06</td>\n",
       "      <td>81.14</td>\n",
       "      <td>25.35</td>\n",
       "      <td>3.44</td>\n",
       "      <td>...</td>\n",
       "      <td>63.45</td>\n",
       "      <td>43.94</td>\n",
       "      <td>101.54</td>\n",
       "      <td>46.50</td>\n",
       "      <td>234.57</td>\n",
       "      <td>163.28</td>\n",
       "      <td>3.29</td>\n",
       "      <td>2193.99</td>\n",
       "      <td>486.75</td>\n",
       "      <td>0</td>\n",
       "    </tr>\n",
       "    <tr>\n",
       "      <th>575</th>\n",
       "      <td>228.13</td>\n",
       "      <td>470.14</td>\n",
       "      <td>967.76</td>\n",
       "      <td>45.21</td>\n",
       "      <td>241.19</td>\n",
       "      <td>256.78</td>\n",
       "      <td>878.17</td>\n",
       "      <td>73.54</td>\n",
       "      <td>2.16</td>\n",
       "      <td>84.04</td>\n",
       "      <td>...</td>\n",
       "      <td>201.25</td>\n",
       "      <td>6.41</td>\n",
       "      <td>118.43</td>\n",
       "      <td>58.71</td>\n",
       "      <td>409.15</td>\n",
       "      <td>199.85</td>\n",
       "      <td>0.00</td>\n",
       "      <td>1322.37</td>\n",
       "      <td>583.07</td>\n",
       "      <td>0</td>\n",
       "    </tr>\n",
       "    <tr>\n",
       "      <th>576</th>\n",
       "      <td>251.48</td>\n",
       "      <td>543.96</td>\n",
       "      <td>1519.15</td>\n",
       "      <td>12.93</td>\n",
       "      <td>679.29</td>\n",
       "      <td>40.36</td>\n",
       "      <td>1008.90</td>\n",
       "      <td>242.88</td>\n",
       "      <td>10.63</td>\n",
       "      <td>0.43</td>\n",
       "      <td>...</td>\n",
       "      <td>277.20</td>\n",
       "      <td>173.85</td>\n",
       "      <td>119.26</td>\n",
       "      <td>13.62</td>\n",
       "      <td>295.11</td>\n",
       "      <td>183.82</td>\n",
       "      <td>2.34</td>\n",
       "      <td>753.83</td>\n",
       "      <td>543.96</td>\n",
       "      <td>0</td>\n",
       "    </tr>\n",
       "    <tr>\n",
       "      <th>577</th>\n",
       "      <td>229.72</td>\n",
       "      <td>289.02</td>\n",
       "      <td>1268.46</td>\n",
       "      <td>27.64</td>\n",
       "      <td>220.32</td>\n",
       "      <td>127.00</td>\n",
       "      <td>587.13</td>\n",
       "      <td>27.05</td>\n",
       "      <td>30.56</td>\n",
       "      <td>5.68</td>\n",
       "      <td>...</td>\n",
       "      <td>25.54</td>\n",
       "      <td>108.90</td>\n",
       "      <td>69.03</td>\n",
       "      <td>154.42</td>\n",
       "      <td>162.14</td>\n",
       "      <td>124.37</td>\n",
       "      <td>25.91</td>\n",
       "      <td>583.07</td>\n",
       "      <td>808.00</td>\n",
       "      <td>6</td>\n",
       "    </tr>\n",
       "    <tr>\n",
       "      <th>578</th>\n",
       "      <td>177.53</td>\n",
       "      <td>525.39</td>\n",
       "      <td>1745.20</td>\n",
       "      <td>30.12</td>\n",
       "      <td>323.03</td>\n",
       "      <td>229.72</td>\n",
       "      <td>723.08</td>\n",
       "      <td>57.08</td>\n",
       "      <td>44.57</td>\n",
       "      <td>6.46</td>\n",
       "      <td>...</td>\n",
       "      <td>72.01</td>\n",
       "      <td>209.84</td>\n",
       "      <td>113.56</td>\n",
       "      <td>194.36</td>\n",
       "      <td>201.25</td>\n",
       "      <td>166.73</td>\n",
       "      <td>0.00</td>\n",
       "      <td>1023.00</td>\n",
       "      <td>698.41</td>\n",
       "      <td>4</td>\n",
       "    </tr>\n",
       "    <tr>\n",
       "      <th>579</th>\n",
       "      <td>242.88</td>\n",
       "      <td>450.94</td>\n",
       "      <td>884.29</td>\n",
       "      <td>22.59</td>\n",
       "      <td>158.79</td>\n",
       "      <td>309.83</td>\n",
       "      <td>988.12</td>\n",
       "      <td>1991.00</td>\n",
       "      <td>0.97</td>\n",
       "      <td>0.77</td>\n",
       "      <td>...</td>\n",
       "      <td>53.95</td>\n",
       "      <td>297.17</td>\n",
       "      <td>88.88</td>\n",
       "      <td>38.40</td>\n",
       "      <td>312.00</td>\n",
       "      <td>164.42</td>\n",
       "      <td>10.31</td>\n",
       "      <td>1127.35</td>\n",
       "      <td>866.07</td>\n",
       "      <td>0</td>\n",
       "    </tr>\n",
       "  </tbody>\n",
       "</table>\n",
       "<p>580 rows × 19047 columns</p>\n",
       "</div>"
      ],
      "text/plain": [
       "GeneID  CUL5-8065  REV1-51455  ZNF428-126299  CX3CR1-1524  FAXC-84553  \\\n",
       "0          224.97      638.15        1191.69        37.32      395.18   \n",
       "1          303.44      934.76         525.39        85.22      191.67   \n",
       "2          193.01      476.71        1096.50        29.27      117.60   \n",
       "3          283.05      669.92        1388.16        14.56      253.23   \n",
       "4          212.78      525.39         536.45        14.56      231.32   \n",
       "5          323.03      638.15        1008.90        63.45      305.55   \n",
       "6          269.60      599.49        1216.75         6.01       87.65   \n",
       "7          191.67      435.55        1437.15        11.55      136.19   \n",
       "8          346.29      497.00         842.36        81.14      547.75   \n",
       "9          229.72      353.59        1639.59         9.41      547.75   \n",
       "10         234.57      536.45        1540.37        13.72      193.01   \n",
       "11         239.52      607.87        1617.00        28.86      208.38   \n",
       "12         205.50      540.19        1572.76       162.14      237.86   \n",
       "13         181.28      406.31        1870.53        24.99      450.94   \n",
       "14         193.01      463.65        1427.22       145.02      351.14   \n",
       "15         158.79      480.04        1096.50        21.47      275.28   \n",
       "16         201.25      426.57        2061.24        17.90      348.71   \n",
       "17         128.79      435.55        1551.09       100.83      387.02   \n",
       "18         206.94      620.67        1447.15        89.51      115.97   \n",
       "19         206.94      314.17        1397.83        51.71      376.41   \n",
       "20         202.66      397.93        1457.23        20.11      163.28   \n",
       "21         223.41      395.18        1477.58        21.47      182.55   \n",
       "22         148.09      246.28        1467.37         5.23      224.97   \n",
       "23         275.28      612.11        1427.22        62.56      273.37   \n",
       "24         149.12      575.03        1081.39        20.41      228.13   \n",
       "25         275.28      536.45        1051.79        73.03      358.54   \n",
       "26         242.88      780.44        1674.06        10.55      316.37   \n",
       "27         332.14      884.29         921.88        20.86      142.01   \n",
       "28         281.09      507.46        1167.14        31.45      285.03   \n",
       "29         138.10      450.94        1268.46        12.93      336.79   \n",
       "..            ...         ...            ...          ...         ...   \n",
       "550        204.07      281.09        1242.34        12.83      239.52   \n",
       "551        215.77      551.56        1233.75        14.14      624.99   \n",
       "552        187.71      414.87        1127.35        14.56      316.37   \n",
       "553        312.00      616.37        1037.29        65.26      147.06   \n",
       "554        361.04      507.46         693.58        60.82      384.34   \n",
       "555        185.11      525.39        1191.69       130.60      253.23   \n",
       "556        232.94      708.18        1457.23        41.22      299.25   \n",
       "557        379.04      536.45        1250.98        43.63      197.09   \n",
       "558        289.02      620.67        1268.46        47.84      220.32   \n",
       "559        218.79      607.87         954.43        14.24      262.20   \n",
       "560        197.09      547.75        1051.79        52.45      224.97   \n",
       "561        217.27      381.68        1350.18        48.52      329.84   \n",
       "562        358.54      612.11         759.08       169.07      318.57   \n",
       "563        269.60      764.36         785.88        87.03      287.01   \n",
       "564        316.37      529.06        1304.15        39.50      438.59   \n",
       "565        269.60      384.34        1088.92        19.11      108.90   \n",
       "566        366.09      529.06         780.44       118.43      295.11   \n",
       "567        265.87      698.41        1151.06        51.35      358.54   \n",
       "568        387.02      423.61         954.43        28.45      463.65   \n",
       "569        297.17      624.99         961.07         8.25      260.38   \n",
       "570        228.13      392.44        1769.57        88.88      267.73   \n",
       "571        193.01      532.74        1447.15         8.38      356.05   \n",
       "572        197.09      928.30         753.83        22.43      215.77   \n",
       "573        224.97      420.68        1437.15        47.17      251.48   \n",
       "574        265.87      571.05        1159.07        86.43      301.33   \n",
       "575        228.13      470.14         967.76        45.21      241.19   \n",
       "576        251.48      543.96        1519.15        12.93      679.29   \n",
       "577        229.72      289.02        1268.46        27.64      220.32   \n",
       "578        177.53      525.39        1745.20        30.12      323.03   \n",
       "579        242.88      450.94         884.29        22.59      158.79   \n",
       "\n",
       "GeneID  PKP2-5318  BNIP2-663  HOXB7-3217  GRIN3A-116443  FCRL5-83416   ...    \\\n",
       "0          281.09     941.27       31.45          29.27        38.67   ...     \n",
       "1          314.17    1111.82       62.56          36.79         7.94   ...     \n",
       "2          277.20     780.44       72.01          14.03         3.17   ...     \n",
       "3          281.09     921.88       29.27         149.12       158.79   ...     \n",
       "4          346.29     981.29       32.36           1.04         0.39   ...     \n",
       "5          420.68     921.88       32.36         591.22        16.75   ...     \n",
       "6          110.43     866.07      429.54          11.73         0.78   ...     \n",
       "7          208.38     693.58       30.12          68.55         0.78   ...     \n",
       "8          329.84    1378.57       68.55          51.71         3.38   ...     \n",
       "9           65.26     420.68       30.34         163.28         2.51   ...     \n",
       "10          88.88     665.29       38.12           3.35        12.93   ...     \n",
       "11         152.28     808.00       43.02           4.06         3.20   ...     \n",
       "12         215.77    1001.93       63.45           2.94        33.54   ...     \n",
       "13         205.50     954.43       79.45           2.73         3.08   ...     \n",
       "14         223.41     693.58       35.00           1.53        12.74   ...     \n",
       "15         348.71     769.69       15.91         105.15         2.05   ...     \n",
       "16         154.42     591.22       47.84           3.76        28.65   ...     \n",
       "17         155.50     684.02      211.31           6.11        27.25   ...     \n",
       "18         202.66     708.18       31.45           6.57         0.44   ...     \n",
       "19         167.90     665.29       48.18          14.45         4.10   ...     \n",
       "20         125.24     583.07       19.97          81.14         0.82   ...     \n",
       "21         199.85     480.04       23.76          38.95         0.80   ...     \n",
       "22         312.00     813.63       35.76           3.11        10.00   ...     \n",
       "23         231.32     753.83       30.12          24.11         4.24   ...     \n",
       "24         162.14     961.07       53.95          27.25         6.31   ...     \n",
       "25         429.54    1073.91       29.70           5.73         4.62   ...     \n",
       "26         351.14    1023.00       13.83          14.35         6.06   ...     \n",
       "27         297.17    1151.06       67.12           3.32         0.00   ...     \n",
       "28         470.14     769.69      117.60           4.35         3.38   ...     \n",
       "29         175.07     563.18       10.63          21.94         0.00   ...     \n",
       "..            ...        ...         ...            ...          ...   ...     \n",
       "550         76.71     426.57        7.17         723.08         3.63   ...     \n",
       "551        169.07     529.06       66.18          16.15        67.59   ...     \n",
       "552        175.07     748.61       74.06           2.56         0.51   ...     \n",
       "553        285.03     612.11       83.45          13.22         5.32   ...     \n",
       "554        303.44    1151.06       41.81           2.73         6.94   ...     \n",
       "555        285.03     620.67       87.03          45.53         5.06   ...     \n",
       "556        291.04     954.43       37.05          73.03         2.03   ...     \n",
       "557        309.83     785.88       47.17          72.52         5.36   ...     \n",
       "558        395.18    1277.29      154.42          12.18        11.04   ...     \n",
       "559        358.54     860.08       11.82          28.04         0.00   ...     \n",
       "560        150.17     379.04       19.25           3.92         3.47   ...     \n",
       "561        258.57     802.41      115.16           5.63         2.86   ...     \n",
       "562        371.22     915.51       21.01           8.06        16.03   ...     \n",
       "563        555.41    1331.57       42.41          16.15        11.73   ...     \n",
       "564        406.31    1023.00       97.36          57.08        22.75   ...     \n",
       "565         80.57     743.43       44.57         132.44         9.06   ...     \n",
       "566        343.89    1073.91       54.72          85.82        14.45   ...     \n",
       "567        220.32     769.69       12.09           6.36         0.84   ...     \n",
       "568        525.39    1359.57       92.05          47.50        24.81   ...     \n",
       "569        271.48     988.12       28.45           4.86         0.00   ...     \n",
       "570        193.01     591.22       89.51           1.97        22.10   ...     \n",
       "571        246.28     665.29        7.28           4.13         2.46   ...     \n",
       "572        323.03     669.92       20.41         121.79         4.10   ...     \n",
       "573        299.25     447.82       32.82         215.77         0.44   ...     \n",
       "574        267.73    1151.06       81.14          25.35         3.44   ...     \n",
       "575        256.78     878.17       73.54           2.16        84.04   ...     \n",
       "576         40.36    1008.90      242.88          10.63         0.43   ...     \n",
       "577        127.00     587.13       27.05          30.56         5.68   ...     \n",
       "578        229.72     723.08       57.08          44.57         6.46   ...     \n",
       "579        309.83     988.12     1991.00           0.97         0.77   ...     \n",
       "\n",
       "GeneID  GATA6-2627  COL28A1-340267  PDK3-5165  MC1R-4157  IFT74-80173  \\\n",
       "0            54.33          108.90     172.65      94.67       371.22   \n",
       "1            69.52           31.45      96.68     273.37       351.14   \n",
       "2            45.85          376.41      92.70     429.54       221.86   \n",
       "3           107.38           45.53     158.79     214.27       307.69   \n",
       "4            39.50          157.68     248.00      78.89       141.02   \n",
       "5            43.32           42.71     157.68     102.97       376.41   \n",
       "6           105.89         1073.91     228.13     287.01       105.15   \n",
       "7            42.11          186.40      37.85     158.79       299.25   \n",
       "8           176.29           82.29     170.25      19.39       291.04   \n",
       "9            24.81           21.94     127.89      84.04       209.84   \n",
       "10           57.49           37.05     183.82     133.36       346.29   \n",
       "11           66.65          915.51      72.01     178.77       271.48   \n",
       "12          100.83           91.41     131.51      77.25       265.87   \n",
       "13          119.26           13.62     128.79      90.14       283.05   \n",
       "14          277.20           19.97      96.01      19.53       289.02   \n",
       "15          109.66           22.75     104.42      43.02       182.55   \n",
       "16           88.88          358.54      65.26      96.01       293.07   \n",
       "17           50.27           63.45     154.42      78.89       253.23   \n",
       "18           54.33          285.03      34.75      91.41       260.38   \n",
       "19          157.68            8.78     100.83      45.85       320.80   \n",
       "20           68.55           41.52      87.03     109.66       198.47   \n",
       "21           52.45          105.15      77.79      80.01       264.03   \n",
       "22          166.73           46.18     114.36      37.32       244.57   \n",
       "23           63.89           85.22     117.60     129.69       297.17   \n",
       "24           55.49           63.45     215.77      96.01       303.44   \n",
       "25           28.04           44.89     150.17      32.59       239.52   \n",
       "26           53.19          101.54     121.79     241.19       318.57   \n",
       "27          102.25           52.08      52.08     117.60       251.48   \n",
       "28           46.50           98.73     141.02      74.58       295.11   \n",
       "29          161.02           90.77      69.03      49.21       318.57   \n",
       "..             ...             ...        ...        ...          ...   \n",
       "550          85.22           30.34      60.39      37.05       206.94   \n",
       "551          58.71           38.95     187.71      82.29       307.69   \n",
       "552         217.27           59.97      81.71      46.84       269.60   \n",
       "553          37.32           14.24      95.34     111.99       361.04   \n",
       "554         283.05           28.45      80.01      21.94       180.02   \n",
       "555          99.43           10.16      81.71      96.68       214.27   \n",
       "556          56.28          105.89      96.01     122.64       242.88   \n",
       "557          62.12          158.79     134.30      40.64       189.02   \n",
       "558          27.25           57.89     186.40     108.90       241.19   \n",
       "559          26.67          113.56      72.01     133.36       199.85   \n",
       "560          44.57          112.77      30.78      77.79       271.48   \n",
       "561          31.90           19.39     120.94      40.93       226.54   \n",
       "562          84.04           66.18     169.07      36.27       325.29   \n",
       "563         183.82           88.88     149.12     105.89       297.17   \n",
       "564          34.26           40.93     151.22      25.54       301.33   \n",
       "565          39.79          212.78     111.99     264.03       323.03   \n",
       "566          89.51           46.84     198.47      26.67       265.87   \n",
       "567          78.89           73.03     111.21      46.18       120.94   \n",
       "568          54.72          112.77     249.73      26.47       403.50   \n",
       "569         275.28            0.99     163.28      71.00       332.14   \n",
       "570          70.01          105.89      58.30      37.85       275.28   \n",
       "571          45.53          132.44      80.57      84.04       287.01   \n",
       "572          47.17          175.07      55.10      58.71       148.09   \n",
       "573          50.27           19.53     114.36      34.51       264.03   \n",
       "574          63.45           43.94     101.54      46.50       234.57   \n",
       "575         201.25            6.41     118.43      58.71       409.15   \n",
       "576         277.20          173.85     119.26      13.62       295.11   \n",
       "577          25.54          108.90      69.03     154.42       162.14   \n",
       "578          72.01          209.84     113.56     194.36       201.25   \n",
       "579          53.95          297.17      88.88      38.40       312.00   \n",
       "\n",
       "GeneID  CDK14-5218  RP11-762I7.5-0  GSR-2936  UBQLN4-56893  Target  \n",
       "0           387.02            6.67   1322.37        624.99       0  \n",
       "1           343.89            0.00    915.51        836.53       0  \n",
       "2           305.55           11.64    836.53        708.18       6  \n",
       "3           157.68            4.82   1561.89        684.02       5  \n",
       "4           147.06            0.00    967.76       1159.07       0  \n",
       "5           438.59            3.20   1268.46        802.41       4  \n",
       "6            92.70           23.08    579.04        974.50       6  \n",
       "7           132.44           11.30   1135.20        693.58       6  \n",
       "8           429.54            0.66   1023.00        785.88       1  \n",
       "9           137.14           12.00   1159.07        616.37       6  \n",
       "10          195.72           28.65    909.17        551.56       3  \n",
       "11          182.55            0.00   1037.29        723.08       3  \n",
       "12          441.64           18.43    660.68        684.02       6  \n",
       "13          339.14            7.69   1208.34        674.59       1  \n",
       "14          309.83            0.00   1883.54        579.04       0  \n",
       "15          127.00           17.38   2075.59        536.45       6  \n",
       "16          175.07           10.16    674.59        748.61       2  \n",
       "17          133.36           17.51    775.05        547.75       6  \n",
       "18          115.16           17.77   1340.84        674.59       4  \n",
       "19          283.05           10.63   1225.22        733.19       3  \n",
       "20          161.02            4.03    854.13        616.37       4  \n",
       "21          175.07           28.24   1183.45        612.11       4  \n",
       "22          220.32            5.77    866.07        738.29       2  \n",
       "23          180.02           13.83   1030.12        723.08       4  \n",
       "24          139.07            2.32   1340.84        848.22       6  \n",
       "25          275.28            0.00   2163.77        651.58       0  \n",
       "26          218.79           11.13   1540.37        647.07       5  \n",
       "27           82.87            7.88   1819.35        947.83       0  \n",
       "28          161.02            0.00   1540.37        567.10       0  \n",
       "29          167.90            9.06   1870.53        660.68       3  \n",
       "..             ...             ...       ...           ...     ...  \n",
       "550         242.88            6.57    728.11        665.29       4  \n",
       "551         142.01            4.66   1977.24       1529.73       6  \n",
       "552         239.52            4.66   1159.07        571.05       6  \n",
       "553         164.42           12.93   1572.76        836.53       5  \n",
       "554         339.14           10.63    738.29        435.55       6  \n",
       "555         176.29           25.72   1001.93        890.44       0  \n",
       "556         214.27           19.39   1519.15        733.19       5  \n",
       "557         223.41            8.25   1250.98        679.29       4  \n",
       "558         182.55            0.00   2935.74        698.41       0  \n",
       "559         171.45            0.78   1119.56        642.59       3  \n",
       "560         121.79           17.90   1685.71        836.53       3  \n",
       "561         206.94           13.12   2319.15        616.37       0  \n",
       "562         332.14            3.47   2319.15        612.11       3  \n",
       "563         218.79           10.96   1540.37        728.11       1  \n",
       "564         511.00            0.00   1745.20        521.76       0  \n",
       "565         255.00           14.45   1508.65        866.07       6  \n",
       "566         395.18            0.00   1806.78        723.08       4  \n",
       "567         255.00            9.27   1388.16        693.58       1  \n",
       "568         412.00            0.00   2434.50        543.96       0  \n",
       "569         206.94            6.31   1191.69        403.50       0  \n",
       "570         195.72           28.65   1674.06        860.08       0  \n",
       "571         161.02           36.53   1151.06        607.87       4  \n",
       "572          82.29           26.28   1639.59        583.07       6  \n",
       "573         232.94            4.39   1183.45        954.43       4  \n",
       "574         163.28            3.29   2193.99        486.75       0  \n",
       "575         199.85            0.00   1322.37        583.07       0  \n",
       "576         183.82            2.34    753.83        543.96       0  \n",
       "577         124.37           25.91    583.07        808.00       6  \n",
       "578         166.73            0.00   1023.00        698.41       4  \n",
       "579         164.42           10.31   1127.35        866.07       0  \n",
       "\n",
       "[580 rows x 19047 columns]"
      ]
     },
     "execution_count": 11,
     "metadata": {},
     "output_type": "execute_result"
    }
   ],
   "source": [
    "data"
   ]
  },
  {
   "cell_type": "code",
   "execution_count": 12,
   "metadata": {},
   "outputs": [],
   "source": [
    "# This is from when groups were used at the start\n",
    "#data.to_pickle(\"../Data/ProstateGroups.pkl\")"
   ]
  },
  {
   "cell_type": "markdown",
   "metadata": {},
   "source": [
    "## MI"
   ]
  },
  {
   "cell_type": "code",
   "execution_count": 13,
   "metadata": {},
   "outputs": [],
   "source": [
    "summary = pd.read_pickle('../Data/MI_Grades_NoSplit5.pkl')"
   ]
  },
  {
   "cell_type": "code",
   "execution_count": 14,
   "metadata": {},
   "outputs": [],
   "source": [
    "top_nosplit = np.hstack([summary.sort_values('MutualInfo',ascending=False).head(20)[\"GeneID\"].values,['Target']])"
   ]
  },
  {
   "cell_type": "code",
   "execution_count": 15,
   "metadata": {},
   "outputs": [],
   "source": [
    "data = data[top_nosplit]\n",
    "#dataReduced1 = PCA(n_components=50).fit_transform(data.drop(\"Target\",axis=1))\n",
    "dataReduced2 = TSNE(n_components=1).fit_transform(data.drop(\"Target\",axis=1))"
   ]
  },
  {
   "cell_type": "code",
   "execution_count": 16,
   "metadata": {},
   "outputs": [],
   "source": [
    "Target = data['Target']"
   ]
  },
  {
   "cell_type": "code",
   "execution_count": 17,
   "metadata": {},
   "outputs": [],
   "source": [
    "dataReduced2 = pd.DataFrame(dataReduced2)"
   ]
  },
  {
   "cell_type": "code",
   "execution_count": 18,
   "metadata": {},
   "outputs": [],
   "source": [
    "dataReduced2['Target'] = Target"
   ]
  },
  {
   "cell_type": "code",
   "execution_count": 19,
   "metadata": {},
   "outputs": [],
   "source": [
    "G0Reduced2 = dataReduced2[dataReduced2['Target'] == 0]\n",
    "G1Reduced2 = dataReduced2[dataReduced2['Target'] == 1]\n",
    "One = dataReduced2[dataReduced2['Target'] == 2]\n",
    "Two = dataReduced2[dataReduced2['Target'] == 3]\n",
    "G3Reduced2 = dataReduced2[dataReduced2['Target'] == 4]\n",
    "Four = dataReduced2[dataReduced2['Target'] == 5]\n",
    "Five = dataReduced2[dataReduced2['Target'] == 6]\n",
    "G2Reduced2 = One.append(Two)\n",
    "G4Reduced2 = Four.append(Five)\n",
    "Healthy = G0Reduced2.append(G1Reduced2)\n",
    "Cancerous = G2Reduced2.append(G3Reduced2.append(G4Reduced2))\n",
    "ThreeFourFive = G3Reduced2.append(G4Reduced2)\n",
    "OneTwoThree = G2Reduced2.append(G3Reduced2)"
   ]
  },
  {
   "cell_type": "code",
   "execution_count": 20,
   "metadata": {},
   "outputs": [],
   "source": [
    "G0Reduced2.reset_index(inplace=True, drop=True)\n",
    "G1Reduced2.reset_index(inplace=True, drop=True)\n",
    "G2Reduced2.reset_index(inplace=True, drop=True)\n",
    "G3Reduced2.reset_index(inplace=True, drop=True)\n",
    "G4Reduced2.reset_index(inplace=True, drop=True)\n",
    "Healthy.reset_index(inplace=True, drop=True)\n",
    "Cancerous.reset_index(inplace=True, drop=True)\n",
    "OneTwoThree.reset_index(inplace=True, drop=True)\n",
    "ThreeFourFive.reset_index(inplace=True, drop=True)\n",
    "One.reset_index(inplace=True, drop=True)\n",
    "Two.reset_index(inplace=True, drop=True)\n",
    "Four.reset_index(inplace=True, drop=True)\n",
    "Five.reset_index(inplace=True, drop=True)"
   ]
  },
  {
   "cell_type": "code",
   "execution_count": 21,
   "metadata": {},
   "outputs": [
    {
     "name": "stdout",
     "output_type": "stream",
     "text": [
      "0    106\n",
      "Name: Target, dtype: int64\n",
      "1    48\n",
      "Name: Target, dtype: int64\n",
      "3    122\n",
      "2     38\n",
      "Name: Target, dtype: int64\n",
      "4    79\n",
      "Name: Target, dtype: int64\n",
      "6    127\n",
      "5     60\n",
      "Name: Target, dtype: int64\n",
      "0    106\n",
      "1     48\n",
      "Name: Target, dtype: int64\n",
      "6    127\n",
      "3    122\n",
      "4     79\n",
      "5     60\n",
      "2     38\n",
      "Name: Target, dtype: int64\n",
      "6    127\n",
      "4     79\n",
      "5     60\n",
      "Name: Target, dtype: int64\n",
      "3    122\n",
      "4     79\n",
      "2     38\n",
      "Name: Target, dtype: int64\n",
      "2    38\n",
      "Name: Target, dtype: int64\n",
      "3    122\n",
      "Name: Target, dtype: int64\n",
      "5    60\n",
      "Name: Target, dtype: int64\n",
      "6    127\n",
      "Name: Target, dtype: int64\n"
     ]
    }
   ],
   "source": [
    "print(G0Reduced2['Target'].value_counts())\n",
    "print(G1Reduced2['Target'].value_counts())\n",
    "print(G2Reduced2['Target'].value_counts())\n",
    "print(G3Reduced2['Target'].value_counts())\n",
    "print(G4Reduced2['Target'].value_counts())\n",
    "print(Healthy['Target'].value_counts())\n",
    "print(Cancerous['Target'].value_counts())\n",
    "print(ThreeFourFive['Target'].value_counts())\n",
    "print(OneTwoThree['Target'].value_counts())\n",
    "print(One['Target'].value_counts())\n",
    "print(Two['Target'].value_counts())\n",
    "print(Four['Target'].value_counts())\n",
    "print(Five['Target'].value_counts())"
   ]
  },
  {
   "cell_type": "code",
   "execution_count": 22,
   "metadata": {},
   "outputs": [
    {
     "name": "stderr",
     "output_type": "stream",
     "text": [
      "/Users/martincasey/anaconda3/lib/python3.6/site-packages/ipykernel_launcher.py:3: SettingWithCopyWarning: \n",
      "A value is trying to be set on a copy of a slice from a DataFrame\n",
      "\n",
      "See the caveats in the documentation: http://pandas.pydata.org/pandas-docs/stable/indexing.html#indexing-view-versus-copy\n",
      "  This is separate from the ipykernel package so we can avoid doing imports until\n",
      "/Users/martincasey/anaconda3/lib/python3.6/site-packages/ipykernel_launcher.py:4: SettingWithCopyWarning: \n",
      "A value is trying to be set on a copy of a slice from a DataFrame\n",
      "\n",
      "See the caveats in the documentation: http://pandas.pydata.org/pandas-docs/stable/indexing.html#indexing-view-versus-copy\n",
      "  after removing the cwd from sys.path.\n",
      "/Users/martincasey/anaconda3/lib/python3.6/site-packages/ipykernel_launcher.py:6: SettingWithCopyWarning: \n",
      "A value is trying to be set on a copy of a slice from a DataFrame\n",
      "\n",
      "See the caveats in the documentation: http://pandas.pydata.org/pandas-docs/stable/indexing.html#indexing-view-versus-copy\n",
      "  \n",
      "/Users/martincasey/anaconda3/lib/python3.6/site-packages/ipykernel_launcher.py:12: SettingWithCopyWarning: \n",
      "A value is trying to be set on a copy of a slice from a DataFrame\n",
      "\n",
      "See the caveats in the documentation: http://pandas.pydata.org/pandas-docs/stable/indexing.html#indexing-view-versus-copy\n",
      "  if sys.path[0] == '':\n",
      "/Users/martincasey/anaconda3/lib/python3.6/site-packages/ipykernel_launcher.py:13: SettingWithCopyWarning: \n",
      "A value is trying to be set on a copy of a slice from a DataFrame\n",
      "\n",
      "See the caveats in the documentation: http://pandas.pydata.org/pandas-docs/stable/indexing.html#indexing-view-versus-copy\n",
      "  del sys.path[0]\n",
      "/Users/martincasey/anaconda3/lib/python3.6/site-packages/ipykernel_launcher.py:14: SettingWithCopyWarning: \n",
      "A value is trying to be set on a copy of a slice from a DataFrame\n",
      "\n",
      "See the caveats in the documentation: http://pandas.pydata.org/pandas-docs/stable/indexing.html#indexing-view-versus-copy\n",
      "  \n",
      "/Users/martincasey/anaconda3/lib/python3.6/site-packages/ipykernel_launcher.py:15: SettingWithCopyWarning: \n",
      "A value is trying to be set on a copy of a slice from a DataFrame\n",
      "\n",
      "See the caveats in the documentation: http://pandas.pydata.org/pandas-docs/stable/indexing.html#indexing-view-versus-copy\n",
      "  from ipykernel import kernelapp as app\n"
     ]
    }
   ],
   "source": [
    "TargetG0Reduced2 = G0Reduced2['Target']\n",
    "TargetOne = One['Target']\n",
    "G0Reduced2.drop('Target', inplace = True, axis=1)\n",
    "G1Reduced2.drop('Target', inplace = True, axis=1)\n",
    "G2Reduced2.drop('Target', inplace = True, axis=1)\n",
    "G3Reduced2.drop('Target', inplace = True, axis=1)\n",
    "G4Reduced2.drop('Target', inplace = True, axis=1)\n",
    "Healthy.drop('Target', inplace = True, axis=1)\n",
    "Cancerous.drop('Target', inplace = True, axis=1)\n",
    "ThreeFourFive.drop('Target', inplace = True, axis=1)\n",
    "OneTwoThree.drop('Target', inplace = True, axis=1)\n",
    "One.drop('Target', inplace = True, axis=1)\n",
    "Two.drop('Target', inplace = True, axis=1)\n",
    "Four.drop('Target', inplace = True, axis=1)\n",
    "Five.drop('Target', inplace = True, axis=1)"
   ]
  },
  {
   "cell_type": "code",
   "execution_count": 23,
   "metadata": {},
   "outputs": [],
   "source": [
    "G0Reduced2 = G0Reduced2[0]\n",
    "G1Reduced2 = G1Reduced2[0]\n",
    "G2Reduced2 = G2Reduced2[0]\n",
    "G3Reduced2 = G3Reduced2[0]\n",
    "G4Reduced2 = G4Reduced2[0]\n",
    "Healthy = Healthy[0]\n",
    "Cancerous = Cancerous[0]\n",
    "ThreeFourFive = ThreeFourFive[0]\n",
    "OneTwoThree = OneTwoThree[0]\n",
    "One = One[0]\n",
    "Two = Two[0]\n",
    "Four = Four[0]\n",
    "Five = Five[0]"
   ]
  },
  {
   "cell_type": "code",
   "execution_count": 24,
   "metadata": {},
   "outputs": [],
   "source": [
    "#With TCGA Healthy\n",
    "exportData = dataReduced2.copy(deep=True)"
   ]
  },
  {
   "cell_type": "code",
   "execution_count": 25,
   "metadata": {},
   "outputs": [],
   "source": [
    "exportData['Grade'] = exportData['Target'].apply(lambda x: 0 if (x==0) \n",
    "                                           else(1 if (x==1) \n",
    "                                                else(2 if (x==2) \n",
    "                                                     else(3 if (x==3) \n",
    "                                                          else(4 if(x==4) \n",
    "                                                               else(5 if(x==5) \n",
    "                                                                   else(6 if(x==6)\n",
    "                                                                        else 7)))))))\n",
    "exportData['Cancerous'] = exportData['Target'].apply(lambda x: 0 if (x==0) \n",
    "                                           else(0 if (x==1) \n",
    "                                                else(1 if (x==2) \n",
    "                                                     else(1 if (x==3) \n",
    "                                                          else(1 if(x==4) \n",
    "                                                               else(1 if(x==5) \n",
    "                                                                   else(1 if(x==6)\n",
    "                                                                        else 2)))))))\n",
    "exportData['Group'] = exportData['Target'].apply(lambda x: 0 if (x==0) \n",
    "                                           else(1 if (x==1) \n",
    "                                                else(2 if (x==2) \n",
    "                                                     else(2 if (x==3) \n",
    "                                                          else(3 if(x==4) \n",
    "                                                               else(4 if(x==5) \n",
    "                                                                   else(4 if(x==6)\n",
    "                                                                        else 5)))))))\n",
    "exportData['OneTwoThree'] = exportData['Target'].apply(lambda x: 0 if (x==0) \n",
    "                                           else(0 if (x==1) \n",
    "                                                else(1 if (x==2) \n",
    "                                                     else(1 if (x==3) \n",
    "                                                          else(1 if(x==4) \n",
    "                                                               else(2 if(x==5) \n",
    "                                                                   else(2 if(x==6)\n",
    "                                                                        else 3)))))))\n",
    "exportData['ThreeFourFive'] = exportData['Target'].apply(lambda x: 0 if (x==0) \n",
    "                                           else(0 if (x==1) \n",
    "                                                else(1 if (x==2) \n",
    "                                                     else(1 if (x==3) \n",
    "                                                          else(2 if(x==4) \n",
    "                                                               else(2 if(x==5) \n",
    "                                                                   else(2 if(x==6)\n",
    "                                                                        else 3)))))))"
   ]
  },
  {
   "cell_type": "code",
   "execution_count": 26,
   "metadata": {
    "scrolled": true
   },
   "outputs": [
    {
     "data": {
      "text/html": [
       "<div>\n",
       "<style>\n",
       "    .dataframe thead tr:only-child th {\n",
       "        text-align: right;\n",
       "    }\n",
       "\n",
       "    .dataframe thead th {\n",
       "        text-align: left;\n",
       "    }\n",
       "\n",
       "    .dataframe tbody tr th {\n",
       "        vertical-align: top;\n",
       "    }\n",
       "</style>\n",
       "<table border=\"1\" class=\"dataframe\">\n",
       "  <thead>\n",
       "    <tr style=\"text-align: right;\">\n",
       "      <th></th>\n",
       "      <th>0</th>\n",
       "      <th>Target</th>\n",
       "      <th>Grade</th>\n",
       "      <th>Cancerous</th>\n",
       "      <th>Group</th>\n",
       "      <th>OneTwoThree</th>\n",
       "      <th>ThreeFourFive</th>\n",
       "    </tr>\n",
       "  </thead>\n",
       "  <tbody>\n",
       "    <tr>\n",
       "      <th>0</th>\n",
       "      <td>14.078424</td>\n",
       "      <td>0</td>\n",
       "      <td>0</td>\n",
       "      <td>0</td>\n",
       "      <td>0</td>\n",
       "      <td>0</td>\n",
       "      <td>0</td>\n",
       "    </tr>\n",
       "    <tr>\n",
       "      <th>1</th>\n",
       "      <td>25.676012</td>\n",
       "      <td>0</td>\n",
       "      <td>0</td>\n",
       "      <td>0</td>\n",
       "      <td>0</td>\n",
       "      <td>0</td>\n",
       "      <td>0</td>\n",
       "    </tr>\n",
       "    <tr>\n",
       "      <th>2</th>\n",
       "      <td>0.117130</td>\n",
       "      <td>6</td>\n",
       "      <td>6</td>\n",
       "      <td>1</td>\n",
       "      <td>4</td>\n",
       "      <td>2</td>\n",
       "      <td>2</td>\n",
       "    </tr>\n",
       "    <tr>\n",
       "      <th>3</th>\n",
       "      <td>-9.850016</td>\n",
       "      <td>5</td>\n",
       "      <td>5</td>\n",
       "      <td>1</td>\n",
       "      <td>4</td>\n",
       "      <td>2</td>\n",
       "      <td>2</td>\n",
       "    </tr>\n",
       "    <tr>\n",
       "      <th>4</th>\n",
       "      <td>16.687490</td>\n",
       "      <td>0</td>\n",
       "      <td>0</td>\n",
       "      <td>0</td>\n",
       "      <td>0</td>\n",
       "      <td>0</td>\n",
       "      <td>0</td>\n",
       "    </tr>\n",
       "    <tr>\n",
       "      <th>5</th>\n",
       "      <td>-1.456921</td>\n",
       "      <td>4</td>\n",
       "      <td>4</td>\n",
       "      <td>1</td>\n",
       "      <td>3</td>\n",
       "      <td>1</td>\n",
       "      <td>2</td>\n",
       "    </tr>\n",
       "    <tr>\n",
       "      <th>6</th>\n",
       "      <td>-2.728846</td>\n",
       "      <td>6</td>\n",
       "      <td>6</td>\n",
       "      <td>1</td>\n",
       "      <td>4</td>\n",
       "      <td>2</td>\n",
       "      <td>2</td>\n",
       "    </tr>\n",
       "    <tr>\n",
       "      <th>7</th>\n",
       "      <td>-26.039242</td>\n",
       "      <td>6</td>\n",
       "      <td>6</td>\n",
       "      <td>1</td>\n",
       "      <td>4</td>\n",
       "      <td>2</td>\n",
       "      <td>2</td>\n",
       "    </tr>\n",
       "    <tr>\n",
       "      <th>8</th>\n",
       "      <td>19.966530</td>\n",
       "      <td>1</td>\n",
       "      <td>1</td>\n",
       "      <td>0</td>\n",
       "      <td>1</td>\n",
       "      <td>0</td>\n",
       "      <td>0</td>\n",
       "    </tr>\n",
       "    <tr>\n",
       "      <th>9</th>\n",
       "      <td>-11.316241</td>\n",
       "      <td>6</td>\n",
       "      <td>6</td>\n",
       "      <td>1</td>\n",
       "      <td>4</td>\n",
       "      <td>2</td>\n",
       "      <td>2</td>\n",
       "    </tr>\n",
       "    <tr>\n",
       "      <th>10</th>\n",
       "      <td>4.169173</td>\n",
       "      <td>3</td>\n",
       "      <td>3</td>\n",
       "      <td>1</td>\n",
       "      <td>2</td>\n",
       "      <td>1</td>\n",
       "      <td>1</td>\n",
       "    </tr>\n",
       "    <tr>\n",
       "      <th>11</th>\n",
       "      <td>-20.784933</td>\n",
       "      <td>3</td>\n",
       "      <td>3</td>\n",
       "      <td>1</td>\n",
       "      <td>2</td>\n",
       "      <td>1</td>\n",
       "      <td>1</td>\n",
       "    </tr>\n",
       "    <tr>\n",
       "      <th>12</th>\n",
       "      <td>13.243857</td>\n",
       "      <td>6</td>\n",
       "      <td>6</td>\n",
       "      <td>1</td>\n",
       "      <td>4</td>\n",
       "      <td>2</td>\n",
       "      <td>2</td>\n",
       "    </tr>\n",
       "    <tr>\n",
       "      <th>13</th>\n",
       "      <td>24.706121</td>\n",
       "      <td>1</td>\n",
       "      <td>1</td>\n",
       "      <td>0</td>\n",
       "      <td>1</td>\n",
       "      <td>0</td>\n",
       "      <td>0</td>\n",
       "    </tr>\n",
       "    <tr>\n",
       "      <th>14</th>\n",
       "      <td>29.802940</td>\n",
       "      <td>0</td>\n",
       "      <td>0</td>\n",
       "      <td>0</td>\n",
       "      <td>0</td>\n",
       "      <td>0</td>\n",
       "      <td>0</td>\n",
       "    </tr>\n",
       "    <tr>\n",
       "      <th>15</th>\n",
       "      <td>-15.837831</td>\n",
       "      <td>6</td>\n",
       "      <td>6</td>\n",
       "      <td>1</td>\n",
       "      <td>4</td>\n",
       "      <td>2</td>\n",
       "      <td>2</td>\n",
       "    </tr>\n",
       "    <tr>\n",
       "      <th>16</th>\n",
       "      <td>-28.860054</td>\n",
       "      <td>2</td>\n",
       "      <td>2</td>\n",
       "      <td>1</td>\n",
       "      <td>2</td>\n",
       "      <td>1</td>\n",
       "      <td>1</td>\n",
       "    </tr>\n",
       "    <tr>\n",
       "      <th>17</th>\n",
       "      <td>8.461684</td>\n",
       "      <td>6</td>\n",
       "      <td>6</td>\n",
       "      <td>1</td>\n",
       "      <td>4</td>\n",
       "      <td>2</td>\n",
       "      <td>2</td>\n",
       "    </tr>\n",
       "    <tr>\n",
       "      <th>18</th>\n",
       "      <td>-29.729700</td>\n",
       "      <td>4</td>\n",
       "      <td>4</td>\n",
       "      <td>1</td>\n",
       "      <td>3</td>\n",
       "      <td>1</td>\n",
       "      <td>2</td>\n",
       "    </tr>\n",
       "    <tr>\n",
       "      <th>19</th>\n",
       "      <td>-9.269693</td>\n",
       "      <td>3</td>\n",
       "      <td>3</td>\n",
       "      <td>1</td>\n",
       "      <td>2</td>\n",
       "      <td>1</td>\n",
       "      <td>1</td>\n",
       "    </tr>\n",
       "    <tr>\n",
       "      <th>20</th>\n",
       "      <td>-12.137711</td>\n",
       "      <td>4</td>\n",
       "      <td>4</td>\n",
       "      <td>1</td>\n",
       "      <td>3</td>\n",
       "      <td>1</td>\n",
       "      <td>2</td>\n",
       "    </tr>\n",
       "    <tr>\n",
       "      <th>21</th>\n",
       "      <td>-24.813471</td>\n",
       "      <td>4</td>\n",
       "      <td>4</td>\n",
       "      <td>1</td>\n",
       "      <td>3</td>\n",
       "      <td>1</td>\n",
       "      <td>2</td>\n",
       "    </tr>\n",
       "    <tr>\n",
       "      <th>22</th>\n",
       "      <td>-22.281654</td>\n",
       "      <td>2</td>\n",
       "      <td>2</td>\n",
       "      <td>1</td>\n",
       "      <td>2</td>\n",
       "      <td>1</td>\n",
       "      <td>1</td>\n",
       "    </tr>\n",
       "    <tr>\n",
       "      <th>23</th>\n",
       "      <td>-3.013097</td>\n",
       "      <td>4</td>\n",
       "      <td>4</td>\n",
       "      <td>1</td>\n",
       "      <td>3</td>\n",
       "      <td>1</td>\n",
       "      <td>2</td>\n",
       "    </tr>\n",
       "    <tr>\n",
       "      <th>24</th>\n",
       "      <td>-3.985611</td>\n",
       "      <td>6</td>\n",
       "      <td>6</td>\n",
       "      <td>1</td>\n",
       "      <td>4</td>\n",
       "      <td>2</td>\n",
       "      <td>2</td>\n",
       "    </tr>\n",
       "    <tr>\n",
       "      <th>25</th>\n",
       "      <td>24.843000</td>\n",
       "      <td>0</td>\n",
       "      <td>0</td>\n",
       "      <td>0</td>\n",
       "      <td>0</td>\n",
       "      <td>0</td>\n",
       "      <td>0</td>\n",
       "    </tr>\n",
       "    <tr>\n",
       "      <th>26</th>\n",
       "      <td>14.515416</td>\n",
       "      <td>5</td>\n",
       "      <td>5</td>\n",
       "      <td>1</td>\n",
       "      <td>4</td>\n",
       "      <td>2</td>\n",
       "      <td>2</td>\n",
       "    </tr>\n",
       "    <tr>\n",
       "      <th>27</th>\n",
       "      <td>33.140896</td>\n",
       "      <td>0</td>\n",
       "      <td>0</td>\n",
       "      <td>0</td>\n",
       "      <td>0</td>\n",
       "      <td>0</td>\n",
       "      <td>0</td>\n",
       "    </tr>\n",
       "    <tr>\n",
       "      <th>28</th>\n",
       "      <td>16.838093</td>\n",
       "      <td>0</td>\n",
       "      <td>0</td>\n",
       "      <td>0</td>\n",
       "      <td>0</td>\n",
       "      <td>0</td>\n",
       "      <td>0</td>\n",
       "    </tr>\n",
       "    <tr>\n",
       "      <th>29</th>\n",
       "      <td>-12.601958</td>\n",
       "      <td>3</td>\n",
       "      <td>3</td>\n",
       "      <td>1</td>\n",
       "      <td>2</td>\n",
       "      <td>1</td>\n",
       "      <td>1</td>\n",
       "    </tr>\n",
       "    <tr>\n",
       "      <th>...</th>\n",
       "      <td>...</td>\n",
       "      <td>...</td>\n",
       "      <td>...</td>\n",
       "      <td>...</td>\n",
       "      <td>...</td>\n",
       "      <td>...</td>\n",
       "      <td>...</td>\n",
       "    </tr>\n",
       "    <tr>\n",
       "      <th>550</th>\n",
       "      <td>-12.453654</td>\n",
       "      <td>4</td>\n",
       "      <td>4</td>\n",
       "      <td>1</td>\n",
       "      <td>3</td>\n",
       "      <td>1</td>\n",
       "      <td>2</td>\n",
       "    </tr>\n",
       "    <tr>\n",
       "      <th>551</th>\n",
       "      <td>-2.162959</td>\n",
       "      <td>6</td>\n",
       "      <td>6</td>\n",
       "      <td>1</td>\n",
       "      <td>4</td>\n",
       "      <td>2</td>\n",
       "      <td>2</td>\n",
       "    </tr>\n",
       "    <tr>\n",
       "      <th>552</th>\n",
       "      <td>16.341751</td>\n",
       "      <td>6</td>\n",
       "      <td>6</td>\n",
       "      <td>1</td>\n",
       "      <td>4</td>\n",
       "      <td>2</td>\n",
       "      <td>2</td>\n",
       "    </tr>\n",
       "    <tr>\n",
       "      <th>553</th>\n",
       "      <td>-19.280382</td>\n",
       "      <td>5</td>\n",
       "      <td>5</td>\n",
       "      <td>1</td>\n",
       "      <td>4</td>\n",
       "      <td>2</td>\n",
       "      <td>2</td>\n",
       "    </tr>\n",
       "    <tr>\n",
       "      <th>554</th>\n",
       "      <td>-9.046472</td>\n",
       "      <td>6</td>\n",
       "      <td>6</td>\n",
       "      <td>1</td>\n",
       "      <td>4</td>\n",
       "      <td>2</td>\n",
       "      <td>2</td>\n",
       "    </tr>\n",
       "    <tr>\n",
       "      <th>555</th>\n",
       "      <td>20.693985</td>\n",
       "      <td>0</td>\n",
       "      <td>0</td>\n",
       "      <td>0</td>\n",
       "      <td>0</td>\n",
       "      <td>0</td>\n",
       "      <td>0</td>\n",
       "    </tr>\n",
       "    <tr>\n",
       "      <th>556</th>\n",
       "      <td>12.473656</td>\n",
       "      <td>5</td>\n",
       "      <td>5</td>\n",
       "      <td>1</td>\n",
       "      <td>4</td>\n",
       "      <td>2</td>\n",
       "      <td>2</td>\n",
       "    </tr>\n",
       "    <tr>\n",
       "      <th>557</th>\n",
       "      <td>4.322223</td>\n",
       "      <td>4</td>\n",
       "      <td>4</td>\n",
       "      <td>1</td>\n",
       "      <td>3</td>\n",
       "      <td>1</td>\n",
       "      <td>2</td>\n",
       "    </tr>\n",
       "    <tr>\n",
       "      <th>558</th>\n",
       "      <td>25.069319</td>\n",
       "      <td>0</td>\n",
       "      <td>0</td>\n",
       "      <td>0</td>\n",
       "      <td>0</td>\n",
       "      <td>0</td>\n",
       "      <td>0</td>\n",
       "    </tr>\n",
       "    <tr>\n",
       "      <th>559</th>\n",
       "      <td>1.085336</td>\n",
       "      <td>3</td>\n",
       "      <td>3</td>\n",
       "      <td>1</td>\n",
       "      <td>2</td>\n",
       "      <td>1</td>\n",
       "      <td>1</td>\n",
       "    </tr>\n",
       "    <tr>\n",
       "      <th>560</th>\n",
       "      <td>-27.529917</td>\n",
       "      <td>3</td>\n",
       "      <td>3</td>\n",
       "      <td>1</td>\n",
       "      <td>2</td>\n",
       "      <td>1</td>\n",
       "      <td>1</td>\n",
       "    </tr>\n",
       "    <tr>\n",
       "      <th>561</th>\n",
       "      <td>30.004803</td>\n",
       "      <td>0</td>\n",
       "      <td>0</td>\n",
       "      <td>0</td>\n",
       "      <td>0</td>\n",
       "      <td>0</td>\n",
       "      <td>0</td>\n",
       "    </tr>\n",
       "    <tr>\n",
       "      <th>562</th>\n",
       "      <td>-1.765362</td>\n",
       "      <td>3</td>\n",
       "      <td>3</td>\n",
       "      <td>1</td>\n",
       "      <td>2</td>\n",
       "      <td>1</td>\n",
       "      <td>1</td>\n",
       "    </tr>\n",
       "    <tr>\n",
       "      <th>563</th>\n",
       "      <td>24.415482</td>\n",
       "      <td>1</td>\n",
       "      <td>1</td>\n",
       "      <td>0</td>\n",
       "      <td>1</td>\n",
       "      <td>0</td>\n",
       "      <td>0</td>\n",
       "    </tr>\n",
       "    <tr>\n",
       "      <th>564</th>\n",
       "      <td>30.692875</td>\n",
       "      <td>0</td>\n",
       "      <td>0</td>\n",
       "      <td>0</td>\n",
       "      <td>0</td>\n",
       "      <td>0</td>\n",
       "      <td>0</td>\n",
       "    </tr>\n",
       "    <tr>\n",
       "      <th>565</th>\n",
       "      <td>-24.392529</td>\n",
       "      <td>6</td>\n",
       "      <td>6</td>\n",
       "      <td>1</td>\n",
       "      <td>4</td>\n",
       "      <td>2</td>\n",
       "      <td>2</td>\n",
       "    </tr>\n",
       "    <tr>\n",
       "      <th>566</th>\n",
       "      <td>10.886320</td>\n",
       "      <td>4</td>\n",
       "      <td>4</td>\n",
       "      <td>1</td>\n",
       "      <td>3</td>\n",
       "      <td>1</td>\n",
       "      <td>2</td>\n",
       "    </tr>\n",
       "    <tr>\n",
       "      <th>567</th>\n",
       "      <td>20.874743</td>\n",
       "      <td>1</td>\n",
       "      <td>1</td>\n",
       "      <td>0</td>\n",
       "      <td>1</td>\n",
       "      <td>0</td>\n",
       "      <td>0</td>\n",
       "    </tr>\n",
       "    <tr>\n",
       "      <th>568</th>\n",
       "      <td>22.465748</td>\n",
       "      <td>0</td>\n",
       "      <td>0</td>\n",
       "      <td>0</td>\n",
       "      <td>0</td>\n",
       "      <td>0</td>\n",
       "      <td>0</td>\n",
       "    </tr>\n",
       "    <tr>\n",
       "      <th>569</th>\n",
       "      <td>19.458147</td>\n",
       "      <td>0</td>\n",
       "      <td>0</td>\n",
       "      <td>0</td>\n",
       "      <td>0</td>\n",
       "      <td>0</td>\n",
       "      <td>0</td>\n",
       "    </tr>\n",
       "    <tr>\n",
       "      <th>570</th>\n",
       "      <td>11.055273</td>\n",
       "      <td>0</td>\n",
       "      <td>0</td>\n",
       "      <td>0</td>\n",
       "      <td>0</td>\n",
       "      <td>0</td>\n",
       "      <td>0</td>\n",
       "    </tr>\n",
       "    <tr>\n",
       "      <th>571</th>\n",
       "      <td>-24.359320</td>\n",
       "      <td>4</td>\n",
       "      <td>4</td>\n",
       "      <td>1</td>\n",
       "      <td>3</td>\n",
       "      <td>1</td>\n",
       "      <td>2</td>\n",
       "    </tr>\n",
       "    <tr>\n",
       "      <th>572</th>\n",
       "      <td>-0.530080</td>\n",
       "      <td>6</td>\n",
       "      <td>6</td>\n",
       "      <td>1</td>\n",
       "      <td>4</td>\n",
       "      <td>2</td>\n",
       "      <td>2</td>\n",
       "    </tr>\n",
       "    <tr>\n",
       "      <th>573</th>\n",
       "      <td>-7.258721</td>\n",
       "      <td>4</td>\n",
       "      <td>4</td>\n",
       "      <td>1</td>\n",
       "      <td>3</td>\n",
       "      <td>1</td>\n",
       "      <td>2</td>\n",
       "    </tr>\n",
       "    <tr>\n",
       "      <th>574</th>\n",
       "      <td>26.571054</td>\n",
       "      <td>0</td>\n",
       "      <td>0</td>\n",
       "      <td>0</td>\n",
       "      <td>0</td>\n",
       "      <td>0</td>\n",
       "      <td>0</td>\n",
       "    </tr>\n",
       "    <tr>\n",
       "      <th>575</th>\n",
       "      <td>22.946737</td>\n",
       "      <td>0</td>\n",
       "      <td>0</td>\n",
       "      <td>0</td>\n",
       "      <td>0</td>\n",
       "      <td>0</td>\n",
       "      <td>0</td>\n",
       "    </tr>\n",
       "    <tr>\n",
       "      <th>576</th>\n",
       "      <td>28.079639</td>\n",
       "      <td>0</td>\n",
       "      <td>0</td>\n",
       "      <td>0</td>\n",
       "      <td>0</td>\n",
       "      <td>0</td>\n",
       "      <td>0</td>\n",
       "    </tr>\n",
       "    <tr>\n",
       "      <th>577</th>\n",
       "      <td>-4.170435</td>\n",
       "      <td>6</td>\n",
       "      <td>6</td>\n",
       "      <td>1</td>\n",
       "      <td>4</td>\n",
       "      <td>2</td>\n",
       "      <td>2</td>\n",
       "    </tr>\n",
       "    <tr>\n",
       "      <th>578</th>\n",
       "      <td>8.873831</td>\n",
       "      <td>4</td>\n",
       "      <td>4</td>\n",
       "      <td>1</td>\n",
       "      <td>3</td>\n",
       "      <td>1</td>\n",
       "      <td>2</td>\n",
       "    </tr>\n",
       "    <tr>\n",
       "      <th>579</th>\n",
       "      <td>30.870050</td>\n",
       "      <td>0</td>\n",
       "      <td>0</td>\n",
       "      <td>0</td>\n",
       "      <td>0</td>\n",
       "      <td>0</td>\n",
       "      <td>0</td>\n",
       "    </tr>\n",
       "  </tbody>\n",
       "</table>\n",
       "<p>580 rows × 7 columns</p>\n",
       "</div>"
      ],
      "text/plain": [
       "             0  Target  Grade  Cancerous  Group  OneTwoThree  ThreeFourFive\n",
       "0    14.078424       0      0          0      0            0              0\n",
       "1    25.676012       0      0          0      0            0              0\n",
       "2     0.117130       6      6          1      4            2              2\n",
       "3    -9.850016       5      5          1      4            2              2\n",
       "4    16.687490       0      0          0      0            0              0\n",
       "5    -1.456921       4      4          1      3            1              2\n",
       "6    -2.728846       6      6          1      4            2              2\n",
       "7   -26.039242       6      6          1      4            2              2\n",
       "8    19.966530       1      1          0      1            0              0\n",
       "9   -11.316241       6      6          1      4            2              2\n",
       "10    4.169173       3      3          1      2            1              1\n",
       "11  -20.784933       3      3          1      2            1              1\n",
       "12   13.243857       6      6          1      4            2              2\n",
       "13   24.706121       1      1          0      1            0              0\n",
       "14   29.802940       0      0          0      0            0              0\n",
       "15  -15.837831       6      6          1      4            2              2\n",
       "16  -28.860054       2      2          1      2            1              1\n",
       "17    8.461684       6      6          1      4            2              2\n",
       "18  -29.729700       4      4          1      3            1              2\n",
       "19   -9.269693       3      3          1      2            1              1\n",
       "20  -12.137711       4      4          1      3            1              2\n",
       "21  -24.813471       4      4          1      3            1              2\n",
       "22  -22.281654       2      2          1      2            1              1\n",
       "23   -3.013097       4      4          1      3            1              2\n",
       "24   -3.985611       6      6          1      4            2              2\n",
       "25   24.843000       0      0          0      0            0              0\n",
       "26   14.515416       5      5          1      4            2              2\n",
       "27   33.140896       0      0          0      0            0              0\n",
       "28   16.838093       0      0          0      0            0              0\n",
       "29  -12.601958       3      3          1      2            1              1\n",
       "..         ...     ...    ...        ...    ...          ...            ...\n",
       "550 -12.453654       4      4          1      3            1              2\n",
       "551  -2.162959       6      6          1      4            2              2\n",
       "552  16.341751       6      6          1      4            2              2\n",
       "553 -19.280382       5      5          1      4            2              2\n",
       "554  -9.046472       6      6          1      4            2              2\n",
       "555  20.693985       0      0          0      0            0              0\n",
       "556  12.473656       5      5          1      4            2              2\n",
       "557   4.322223       4      4          1      3            1              2\n",
       "558  25.069319       0      0          0      0            0              0\n",
       "559   1.085336       3      3          1      2            1              1\n",
       "560 -27.529917       3      3          1      2            1              1\n",
       "561  30.004803       0      0          0      0            0              0\n",
       "562  -1.765362       3      3          1      2            1              1\n",
       "563  24.415482       1      1          0      1            0              0\n",
       "564  30.692875       0      0          0      0            0              0\n",
       "565 -24.392529       6      6          1      4            2              2\n",
       "566  10.886320       4      4          1      3            1              2\n",
       "567  20.874743       1      1          0      1            0              0\n",
       "568  22.465748       0      0          0      0            0              0\n",
       "569  19.458147       0      0          0      0            0              0\n",
       "570  11.055273       0      0          0      0            0              0\n",
       "571 -24.359320       4      4          1      3            1              2\n",
       "572  -0.530080       6      6          1      4            2              2\n",
       "573  -7.258721       4      4          1      3            1              2\n",
       "574  26.571054       0      0          0      0            0              0\n",
       "575  22.946737       0      0          0      0            0              0\n",
       "576  28.079639       0      0          0      0            0              0\n",
       "577  -4.170435       6      6          1      4            2              2\n",
       "578   8.873831       4      4          1      3            1              2\n",
       "579  30.870050       0      0          0      0            0              0\n",
       "\n",
       "[580 rows x 7 columns]"
      ]
     },
     "execution_count": 26,
     "metadata": {},
     "output_type": "execute_result"
    }
   ],
   "source": [
    "exportData"
   ]
  },
  {
   "cell_type": "code",
   "execution_count": 27,
   "metadata": {},
   "outputs": [],
   "source": [
    "exportData.set_index(exportData[0], inplace=True)\n",
    "exportData.drop([0], inplace=True, axis=1)\n",
    "exportData.drop('Target', inplace=True, axis=1)"
   ]
  },
  {
   "cell_type": "code",
   "execution_count": 28,
   "metadata": {},
   "outputs": [
    {
     "data": {
      "text/html": [
       "<div>\n",
       "<style>\n",
       "    .dataframe thead tr:only-child th {\n",
       "        text-align: right;\n",
       "    }\n",
       "\n",
       "    .dataframe thead th {\n",
       "        text-align: left;\n",
       "    }\n",
       "\n",
       "    .dataframe tbody tr th {\n",
       "        vertical-align: top;\n",
       "    }\n",
       "</style>\n",
       "<table border=\"1\" class=\"dataframe\">\n",
       "  <thead>\n",
       "    <tr style=\"text-align: right;\">\n",
       "      <th></th>\n",
       "      <th>Grade</th>\n",
       "      <th>Cancerous</th>\n",
       "      <th>Group</th>\n",
       "      <th>OneTwoThree</th>\n",
       "      <th>ThreeFourFive</th>\n",
       "    </tr>\n",
       "    <tr>\n",
       "      <th>0</th>\n",
       "      <th></th>\n",
       "      <th></th>\n",
       "      <th></th>\n",
       "      <th></th>\n",
       "      <th></th>\n",
       "    </tr>\n",
       "  </thead>\n",
       "  <tbody>\n",
       "    <tr>\n",
       "      <th>14.078424</th>\n",
       "      <td>0</td>\n",
       "      <td>0</td>\n",
       "      <td>0</td>\n",
       "      <td>0</td>\n",
       "      <td>0</td>\n",
       "    </tr>\n",
       "    <tr>\n",
       "      <th>25.676012</th>\n",
       "      <td>0</td>\n",
       "      <td>0</td>\n",
       "      <td>0</td>\n",
       "      <td>0</td>\n",
       "      <td>0</td>\n",
       "    </tr>\n",
       "    <tr>\n",
       "      <th>0.117130</th>\n",
       "      <td>6</td>\n",
       "      <td>1</td>\n",
       "      <td>4</td>\n",
       "      <td>2</td>\n",
       "      <td>2</td>\n",
       "    </tr>\n",
       "    <tr>\n",
       "      <th>-9.850016</th>\n",
       "      <td>5</td>\n",
       "      <td>1</td>\n",
       "      <td>4</td>\n",
       "      <td>2</td>\n",
       "      <td>2</td>\n",
       "    </tr>\n",
       "    <tr>\n",
       "      <th>16.687490</th>\n",
       "      <td>0</td>\n",
       "      <td>0</td>\n",
       "      <td>0</td>\n",
       "      <td>0</td>\n",
       "      <td>0</td>\n",
       "    </tr>\n",
       "    <tr>\n",
       "      <th>-1.456921</th>\n",
       "      <td>4</td>\n",
       "      <td>1</td>\n",
       "      <td>3</td>\n",
       "      <td>1</td>\n",
       "      <td>2</td>\n",
       "    </tr>\n",
       "    <tr>\n",
       "      <th>-2.728846</th>\n",
       "      <td>6</td>\n",
       "      <td>1</td>\n",
       "      <td>4</td>\n",
       "      <td>2</td>\n",
       "      <td>2</td>\n",
       "    </tr>\n",
       "    <tr>\n",
       "      <th>-26.039242</th>\n",
       "      <td>6</td>\n",
       "      <td>1</td>\n",
       "      <td>4</td>\n",
       "      <td>2</td>\n",
       "      <td>2</td>\n",
       "    </tr>\n",
       "    <tr>\n",
       "      <th>19.966530</th>\n",
       "      <td>1</td>\n",
       "      <td>0</td>\n",
       "      <td>1</td>\n",
       "      <td>0</td>\n",
       "      <td>0</td>\n",
       "    </tr>\n",
       "    <tr>\n",
       "      <th>-11.316241</th>\n",
       "      <td>6</td>\n",
       "      <td>1</td>\n",
       "      <td>4</td>\n",
       "      <td>2</td>\n",
       "      <td>2</td>\n",
       "    </tr>\n",
       "    <tr>\n",
       "      <th>4.169173</th>\n",
       "      <td>3</td>\n",
       "      <td>1</td>\n",
       "      <td>2</td>\n",
       "      <td>1</td>\n",
       "      <td>1</td>\n",
       "    </tr>\n",
       "    <tr>\n",
       "      <th>-20.784933</th>\n",
       "      <td>3</td>\n",
       "      <td>1</td>\n",
       "      <td>2</td>\n",
       "      <td>1</td>\n",
       "      <td>1</td>\n",
       "    </tr>\n",
       "    <tr>\n",
       "      <th>13.243857</th>\n",
       "      <td>6</td>\n",
       "      <td>1</td>\n",
       "      <td>4</td>\n",
       "      <td>2</td>\n",
       "      <td>2</td>\n",
       "    </tr>\n",
       "    <tr>\n",
       "      <th>24.706121</th>\n",
       "      <td>1</td>\n",
       "      <td>0</td>\n",
       "      <td>1</td>\n",
       "      <td>0</td>\n",
       "      <td>0</td>\n",
       "    </tr>\n",
       "    <tr>\n",
       "      <th>29.802940</th>\n",
       "      <td>0</td>\n",
       "      <td>0</td>\n",
       "      <td>0</td>\n",
       "      <td>0</td>\n",
       "      <td>0</td>\n",
       "    </tr>\n",
       "    <tr>\n",
       "      <th>-15.837831</th>\n",
       "      <td>6</td>\n",
       "      <td>1</td>\n",
       "      <td>4</td>\n",
       "      <td>2</td>\n",
       "      <td>2</td>\n",
       "    </tr>\n",
       "    <tr>\n",
       "      <th>-28.860054</th>\n",
       "      <td>2</td>\n",
       "      <td>1</td>\n",
       "      <td>2</td>\n",
       "      <td>1</td>\n",
       "      <td>1</td>\n",
       "    </tr>\n",
       "    <tr>\n",
       "      <th>8.461684</th>\n",
       "      <td>6</td>\n",
       "      <td>1</td>\n",
       "      <td>4</td>\n",
       "      <td>2</td>\n",
       "      <td>2</td>\n",
       "    </tr>\n",
       "    <tr>\n",
       "      <th>-29.729700</th>\n",
       "      <td>4</td>\n",
       "      <td>1</td>\n",
       "      <td>3</td>\n",
       "      <td>1</td>\n",
       "      <td>2</td>\n",
       "    </tr>\n",
       "    <tr>\n",
       "      <th>-9.269693</th>\n",
       "      <td>3</td>\n",
       "      <td>1</td>\n",
       "      <td>2</td>\n",
       "      <td>1</td>\n",
       "      <td>1</td>\n",
       "    </tr>\n",
       "    <tr>\n",
       "      <th>-12.137711</th>\n",
       "      <td>4</td>\n",
       "      <td>1</td>\n",
       "      <td>3</td>\n",
       "      <td>1</td>\n",
       "      <td>2</td>\n",
       "    </tr>\n",
       "    <tr>\n",
       "      <th>-24.813471</th>\n",
       "      <td>4</td>\n",
       "      <td>1</td>\n",
       "      <td>3</td>\n",
       "      <td>1</td>\n",
       "      <td>2</td>\n",
       "    </tr>\n",
       "    <tr>\n",
       "      <th>-22.281654</th>\n",
       "      <td>2</td>\n",
       "      <td>1</td>\n",
       "      <td>2</td>\n",
       "      <td>1</td>\n",
       "      <td>1</td>\n",
       "    </tr>\n",
       "    <tr>\n",
       "      <th>-3.013097</th>\n",
       "      <td>4</td>\n",
       "      <td>1</td>\n",
       "      <td>3</td>\n",
       "      <td>1</td>\n",
       "      <td>2</td>\n",
       "    </tr>\n",
       "    <tr>\n",
       "      <th>-3.985611</th>\n",
       "      <td>6</td>\n",
       "      <td>1</td>\n",
       "      <td>4</td>\n",
       "      <td>2</td>\n",
       "      <td>2</td>\n",
       "    </tr>\n",
       "    <tr>\n",
       "      <th>24.843000</th>\n",
       "      <td>0</td>\n",
       "      <td>0</td>\n",
       "      <td>0</td>\n",
       "      <td>0</td>\n",
       "      <td>0</td>\n",
       "    </tr>\n",
       "    <tr>\n",
       "      <th>14.515416</th>\n",
       "      <td>5</td>\n",
       "      <td>1</td>\n",
       "      <td>4</td>\n",
       "      <td>2</td>\n",
       "      <td>2</td>\n",
       "    </tr>\n",
       "    <tr>\n",
       "      <th>33.140896</th>\n",
       "      <td>0</td>\n",
       "      <td>0</td>\n",
       "      <td>0</td>\n",
       "      <td>0</td>\n",
       "      <td>0</td>\n",
       "    </tr>\n",
       "    <tr>\n",
       "      <th>16.838093</th>\n",
       "      <td>0</td>\n",
       "      <td>0</td>\n",
       "      <td>0</td>\n",
       "      <td>0</td>\n",
       "      <td>0</td>\n",
       "    </tr>\n",
       "    <tr>\n",
       "      <th>-12.601958</th>\n",
       "      <td>3</td>\n",
       "      <td>1</td>\n",
       "      <td>2</td>\n",
       "      <td>1</td>\n",
       "      <td>1</td>\n",
       "    </tr>\n",
       "    <tr>\n",
       "      <th>...</th>\n",
       "      <td>...</td>\n",
       "      <td>...</td>\n",
       "      <td>...</td>\n",
       "      <td>...</td>\n",
       "      <td>...</td>\n",
       "    </tr>\n",
       "    <tr>\n",
       "      <th>-12.453654</th>\n",
       "      <td>4</td>\n",
       "      <td>1</td>\n",
       "      <td>3</td>\n",
       "      <td>1</td>\n",
       "      <td>2</td>\n",
       "    </tr>\n",
       "    <tr>\n",
       "      <th>-2.162959</th>\n",
       "      <td>6</td>\n",
       "      <td>1</td>\n",
       "      <td>4</td>\n",
       "      <td>2</td>\n",
       "      <td>2</td>\n",
       "    </tr>\n",
       "    <tr>\n",
       "      <th>16.341751</th>\n",
       "      <td>6</td>\n",
       "      <td>1</td>\n",
       "      <td>4</td>\n",
       "      <td>2</td>\n",
       "      <td>2</td>\n",
       "    </tr>\n",
       "    <tr>\n",
       "      <th>-19.280382</th>\n",
       "      <td>5</td>\n",
       "      <td>1</td>\n",
       "      <td>4</td>\n",
       "      <td>2</td>\n",
       "      <td>2</td>\n",
       "    </tr>\n",
       "    <tr>\n",
       "      <th>-9.046472</th>\n",
       "      <td>6</td>\n",
       "      <td>1</td>\n",
       "      <td>4</td>\n",
       "      <td>2</td>\n",
       "      <td>2</td>\n",
       "    </tr>\n",
       "    <tr>\n",
       "      <th>20.693985</th>\n",
       "      <td>0</td>\n",
       "      <td>0</td>\n",
       "      <td>0</td>\n",
       "      <td>0</td>\n",
       "      <td>0</td>\n",
       "    </tr>\n",
       "    <tr>\n",
       "      <th>12.473656</th>\n",
       "      <td>5</td>\n",
       "      <td>1</td>\n",
       "      <td>4</td>\n",
       "      <td>2</td>\n",
       "      <td>2</td>\n",
       "    </tr>\n",
       "    <tr>\n",
       "      <th>4.322223</th>\n",
       "      <td>4</td>\n",
       "      <td>1</td>\n",
       "      <td>3</td>\n",
       "      <td>1</td>\n",
       "      <td>2</td>\n",
       "    </tr>\n",
       "    <tr>\n",
       "      <th>25.069319</th>\n",
       "      <td>0</td>\n",
       "      <td>0</td>\n",
       "      <td>0</td>\n",
       "      <td>0</td>\n",
       "      <td>0</td>\n",
       "    </tr>\n",
       "    <tr>\n",
       "      <th>1.085336</th>\n",
       "      <td>3</td>\n",
       "      <td>1</td>\n",
       "      <td>2</td>\n",
       "      <td>1</td>\n",
       "      <td>1</td>\n",
       "    </tr>\n",
       "    <tr>\n",
       "      <th>-27.529917</th>\n",
       "      <td>3</td>\n",
       "      <td>1</td>\n",
       "      <td>2</td>\n",
       "      <td>1</td>\n",
       "      <td>1</td>\n",
       "    </tr>\n",
       "    <tr>\n",
       "      <th>30.004803</th>\n",
       "      <td>0</td>\n",
       "      <td>0</td>\n",
       "      <td>0</td>\n",
       "      <td>0</td>\n",
       "      <td>0</td>\n",
       "    </tr>\n",
       "    <tr>\n",
       "      <th>-1.765362</th>\n",
       "      <td>3</td>\n",
       "      <td>1</td>\n",
       "      <td>2</td>\n",
       "      <td>1</td>\n",
       "      <td>1</td>\n",
       "    </tr>\n",
       "    <tr>\n",
       "      <th>24.415482</th>\n",
       "      <td>1</td>\n",
       "      <td>0</td>\n",
       "      <td>1</td>\n",
       "      <td>0</td>\n",
       "      <td>0</td>\n",
       "    </tr>\n",
       "    <tr>\n",
       "      <th>30.692875</th>\n",
       "      <td>0</td>\n",
       "      <td>0</td>\n",
       "      <td>0</td>\n",
       "      <td>0</td>\n",
       "      <td>0</td>\n",
       "    </tr>\n",
       "    <tr>\n",
       "      <th>-24.392529</th>\n",
       "      <td>6</td>\n",
       "      <td>1</td>\n",
       "      <td>4</td>\n",
       "      <td>2</td>\n",
       "      <td>2</td>\n",
       "    </tr>\n",
       "    <tr>\n",
       "      <th>10.886320</th>\n",
       "      <td>4</td>\n",
       "      <td>1</td>\n",
       "      <td>3</td>\n",
       "      <td>1</td>\n",
       "      <td>2</td>\n",
       "    </tr>\n",
       "    <tr>\n",
       "      <th>20.874743</th>\n",
       "      <td>1</td>\n",
       "      <td>0</td>\n",
       "      <td>1</td>\n",
       "      <td>0</td>\n",
       "      <td>0</td>\n",
       "    </tr>\n",
       "    <tr>\n",
       "      <th>22.465748</th>\n",
       "      <td>0</td>\n",
       "      <td>0</td>\n",
       "      <td>0</td>\n",
       "      <td>0</td>\n",
       "      <td>0</td>\n",
       "    </tr>\n",
       "    <tr>\n",
       "      <th>19.458147</th>\n",
       "      <td>0</td>\n",
       "      <td>0</td>\n",
       "      <td>0</td>\n",
       "      <td>0</td>\n",
       "      <td>0</td>\n",
       "    </tr>\n",
       "    <tr>\n",
       "      <th>11.055273</th>\n",
       "      <td>0</td>\n",
       "      <td>0</td>\n",
       "      <td>0</td>\n",
       "      <td>0</td>\n",
       "      <td>0</td>\n",
       "    </tr>\n",
       "    <tr>\n",
       "      <th>-24.359320</th>\n",
       "      <td>4</td>\n",
       "      <td>1</td>\n",
       "      <td>3</td>\n",
       "      <td>1</td>\n",
       "      <td>2</td>\n",
       "    </tr>\n",
       "    <tr>\n",
       "      <th>-0.530080</th>\n",
       "      <td>6</td>\n",
       "      <td>1</td>\n",
       "      <td>4</td>\n",
       "      <td>2</td>\n",
       "      <td>2</td>\n",
       "    </tr>\n",
       "    <tr>\n",
       "      <th>-7.258721</th>\n",
       "      <td>4</td>\n",
       "      <td>1</td>\n",
       "      <td>3</td>\n",
       "      <td>1</td>\n",
       "      <td>2</td>\n",
       "    </tr>\n",
       "    <tr>\n",
       "      <th>26.571054</th>\n",
       "      <td>0</td>\n",
       "      <td>0</td>\n",
       "      <td>0</td>\n",
       "      <td>0</td>\n",
       "      <td>0</td>\n",
       "    </tr>\n",
       "    <tr>\n",
       "      <th>22.946737</th>\n",
       "      <td>0</td>\n",
       "      <td>0</td>\n",
       "      <td>0</td>\n",
       "      <td>0</td>\n",
       "      <td>0</td>\n",
       "    </tr>\n",
       "    <tr>\n",
       "      <th>28.079639</th>\n",
       "      <td>0</td>\n",
       "      <td>0</td>\n",
       "      <td>0</td>\n",
       "      <td>0</td>\n",
       "      <td>0</td>\n",
       "    </tr>\n",
       "    <tr>\n",
       "      <th>-4.170435</th>\n",
       "      <td>6</td>\n",
       "      <td>1</td>\n",
       "      <td>4</td>\n",
       "      <td>2</td>\n",
       "      <td>2</td>\n",
       "    </tr>\n",
       "    <tr>\n",
       "      <th>8.873831</th>\n",
       "      <td>4</td>\n",
       "      <td>1</td>\n",
       "      <td>3</td>\n",
       "      <td>1</td>\n",
       "      <td>2</td>\n",
       "    </tr>\n",
       "    <tr>\n",
       "      <th>30.870050</th>\n",
       "      <td>0</td>\n",
       "      <td>0</td>\n",
       "      <td>0</td>\n",
       "      <td>0</td>\n",
       "      <td>0</td>\n",
       "    </tr>\n",
       "  </tbody>\n",
       "</table>\n",
       "<p>580 rows × 5 columns</p>\n",
       "</div>"
      ],
      "text/plain": [
       "            Grade  Cancerous  Group  OneTwoThree  ThreeFourFive\n",
       "0                                                              \n",
       " 14.078424      0          0      0            0              0\n",
       " 25.676012      0          0      0            0              0\n",
       " 0.117130       6          1      4            2              2\n",
       "-9.850016       5          1      4            2              2\n",
       " 16.687490      0          0      0            0              0\n",
       "-1.456921       4          1      3            1              2\n",
       "-2.728846       6          1      4            2              2\n",
       "-26.039242      6          1      4            2              2\n",
       " 19.966530      1          0      1            0              0\n",
       "-11.316241      6          1      4            2              2\n",
       " 4.169173       3          1      2            1              1\n",
       "-20.784933      3          1      2            1              1\n",
       " 13.243857      6          1      4            2              2\n",
       " 24.706121      1          0      1            0              0\n",
       " 29.802940      0          0      0            0              0\n",
       "-15.837831      6          1      4            2              2\n",
       "-28.860054      2          1      2            1              1\n",
       " 8.461684       6          1      4            2              2\n",
       "-29.729700      4          1      3            1              2\n",
       "-9.269693       3          1      2            1              1\n",
       "-12.137711      4          1      3            1              2\n",
       "-24.813471      4          1      3            1              2\n",
       "-22.281654      2          1      2            1              1\n",
       "-3.013097       4          1      3            1              2\n",
       "-3.985611       6          1      4            2              2\n",
       " 24.843000      0          0      0            0              0\n",
       " 14.515416      5          1      4            2              2\n",
       " 33.140896      0          0      0            0              0\n",
       " 16.838093      0          0      0            0              0\n",
       "-12.601958      3          1      2            1              1\n",
       "...           ...        ...    ...          ...            ...\n",
       "-12.453654      4          1      3            1              2\n",
       "-2.162959       6          1      4            2              2\n",
       " 16.341751      6          1      4            2              2\n",
       "-19.280382      5          1      4            2              2\n",
       "-9.046472       6          1      4            2              2\n",
       " 20.693985      0          0      0            0              0\n",
       " 12.473656      5          1      4            2              2\n",
       " 4.322223       4          1      3            1              2\n",
       " 25.069319      0          0      0            0              0\n",
       " 1.085336       3          1      2            1              1\n",
       "-27.529917      3          1      2            1              1\n",
       " 30.004803      0          0      0            0              0\n",
       "-1.765362       3          1      2            1              1\n",
       " 24.415482      1          0      1            0              0\n",
       " 30.692875      0          0      0            0              0\n",
       "-24.392529      6          1      4            2              2\n",
       " 10.886320      4          1      3            1              2\n",
       " 20.874743      1          0      1            0              0\n",
       " 22.465748      0          0      0            0              0\n",
       " 19.458147      0          0      0            0              0\n",
       " 11.055273      0          0      0            0              0\n",
       "-24.359320      4          1      3            1              2\n",
       "-0.530080       6          1      4            2              2\n",
       "-7.258721       4          1      3            1              2\n",
       " 26.571054      0          0      0            0              0\n",
       " 22.946737      0          0      0            0              0\n",
       " 28.079639      0          0      0            0              0\n",
       "-4.170435       6          1      4            2              2\n",
       " 8.873831       4          1      3            1              2\n",
       " 30.870050      0          0      0            0              0\n",
       "\n",
       "[580 rows x 5 columns]"
      ]
     },
     "execution_count": 28,
     "metadata": {},
     "output_type": "execute_result"
    }
   ],
   "source": [
    "exportData"
   ]
  },
  {
   "cell_type": "code",
   "execution_count": 29,
   "metadata": {},
   "outputs": [],
   "source": [
    "#With TCGA Healthy\n",
    "exportData.to_csv(\"../Data/exportData20.csv\")"
   ]
  },
  {
   "cell_type": "markdown",
   "metadata": {},
   "source": [
    "## Normality Testing"
   ]
  },
  {
   "cell_type": "code",
   "execution_count": 30,
   "metadata": {},
   "outputs": [
    {
     "name": "stdout",
     "output_type": "stream",
     "text": [
      "GTEx: 24.051698684692383\n",
      "TCGA Healthy: 21.705766677856445\n",
      "Group 1 (Grade 1 and 2): -6.96563196182251\n",
      "Group 2 (Grade 3): -11.18264389038086\n",
      "Group 3 (Grade 4 and 5): -6.404283046722412\n"
     ]
    }
   ],
   "source": [
    "print(\"GTEx: \" + str(mean(G0Reduced2)))\n",
    "print(\"TCGA Healthy: \" + str(mean(G1Reduced2)))\n",
    "print(\"Group 1 (Grade 1 and 2): \" + str(mean(G2Reduced2)))\n",
    "print(\"Group 2 (Grade 3): \" + str(mean(G3Reduced2)))\n",
    "print(\"Group 3 (Grade 4 and 5): \" + str(mean(G4Reduced2)))"
   ]
  },
  {
   "cell_type": "code",
   "execution_count": 31,
   "metadata": {},
   "outputs": [
    {
     "name": "stdout",
     "output_type": "stream",
     "text": [
      "GTEx: 5.730755805969238\n",
      "TCGA Healthy: 8.49921703338623\n",
      "Group 1 (Grade 1 and 2): 14.346939086914062\n",
      "Group 2 (Grade 3): 12.880051612854004\n",
      "Group 3 (Grade 4 and 5): 12.769207000732422\n"
     ]
    }
   ],
   "source": [
    "print(\"GTEx: \" + str(std(G0Reduced2)))\n",
    "print(\"TCGA Healthy: \" + str(std(G1Reduced2)))\n",
    "print(\"Group 1 (Grade 1 and 2): \" + str(std(G2Reduced2)))\n",
    "print(\"Group 2 (Grade 3): \" + str(std(G3Reduced2)))\n",
    "print(\"Group 3 (Grade 4 and 5): \" + str(std(G4Reduced2)))"
   ]
  },
  {
   "cell_type": "code",
   "execution_count": 32,
   "metadata": {},
   "outputs": [
    {
     "data": {
      "text/plain": [
       "(0.0, 30.0)"
      ]
     },
     "execution_count": 32,
     "metadata": {},
     "output_type": "execute_result"
    },
    {
     "data": {
      "image/png": "[encoded data removed]",
      "text/plain": [
       "<matplotlib.figure.Figure at 0x1a34524278>"
      ]
     },
     "metadata": {
      "needs_background": "light"
     },
     "output_type": "display_data"
    }
   ],
   "source": [
    "n, bins, patches = plt.hist(x=G0Reduced2, bins='auto', color='#0504aa', rwidth=0.85)\n",
    "plt.grid(axis='y', alpha=0.75)\n",
    "plt.xlabel('Value')\n",
    "plt.ylabel('Frequency')\n",
    "plt.title('G0')\n",
    "#plt.text(23, 45, r'$\\mu=15, b=3$')\n",
    "maxfreq = n.max()\n",
    "# Set a clean upper y-axis limit.\n",
    "plt.ylim(ymax=np.ceil(maxfreq / 10) * 10 if maxfreq % 10 else maxfreq + 10)"
   ]
  },
  {
   "cell_type": "code",
   "execution_count": 33,
   "metadata": {},
   "outputs": [
    {
     "data": {
      "text/plain": [
       "(0.0, 20.0)"
      ]
     },
     "execution_count": 33,
     "metadata": {},
     "output_type": "execute_result"
    },
    {
     "data": {
      "image/png": "[encoded data removed]",
      "text/plain": [
       "<matplotlib.figure.Figure at 0x1a22f004e0>"
      ]
     },
     "metadata": {
      "needs_background": "light"
     },
     "output_type": "display_data"
    }
   ],
   "source": [
    "n, bins, patches = plt.hist(x=G1Reduced2, bins='auto', color='#0504aa',\n",
    "                            alpha=0.7, rwidth=0.85)\n",
    "plt.grid(axis='y', alpha=0.75)\n",
    "plt.xlabel('Value')\n",
    "plt.ylabel('Frequency')\n",
    "plt.title('G1')\n",
    "plt.text(23, 45, r'$\\mu=15, b=3$')\n",
    "maxfreq = n.max()\n",
    "# Set a clean upper y-axis limit.\n",
    "plt.ylim(ymax=np.ceil(maxfreq / 10) * 10 if maxfreq % 10 else maxfreq + 10)"
   ]
  },
  {
   "cell_type": "code",
   "execution_count": 34,
   "metadata": {},
   "outputs": [
    {
     "data": {
      "text/plain": [
       "(0.0, 30.0)"
      ]
     },
     "execution_count": 34,
     "metadata": {},
     "output_type": "execute_result"
    },
    {
     "data": {
      "image/png": "[encoded data removed]",
      "text/plain": [
       "<matplotlib.figure.Figure at 0x1a17de2f28>"
      ]
     },
     "metadata": {
      "needs_background": "light"
     },
     "output_type": "display_data"
    }
   ],
   "source": [
    "n, bins, patches = plt.hist(x=G2Reduced2, bins='auto', color='#0504aa',\n",
    "                            alpha=0.7, rwidth=0.85)\n",
    "plt.grid(axis='y', alpha=0.75)\n",
    "plt.xlabel('Value')\n",
    "plt.ylabel('Frequency')\n",
    "plt.title('G2')\n",
    "plt.text(23, 45, r'$\\mu=15, b=3$')\n",
    "maxfreq = n.max()\n",
    "# Set a clean upper y-axis limit.\n",
    "plt.ylim(ymax=np.ceil(maxfreq / 10) * 10 if maxfreq % 10 else maxfreq + 10)"
   ]
  },
  {
   "cell_type": "code",
   "execution_count": 35,
   "metadata": {},
   "outputs": [
    {
     "data": {
      "text/plain": [
       "(0.0, 20.0)"
      ]
     },
     "execution_count": 35,
     "metadata": {},
     "output_type": "execute_result"
    },
    {
     "data": {
      "image/png": "[encoded data removed]",
      "text/plain": [
       "<matplotlib.figure.Figure at 0x1a17df8940>"
      ]
     },
     "metadata": {
      "needs_background": "light"
     },
     "output_type": "display_data"
    }
   ],
   "source": [
    "n, bins, patches = plt.hist(x=G3Reduced2, bins='auto', color='#0504aa',\n",
    "                            alpha=0.7, rwidth=0.85)\n",
    "plt.grid(axis='y', alpha=0.75)\n",
    "plt.xlabel('Value')\n",
    "plt.ylabel('Frequency')\n",
    "plt.title('G3')\n",
    "plt.text(23, 45, r'$\\mu=15, b=3$')\n",
    "maxfreq = n.max()\n",
    "# Set a clean upper y-axis limit.\n",
    "plt.ylim(ymax=np.ceil(maxfreq / 10) * 10 if maxfreq % 10 else maxfreq + 10)"
   ]
  },
  {
   "cell_type": "code",
   "execution_count": 36,
   "metadata": {},
   "outputs": [
    {
     "data": {
      "text/plain": [
       "(0.0, 40.0)"
      ]
     },
     "execution_count": 36,
     "metadata": {},
     "output_type": "execute_result"
    },
    {
     "data": {
      "image/png": "[encoded data removed]",
      "text/plain": [
       "<matplotlib.figure.Figure at 0x1a17de2358>"
      ]
     },
     "metadata": {
      "needs_background": "light"
     },
     "output_type": "display_data"
    }
   ],
   "source": [
    "n1, bins1, patches1 = plt.hist(x=G4Reduced2, bins='auto', color='#0504aa',\n",
    "                            alpha=0.7, rwidth=0.85)\n",
    "plt.grid(axis='y', alpha=0.75)\n",
    "plt.xlabel('Value')\n",
    "plt.ylabel('Frequency')\n",
    "plt.title('G4')\n",
    "plt.text(23, 45, r'$\\mu=15, b=3$')\n",
    "maxfreq = n1.max()\n",
    "# Set a clean upper y-axis limit.\n",
    "plt.ylim(ymax=np.ceil(maxfreq / 10) * 10 if maxfreq % 10 else maxfreq + 10)"
   ]
  },
  {
   "cell_type": "code",
   "execution_count": 37,
   "metadata": {},
   "outputs": [
    {
     "data": {
      "text/plain": [
       "(0.0, 20.0)"
      ]
     },
     "execution_count": 37,
     "metadata": {},
     "output_type": "execute_result"
    },
    {
     "data": {
      "image/png": "[encoded data removed]",
      "text/plain": [
       "<matplotlib.figure.Figure at 0x1a180aff98>"
      ]
     },
     "metadata": {
      "needs_background": "light"
     },
     "output_type": "display_data"
    }
   ],
   "source": [
    "n1, bins1, patches1 = plt.hist(x=One, bins='auto', color='#0504aa',\n",
    "                            alpha=0.7, rwidth=0.85)\n",
    "plt.grid(axis='y', alpha=0.75)\n",
    "plt.xlabel('Value')\n",
    "plt.ylabel('Frequency')\n",
    "plt.title('One')\n",
    "plt.text(23, 45, r'$\\mu=15, b=3$')\n",
    "maxfreq = n1.max()\n",
    "# Set a clean upper y-axis limit.\n",
    "plt.ylim(ymax=np.ceil(maxfreq / 10) * 10 if maxfreq % 10 else maxfreq + 10)"
   ]
  },
  {
   "cell_type": "code",
   "execution_count": 38,
   "metadata": {},
   "outputs": [
    {
     "data": {
      "text/plain": [
       "(0.0, 30.0)"
      ]
     },
     "execution_count": 38,
     "metadata": {},
     "output_type": "execute_result"
    },
    {
     "data": {
      "image/png": "[encoded data removed]",
      "text/plain": [
       "<matplotlib.figure.Figure at 0x1a187362e8>"
      ]
     },
     "metadata": {
      "needs_background": "light"
     },
     "output_type": "display_data"
    }
   ],
   "source": [
    "n1, bins1, patches1 = plt.hist(x=Two, bins='auto', color='#0504aa',\n",
    "                            alpha=0.7, rwidth=0.85)\n",
    "plt.grid(axis='y', alpha=0.75)\n",
    "plt.xlabel('Value')\n",
    "plt.ylabel('Frequency')\n",
    "plt.title('Two')\n",
    "plt.text(23, 45, r'$\\mu=15, b=3$')\n",
    "maxfreq = n1.max()\n",
    "# Set a clean upper y-axis limit.\n",
    "plt.ylim(ymax=np.ceil(maxfreq / 10) * 10 if maxfreq % 10 else maxfreq + 10)"
   ]
  },
  {
   "cell_type": "code",
   "execution_count": 39,
   "metadata": {},
   "outputs": [
    {
     "data": {
      "text/plain": [
       "(0.0, 20.0)"
      ]
     },
     "execution_count": 39,
     "metadata": {},
     "output_type": "execute_result"
    },
    {
     "data": {
      "image/png": "[encoded data removed]",
      "text/plain": [
       "<matplotlib.figure.Figure at 0x1a1872fba8>"
      ]
     },
     "metadata": {
      "needs_background": "light"
     },
     "output_type": "display_data"
    }
   ],
   "source": [
    "n1, bins1, patches1 = plt.hist(x=Four, bins='auto', color='#0504aa',\n",
    "                            alpha=0.7, rwidth=0.85)\n",
    "plt.grid(axis='y', alpha=0.75)\n",
    "plt.xlabel('Value')\n",
    "plt.ylabel('Frequency')\n",
    "plt.title('Four')\n",
    "plt.text(23, 45, r'$\\mu=15, b=3$')\n",
    "maxfreq = n1.max()\n",
    "# Set a clean upper y-axis limit.\n",
    "plt.ylim(ymax=np.ceil(maxfreq / 10) * 10 if maxfreq % 10 else maxfreq + 10)"
   ]
  },
  {
   "cell_type": "code",
   "execution_count": 40,
   "metadata": {},
   "outputs": [
    {
     "data": {
      "text/plain": [
       "(0.0, 30.0)"
      ]
     },
     "execution_count": 40,
     "metadata": {},
     "output_type": "execute_result"
    },
    {
     "data": {
      "image/png": "[encoded data removed]",
      "text/plain": [
       "<matplotlib.figure.Figure at 0x1a188e8ef0>"
      ]
     },
     "metadata": {
      "needs_background": "light"
     },
     "output_type": "display_data"
    }
   ],
   "source": [
    "n1, bins1, patches1 = plt.hist(x=Five, bins='auto', color='#0504aa',\n",
    "                            alpha=0.7, rwidth=0.85)\n",
    "plt.grid(axis='y', alpha=0.75)\n",
    "plt.xlabel('Value')\n",
    "plt.ylabel('Frequency')\n",
    "plt.title('Five')\n",
    "plt.text(23, 45, r'$\\mu=15, b=3$')\n",
    "maxfreq = n1.max()\n",
    "# Set a clean upper y-axis limit.\n",
    "plt.ylim(ymax=np.ceil(maxfreq / 10) * 10 if maxfreq % 10 else maxfreq + 10)"
   ]
  },
  {
   "cell_type": "code",
   "execution_count": 41,
   "metadata": {},
   "outputs": [
    {
     "name": "stderr",
     "output_type": "stream",
     "text": [
      "/Users/martincasey/anaconda3/lib/python3.6/site-packages/numpy/core/fromnumeric.py:52: FutureWarning: reshape is deprecated and will raise in a subsequent release. Please use .values.reshape(...) instead\n",
      "  return getattr(obj, method)(*args, **kwds)\n"
     ]
    },
    {
     "data": {
      "text/plain": [
       "Text(0.5,1,'Healthy vs Cancerous')"
      ]
     },
     "execution_count": 41,
     "metadata": {},
     "output_type": "execute_result"
    },
    {
     "data": {
      "image/png": "[encoded data removed]",
      "text/plain": [
       "<matplotlib.figure.Figure at 0x1a18682a58>"
      ]
     },
     "metadata": {
      "needs_background": "light"
     },
     "output_type": "display_data"
    }
   ],
   "source": [
    "n1, bins1, patches1 = plt.hist([Healthy,Cancerous], bins='auto',\n",
    "                            alpha=0.7, rwidth=0.85, label = ['Healthy', 'Cancerous'])\n",
    "plt.grid(axis='y', alpha=0.75)\n",
    "plt.xlabel('Value')\n",
    "plt.ylabel('Frequency')\n",
    "plt.legend(loc='upper right')\n",
    "plt.title('Healthy vs Cancerous')"
   ]
  },
  {
   "cell_type": "code",
   "execution_count": 42,
   "metadata": {},
   "outputs": [
    {
     "name": "stderr",
     "output_type": "stream",
     "text": [
      "/Users/martincasey/anaconda3/lib/python3.6/site-packages/numpy/core/fromnumeric.py:52: FutureWarning: reshape is deprecated and will raise in a subsequent release. Please use .values.reshape(...) instead\n",
      "  return getattr(obj, method)(*args, **kwds)\n"
     ]
    },
    {
     "data": {
      "text/plain": [
       "Text(0.5,1,'Group 1 (Grade 1 and 2) vs Grade 3 + Grade 4 + Grade 5')"
      ]
     },
     "execution_count": 42,
     "metadata": {},
     "output_type": "execute_result"
    },
    {
     "data": {
      "image/png": "[encoded data removed]",
      "text/plain": [
       "<matplotlib.figure.Figure at 0x1a1a0efa20>"
      ]
     },
     "metadata": {
      "needs_background": "light"
     },
     "output_type": "display_data"
    }
   ],
   "source": [
    "n1, bins1, patches1 = plt.hist([G2Reduced2,ThreeFourFive], bins='auto',\n",
    "                            alpha=0.7, rwidth=0.85, label = ['One+Two', 'Three+Four+Five'])\n",
    "plt.grid(axis='y', alpha=0.75)\n",
    "plt.xlabel('Value')\n",
    "plt.ylabel('Frequency')\n",
    "plt.legend(loc='upper right')\n",
    "plt.title('Group 1 (Grade 1 and 2) vs Grade 3 + Grade 4 + Grade 5')"
   ]
  },
  {
   "cell_type": "code",
   "execution_count": 43,
   "metadata": {},
   "outputs": [
    {
     "name": "stderr",
     "output_type": "stream",
     "text": [
      "/Users/martincasey/anaconda3/lib/python3.6/site-packages/numpy/core/fromnumeric.py:52: FutureWarning: reshape is deprecated and will raise in a subsequent release. Please use .values.reshape(...) instead\n",
      "  return getattr(obj, method)(*args, **kwds)\n"
     ]
    },
    {
     "data": {
      "text/plain": [
       "Text(0.5,1,'Grade 1 + Grade 2 + Grade 3 vs Group 3(Grade 4 + Grade 5)')"
      ]
     },
     "execution_count": 43,
     "metadata": {},
     "output_type": "execute_result"
    },
    {
     "data": {
      "image/png": "[encoded data removed]",
      "text/plain": [
       "<matplotlib.figure.Figure at 0x1a18912400>"
      ]
     },
     "metadata": {
      "needs_background": "light"
     },
     "output_type": "display_data"
    }
   ],
   "source": [
    "n1, bins1, patches1 = plt.hist([OneTwoThree,G4Reduced2], bins='auto',\n",
    "                            alpha=0.7, rwidth=0.85, label = ['One+Two+Three', 'Four+Five'])\n",
    "plt.grid(axis='y', alpha=0.75)\n",
    "plt.xlabel('Value')\n",
    "plt.ylabel('Frequency')\n",
    "plt.legend(loc='upper right')\n",
    "plt.title('Grade 1 + Grade 2 + Grade 3 vs Group 3(Grade 4 + Grade 5)')"
   ]
  },
  {
   "cell_type": "code",
   "execution_count": 44,
   "metadata": {},
   "outputs": [
    {
     "name": "stderr",
     "output_type": "stream",
     "text": [
      "/Users/martincasey/anaconda3/lib/python3.6/site-packages/numpy/core/fromnumeric.py:52: FutureWarning: reshape is deprecated and will raise in a subsequent release. Please use .values.reshape(...) instead\n",
      "  return getattr(obj, method)(*args, **kwds)\n"
     ]
    },
    {
     "data": {
      "text/plain": [
       "Text(0.5,1,'Grade 1 vs Grade 5')"
      ]
     },
     "execution_count": 44,
     "metadata": {},
     "output_type": "execute_result"
    },
    {
     "data": {
      "image/png": "[encoded data removed]",
      "text/plain": [
       "<matplotlib.figure.Figure at 0x1a188e86d8>"
      ]
     },
     "metadata": {
      "needs_background": "light"
     },
     "output_type": "display_data"
    }
   ],
   "source": [
    "n1, bins1, patches1 = plt.hist([One,Five], bins='auto',\n",
    "                            alpha=0.7, rwidth=0.85, label = ['One', 'Five'])\n",
    "plt.grid(axis='y', alpha=0.75)\n",
    "plt.xlabel('Value')\n",
    "plt.ylabel('Frequency')\n",
    "plt.legend(loc='upper right')\n",
    "plt.title('Grade 1 vs Grade 5')"
   ]
  },
  {
   "cell_type": "code",
   "execution_count": 45,
   "metadata": {},
   "outputs": [
    {
     "name": "stderr",
     "output_type": "stream",
     "text": [
      "/Users/martincasey/anaconda3/lib/python3.6/site-packages/numpy/core/fromnumeric.py:52: FutureWarning: reshape is deprecated and will raise in a subsequent release. Please use .values.reshape(...) instead\n",
      "  return getattr(obj, method)(*args, **kwds)\n"
     ]
    },
    {
     "data": {
      "text/plain": [
       "Text(0.5,1,'GTEX vs. (Grade 1 + Grade 2)')"
      ]
     },
     "execution_count": 45,
     "metadata": {},
     "output_type": "execute_result"
    },
    {
     "data": {
      "image/png": "[encoded data removed]",
      "text/plain": [
       "<matplotlib.figure.Figure at 0x1a17df8518>"
      ]
     },
     "metadata": {
      "needs_background": "light"
     },
     "output_type": "display_data"
    }
   ],
   "source": [
    "n1, bins1, patches1 = plt.hist([G0Reduced2,G2Reduced2], bins='auto',\n",
    "                            alpha=0.7, rwidth=0.85, label = ['GTEx', 'Grades 1 and 2'])\n",
    "plt.grid(axis='y', alpha=0.75)\n",
    "plt.xlabel('Value')\n",
    "plt.ylabel('Frequency')\n",
    "plt.legend(loc='upper right')\n",
    "plt.title('GTEX vs. (Grade 1 + Grade 2)')"
   ]
  },
  {
   "cell_type": "code",
   "execution_count": 46,
   "metadata": {},
   "outputs": [
    {
     "name": "stderr",
     "output_type": "stream",
     "text": [
      "/Users/martincasey/anaconda3/lib/python3.6/site-packages/numpy/core/fromnumeric.py:52: FutureWarning: reshape is deprecated and will raise in a subsequent release. Please use .values.reshape(...) instead\n",
      "  return getattr(obj, method)(*args, **kwds)\n"
     ]
    },
    {
     "data": {
      "text/plain": [
       "Text(0.5,1,'GTEX vs. Grade 3')"
      ]
     },
     "execution_count": 46,
     "metadata": {},
     "output_type": "execute_result"
    },
    {
     "data": {
      "image/png": "[encoded data removed]",
      "text/plain": [
       "<matplotlib.figure.Figure at 0x1a17cf9320>"
      ]
     },
     "metadata": {
      "needs_background": "light"
     },
     "output_type": "display_data"
    }
   ],
   "source": [
    "n1, bins1, patches1 = plt.hist([G0Reduced2,G3Reduced2], bins='auto',\n",
    "                            alpha=0.7, rwidth=0.85, label = ['GTEx', 'Grade 3'])\n",
    "plt.grid(axis='y', alpha=0.75)\n",
    "plt.xlabel('Value')\n",
    "plt.ylabel('Frequency')\n",
    "plt.legend(loc='upper right')\n",
    "plt.title('GTEX vs. Grade 3')"
   ]
  },
  {
   "cell_type": "code",
   "execution_count": 47,
   "metadata": {},
   "outputs": [
    {
     "name": "stderr",
     "output_type": "stream",
     "text": [
      "/Users/martincasey/anaconda3/lib/python3.6/site-packages/numpy/core/fromnumeric.py:52: FutureWarning: reshape is deprecated and will raise in a subsequent release. Please use .values.reshape(...) instead\n",
      "  return getattr(obj, method)(*args, **kwds)\n"
     ]
    },
    {
     "data": {
      "text/plain": [
       "Text(0.5,1,'GTEX vs. (Grade 4 + Grade 5)')"
      ]
     },
     "execution_count": 47,
     "metadata": {},
     "output_type": "execute_result"
    },
    {
     "data": {
      "image/png": "[encoded data removed]",
      "text/plain": [
       "<matplotlib.figure.Figure at 0x1a17dad668>"
      ]
     },
     "metadata": {
      "needs_background": "light"
     },
     "output_type": "display_data"
    }
   ],
   "source": [
    "n1, bins1, patches1 = plt.hist([G0Reduced2,G3Reduced2], bins='auto',\n",
    "                            alpha=0.7, rwidth=0.85, label = ['GTEx', 'Grades 4 and 5'])\n",
    "plt.grid(axis='y', alpha=0.75)\n",
    "plt.xlabel('Value')\n",
    "plt.ylabel('Frequency')\n",
    "plt.legend(loc='upper right')\n",
    "plt.title('GTEX vs. (Grade 4 + Grade 5)')"
   ]
  },
  {
   "cell_type": "code",
   "execution_count": 48,
   "metadata": {},
   "outputs": [
    {
     "name": "stderr",
     "output_type": "stream",
     "text": [
      "/Users/martincasey/anaconda3/lib/python3.6/site-packages/numpy/core/fromnumeric.py:52: FutureWarning: reshape is deprecated and will raise in a subsequent release. Please use .values.reshape(...) instead\n",
      "  return getattr(obj, method)(*args, **kwds)\n"
     ]
    },
    {
     "data": {
      "text/plain": [
       "Text(0.5,1,'(Grade 1 + Grade 2) vs. Grade 3')"
      ]
     },
     "execution_count": 48,
     "metadata": {},
     "output_type": "execute_result"
    },
    {
     "data": {
      "image/png": "[encoded data removed]",
      "text/plain": [
       "<matplotlib.figure.Figure at 0x1a17cf6c50>"
      ]
     },
     "metadata": {
      "needs_background": "light"
     },
     "output_type": "display_data"
    }
   ],
   "source": [
    "n1, bins1, patches1 = plt.hist([G2Reduced2,G3Reduced2], bins='auto',\n",
    "                            alpha=0.7, rwidth=0.85, label = ['Grades 1 and 2', 'Grade 3'])\n",
    "plt.grid(axis='y', alpha=0.75)\n",
    "plt.xlabel('Value')\n",
    "plt.ylabel('Frequency')\n",
    "plt.legend(loc='upper right')\n",
    "plt.title('(Grade 1 + Grade 2) vs. Grade 3')"
   ]
  },
  {
   "cell_type": "code",
   "execution_count": 49,
   "metadata": {},
   "outputs": [
    {
     "name": "stderr",
     "output_type": "stream",
     "text": [
      "/Users/martincasey/anaconda3/lib/python3.6/site-packages/numpy/core/fromnumeric.py:52: FutureWarning: reshape is deprecated and will raise in a subsequent release. Please use .values.reshape(...) instead\n",
      "  return getattr(obj, method)(*args, **kwds)\n"
     ]
    },
    {
     "data": {
      "text/plain": [
       "Text(0.5,1,'(Grade 1 + Grade 2) vs. (Grade 4 + Grade 5)')"
      ]
     },
     "execution_count": 49,
     "metadata": {},
     "output_type": "execute_result"
    },
    {
     "data": {
      "image/png": "[encoded data removed]",
      "text/plain": [
       "<matplotlib.figure.Figure at 0x1a18673358>"
      ]
     },
     "metadata": {
      "needs_background": "light"
     },
     "output_type": "display_data"
    }
   ],
   "source": [
    "n1, bins1, patches1 = plt.hist([G2Reduced2,G4Reduced2], bins='auto',\n",
    "                            alpha=0.7, rwidth=0.85, label = ['Grades 1 and 2', 'Grades 4 and 5'])\n",
    "plt.grid(axis='y', alpha=0.75)\n",
    "plt.xlabel('Value')\n",
    "plt.ylabel('Frequency')\n",
    "plt.legend(loc='upper right')\n",
    "plt.title('(Grade 1 + Grade 2) vs. (Grade 4 + Grade 5)')"
   ]
  },
  {
   "cell_type": "code",
   "execution_count": 50,
   "metadata": {},
   "outputs": [
    {
     "name": "stderr",
     "output_type": "stream",
     "text": [
      "/Users/martincasey/anaconda3/lib/python3.6/site-packages/numpy/core/fromnumeric.py:52: FutureWarning: reshape is deprecated and will raise in a subsequent release. Please use .values.reshape(...) instead\n",
      "  return getattr(obj, method)(*args, **kwds)\n"
     ]
    },
    {
     "data": {
      "text/plain": [
       "Text(0.5,1,'GTEx vs TCGA Healthy')"
      ]
     },
     "execution_count": 50,
     "metadata": {},
     "output_type": "execute_result"
    },
    {
     "data": {
      "image/png": "[encoded data removed]",
      "text/plain": [
       "<matplotlib.figure.Figure at 0x1a1a22d2b0>"
      ]
     },
     "metadata": {
      "needs_background": "light"
     },
     "output_type": "display_data"
    }
   ],
   "source": [
    "n1, bins1, patches1 = plt.hist([G0Reduced2,G1Reduced2], bins='auto',\n",
    "                            alpha=0.7, rwidth=0.85, label = ['GTEx', 'TCGA Healthy'])\n",
    "plt.grid(axis='y', alpha=0.75)\n",
    "plt.xlabel('Value')\n",
    "plt.ylabel('Frequency')\n",
    "plt.legend(loc='upper right')\n",
    "plt.title('GTEx vs TCGA Healthy')"
   ]
  },
  {
   "cell_type": "code",
   "execution_count": 51,
   "metadata": {},
   "outputs": [
    {
     "name": "stderr",
     "output_type": "stream",
     "text": [
      "/Users/martincasey/anaconda3/lib/python3.6/site-packages/numpy/core/fromnumeric.py:52: FutureWarning: reshape is deprecated and will raise in a subsequent release. Please use .values.reshape(...) instead\n",
      "  return getattr(obj, method)(*args, **kwds)\n"
     ]
    },
    {
     "data": {
      "text/plain": [
       "Text(0.5,1,'GTEx vs Grade 5')"
      ]
     },
     "execution_count": 51,
     "metadata": {},
     "output_type": "execute_result"
    },
    {
     "data": {
      "image/png": "[encoded data removed]",
      "text/plain": [
       "<matplotlib.figure.Figure at 0x1a1a2e3eb8>"
      ]
     },
     "metadata": {
      "needs_background": "light"
     },
     "output_type": "display_data"
    }
   ],
   "source": [
    "n1, bins1, patches1 = plt.hist([G0Reduced2,Five], bins='auto',\n",
    "                            alpha=0.7, rwidth=0.85, label = ['GTEx', 'Grade 5'])\n",
    "plt.grid(axis='y', alpha=0.75)\n",
    "plt.xlabel('Value')\n",
    "plt.ylabel('Frequency')\n",
    "plt.legend(loc='upper right')\n",
    "plt.title('GTEx vs Grade 5')"
   ]
  },
  {
   "cell_type": "code",
   "execution_count": 52,
   "metadata": {},
   "outputs": [
    {
     "name": "stderr",
     "output_type": "stream",
     "text": [
      "/Users/martincasey/anaconda3/lib/python3.6/site-packages/numpy/core/fromnumeric.py:52: FutureWarning: reshape is deprecated and will raise in a subsequent release. Please use .values.reshape(...) instead\n",
      "  return getattr(obj, method)(*args, **kwds)\n"
     ]
    },
    {
     "data": {
      "text/plain": [
       "Text(0.5,1,'TCGA Healthy vs Grade 5')"
      ]
     },
     "execution_count": 52,
     "metadata": {},
     "output_type": "execute_result"
    },
    {
     "data": {
      "image/png": "[encoded data removed]",
      "text/plain": [
       "<matplotlib.figure.Figure at 0x1a1a49f5c0>"
      ]
     },
     "metadata": {
      "needs_background": "light"
     },
     "output_type": "display_data"
    }
   ],
   "source": [
    "n1, bins1, patches1 = plt.hist([G1Reduced2,Five], bins='auto',\n",
    "                            alpha=0.7, rwidth=0.85, label = ['TCGA Healthy', 'Grade 5'])\n",
    "plt.grid(axis='y', alpha=0.75)\n",
    "plt.xlabel('Value')\n",
    "plt.ylabel('Frequency')\n",
    "plt.legend(loc='upper right')\n",
    "plt.title('TCGA Healthy vs Grade 5')"
   ]
  },
  {
   "cell_type": "markdown",
   "metadata": {},
   "source": [
    "### QQ Plot"
   ]
  },
  {
   "cell_type": "code",
   "execution_count": 53,
   "metadata": {},
   "outputs": [
    {
     "data": {
      "image/png": "[encoded data removed]",
      "text/plain": [
       "<matplotlib.figure.Figure at 0x1a19b5d1d0>"
      ]
     },
     "execution_count": 53,
     "metadata": {},
     "output_type": "execute_result"
    },
    {
     "data": {
      "image/png": "[encoded data removed]",
      "text/plain": [
       "<matplotlib.figure.Figure at 0x1a19b5d1d0>"
      ]
     },
     "metadata": {
      "needs_background": "light"
     },
     "output_type": "display_data"
    }
   ],
   "source": [
    "qqplot(G0Reduced2, line = '45', fit = True)"
   ]
  },
  {
   "cell_type": "code",
   "execution_count": 54,
   "metadata": {},
   "outputs": [
    {
     "data": {
      "image/png": "[encoded data removed]",
      "text/plain": [
       "<matplotlib.figure.Figure at 0x1a1a66fe10>"
      ]
     },
     "execution_count": 54,
     "metadata": {},
     "output_type": "execute_result"
    },
    {
     "data": {
      "image/png": "[encoded data removed]",
      "text/plain": [
       "<matplotlib.figure.Figure at 0x1a1a66fe10>"
      ]
     },
     "metadata": {
      "needs_background": "light"
     },
     "output_type": "display_data"
    }
   ],
   "source": [
    "qqplot(G1Reduced2, line = '45', fit = True)"
   ]
  },
  {
   "cell_type": "code",
   "execution_count": 55,
   "metadata": {},
   "outputs": [
    {
     "data": {
      "image/png": "[encoded data removed]",
      "text/plain": [
       "<matplotlib.figure.Figure at 0x1a1a6a4c88>"
      ]
     },
     "execution_count": 55,
     "metadata": {},
     "output_type": "execute_result"
    },
    {
     "data": {
      "image/png": "[encoded data removed]",
      "text/plain": [
       "<matplotlib.figure.Figure at 0x1a1a6a4c88>"
      ]
     },
     "metadata": {
      "needs_background": "light"
     },
     "output_type": "display_data"
    }
   ],
   "source": [
    "qqplot(G2Reduced2, line = '45', fit = True)"
   ]
  },
  {
   "cell_type": "code",
   "execution_count": 56,
   "metadata": {},
   "outputs": [
    {
     "data": {
      "image/png": "[encoded data removed]",
      "text/plain": [
       "<matplotlib.figure.Figure at 0x1a1a6a4908>"
      ]
     },
     "execution_count": 56,
     "metadata": {},
     "output_type": "execute_result"
    },
    {
     "data": {
      "image/png": "[encoded data removed]",
      "text/plain": [
       "<matplotlib.figure.Figure at 0x1a1a6a4908>"
      ]
     },
     "metadata": {
      "needs_background": "light"
     },
     "output_type": "display_data"
    }
   ],
   "source": [
    "qqplot(G3Reduced2, line = '45', fit = True)"
   ]
  },
  {
   "cell_type": "code",
   "execution_count": 57,
   "metadata": {},
   "outputs": [
    {
     "data": {
      "image/png": "[encoded data removed]",
      "text/plain": [
       "<matplotlib.figure.Figure at 0x1a1a82f160>"
      ]
     },
     "execution_count": 57,
     "metadata": {},
     "output_type": "execute_result"
    },
    {
     "data": {
      "image/png": "[encoded data removed]",
      "text/plain": [
       "<matplotlib.figure.Figure at 0x1a1a82f160>"
      ]
     },
     "metadata": {
      "needs_background": "light"
     },
     "output_type": "display_data"
    }
   ],
   "source": [
    "qqplot(G4Reduced2, line = '45', fit = True)"
   ]
  },
  {
   "cell_type": "code",
   "execution_count": 58,
   "metadata": {},
   "outputs": [
    {
     "data": {
      "image/png": "[encoded data removed]",
      "text/plain": [
       "<matplotlib.figure.Figure at 0x1a1a85b8d0>"
      ]
     },
     "execution_count": 58,
     "metadata": {},
     "output_type": "execute_result"
    },
    {
     "data": {
      "image/png": "[encoded data removed]",
      "text/plain": [
       "<matplotlib.figure.Figure at 0x1a1a85b8d0>"
      ]
     },
     "metadata": {
      "needs_background": "light"
     },
     "output_type": "display_data"
    }
   ],
   "source": [
    "qqplot(One, line = '45', fit = True)"
   ]
  },
  {
   "cell_type": "code",
   "execution_count": 59,
   "metadata": {},
   "outputs": [
    {
     "data": {
      "image/png": "[encoded data removed]",
      "text/plain": [
       "<matplotlib.figure.Figure at 0x1a1aa5f4a8>"
      ]
     },
     "execution_count": 59,
     "metadata": {},
     "output_type": "execute_result"
    },
    {
     "data": {
      "image/png": "[encoded data removed]",
      "text/plain": [
       "<matplotlib.figure.Figure at 0x1a1aa5f4a8>"
      ]
     },
     "metadata": {
      "needs_background": "light"
     },
     "output_type": "display_data"
    }
   ],
   "source": [
    "qqplot(Two, line = '45', fit = True)"
   ]
  },
  {
   "cell_type": "code",
   "execution_count": 60,
   "metadata": {},
   "outputs": [
    {
     "data": {
      "image/png": "[encoded data removed]",
      "text/plain": [
       "<matplotlib.figure.Figure at 0x1a1a8cf908>"
      ]
     },
     "execution_count": 60,
     "metadata": {},
     "output_type": "execute_result"
    },
    {
     "data": {
      "image/png": "[encoded data removed]",
      "text/plain": [
       "<matplotlib.figure.Figure at 0x1a1a8cf908>"
      ]
     },
     "metadata": {
      "needs_background": "light"
     },
     "output_type": "display_data"
    }
   ],
   "source": [
    "qqplot(Four, line = '45', fit = True)"
   ]
  },
  {
   "cell_type": "code",
   "execution_count": 61,
   "metadata": {},
   "outputs": [
    {
     "data": {
      "image/png": "[encoded data removed]",
      "text/plain": [
       "<matplotlib.figure.Figure at 0x1a1ac0e278>"
      ]
     },
     "execution_count": 61,
     "metadata": {},
     "output_type": "execute_result"
    },
    {
     "data": {
      "image/png": "[encoded data removed]",
      "text/plain": [
       "<matplotlib.figure.Figure at 0x1a1ac0e278>"
      ]
     },
     "metadata": {
      "needs_background": "light"
     },
     "output_type": "display_data"
    }
   ],
   "source": [
    "qqplot(Five, line = '45', fit = True)"
   ]
  },
  {
   "cell_type": "markdown",
   "metadata": {},
   "source": [
    "### Shapiro-Wilk Test"
   ]
  },
  {
   "cell_type": "code",
   "execution_count": 62,
   "metadata": {},
   "outputs": [
    {
     "name": "stdout",
     "output_type": "stream",
     "text": [
      "Statistics=0.941, p=0.000\n",
      "Sample does not look Gaussian (reject H0)\n"
     ]
    }
   ],
   "source": [
    "stat, p = shapiro(G0Reduced2)\n",
    "print('Statistics=%.3f, p=%.3f' % (stat, p))\n",
    "alpha = 0.05\n",
    "if p > alpha:\n",
    "    print('Sample looks Gaussian (fail to reject H0)')\n",
    "else:\n",
    "    print('Sample does not look Gaussian (reject H0)')"
   ]
  },
  {
   "cell_type": "code",
   "execution_count": 63,
   "metadata": {},
   "outputs": [
    {
     "name": "stdout",
     "output_type": "stream",
     "text": [
      "Statistics=0.856, p=0.000\n",
      "Sample does not look Gaussian (reject H0)\n"
     ]
    }
   ],
   "source": [
    "stat, p = shapiro(G1Reduced2)\n",
    "print('Statistics=%.3f, p=%.3f' % (stat, p))\n",
    "alpha = 0.05\n",
    "if p > alpha:\n",
    "    print('Sample looks Gaussian (fail to reject H0)')\n",
    "else:\n",
    "    print('Sample does not look Gaussian (reject H0)')"
   ]
  },
  {
   "cell_type": "code",
   "execution_count": 64,
   "metadata": {},
   "outputs": [
    {
     "name": "stdout",
     "output_type": "stream",
     "text": [
      "Statistics=0.970, p=0.002\n",
      "Sample does not look Gaussian (reject H0)\n"
     ]
    }
   ],
   "source": [
    "stat, p = shapiro(G2Reduced2)\n",
    "print('Statistics=%.3f, p=%.3f' % (stat, p))\n",
    "alpha = 0.05\n",
    "if p > alpha:\n",
    "    print('Sample looks Gaussian (fail to reject H0)')\n",
    "else:\n",
    "    print('Sample does not look Gaussian (reject H0)')"
   ]
  },
  {
   "cell_type": "code",
   "execution_count": 65,
   "metadata": {},
   "outputs": [
    {
     "name": "stdout",
     "output_type": "stream",
     "text": [
      "Statistics=0.935, p=0.001\n",
      "Sample does not look Gaussian (reject H0)\n"
     ]
    }
   ],
   "source": [
    "stat, p = shapiro(G3Reduced2)\n",
    "print('Statistics=%.3f, p=%.3f' % (stat, p))\n",
    "alpha = 0.05\n",
    "if p > alpha:\n",
    "    print('Sample looks Gaussian (fail to reject H0)')\n",
    "else:\n",
    "    print('Sample does not look Gaussian (reject H0)')"
   ]
  },
  {
   "cell_type": "code",
   "execution_count": 66,
   "metadata": {},
   "outputs": [
    {
     "name": "stdout",
     "output_type": "stream",
     "text": [
      "Statistics=0.980, p=0.009\n",
      "Sample does not look Gaussian (reject H0)\n"
     ]
    }
   ],
   "source": [
    "stat, p = shapiro(G4Reduced2)\n",
    "print('Statistics=%.3f, p=%.3f' % (stat, p))\n",
    "alpha = 0.05\n",
    "if p > alpha:\n",
    "    print('Sample looks Gaussian (fail to reject H0)')\n",
    "else:\n",
    "    print('Sample does not look Gaussian (reject H0)')"
   ]
  },
  {
   "cell_type": "code",
   "execution_count": 67,
   "metadata": {},
   "outputs": [
    {
     "name": "stdout",
     "output_type": "stream",
     "text": [
      "Statistics=0.944, p=0.058\n",
      "Sample looks Gaussian (fail to reject H0)\n"
     ]
    }
   ],
   "source": [
    "stat, p = shapiro(One)\n",
    "print('Statistics=%.3f, p=%.3f' % (stat, p))\n",
    "alpha = 0.05\n",
    "if p > alpha:\n",
    "    print('Sample looks Gaussian (fail to reject H0)')\n",
    "else:\n",
    "    print('Sample does not look Gaussian (reject H0)')"
   ]
  },
  {
   "cell_type": "code",
   "execution_count": 68,
   "metadata": {},
   "outputs": [
    {
     "name": "stdout",
     "output_type": "stream",
     "text": [
      "Statistics=0.972, p=0.013\n",
      "Sample does not look Gaussian (reject H0)\n"
     ]
    }
   ],
   "source": [
    "stat, p = shapiro(Two)\n",
    "print('Statistics=%.3f, p=%.3f' % (stat, p))\n",
    "alpha = 0.05\n",
    "if p > alpha:\n",
    "    print('Sample looks Gaussian (fail to reject H0)')\n",
    "else:\n",
    "    print('Sample does not look Gaussian (reject H0)')"
   ]
  },
  {
   "cell_type": "code",
   "execution_count": 69,
   "metadata": {},
   "outputs": [
    {
     "name": "stdout",
     "output_type": "stream",
     "text": [
      "Statistics=0.950, p=0.015\n",
      "Sample does not look Gaussian (reject H0)\n"
     ]
    }
   ],
   "source": [
    "stat, p = shapiro(Four)\n",
    "print('Statistics=%.3f, p=%.3f' % (stat, p))\n",
    "alpha = 0.05\n",
    "if p > alpha:\n",
    "    print('Sample looks Gaussian (fail to reject H0)')\n",
    "else:\n",
    "    print('Sample does not look Gaussian (reject H0)')"
   ]
  },
  {
   "cell_type": "code",
   "execution_count": 70,
   "metadata": {},
   "outputs": [
    {
     "name": "stdout",
     "output_type": "stream",
     "text": [
      "Statistics=0.987, p=0.266\n",
      "Sample looks Gaussian (fail to reject H0)\n"
     ]
    }
   ],
   "source": [
    "stat, p = shapiro(Five)\n",
    "print('Statistics=%.3f, p=%.3f' % (stat, p))\n",
    "alpha = 0.05\n",
    "if p > alpha:\n",
    "    print('Sample looks Gaussian (fail to reject H0)')\n",
    "else:\n",
    "    print('Sample does not look Gaussian (reject H0)')"
   ]
  },
  {
   "cell_type": "markdown",
   "metadata": {},
   "source": [
    "Since the GTEX group and some of the others are not gaussian, we will have to use a non-parametric test"
   ]
  },
  {
   "cell_type": "markdown",
   "metadata": {},
   "source": [
    "## Mann-Whitney U (Comparing all to GTEX)"
   ]
  },
  {
   "cell_type": "code",
   "execution_count": 71,
   "metadata": {},
   "outputs": [
    {
     "name": "stdout",
     "output_type": "stream",
     "text": [
      "Statistics=5618.000, p=0.999\n",
      "Two samples come from the same population (fail to reject H0)\n"
     ]
    }
   ],
   "source": [
    "stat, p = mannwhitneyu(G0Reduced2, G0Reduced2, alternative = 'two-sided')\n",
    "print('Statistics=%.3f, p=%.3f' % (stat, p))\n",
    "alpha = 0.05\n",
    "if p < alpha:\n",
    "    print('A particular population tends to have larger value compared to the other (reject H0)')\n",
    "else:\n",
    "    print('Two samples come from the same population (fail to reject H0)')"
   ]
  },
  {
   "cell_type": "code",
   "execution_count": 72,
   "metadata": {},
   "outputs": [
    {
     "name": "stdout",
     "output_type": "stream",
     "text": [
      "Statistics=2910.000, p=0.154\n",
      "Two samples come from the same population (fail to reject H0)\n"
     ]
    }
   ],
   "source": [
    "stat, p = mannwhitneyu(G0Reduced2, G1Reduced2, alternative = 'two-sided')\n",
    "print('Statistics=%.3f, p=%.3f' % (stat, p))\n",
    "alpha = 0.05\n",
    "if p < alpha:\n",
    "    print('A particular population tends to have larger value compared to the other (reject H0)')\n",
    "else:\n",
    "    print('Two samples come from the same population (fail to reject H0)')"
   ]
  },
  {
   "cell_type": "code",
   "execution_count": 73,
   "metadata": {},
   "outputs": [
    {
     "name": "stdout",
     "output_type": "stream",
     "text": [
      "Statistics=16533.000, p=0.000\n",
      "A particular population tends to have larger value compared to the other (reject H0)\n"
     ]
    }
   ],
   "source": [
    "stat, p = mannwhitneyu(G0Reduced2, G2Reduced2, alternative = 'two-sided')\n",
    "print('Statistics=%.3f, p=%.3f' % (stat, p))\n",
    "alpha = 0.05\n",
    "if p < alpha:\n",
    "    print('A particular population tends to have larger value compared to the other (reject H0)')\n",
    "else:\n",
    "    print('Two samples come from the same population (fail to reject H0)')"
   ]
  },
  {
   "cell_type": "code",
   "execution_count": 74,
   "metadata": {},
   "outputs": [
    {
     "name": "stdout",
     "output_type": "stream",
     "text": [
      "Statistics=8372.000, p=0.000\n",
      "A particular population tends to have larger value compared to the other (reject H0)\n"
     ]
    }
   ],
   "source": [
    "stat, p = mannwhitneyu(G0Reduced2, G3Reduced2, alternative = 'two-sided')\n",
    "print('Statistics=%.3f, p=%.3f' % (stat, p))\n",
    "alpha = 0.05\n",
    "if p < alpha:\n",
    "    print('A particular population tends to have larger value compared to the other (reject H0)')\n",
    "else:\n",
    "    print('Two samples come from the same population (fail to reject H0)')"
   ]
  },
  {
   "cell_type": "code",
   "execution_count": 75,
   "metadata": {},
   "outputs": [
    {
     "name": "stdout",
     "output_type": "stream",
     "text": [
      "Statistics=19611.000, p=0.000\n",
      "A particular population tends to have larger value compared to the other (reject H0)\n"
     ]
    }
   ],
   "source": [
    "stat, p = mannwhitneyu(G0Reduced2, G4Reduced2, alternative = 'two-sided')\n",
    "print('Statistics=%.3f, p=%.3f' % (stat, p))\n",
    "alpha = 0.05\n",
    "if p < alpha:\n",
    "    print('A particular population tends to have larger value compared to the other (reject H0)')\n",
    "else:\n",
    "    print('Two samples come from the same population (fail to reject H0)')"
   ]
  },
  {
   "cell_type": "code",
   "execution_count": 76,
   "metadata": {},
   "outputs": [
    {
     "name": "stdout",
     "output_type": "stream",
     "text": [
      "Statistics=3909.000, p=0.000\n",
      "A particular population tends to have larger value compared to the other (reject H0)\n"
     ]
    }
   ],
   "source": [
    "stat, p = mannwhitneyu(G0Reduced2, One, alternative = 'two-sided')\n",
    "print('Statistics=%.3f, p=%.3f' % (stat, p))\n",
    "alpha = 0.05\n",
    "if p < alpha:\n",
    "    print('A particular population tends to have larger value compared to the other (reject H0)')\n",
    "else:\n",
    "    print('Two samples come from the same population (fail to reject H0)')"
   ]
  },
  {
   "cell_type": "code",
   "execution_count": 77,
   "metadata": {},
   "outputs": [
    {
     "name": "stdout",
     "output_type": "stream",
     "text": [
      "Statistics=12624.000, p=0.000\n",
      "A particular population tends to have larger value compared to the other (reject H0)\n"
     ]
    }
   ],
   "source": [
    "stat, p = mannwhitneyu(G0Reduced2, Two, alternative = 'two-sided')\n",
    "print('Statistics=%.3f, p=%.3f' % (stat, p))\n",
    "alpha = 0.05\n",
    "if p < alpha:\n",
    "    print('A particular population tends to have larger value compared to the other (reject H0)')\n",
    "else:\n",
    "    print('Two samples come from the same population (fail to reject H0)')"
   ]
  },
  {
   "cell_type": "code",
   "execution_count": 78,
   "metadata": {},
   "outputs": [
    {
     "name": "stdout",
     "output_type": "stream",
     "text": [
      "Statistics=6216.000, p=0.000\n",
      "A particular population tends to have larger value compared to the other (reject H0)\n"
     ]
    }
   ],
   "source": [
    "stat, p = mannwhitneyu(G0Reduced2, Four, alternative = 'two-sided')\n",
    "print('Statistics=%.3f, p=%.3f' % (stat, p))\n",
    "alpha = 0.05\n",
    "if p < alpha:\n",
    "    print('A particular population tends to have larger value compared to the other (reject H0)')\n",
    "else:\n",
    "    print('Two samples come from the same population (fail to reject H0)')"
   ]
  },
  {
   "cell_type": "code",
   "execution_count": 79,
   "metadata": {},
   "outputs": [
    {
     "name": "stdout",
     "output_type": "stream",
     "text": [
      "Statistics=13395.000, p=0.000\n",
      "A particular population tends to have larger value compared to the other (reject H0)\n"
     ]
    }
   ],
   "source": [
    "stat, p = mannwhitneyu(G0Reduced2, Five, alternative = 'two-sided')\n",
    "print('Statistics=%.3f, p=%.3f' % (stat, p))\n",
    "alpha = 0.05\n",
    "if p < alpha:\n",
    "    print('A particular population tends to have larger value compared to the other (reject H0)')\n",
    "else:\n",
    "    print('Two samples come from the same population (fail to reject H0)')"
   ]
  },
  {
   "cell_type": "markdown",
   "metadata": {},
   "source": [
    "## Mann-Whitney U (Comparing All to G1)"
   ]
  },
  {
   "cell_type": "code",
   "execution_count": 80,
   "metadata": {},
   "outputs": [
    {
     "name": "stdout",
     "output_type": "stream",
     "text": [
      "Statistics=2178.000, p=0.154\n",
      "Two samples come from the same population (fail to reject H0)\n"
     ]
    }
   ],
   "source": [
    "stat, p = mannwhitneyu(G1Reduced2, G0Reduced2, alternative = 'two-sided')\n",
    "print('Statistics=%.3f, p=%.3f' % (stat, p))\n",
    "alpha = 0.05\n",
    "if p < alpha:\n",
    "    print('A particular population tends to have larger value compared to the other (reject H0)')\n",
    "else:\n",
    "    print('Two samples come from the same population (fail to reject H0)')"
   ]
  },
  {
   "cell_type": "code",
   "execution_count": 81,
   "metadata": {},
   "outputs": [
    {
     "name": "stdout",
     "output_type": "stream",
     "text": [
      "Statistics=1152.000, p=0.997\n",
      "Two samples come from the same population (fail to reject H0)\n"
     ]
    }
   ],
   "source": [
    "stat, p = mannwhitneyu(G1Reduced2, G1Reduced2, alternative = 'two-sided')\n",
    "print('Statistics=%.3f, p=%.3f' % (stat, p))\n",
    "alpha = 0.05\n",
    "if p < alpha:\n",
    "    print('A particular population tends to have larger value compared to the other (reject H0)')\n",
    "else:\n",
    "    print('Two samples come from the same population (fail to reject H0)')"
   ]
  },
  {
   "cell_type": "code",
   "execution_count": 82,
   "metadata": {},
   "outputs": [
    {
     "name": "stdout",
     "output_type": "stream",
     "text": [
      "Statistics=7262.000, p=0.000\n",
      "A particular population tends to have larger value compared to the other (reject H0)\n"
     ]
    }
   ],
   "source": [
    "stat, p = mannwhitneyu(G1Reduced2, G2Reduced2, alternative = 'two-sided')\n",
    "print('Statistics=%.3f, p=%.3f' % (stat, p))\n",
    "alpha = 0.05\n",
    "if p < alpha:\n",
    "    print('A particular population tends to have larger value compared to the other (reject H0)')\n",
    "else:\n",
    "    print('Two samples come from the same population (fail to reject H0)')"
   ]
  },
  {
   "cell_type": "code",
   "execution_count": 83,
   "metadata": {},
   "outputs": [
    {
     "name": "stdout",
     "output_type": "stream",
     "text": [
      "Statistics=3732.000, p=0.000\n",
      "A particular population tends to have larger value compared to the other (reject H0)\n"
     ]
    }
   ],
   "source": [
    "stat, p = mannwhitneyu(G1Reduced2, G3Reduced2, alternative = 'two-sided')\n",
    "print('Statistics=%.3f, p=%.3f' % (stat, p))\n",
    "alpha = 0.05\n",
    "if p < alpha:\n",
    "    print('A particular population tends to have larger value compared to the other (reject H0)')\n",
    "else:\n",
    "    print('Two samples come from the same population (fail to reject H0)')"
   ]
  },
  {
   "cell_type": "code",
   "execution_count": 84,
   "metadata": {},
   "outputs": [
    {
     "name": "stdout",
     "output_type": "stream",
     "text": [
      "Statistics=8654.000, p=0.000\n",
      "A particular population tends to have larger value compared to the other (reject H0)\n"
     ]
    }
   ],
   "source": [
    "stat, p = mannwhitneyu(G1Reduced2, G4Reduced2, alternative = 'two-sided')\n",
    "print('Statistics=%.3f, p=%.3f' % (stat, p))\n",
    "alpha = 0.05\n",
    "if p < alpha:\n",
    "    print('A particular population tends to have larger value compared to the other (reject H0)')\n",
    "else:\n",
    "    print('Two samples come from the same population (fail to reject H0)')"
   ]
  },
  {
   "cell_type": "code",
   "execution_count": 85,
   "metadata": {},
   "outputs": [
    {
     "name": "stdout",
     "output_type": "stream",
     "text": [
      "Statistics=1726.000, p=0.000\n",
      "A particular population tends to have larger value compared to the other (reject H0)\n"
     ]
    }
   ],
   "source": [
    "stat, p = mannwhitneyu(G1Reduced2, One, alternative = 'two-sided')\n",
    "print('Statistics=%.3f, p=%.3f' % (stat, p))\n",
    "alpha = 0.05\n",
    "if p < alpha:\n",
    "    print('A particular population tends to have larger value compared to the other (reject H0)')\n",
    "else:\n",
    "    print('Two samples come from the same population (fail to reject H0)')"
   ]
  },
  {
   "cell_type": "code",
   "execution_count": 86,
   "metadata": {},
   "outputs": [
    {
     "name": "stdout",
     "output_type": "stream",
     "text": [
      "Statistics=5536.000, p=0.000\n",
      "A particular population tends to have larger value compared to the other (reject H0)\n"
     ]
    }
   ],
   "source": [
    "stat, p = mannwhitneyu(G1Reduced2, Two, alternative = 'two-sided')\n",
    "print('Statistics=%.3f, p=%.3f' % (stat, p))\n",
    "alpha = 0.05\n",
    "if p < alpha:\n",
    "    print('A particular population tends to have larger value compared to the other (reject H0)')\n",
    "else:\n",
    "    print('Two samples come from the same population (fail to reject H0)')"
   ]
  },
  {
   "cell_type": "code",
   "execution_count": 87,
   "metadata": {},
   "outputs": [
    {
     "name": "stdout",
     "output_type": "stream",
     "text": [
      "Statistics=2732.000, p=0.000\n",
      "A particular population tends to have larger value compared to the other (reject H0)\n"
     ]
    }
   ],
   "source": [
    "stat, p = mannwhitneyu(G1Reduced2, Four, alternative = 'two-sided')\n",
    "print('Statistics=%.3f, p=%.3f' % (stat, p))\n",
    "alpha = 0.05\n",
    "if p < alpha:\n",
    "    print('A particular population tends to have larger value compared to the other (reject H0)')\n",
    "else:\n",
    "    print('Two samples come from the same population (fail to reject H0)')"
   ]
  },
  {
   "cell_type": "code",
   "execution_count": 88,
   "metadata": {},
   "outputs": [
    {
     "name": "stdout",
     "output_type": "stream",
     "text": [
      "Statistics=5922.000, p=0.000\n",
      "A particular population tends to have larger value compared to the other (reject H0)\n"
     ]
    }
   ],
   "source": [
    "stat, p = mannwhitneyu(G1Reduced2, Five, alternative = 'two-sided')\n",
    "print('Statistics=%.3f, p=%.3f' % (stat, p))\n",
    "alpha = 0.05\n",
    "if p < alpha:\n",
    "    print('A particular population tends to have larger value compared to the other (reject H0)')\n",
    "else:\n",
    "    print('Two samples come from the same population (fail to reject H0)')"
   ]
  },
  {
   "cell_type": "markdown",
   "metadata": {},
   "source": [
    "## Mann-Whitney U (Comparing All to G3)"
   ]
  },
  {
   "cell_type": "code",
   "execution_count": 89,
   "metadata": {},
   "outputs": [
    {
     "name": "stdout",
     "output_type": "stream",
     "text": [
      "Statistics=2.000, p=0.000\n",
      "A particular population tends to have larger value compared to the other (reject H0)\n"
     ]
    }
   ],
   "source": [
    "stat, p = mannwhitneyu(G3Reduced2, G0Reduced2, alternative = 'two-sided')\n",
    "print('Statistics=%.3f, p=%.3f' % (stat, p))\n",
    "alpha = 0.05\n",
    "if p < alpha:\n",
    "    print('A particular population tends to have larger value compared to the other (reject H0)')\n",
    "else:\n",
    "    print('Two samples come from the same population (fail to reject H0)')"
   ]
  },
  {
   "cell_type": "code",
   "execution_count": 90,
   "metadata": {},
   "outputs": [
    {
     "name": "stdout",
     "output_type": "stream",
     "text": [
      "Statistics=60.000, p=0.000\n",
      "A particular population tends to have larger value compared to the other (reject H0)\n"
     ]
    }
   ],
   "source": [
    "stat, p = mannwhitneyu(G3Reduced2, G1Reduced2, alternative = 'two-sided')\n",
    "print('Statistics=%.3f, p=%.3f' % (stat, p))\n",
    "alpha = 0.05\n",
    "if p < alpha:\n",
    "    print('A particular population tends to have larger value compared to the other (reject H0)')\n",
    "else:\n",
    "    print('Two samples come from the same population (fail to reject H0)')"
   ]
  },
  {
   "cell_type": "code",
   "execution_count": 91,
   "metadata": {},
   "outputs": [
    {
     "name": "stdout",
     "output_type": "stream",
     "text": [
      "Statistics=5370.000, p=0.059\n",
      "Two samples come from the same population (fail to reject H0)\n"
     ]
    }
   ],
   "source": [
    "stat, p = mannwhitneyu(G3Reduced2, G2Reduced2, alternative = 'two-sided')\n",
    "print('Statistics=%.3f, p=%.3f' % (stat, p))\n",
    "alpha = 0.05\n",
    "if p < alpha:\n",
    "    print('A particular population tends to have larger value compared to the other (reject H0)')\n",
    "else:\n",
    "    print('Two samples come from the same population (fail to reject H0)')"
   ]
  },
  {
   "cell_type": "code",
   "execution_count": 92,
   "metadata": {},
   "outputs": [
    {
     "name": "stdout",
     "output_type": "stream",
     "text": [
      "Statistics=3120.500, p=0.999\n",
      "Two samples come from the same population (fail to reject H0)\n"
     ]
    }
   ],
   "source": [
    "stat, p = mannwhitneyu(G3Reduced2, G3Reduced2, alternative = 'two-sided')\n",
    "print('Statistics=%.3f, p=%.3f' % (stat, p))\n",
    "alpha = 0.05\n",
    "if p < alpha:\n",
    "    print('A particular population tends to have larger value compared to the other (reject H0)')\n",
    "else:\n",
    "    print('Two samples come from the same population (fail to reject H0)')"
   ]
  },
  {
   "cell_type": "code",
   "execution_count": 93,
   "metadata": {},
   "outputs": [
    {
     "name": "stdout",
     "output_type": "stream",
     "text": [
      "Statistics=5886.000, p=0.009\n",
      "A particular population tends to have larger value compared to the other (reject H0)\n"
     ]
    }
   ],
   "source": [
    "stat, p = mannwhitneyu(G3Reduced2, G4Reduced2, alternative = 'two-sided')\n",
    "print('Statistics=%.3f, p=%.3f' % (stat, p))\n",
    "alpha = 0.05\n",
    "if p < alpha:\n",
    "    print('A particular population tends to have larger value compared to the other (reject H0)')\n",
    "else:\n",
    "    print('Two samples come from the same population (fail to reject H0)')"
   ]
  },
  {
   "cell_type": "code",
   "execution_count": 94,
   "metadata": {},
   "outputs": [
    {
     "name": "stdout",
     "output_type": "stream",
     "text": [
      "Statistics=1450.000, p=0.769\n",
      "Two samples come from the same population (fail to reject H0)\n"
     ]
    }
   ],
   "source": [
    "stat, p = mannwhitneyu(G3Reduced2, One, alternative = 'two-sided')\n",
    "print('Statistics=%.3f, p=%.3f' % (stat, p))\n",
    "alpha = 0.05\n",
    "if p < alpha:\n",
    "    print('A particular population tends to have larger value compared to the other (reject H0)')\n",
    "else:\n",
    "    print('Two samples come from the same population (fail to reject H0)')"
   ]
  },
  {
   "cell_type": "code",
   "execution_count": 95,
   "metadata": {},
   "outputs": [
    {
     "name": "stdout",
     "output_type": "stream",
     "text": [
      "Statistics=3920.000, p=0.026\n",
      "A particular population tends to have larger value compared to the other (reject H0)\n"
     ]
    }
   ],
   "source": [
    "stat, p = mannwhitneyu(G3Reduced2, Two, alternative = 'two-sided')\n",
    "print('Statistics=%.3f, p=%.3f' % (stat, p))\n",
    "alpha = 0.05\n",
    "if p < alpha:\n",
    "    print('A particular population tends to have larger value compared to the other (reject H0)')\n",
    "else:\n",
    "    print('Two samples come from the same population (fail to reject H0)')"
   ]
  },
  {
   "cell_type": "code",
   "execution_count": 96,
   "metadata": {},
   "outputs": [
    {
     "name": "stdout",
     "output_type": "stream",
     "text": [
      "Statistics=1952.000, p=0.076\n",
      "Two samples come from the same population (fail to reject H0)\n"
     ]
    }
   ],
   "source": [
    "stat, p = mannwhitneyu(G3Reduced2, Four, alternative = 'two-sided')\n",
    "print('Statistics=%.3f, p=%.3f' % (stat, p))\n",
    "alpha = 0.05\n",
    "if p < alpha:\n",
    "    print('A particular population tends to have larger value compared to the other (reject H0)')\n",
    "else:\n",
    "    print('Two samples come from the same population (fail to reject H0)')"
   ]
  },
  {
   "cell_type": "code",
   "execution_count": 97,
   "metadata": {},
   "outputs": [
    {
     "name": "stdout",
     "output_type": "stream",
     "text": [
      "Statistics=3934.000, p=0.009\n",
      "A particular population tends to have larger value compared to the other (reject H0)\n"
     ]
    }
   ],
   "source": [
    "stat, p = mannwhitneyu(G3Reduced2, Five, alternative = 'two-sided')\n",
    "print('Statistics=%.3f, p=%.3f' % (stat, p))\n",
    "alpha = 0.05\n",
    "if p < alpha:\n",
    "    print('A particular population tends to have larger value compared to the other (reject H0)')\n",
    "else:\n",
    "    print('Two samples come from the same population (fail to reject H0)')"
   ]
  },
  {
   "cell_type": "markdown",
   "metadata": {},
   "source": [
    "# Comparing all to G2"
   ]
  },
  {
   "cell_type": "code",
   "execution_count": 98,
   "metadata": {},
   "outputs": [
    {
     "name": "stdout",
     "output_type": "stream",
     "text": [
      "Statistics=12800.000, p=1.000\n",
      "Two samples come from the same population (fail to reject H0)\n"
     ]
    }
   ],
   "source": [
    "stat, p = mannwhitneyu(G2Reduced2, G2Reduced2, alternative = 'two-sided')\n",
    "print('Statistics=%.3f, p=%.3f' % (stat, p))\n",
    "alpha = 0.05\n",
    "if p < alpha:\n",
    "    print('A particular population tends to have larger value compared to the other (reject H0)')\n",
    "else:\n",
    "    print('Two samples come from the same population (fail to reject H0)')"
   ]
  },
  {
   "cell_type": "code",
   "execution_count": 99,
   "metadata": {},
   "outputs": [
    {
     "name": "stdout",
     "output_type": "stream",
     "text": [
      "Statistics=14494.000, p=0.617\n",
      "Two samples come from the same population (fail to reject H0)\n"
     ]
    }
   ],
   "source": [
    "stat, p = mannwhitneyu(G2Reduced2, G4Reduced2, alternative = 'two-sided')\n",
    "print('Statistics=%.3f, p=%.3f' % (stat, p))\n",
    "alpha = 0.05\n",
    "if p < alpha:\n",
    "    print('A particular population tends to have larger value compared to the other (reject H0)')\n",
    "else:\n",
    "    print('Two samples come from the same population (fail to reject H0)')"
   ]
  },
  {
   "cell_type": "code",
   "execution_count": 100,
   "metadata": {},
   "outputs": [
    {
     "name": "stdout",
     "output_type": "stream",
     "text": [
      "Statistics=3419.000, p=0.233\n",
      "Two samples come from the same population (fail to reject H0)\n"
     ]
    }
   ],
   "source": [
    "stat, p = mannwhitneyu(G2Reduced2, One, alternative = 'two-sided')\n",
    "print('Statistics=%.3f, p=%.3f' % (stat, p))\n",
    "alpha = 0.05\n",
    "if p < alpha:\n",
    "    print('A particular population tends to have larger value compared to the other (reject H0)')\n",
    "else:\n",
    "    print('Two samples come from the same population (fail to reject H0)')"
   ]
  },
  {
   "cell_type": "code",
   "execution_count": 101,
   "metadata": {},
   "outputs": [
    {
     "name": "stdout",
     "output_type": "stream",
     "text": [
      "Statistics=9381.000, p=0.577\n",
      "Two samples come from the same population (fail to reject H0)\n"
     ]
    }
   ],
   "source": [
    "stat, p = mannwhitneyu(G2Reduced2, Two, alternative = 'two-sided')\n",
    "print('Statistics=%.3f, p=%.3f' % (stat, p))\n",
    "alpha = 0.05\n",
    "if p < alpha:\n",
    "    print('A particular population tends to have larger value compared to the other (reject H0)')\n",
    "else:\n",
    "    print('Two samples come from the same population (fail to reject H0)')"
   ]
  },
  {
   "cell_type": "code",
   "execution_count": 102,
   "metadata": {},
   "outputs": [
    {
     "name": "stdout",
     "output_type": "stream",
     "text": [
      "Statistics=4739.000, p=0.886\n",
      "Two samples come from the same population (fail to reject H0)\n"
     ]
    }
   ],
   "source": [
    "stat, p = mannwhitneyu(G2Reduced2, Four, alternative = 'two-sided')\n",
    "print('Statistics=%.3f, p=%.3f' % (stat, p))\n",
    "alpha = 0.05\n",
    "if p < alpha:\n",
    "    print('A particular population tends to have larger value compared to the other (reject H0)')\n",
    "else:\n",
    "    print('Two samples come from the same population (fail to reject H0)')"
   ]
  },
  {
   "cell_type": "code",
   "execution_count": 103,
   "metadata": {},
   "outputs": [
    {
     "name": "stdout",
     "output_type": "stream",
     "text": [
      "Statistics=9755.000, p=0.562\n",
      "Two samples come from the same population (fail to reject H0)\n"
     ]
    }
   ],
   "source": [
    "stat, p = mannwhitneyu(G2Reduced2, Five, alternative = 'two-sided')\n",
    "print('Statistics=%.3f, p=%.3f' % (stat, p))\n",
    "alpha = 0.05\n",
    "if p < alpha:\n",
    "    print('A particular population tends to have larger value compared to the other (reject H0)')\n",
    "else:\n",
    "    print('Two samples come from the same population (fail to reject H0)')"
   ]
  },
  {
   "cell_type": "markdown",
   "metadata": {},
   "source": [
    "# Comparing All to G4"
   ]
  },
  {
   "cell_type": "code",
   "execution_count": 104,
   "metadata": {},
   "outputs": [
    {
     "name": "stdout",
     "output_type": "stream",
     "text": [
      "Statistics=4126.000, p=0.118\n",
      "Two samples come from the same population (fail to reject H0)\n"
     ]
    }
   ],
   "source": [
    "stat, p = mannwhitneyu(G4Reduced2, One, alternative = 'two-sided')\n",
    "print('Statistics=%.3f, p=%.3f' % (stat, p))\n",
    "alpha = 0.05\n",
    "if p < alpha:\n",
    "    print('A particular population tends to have larger value compared to the other (reject H0)')\n",
    "else:\n",
    "    print('Two samples come from the same population (fail to reject H0)')"
   ]
  },
  {
   "cell_type": "code",
   "execution_count": 105,
   "metadata": {},
   "outputs": [
    {
     "name": "stdout",
     "output_type": "stream",
     "text": [
      "Statistics=11300.000, p=0.890\n",
      "Two samples come from the same population (fail to reject H0)\n"
     ]
    }
   ],
   "source": [
    "stat, p = mannwhitneyu(G4Reduced2, Two, alternative = 'two-sided')\n",
    "print('Statistics=%.3f, p=%.3f' % (stat, p))\n",
    "alpha = 0.05\n",
    "if p < alpha:\n",
    "    print('A particular population tends to have larger value compared to the other (reject H0)')\n",
    "else:\n",
    "    print('Two samples come from the same population (fail to reject H0)')"
   ]
  },
  {
   "cell_type": "code",
   "execution_count": 106,
   "metadata": {},
   "outputs": [
    {
     "name": "stdout",
     "output_type": "stream",
     "text": [
      "Statistics=5691.000, p=0.867\n",
      "Two samples come from the same population (fail to reject H0)\n"
     ]
    }
   ],
   "source": [
    "stat, p = mannwhitneyu(G4Reduced2, Four, alternative = 'two-sided')\n",
    "print('Statistics=%.3f, p=%.3f' % (stat, p))\n",
    "alpha = 0.05\n",
    "if p < alpha:\n",
    "    print('A particular population tends to have larger value compared to the other (reject H0)')\n",
    "else:\n",
    "    print('Two samples come from the same population (fail to reject H0)')"
   ]
  },
  {
   "cell_type": "code",
   "execution_count": 107,
   "metadata": {},
   "outputs": [
    {
     "name": "stdout",
     "output_type": "stream",
     "text": [
      "Statistics=11793.500, p=0.919\n",
      "Two samples come from the same population (fail to reject H0)\n"
     ]
    }
   ],
   "source": [
    "stat, p = mannwhitneyu(G4Reduced2, Five, alternative = 'two-sided')\n",
    "print('Statistics=%.3f, p=%.3f' % (stat, p))\n",
    "alpha = 0.05\n",
    "if p < alpha:\n",
    "    print('A particular population tends to have larger value compared to the other (reject H0)')\n",
    "else:\n",
    "    print('Two samples come from the same population (fail to reject H0)')"
   ]
  },
  {
   "cell_type": "markdown",
   "metadata": {},
   "source": [
    "# Comparing all to One"
   ]
  },
  {
   "cell_type": "code",
   "execution_count": 108,
   "metadata": {},
   "outputs": [
    {
     "name": "stdout",
     "output_type": "stream",
     "text": [
      "Statistics=1939.000, p=0.129\n",
      "Two samples come from the same population (fail to reject H0)\n"
     ]
    }
   ],
   "source": [
    "stat, p = mannwhitneyu(One, Two, alternative = 'two-sided')\n",
    "print('Statistics=%.3f, p=%.3f' % (stat, p))\n",
    "alpha = 0.05\n",
    "if p < alpha:\n",
    "    print('A particular population tends to have larger value compared to the other (reject H0)')\n",
    "else:\n",
    "    print('Two samples come from the same population (fail to reject H0)')"
   ]
  },
  {
   "cell_type": "code",
   "execution_count": 109,
   "metadata": {},
   "outputs": [
    {
     "name": "stdout",
     "output_type": "stream",
     "text": [
      "Statistics=985.000, p=0.260\n",
      "Two samples come from the same population (fail to reject H0)\n"
     ]
    }
   ],
   "source": [
    "stat, p = mannwhitneyu(One, Four, alternative = 'two-sided')\n",
    "print('Statistics=%.3f, p=%.3f' % (stat, p))\n",
    "alpha = 0.05\n",
    "if p < alpha:\n",
    "    print('A particular population tends to have larger value compared to the other (reject H0)')\n",
    "else:\n",
    "    print('Two samples come from the same population (fail to reject H0)')"
   ]
  },
  {
   "cell_type": "code",
   "execution_count": 110,
   "metadata": {},
   "outputs": [
    {
     "name": "stdout",
     "output_type": "stream",
     "text": [
      "Statistics=1995.000, p=0.106\n",
      "Two samples come from the same population (fail to reject H0)\n"
     ]
    }
   ],
   "source": [
    "stat, p = mannwhitneyu(One, Five, alternative = 'two-sided')\n",
    "print('Statistics=%.3f, p=%.3f' % (stat, p))\n",
    "alpha = 0.05\n",
    "if p < alpha:\n",
    "    print('A particular population tends to have larger value compared to the other (reject H0)')\n",
    "else:\n",
    "    print('Two samples come from the same population (fail to reject H0)')"
   ]
  },
  {
   "cell_type": "markdown",
   "metadata": {},
   "source": [
    "# Comparing all to Two"
   ]
  },
  {
   "cell_type": "code",
   "execution_count": 111,
   "metadata": {},
   "outputs": [
    {
     "name": "stdout",
     "output_type": "stream",
     "text": [
      "Statistics=3754.000, p=0.780\n",
      "Two samples come from the same population (fail to reject H0)\n"
     ]
    }
   ],
   "source": [
    "stat, p = mannwhitneyu(Two, Four, alternative = 'two-sided')\n",
    "print('Statistics=%.3f, p=%.3f' % (stat, p))\n",
    "alpha = 0.05\n",
    "if p < alpha:\n",
    "    print('A particular population tends to have larger value compared to the other (reject H0)')\n",
    "else:\n",
    "    print('Two samples come from the same population (fail to reject H0)')"
   ]
  },
  {
   "cell_type": "code",
   "execution_count": 112,
   "metadata": {},
   "outputs": [
    {
     "name": "stdout",
     "output_type": "stream",
     "text": [
      "Statistics=7760.000, p=0.982\n",
      "Two samples come from the same population (fail to reject H0)\n"
     ]
    }
   ],
   "source": [
    "stat, p = mannwhitneyu(Two, Five, alternative = 'two-sided')\n",
    "print('Statistics=%.3f, p=%.3f' % (stat, p))\n",
    "alpha = 0.05\n",
    "if p < alpha:\n",
    "    print('A particular population tends to have larger value compared to the other (reject H0)')\n",
    "else:\n",
    "    print('Two samples come from the same population (fail to reject H0)')"
   ]
  },
  {
   "cell_type": "markdown",
   "metadata": {},
   "source": [
    "# Comparing All to Four"
   ]
  },
  {
   "cell_type": "code",
   "execution_count": 113,
   "metadata": {},
   "outputs": [
    {
     "name": "stdout",
     "output_type": "stream",
     "text": [
      "Statistics=3729.000, p=0.816\n",
      "Two samples come from the same population (fail to reject H0)\n"
     ]
    }
   ],
   "source": [
    "stat, p = mannwhitneyu(Four, Five, alternative = 'two-sided')\n",
    "print('Statistics=%.3f, p=%.3f' % (stat, p))\n",
    "alpha = 0.05\n",
    "if p < alpha:\n",
    "    print('A particular population tends to have larger value compared to the other (reject H0)')\n",
    "else:\n",
    "    print('Two samples come from the same population (fail to reject H0)')"
   ]
  },
  {
   "cell_type": "markdown",
   "metadata": {},
   "source": [
    "# Miscellaneous"
   ]
  },
  {
   "cell_type": "code",
   "execution_count": 114,
   "metadata": {},
   "outputs": [
    {
     "name": "stdout",
     "output_type": "stream",
     "text": [
      "Statistics=20380.000, p=0.119\n",
      "Two samples come from the same population (fail to reject H0)\n"
     ]
    }
   ],
   "source": [
    "stat, p = mannwhitneyu(OneTwoThree, G4Reduced2, alternative = 'two-sided')\n",
    "print('Statistics=%.3f, p=%.3f' % (stat, p))\n",
    "alpha = 0.05\n",
    "if p < alpha:\n",
    "    print('A particular population tends to have larger value compared to the other (reject H0)')\n",
    "else:\n",
    "    print('Two samples come from the same population (fail to reject H0)')"
   ]
  },
  {
   "cell_type": "code",
   "execution_count": 115,
   "metadata": {},
   "outputs": [
    {
     "name": "stdout",
     "output_type": "stream",
     "text": [
      "Statistics=21764.000, p=0.694\n",
      "Two samples come from the same population (fail to reject H0)\n"
     ]
    }
   ],
   "source": [
    "stat, p = mannwhitneyu(G2Reduced2, ThreeFourFive, alternative = 'two-sided')\n",
    "print('Statistics=%.3f, p=%.3f' % (stat, p))\n",
    "alpha = 0.05\n",
    "if p < alpha:\n",
    "    print('A particular population tends to have larger value compared to the other (reject H0)')\n",
    "else:\n",
    "    print('Two samples come from the same population (fail to reject H0)')"
   ]
  },
  {
   "cell_type": "code",
   "execution_count": 116,
   "metadata": {},
   "outputs": [
    {
     "name": "stdout",
     "output_type": "stream",
     "text": [
      "Statistics=64164.000, p=0.000\n",
      "A particular population tends to have larger value compared to the other (reject H0)\n"
     ]
    }
   ],
   "source": [
    "stat, p = mannwhitneyu(Healthy, Cancerous, alternative = 'two-sided')\n",
    "print('Statistics=%.3f, p=%.3f' % (stat, p))\n",
    "alpha = 0.05\n",
    "if p < alpha:\n",
    "    print('A particular population tends to have larger value compared to the other (reject H0)')\n",
    "else:\n",
    "    print('Two samples come from the same population (fail to reject H0)')"
   ]
  },
  {
   "cell_type": "code",
   "execution_count": 117,
   "metadata": {},
   "outputs": [
    {
     "name": "stdout",
     "output_type": "stream",
     "text": [
      "Statistics=2910.000, p=0.154\n",
      "Two samples come from the same population (fail to reject H0)\n"
     ]
    }
   ],
   "source": [
    "stat, p = mannwhitneyu(G0Reduced2, G1Reduced2, alternative = 'two-sided')\n",
    "print('Statistics=%.3f, p=%.3f' % (stat, p))\n",
    "alpha = 0.05\n",
    "if p < alpha:\n",
    "    print('A particular population tends to have larger value compared to the other (reject H0)')\n",
    "else:\n",
    "    print('Two samples come from the same population (fail to reject H0)')"
   ]
  },
  {
   "cell_type": "code",
   "execution_count": 118,
   "metadata": {},
   "outputs": [
    {
     "name": "stdout",
     "output_type": "stream",
     "text": [
      "Statistics=5922.000, p=0.000\n",
      "A particular population tends to have larger value compared to the other (reject H0)\n"
     ]
    }
   ],
   "source": [
    "stat, p = mannwhitneyu(G1Reduced2, Five, alternative = 'two-sided')\n",
    "print('Statistics=%.3f, p=%.3f' % (stat, p))\n",
    "alpha = 0.05\n",
    "if p < alpha:\n",
    "    print('A particular population tends to have larger value compared to the other (reject H0)')\n",
    "else:\n",
    "    print('Two samples come from the same population (fail to reject H0)')"
   ]
  }
 ],
 "metadata": {
  "kernelspec": {
   "display_name": "Python 3",
   "language": "python",
   "name": "python3"
  },
  "language_info": {
   "codemirror_mode": {
    "name": "ipython",
    "version": 3
   },
   "file_extension": ".py",
   "mimetype": "text/x-python",
   "name": "python",
   "nbconvert_exporter": "python",
   "pygments_lexer": "ipython3",
   "version": "3.6.3"
  }
 },
 "nbformat": 4,
 "nbformat_minor": 2
}
